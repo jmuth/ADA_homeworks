{
 "cells": [
  {
   "cell_type": "code",
   "execution_count": 1,
   "metadata": {
    "collapsed": false
   },
   "outputs": [],
   "source": [
    "# Import Libraries\n",
    "import pandas as pd\n",
    "import numpy as np\n",
    "import os\n",
    "import matplotlib.pyplot as plt\n",
    "from sklearn.cluster import KMeans\n",
    "import sklearn\n",
    "import helper\n",
    "\n",
    "%matplotlib inline\n",
    "%load_ext autoreload\n",
    "%autoreload 2\n",
    "\n",
    "# There's a lot of columns in the DF. \n",
    "# Therefore, we add this option so that we can see more columns\n",
    "pd.options.display.max_columns = 100"
   ]
  },
  {
   "cell_type": "markdown",
   "metadata": {},
   "source": [
    "# 2. Clustering\n",
    "\n",
    "In this notebook, we will try to clusterize the players into 2 groups by choosing differents features\n",
    "    \n",
    "1. Aggregation\n",
    "    * The data are displayed by dyad of referees, we need to group them by player\n",
    "2. Cleaning\n",
    "    * Prepare data for clusterization (e.g. strings mapped to integer values)\n",
    "3. Clusterization\n",
    "    * Use k-means algorithm with 2 cluster and test score with different feature selections\n",
    "    * Improve on silhouette_score\n",
    "    * Improve on accuracy (clusterization by skin colour)\n",
    "4. Conclusion\n",
    "\n",
    "## 2.1 Aggregation\n",
    "\n"
   ]
  },
  {
   "cell_type": "code",
   "execution_count": 2,
   "metadata": {
    "collapsed": false
   },
   "outputs": [
    {
     "name": "stdout",
     "output_type": "stream",
     "text": [
      "shape :  (1433, 15)\n"
     ]
    },
    {
     "data": {
      "text/html": [
       "<div>\n",
       "<table border=\"1\" class=\"dataframe\">\n",
       "  <thead>\n",
       "    <tr style=\"text-align: right;\">\n",
       "      <th></th>\n",
       "      <th>leagueCountry</th>\n",
       "      <th>games</th>\n",
       "      <th>goals</th>\n",
       "      <th>position</th>\n",
       "      <th>height</th>\n",
       "      <th>skin_colour</th>\n",
       "      <th>club</th>\n",
       "      <th>redCards</th>\n",
       "      <th>ties</th>\n",
       "      <th>victories</th>\n",
       "      <th>birthday</th>\n",
       "      <th>defeats</th>\n",
       "      <th>yellowReds</th>\n",
       "      <th>yellowCards</th>\n",
       "      <th>weight</th>\n",
       "    </tr>\n",
       "  </thead>\n",
       "  <tbody>\n",
       "    <tr>\n",
       "      <th>0</th>\n",
       "      <td>England</td>\n",
       "      <td>654</td>\n",
       "      <td>9</td>\n",
       "      <td>Center Back</td>\n",
       "      <td>182.0</td>\n",
       "      <td>0.125</td>\n",
       "      <td>Fulham FC</td>\n",
       "      <td>0</td>\n",
       "      <td>179</td>\n",
       "      <td>247</td>\n",
       "      <td>08.11.1979</td>\n",
       "      <td>228</td>\n",
       "      <td>0</td>\n",
       "      <td>19</td>\n",
       "      <td>71.0</td>\n",
       "    </tr>\n",
       "    <tr>\n",
       "      <th>1</th>\n",
       "      <td>Germany</td>\n",
       "      <td>336</td>\n",
       "      <td>62</td>\n",
       "      <td>Attacking Midfielder</td>\n",
       "      <td>183.0</td>\n",
       "      <td>0.125</td>\n",
       "      <td>Werder Bremen</td>\n",
       "      <td>1</td>\n",
       "      <td>73</td>\n",
       "      <td>141</td>\n",
       "      <td>04.09.1986</td>\n",
       "      <td>122</td>\n",
       "      <td>0</td>\n",
       "      <td>42</td>\n",
       "      <td>73.0</td>\n",
       "    </tr>\n",
       "    <tr>\n",
       "      <th>2</th>\n",
       "      <td>England</td>\n",
       "      <td>412</td>\n",
       "      <td>31</td>\n",
       "      <td>Right Midfielder</td>\n",
       "      <td>165.0</td>\n",
       "      <td>0.250</td>\n",
       "      <td>Tottenham Hotspur</td>\n",
       "      <td>0</td>\n",
       "      <td>97</td>\n",
       "      <td>200</td>\n",
       "      <td>16.04.1987</td>\n",
       "      <td>115</td>\n",
       "      <td>0</td>\n",
       "      <td>11</td>\n",
       "      <td>63.0</td>\n",
       "    </tr>\n",
       "  </tbody>\n",
       "</table>\n",
       "</div>"
      ],
      "text/plain": [
       "  leagueCountry  games  goals              position  height  skin_colour  \\\n",
       "0       England    654      9           Center Back   182.0        0.125   \n",
       "1       Germany    336     62  Attacking Midfielder   183.0        0.125   \n",
       "2       England    412     31      Right Midfielder   165.0        0.250   \n",
       "\n",
       "                club  redCards  ties  victories    birthday  defeats  \\\n",
       "0          Fulham FC         0   179        247  08.11.1979      228   \n",
       "1      Werder Bremen         1    73        141  04.09.1986      122   \n",
       "2  Tottenham Hotspur         0    97        200  16.04.1987      115   \n",
       "\n",
       "   yellowReds  yellowCards  weight  \n",
       "0           0           19    71.0  \n",
       "1           0           42    73.0  \n",
       "2           0           11    63.0  "
      ]
     },
     "execution_count": 2,
     "metadata": {},
     "output_type": "execute_result"
    }
   ],
   "source": [
    "# load data\n",
    "df = pd.read_csv('./data/players_no_nan.csv')\n",
    "df = df.drop('player', axis = 1)\n",
    "print(\"shape : \", df.shape)\n",
    "df.head(3)"
   ]
  },
  {
   "cell_type": "markdown",
   "metadata": {},
   "source": [
    "## 2. Cleaning : Preparing data for clustering\n",
    "\n",
    "We need to work on numerical values only. To deal with it we follow the rules:\n",
    "\n",
    "* Give an ID to string values:\n",
    "    * club\n",
    "    * leagueCountry\n",
    "    * position\n",
    "* Replace float by int:\n",
    "    * height\n",
    "    * weight\n",
    "* Only keep year of the whole date:\n",
    "    * birthday\n",
    "* Reindex\n",
    "* Remove `playerShort`\n"
   ]
  },
  {
   "cell_type": "code",
   "execution_count": 3,
   "metadata": {
    "collapsed": false
   },
   "outputs": [
    {
     "data": {
      "text/html": [
       "<div>\n",
       "<table border=\"1\" class=\"dataframe\">\n",
       "  <thead>\n",
       "    <tr style=\"text-align: right;\">\n",
       "      <th></th>\n",
       "      <th>leagueCountry</th>\n",
       "      <th>games</th>\n",
       "      <th>goals</th>\n",
       "      <th>position</th>\n",
       "      <th>height</th>\n",
       "      <th>skin_colour</th>\n",
       "      <th>club</th>\n",
       "      <th>redCards</th>\n",
       "      <th>ties</th>\n",
       "      <th>victories</th>\n",
       "      <th>birthday</th>\n",
       "      <th>defeats</th>\n",
       "      <th>yellowReds</th>\n",
       "      <th>yellowCards</th>\n",
       "      <th>weight</th>\n",
       "    </tr>\n",
       "  </thead>\n",
       "  <tbody>\n",
       "    <tr>\n",
       "      <th>0</th>\n",
       "      <td>0</td>\n",
       "      <td>654</td>\n",
       "      <td>9</td>\n",
       "      <td>1</td>\n",
       "      <td>182</td>\n",
       "      <td>0</td>\n",
       "      <td>34</td>\n",
       "      <td>0</td>\n",
       "      <td>179</td>\n",
       "      <td>247</td>\n",
       "      <td>1979</td>\n",
       "      <td>228</td>\n",
       "      <td>0</td>\n",
       "      <td>19</td>\n",
       "      <td>71</td>\n",
       "    </tr>\n",
       "    <tr>\n",
       "      <th>1</th>\n",
       "      <td>2</td>\n",
       "      <td>336</td>\n",
       "      <td>62</td>\n",
       "      <td>0</td>\n",
       "      <td>183</td>\n",
       "      <td>0</td>\n",
       "      <td>87</td>\n",
       "      <td>1</td>\n",
       "      <td>73</td>\n",
       "      <td>141</td>\n",
       "      <td>1986</td>\n",
       "      <td>122</td>\n",
       "      <td>0</td>\n",
       "      <td>42</td>\n",
       "      <td>73</td>\n",
       "    </tr>\n",
       "    <tr>\n",
       "      <th>2</th>\n",
       "      <td>0</td>\n",
       "      <td>412</td>\n",
       "      <td>31</td>\n",
       "      <td>10</td>\n",
       "      <td>165</td>\n",
       "      <td>0</td>\n",
       "      <td>80</td>\n",
       "      <td>0</td>\n",
       "      <td>97</td>\n",
       "      <td>200</td>\n",
       "      <td>1987</td>\n",
       "      <td>115</td>\n",
       "      <td>0</td>\n",
       "      <td>11</td>\n",
       "      <td>63</td>\n",
       "    </tr>\n",
       "    <tr>\n",
       "      <th>3</th>\n",
       "      <td>0</td>\n",
       "      <td>260</td>\n",
       "      <td>39</td>\n",
       "      <td>3</td>\n",
       "      <td>178</td>\n",
       "      <td>0</td>\n",
       "      <td>6</td>\n",
       "      <td>1</td>\n",
       "      <td>42</td>\n",
       "      <td>150</td>\n",
       "      <td>1990</td>\n",
       "      <td>68</td>\n",
       "      <td>0</td>\n",
       "      <td>31</td>\n",
       "      <td>76</td>\n",
       "    </tr>\n",
       "    <tr>\n",
       "      <th>4</th>\n",
       "      <td>1</td>\n",
       "      <td>124</td>\n",
       "      <td>1</td>\n",
       "      <td>1</td>\n",
       "      <td>180</td>\n",
       "      <td>0</td>\n",
       "      <td>49</td>\n",
       "      <td>2</td>\n",
       "      <td>40</td>\n",
       "      <td>41</td>\n",
       "      <td>1990</td>\n",
       "      <td>43</td>\n",
       "      <td>4</td>\n",
       "      <td>8</td>\n",
       "      <td>73</td>\n",
       "    </tr>\n",
       "  </tbody>\n",
       "</table>\n",
       "</div>"
      ],
      "text/plain": [
       "   leagueCountry  games  goals  position  height  skin_colour  club  redCards  \\\n",
       "0              0    654      9         1     182            0    34         0   \n",
       "1              2    336     62         0     183            0    87         1   \n",
       "2              0    412     31        10     165            0    80         0   \n",
       "3              0    260     39         3     178            0     6         1   \n",
       "4              1    124      1         1     180            0    49         2   \n",
       "\n",
       "   ties  victories  birthday  defeats  yellowReds  yellowCards  weight  \n",
       "0   179        247      1979      228           0           19      71  \n",
       "1    73        141      1986      122           0           42      73  \n",
       "2    97        200      1987      115           0           11      63  \n",
       "3    42        150      1990       68           0           31      76  \n",
       "4    40         41      1990       43           4            8      73  "
      ]
     },
     "execution_count": 3,
     "metadata": {},
     "output_type": "execute_result"
    }
   ],
   "source": [
    "def clean_df(df):    \n",
    "    def keep_year(df):\n",
    "        df['birthday'] = df['birthday'].astype(str).str[6 :].astype(np.int16)\n",
    "\n",
    "    def replace_nan_by_mean(df, field):\n",
    "        df[field] = df[field].fillna((df[field].mean()), inplace = False)\n",
    "\n",
    "    def replace_to_id(df, fields):\n",
    "        for field in fields:\n",
    "            df[field] = df[field].astype('category').cat.codes\n",
    "            \n",
    "    def replace_to_int(df, fields):\n",
    "        for field in fields:\n",
    "            df[field] = df[field].astype(int)\n",
    "\n",
    "    # deep copy of DataFrame and reindexing\n",
    "    df_clean = pd.DataFrame.copy(df)\n",
    "    df_clean = df_clean.reset_index()\n",
    "    \n",
    "    # deal with NaN\n",
    "    replace_nan_by_mean(df_clean, 'height')\n",
    "    replace_nan_by_mean(df_clean, 'weight')\n",
    "\n",
    "    # format data to be processable by classifier (only integers)\n",
    "    replace_to_id(df_clean, ['club', 'leagueCountry', 'position'])\n",
    "    replace_to_int(df_clean, ['height', 'weight'])\n",
    "    keep_year(df_clean)\n",
    "    df_clean['skin_colour'] = df_clean['skin_colour'].astype(int)\n",
    "\n",
    "    # drop \n",
    "    df_clean = df_clean.drop('index', axis = 1)\n",
    "    return df_clean\n",
    "\n",
    "df_player_to_id = clean_df(df)\n",
    "df_player_to_id.head(5)"
   ]
  },
  {
   "cell_type": "markdown",
   "metadata": {},
   "source": [
    "## 3. Clustering\n",
    "\n",
    "We apply k-means algorithm from sklearn library\n",
    "\n",
    "* **silhouette_kmeans**: process a k-means clustering and return silhouette_score and label_score\n",
    "* **score_labels**: helper to compute label_score\n",
    "* **remove_one_feature**: process k-means by droping each feature one time and compute the silhouette_score and label_score resulting of this deletion"
   ]
  },
  {
   "cell_type": "code",
   "execution_count": 4,
   "metadata": {
    "collapsed": true
   },
   "outputs": [],
   "source": [
    "def silhouette_kmeans(df):\n",
    "    # drop label column\n",
    "    X = df.drop('skin_colour', axis=1).as_matrix()\n",
    "    \n",
    "    # k-means\n",
    "    kmeans = KMeans(n_clusters=2, random_state=0).fit(X)\n",
    "    labels = kmeans.labels_\n",
    "    \n",
    "    # compute \n",
    "    silhouette =  sklearn.metrics.silhouette_score(X, labels, metric=\"euclidean\")\n",
    "    return silhouette, score_labels(df, labels)\n",
    "\n",
    "def score_labels(df, labels):\n",
    "    score = (labels == df['skin_colour']).sum()\n",
    "    score = max(score, labels.size - score) / labels.size\n",
    "    return score\n",
    "\n",
    "def remove_one_feature(df):\n",
    "    columns_names = list(df.columns.values) # remove skin_colours from the iterable \n",
    "    columns_names.remove('skin_colour')\n",
    "    dic_silouhette = {}\n",
    "    dic_score = {}\n",
    "    base_sil, base_score = silhouette_kmeans(df)\n",
    "    for name in columns_names:\n",
    "        sil, score = silhouette_kmeans(df.drop(name, axis = 1))\n",
    "        dic_silouhette[name] = sil\n",
    "        dic_score[name] = score\n",
    "        \n",
    "    return base_sil, base_score, dic_silouhette, dic_score"
   ]
  },
  {
   "cell_type": "markdown",
   "metadata": {},
   "source": [
    "### One step feature removal\n",
    "\n",
    "As an example, let's have a look at one feature deletion. The following graph give the achived silhouettes and scores by removing each of these features.\n",
    "\n",
    "The dashed line give the silhouette and score of the k-means without removal to have a comparison point."
   ]
  },
  {
   "cell_type": "code",
   "execution_count": 5,
   "metadata": {
    "collapsed": false
   },
   "outputs": [
    {
     "data": {
      "image/png": "[encoded data removed]",
      "text/plain": [
       "<matplotlib.figure.Figure at 0x7f210e7324e0>"
      ]
     },
     "metadata": {},
     "output_type": "display_data"
    }
   ],
   "source": [
    "base_sil, base_score, dic_sil, dic_score = remove_one_feature(df_player_to_id)\n",
    "fig = helper.plot_dict(dic_sil, dic_score, base_sil, base_score)"
   ]
  },
  {
   "cell_type": "markdown",
   "metadata": {},
   "source": [
    "### Optimize silhouette and labell scores\n",
    "\n",
    "In order to improve our algorithm, we will select one by one the best feature to remove and iterate.\n",
    "\n",
    "Algorithm stop if we cannot improve more the our clusters or if it only remains one feature."
   ]
  },
  {
   "cell_type": "code",
   "execution_count": 6,
   "metadata": {
    "collapsed": false
   },
   "outputs": [],
   "source": [
    "def optimize(base_sil, base_score, df, optimize_on):\n",
    "    removed_columns = []\n",
    "    removed_columns_sil = []\n",
    "    removed_columns_score = []\n",
    "    while True:\n",
    "        base_sil, base_score, dic_sil, dic_score = remove_one_feature(df.drop(removed_columns, axis=1))\n",
    "        \n",
    "        if optimize_on == 'silhouette':\n",
    "            feature_to_remove = max(dic_sil, key=lambda i: dic_sil[i])\n",
    "            is_not_improving = dic_sil[feature_to_remove] <= base_sil\n",
    "        else:\n",
    "            feature_to_remove = max(dic_score, key=lambda i: dic_score[i])\n",
    "            is_not_improving = dic_score[feature_to_remove] <= base_score\n",
    "            \n",
    "        # test if we are improving\n",
    "        if is_not_improving:\n",
    "            break\n",
    "            \n",
    "        removed_columns.append(feature_to_remove)\n",
    "        removed_columns_sil.append(dic_sil[feature_to_remove])\n",
    "        removed_columns_score.append(dic_score[feature_to_remove])\n",
    "            \n",
    "        # test if we are dropping the last feature\n",
    "        if len(removed_columns) > df.columns.values.size-3:\n",
    "            break\n",
    "            \n",
    "    return removed_columns, removed_columns_sil, removed_columns_score"
   ]
  },
  {
   "cell_type": "code",
   "execution_count": 7,
   "metadata": {
    "collapsed": false
   },
   "outputs": [
    {
     "name": "stdout",
     "output_type": "stream",
     "text": [
      "Features removed iteratively and the corresponding silhouette and label score\n",
      "red: silhouette, green: label_score\n",
      "Remaining features:  {'skin_colour', 'leagueCountry'}\n",
      "silhouette score:  0.742917881549\n",
      "label score:  0.620376831821\n"
     ]
    },
    {
     "data": {
      "image/png": "[encoded data removed]",
      "text/plain": [
       "<matplotlib.figure.Figure at 0x7f210b4f1cf8>"
      ]
     },
     "metadata": {},
     "output_type": "display_data"
    }
   ],
   "source": [
    "base_sil, base_score = silhouette_kmeans(df_player_to_id)\n",
    "col, col_sil, col_score = optimize(base_sil, base_score, df_player_to_id, optimize_on='silhouette')\n",
    "print(\"Features removed iteratively and the corresponding silhouette and label score\")\n",
    "print(\"red: silhouette, green: label_score\")\n",
    "print(\"Remaining features: \", set(df_player_to_id.columns.values[:-1]) -  set(col))\n",
    "print(\"silhouette score: \", col_sil[-1])\n",
    "print(\"label score: \", col_score[-1])\n",
    "fig = helper.plot_array(col, col_sil, col_score, base_sil, base_score, labelx=\"removed features\", labely=\"percent\")"
   ]
  },
  {
   "cell_type": "code",
   "execution_count": 9,
   "metadata": {
    "collapsed": false
   },
   "outputs": [
    {
     "name": "stdout",
     "output_type": "stream",
     "text": [
      "Features removed iteratively and the corresponding silhouette and label score\n",
      "red: silhouette, green: label_score\n",
      "Remaining features:  {'goals', 'position', 'skin_colour', 'leagueCountry', 'redCards', 'height', 'yellowReds', 'birthday', 'club'}\n",
      "silhouette score:  0.588402791404\n",
      "label score:  0.863921842289\n"
     ]
    },
    {
     "data": {
      "image/png": "[encoded data removed]",
      "text/plain": [
       "<matplotlib.figure.Figure at 0x7f210b37e048>"
      ]
     },
     "metadata": {},
     "output_type": "display_data"
    }
   ],
   "source": [
    "base_sil, base_score = silhouette_kmeans(df_player_to_id)\n",
    "col, col_sil, col_score = optimize(base_sil, base_score, df_player_to_id, optimize_on='score')\n",
    "print(\"Features removed iteratively and the corresponding silhouette and label score\")\n",
    "print(\"red: silhouette, green: label_score\")\n",
    "print(\"Remaining features: \", set(df_player_to_id.columns.values[:-1]) -  set(col))\n",
    "print(\"silhouette score: \", col_sil[-1])\n",
    "print(\"label score: \", col_score[-1])\n",
    "fig = helper.plot_array(col, col_sil, col_score, base_sil, base_score, labelx=\"removed features\", labely=\"percent\")"
   ]
  },
  {
   "cell_type": "markdown",
   "metadata": {},
   "source": [
    "## 4. Conclusion\n",
    "\n",
    "### Optimizing on silhouette\n",
    "Optimizing on silhouette and keeping only `leagueCountry` allows to achieve a silhouette score of 0.73. However, this doesn't make any sens as we can see comparing with the `label_score`.\n",
    "\n",
    "Optimizing on silhouette and keeping `leagueCountry` and `victories` allows to achieve a silhouette score of ~0.65 with a high label score of ~0.72. This is, in our opinion, the best solution.\n",
    "\n",
    "### Optimizing on label score\n",
    "This optimization does not make really sens, as it is a kind of overfitting. Anyway, we did it to see it's result and confirm our suspicion. We can achieve a score of ~0.81 but a very low silhouette, which means that the data are not well clusterized.\n",
    "\n",
    "### Is there any correlations between skin colours and referee intervention ???\n",
    "The study of these data leads us to actually ask ourselves **if there is any correlaction** or if we are just trying to reveal something that doesn't exist. Anyway, just looking at the available data, it is hard to drow any conclusion about racism in football, and, as **any case of doubt shall be resolved in favour of the accused**, we will say that their is no evidence of racisme.\n",
    "\n",
    "On the opposite, the best way to clustierize the data is on `victories`. I let you drow the conclusion yourself =P"
   ]
  },
  {
   "cell_type": "code",
   "execution_count": null,
   "metadata": {
    "collapsed": true
   },
   "outputs": [],
   "source": []
  }
 ],
 "metadata": {
  "anaconda-cloud": {},
  "kernelspec": {
   "display_name": "Python [Root]",
   "language": "python",
   "name": "Python [Root]"
  },
  "language_info": {
   "codemirror_mode": {
    "name": "ipython",
    "version": 3
   },
   "file_extension": ".py",
   "mimetype": "text/x-python",
   "name": "python",
   "nbconvert_exporter": "python",
   "pygments_lexer": "ipython3",
   "version": "3.5.2"
  }
 },
 "nbformat": 4,
 "nbformat_minor": 1
}
