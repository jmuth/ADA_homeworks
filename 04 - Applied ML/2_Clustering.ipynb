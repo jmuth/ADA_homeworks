{
 "cells": [
  {
   "cell_type": "code",
   "execution_count": 1,
   "metadata": {
    "collapsed": false
   },
   "outputs": [
    {
     "name": "stderr",
     "output_type": "stream",
     "text": [
      "/home/gael/.local/lib/python3.5/site-packages/sklearn/cross_validation.py:44: DeprecationWarning: This module was deprecated in version 0.18 in favor of the model_selection module into which all the refactored classes and functions are moved. Also note that the interface of the new CV iterators are different from that of this module. This module will be removed in 0.20.\n",
      "  \"This module will be removed in 0.20.\", DeprecationWarning)\n"
     ]
    }
   ],
   "source": [
    "# Import Libraries\n",
    "import pandas as pd\n",
    "import numpy as np\n",
    "import os\n",
    "import matplotlib.pyplot as plt\n",
    "from sklearn.cluster import KMeans\n",
    "import sklearn\n",
    "import helper\n",
    "\n",
    "%matplotlib inline\n",
    "%load_ext autoreload\n",
    "%autoreload 2\n",
    "\n",
    "# There's a lot of columns in the DF. \n",
    "# Therefore, we add this option so that we can see more columns\n",
    "pd.options.display.max_columns = 100"
   ]
  },
  {
   "cell_type": "markdown",
   "metadata": {},
   "source": [
    "# 2. Clustering\n",
    "\n",
    "In this notebook, we will try to clusterize the players into 2 groups by choosing differents features\n",
    "    \n",
    "1. Aggregation\n",
    "    * The data are displayed by dyad of referees, we need to group them by player\n",
    "2. Cleaning\n",
    "    * Prepare data for clusterization (e.g. strings mapped to integer values)\n",
    "3. Clusterization\n",
    "    * Use k-means algorithm with 2 cluster and test score with different feature selections\n",
    "    * Improve on silhouette_score\n",
    "    * Improve on accuracy (clusterization by skin colour)\n",
    "4. Conclusion\n",
    "\n",
    "## Loading the data\n",
    "\n",
    "We will use the data without our added features.\n",
    "\n"
   ]
  },
  {
   "cell_type": "code",
   "execution_count": 2,
   "metadata": {
    "collapsed": false
   },
   "outputs": [
    {
     "data": {
      "text/html": [
       "<div>\n",
       "<table border=\"1\" class=\"dataframe\">\n",
       "  <thead>\n",
       "    <tr style=\"text-align: right;\">\n",
       "      <th></th>\n",
       "      <th>goals</th>\n",
       "      <th>birthday</th>\n",
       "      <th>skin_colour</th>\n",
       "      <th>victories</th>\n",
       "      <th>leagueCountry</th>\n",
       "      <th>weight</th>\n",
       "      <th>ties</th>\n",
       "      <th>position</th>\n",
       "      <th>yellowCards</th>\n",
       "      <th>redCards</th>\n",
       "      <th>defeats</th>\n",
       "      <th>yellowReds</th>\n",
       "      <th>height</th>\n",
       "      <th>games</th>\n",
       "      <th>club</th>\n",
       "    </tr>\n",
       "  </thead>\n",
       "  <tbody>\n",
       "    <tr>\n",
       "      <th>0</th>\n",
       "      <td>9</td>\n",
       "      <td>1979</td>\n",
       "      <td>0</td>\n",
       "      <td>247</td>\n",
       "      <td>0</td>\n",
       "      <td>71</td>\n",
       "      <td>179</td>\n",
       "      <td>1</td>\n",
       "      <td>19</td>\n",
       "      <td>0</td>\n",
       "      <td>228</td>\n",
       "      <td>0</td>\n",
       "      <td>182</td>\n",
       "      <td>654</td>\n",
       "      <td>34</td>\n",
       "    </tr>\n",
       "    <tr>\n",
       "      <th>1</th>\n",
       "      <td>62</td>\n",
       "      <td>1986</td>\n",
       "      <td>0</td>\n",
       "      <td>141</td>\n",
       "      <td>2</td>\n",
       "      <td>73</td>\n",
       "      <td>73</td>\n",
       "      <td>0</td>\n",
       "      <td>42</td>\n",
       "      <td>1</td>\n",
       "      <td>122</td>\n",
       "      <td>0</td>\n",
       "      <td>183</td>\n",
       "      <td>336</td>\n",
       "      <td>87</td>\n",
       "    </tr>\n",
       "    <tr>\n",
       "      <th>2</th>\n",
       "      <td>31</td>\n",
       "      <td>1987</td>\n",
       "      <td>0</td>\n",
       "      <td>200</td>\n",
       "      <td>0</td>\n",
       "      <td>63</td>\n",
       "      <td>97</td>\n",
       "      <td>10</td>\n",
       "      <td>11</td>\n",
       "      <td>0</td>\n",
       "      <td>115</td>\n",
       "      <td>0</td>\n",
       "      <td>165</td>\n",
       "      <td>412</td>\n",
       "      <td>80</td>\n",
       "    </tr>\n",
       "    <tr>\n",
       "      <th>3</th>\n",
       "      <td>39</td>\n",
       "      <td>1990</td>\n",
       "      <td>0</td>\n",
       "      <td>150</td>\n",
       "      <td>0</td>\n",
       "      <td>76</td>\n",
       "      <td>42</td>\n",
       "      <td>3</td>\n",
       "      <td>31</td>\n",
       "      <td>1</td>\n",
       "      <td>68</td>\n",
       "      <td>0</td>\n",
       "      <td>178</td>\n",
       "      <td>260</td>\n",
       "      <td>6</td>\n",
       "    </tr>\n",
       "    <tr>\n",
       "      <th>4</th>\n",
       "      <td>1</td>\n",
       "      <td>1990</td>\n",
       "      <td>0</td>\n",
       "      <td>41</td>\n",
       "      <td>1</td>\n",
       "      <td>73</td>\n",
       "      <td>40</td>\n",
       "      <td>1</td>\n",
       "      <td>8</td>\n",
       "      <td>2</td>\n",
       "      <td>43</td>\n",
       "      <td>4</td>\n",
       "      <td>180</td>\n",
       "      <td>124</td>\n",
       "      <td>49</td>\n",
       "    </tr>\n",
       "  </tbody>\n",
       "</table>\n",
       "</div>"
      ],
      "text/plain": [
       "   goals  birthday  skin_colour  victories  leagueCountry  weight  ties  \\\n",
       "0      9      1979            0        247              0      71   179   \n",
       "1     62      1986            0        141              2      73    73   \n",
       "2     31      1987            0        200              0      63    97   \n",
       "3     39      1990            0        150              0      76    42   \n",
       "4      1      1990            0         41              1      73    40   \n",
       "\n",
       "   position  yellowCards  redCards  defeats  yellowReds  height  games  club  \n",
       "0         1           19         0      228           0     182    654    34  \n",
       "1         0           42         1      122           0     183    336    87  \n",
       "2        10           11         0      115           0     165    412    80  \n",
       "3         3           31         1       68           0     178    260     6  \n",
       "4         1            8         2       43           4     180    124    49  "
      ]
     },
     "execution_count": 2,
     "metadata": {},
     "output_type": "execute_result"
    }
   ],
   "source": [
    "# load data\n",
    "df = pd.read_csv('./data/players_without_features.csv')\n",
    "df.head()"
   ]
  },
  {
   "cell_type": "markdown",
   "metadata": {},
   "source": [
    "## Clustering\n",
    "\n",
    "We apply k-means algorithm from sklearn library\n",
    "\n",
    "* **silhouette_kmeans**: process a k-means clustering and return silhouette_score and label_score\n",
    "* **score_labels**: helper to compute label_score\n",
    "* **remove_one_feature**: process k-means by droping each feature one time and compute the silhouette_score and label_score resulting of this deletion"
   ]
  },
  {
   "cell_type": "code",
   "execution_count": 3,
   "metadata": {
    "collapsed": true
   },
   "outputs": [],
   "source": [
    "def silhouette_kmeans(df):\n",
    "    # drop label column\n",
    "    X = df.drop('skin_colour', axis=1).as_matrix()\n",
    "    \n",
    "    # k-means\n",
    "    kmeans = KMeans(n_clusters=2, random_state=0).fit(X)\n",
    "    labels = kmeans.labels_\n",
    "    \n",
    "    # compute \n",
    "    silhouette =  sklearn.metrics.silhouette_score(X, labels, metric=\"euclidean\")\n",
    "    return silhouette, score_labels(df, labels)\n",
    "\n",
    "def score_labels(df, labels):\n",
    "    score = (labels == df['skin_colour']).sum()\n",
    "    score = max(score, labels.size - score) / labels.size\n",
    "    return score\n",
    "\n",
    "def remove_one_feature(df):\n",
    "    columns_names = list(df.columns.values) # remove skin_colours from the iterable \n",
    "    columns_names.remove('skin_colour')\n",
    "    dic_silouhette = {}\n",
    "    dic_score = {}\n",
    "    base_sil, base_score = silhouette_kmeans(df)\n",
    "    for name in columns_names:\n",
    "        sil, score = silhouette_kmeans(df.drop(name, axis = 1))\n",
    "        dic_silouhette[name] = sil\n",
    "        dic_score[name] = score\n",
    "        \n",
    "    return base_sil, base_score, dic_silouhette, dic_score"
   ]
  },
  {
   "cell_type": "markdown",
   "metadata": {},
   "source": [
    "### One step feature removal\n",
    "\n",
    "As an example, let's have a look at one feature deletion. The following graph give the achived silhouettes and scores by removing each of these features.\n",
    "\n",
    "The dashed line give the silhouette and score of the k-means without removal to have a comparison point."
   ]
  },
  {
   "cell_type": "code",
   "execution_count": 4,
   "metadata": {
    "collapsed": false
   },
   "outputs": [
    {
     "data": {
      "image/png": "[encoded data removed]",
      "text/plain": [
       "<matplotlib.figure.Figure at 0x7fd518a93198>"
      ]
     },
     "metadata": {},
     "output_type": "display_data"
    }
   ],
   "source": [
    "base_sil, base_score, dic_sil, dic_score = remove_one_feature(df)\n",
    "fig = helper.plot_dict(dic_sil, dic_score, base_sil, base_score)"
   ]
  },
  {
   "cell_type": "markdown",
   "metadata": {},
   "source": [
    "### Optimize silhouette and labell scores\n",
    "\n",
    "In order to improve our algorithm, we will select one by one the best feature to remove and iterate.\n",
    "\n",
    "Algorithm stop if we cannot improve more the our clusters or if it only remains one feature."
   ]
  },
  {
   "cell_type": "code",
   "execution_count": 5,
   "metadata": {
    "collapsed": false
   },
   "outputs": [],
   "source": [
    "def optimize(base_sil, base_score, df, optimize_on):\n",
    "    removed_columns = []\n",
    "    removed_columns_sil = []\n",
    "    removed_columns_score = []\n",
    "    while True:\n",
    "        base_sil, base_score, dic_sil, dic_score = remove_one_feature(df.drop(removed_columns, axis=1))\n",
    "        \n",
    "        if optimize_on == 'silhouette':\n",
    "            feature_to_remove = max(dic_sil, key=lambda i: dic_sil[i])\n",
    "            is_not_improving = dic_sil[feature_to_remove] <= base_sil\n",
    "        else:\n",
    "            feature_to_remove = max(dic_score, key=lambda i: dic_score[i])\n",
    "            is_not_improving = dic_score[feature_to_remove] <= base_score\n",
    "            \n",
    "        # test if we are improving\n",
    "        if is_not_improving:\n",
    "            break\n",
    "            \n",
    "        removed_columns.append(feature_to_remove)\n",
    "        removed_columns_sil.append(dic_sil[feature_to_remove])\n",
    "        removed_columns_score.append(dic_score[feature_to_remove])\n",
    "            \n",
    "        # test if we are dropping the last feature\n",
    "        if len(removed_columns) > df.columns.values.size-3:\n",
    "            break\n",
    "            \n",
    "    return removed_columns, removed_columns_sil, removed_columns_score"
   ]
  },
  {
   "cell_type": "markdown",
   "metadata": {},
   "source": [
    "### Optimizing on the Silhouette score"
   ]
  },
  {
   "cell_type": "code",
   "execution_count": 6,
   "metadata": {
    "collapsed": false
   },
   "outputs": [
    {
     "name": "stdout",
     "output_type": "stream",
     "text": [
      "Features removed iteratively and the corresponding silhouette and label score\n",
      "red: silhouette, green: label_score\n",
      "Feature removed:  {'club', 'height', 'yellowReds', 'victories', 'defeats', 'ties', 'weight', 'birthday', 'yellowCards', 'games', 'goals', 'position', 'redCards'}\n",
      "Remaining features:  {'leagueCountry'}\n",
      "silhouette score:  0.742917881549\n",
      "label score:  0.659455687369\n"
     ]
    },
    {
     "data": {
      "image/png": "[encoded data removed]",
      "text/plain": [
       "<matplotlib.figure.Figure at 0x7fd518a93a58>"
      ]
     },
     "metadata": {},
     "output_type": "display_data"
    }
   ],
   "source": [
    "base_sil, base_score = silhouette_kmeans(df)\n",
    "col, col_sil, col_score = optimize(base_sil, base_score, df, optimize_on='silhouette')\n",
    "print(\"Features removed iteratively and the corresponding silhouette and label score\")\n",
    "print(\"red: silhouette, green: label_score\")\n",
    "print(\"Feature removed: \", set(col))\n",
    "# To get the remaining feature, we take all the features and remove the feature removed and the skin_colour (obviously)\n",
    "print(\"Remaining features: \", set(df.columns.values[:-1]) -  set(col) - set(['skin_colour']))\n",
    "print(\"silhouette score: \", col_sil[-1])\n",
    "print(\"label score: \", col_score[-1])\n",
    "fig = helper.plot_array(col, col_sil, col_score, base_sil, base_score, labelx=\"removed features\", labely=\"percent\")"
   ]
  },
  {
   "cell_type": "markdown",
   "metadata": {},
   "source": [
    "Optimizing on silhouette and keeping only `leagueCountry` allows to achieve a silhouette score of 0.74. However, this doesn't make any sens as we can see comparing with the `label_score`.\n",
    "\n",
    "Optimizing on silhouette and keeping `leagueCountry` and `victories` allows to achieve a silhouette score of ~0.65 with a high label score of ~0.70. This is, in our opinion, the best solution."
   ]
  },
  {
   "cell_type": "markdown",
   "metadata": {},
   "source": [
    "### Optimizing on the label score"
   ]
  },
  {
   "cell_type": "code",
   "execution_count": 7,
   "metadata": {
    "collapsed": false
   },
   "outputs": [
    {
     "name": "stdout",
     "output_type": "stream",
     "text": [
      "Features removed iteratively and the corresponding silhouette and label score\n",
      "red: silhouette, green: label_score\n",
      "Feature removed:  {'victories', 'height', 'defeats', 'ties', 'yellowCards', 'games'}\n",
      "Remaining features:  {'yellowReds', 'weight', 'leagueCountry', 'birthday', 'goals', 'position', 'redCards'}\n",
      "silhouette score:  0.595754898108\n",
      "label score:  0.783670621075\n"
     ]
    },
    {
     "data": {
      "image/png": "[encoded data removed]",
      "text/plain": [
       "<matplotlib.figure.Figure at 0x7fd4cb5eea20>"
      ]
     },
     "metadata": {},
     "output_type": "display_data"
    }
   ],
   "source": [
    "base_sil, base_score = silhouette_kmeans(df)\n",
    "col, col_sil, col_score = optimize(base_sil, base_score, df, optimize_on='score')\n",
    "print(\"Features removed iteratively and the corresponding silhouette and label score\")\n",
    "print(\"red: silhouette, green: label_score\")\n",
    "print(\"Feature removed: \", set(col))\n",
    "# To get the remaining feature, we take all the features and remove the feature removed and the skin_colour (obviously)\n",
    "print(\"Remaining features: \", set(df.columns.values[:-1]) -  set(col) - set(['skin_colour']))\n",
    "print(\"silhouette score: \", col_sil[-1])\n",
    "print(\"label score: \", col_score[-1])\n",
    "fig = helper.plot_array(col, col_sil, col_score, base_sil, base_score, labelx=\"removed features\", labely=\"percent\")"
   ]
  },
  {
   "cell_type": "markdown",
   "metadata": {},
   "source": [
    "This optimization does not make really sense, as it is a kind of overfitting. Anyway, we did it to see it's result and confirm our suspicion. We can achieve a score of ~0.78 but a very low silhouette, which means that the data are not well clusterized."
   ]
  },
  {
   "cell_type": "markdown",
   "metadata": {},
   "source": [
    "## What about the new features?\n",
    "\n",
    "Let's try the same thing but this time with the added feature in the notebook *0_Analysis_and_Cleaning.ipynb*."
   ]
  },
  {
   "cell_type": "code",
   "execution_count": null,
   "metadata": {
    "collapsed": false,
    "scrolled": true
   },
   "outputs": [
    {
     "data": {
      "text/html": [
       "<div>\n",
       "<table border=\"1\" class=\"dataframe\">\n",
       "  <thead>\n",
       "    <tr style=\"text-align: right;\">\n",
       "      <th></th>\n",
       "      <th>goals</th>\n",
       "      <th>birthday</th>\n",
       "      <th>skin_colour</th>\n",
       "      <th>victories</th>\n",
       "      <th>leagueCountry</th>\n",
       "      <th>weight</th>\n",
       "      <th>ties</th>\n",
       "      <th>position</th>\n",
       "      <th>yellowCards</th>\n",
       "      <th>redCards</th>\n",
       "      <th>defeats</th>\n",
       "      <th>yellowReds</th>\n",
       "      <th>height</th>\n",
       "      <th>games</th>\n",
       "      <th>club</th>\n",
       "      <th>gravity</th>\n",
       "      <th>meanIAT_yellowCards</th>\n",
       "      <th>meanIAT_yellowReds</th>\n",
       "      <th>meanIAT_redCards</th>\n",
       "      <th>meanIAT_gravity</th>\n",
       "      <th>meanExp_yellowCards</th>\n",
       "      <th>meanExp_yellowReds</th>\n",
       "      <th>meanExp_redCards</th>\n",
       "      <th>meanExp_gravity</th>\n",
       "    </tr>\n",
       "  </thead>\n",
       "  <tbody>\n",
       "    <tr>\n",
       "      <th>0</th>\n",
       "      <td>9</td>\n",
       "      <td>1979</td>\n",
       "      <td>0</td>\n",
       "      <td>247</td>\n",
       "      <td>0</td>\n",
       "      <td>71</td>\n",
       "      <td>179</td>\n",
       "      <td>1</td>\n",
       "      <td>19</td>\n",
       "      <td>0</td>\n",
       "      <td>228</td>\n",
       "      <td>0</td>\n",
       "      <td>182</td>\n",
       "      <td>654</td>\n",
       "      <td>34</td>\n",
       "      <td>19.000000</td>\n",
       "      <td>0.011600</td>\n",
       "      <td>0.000000</td>\n",
       "      <td>0.000000</td>\n",
       "      <td>0.011600</td>\n",
       "      <td>0.012772</td>\n",
       "      <td>0.000000</td>\n",
       "      <td>0.000000</td>\n",
       "      <td>0.012772</td>\n",
       "    </tr>\n",
       "    <tr>\n",
       "      <th>1</th>\n",
       "      <td>62</td>\n",
       "      <td>1986</td>\n",
       "      <td>0</td>\n",
       "      <td>141</td>\n",
       "      <td>2</td>\n",
       "      <td>73</td>\n",
       "      <td>73</td>\n",
       "      <td>0</td>\n",
       "      <td>42</td>\n",
       "      <td>1</td>\n",
       "      <td>122</td>\n",
       "      <td>0</td>\n",
       "      <td>183</td>\n",
       "      <td>336</td>\n",
       "      <td>87</td>\n",
       "      <td>73.305853</td>\n",
       "      <td>0.036043</td>\n",
       "      <td>0.000000</td>\n",
       "      <td>0.000297</td>\n",
       "      <td>0.045332</td>\n",
       "      <td>0.041615</td>\n",
       "      <td>0.000000</td>\n",
       "      <td>0.000358</td>\n",
       "      <td>0.052832</td>\n",
       "    </tr>\n",
       "    <tr>\n",
       "      <th>2</th>\n",
       "      <td>31</td>\n",
       "      <td>1987</td>\n",
       "      <td>0</td>\n",
       "      <td>200</td>\n",
       "      <td>0</td>\n",
       "      <td>63</td>\n",
       "      <td>97</td>\n",
       "      <td>10</td>\n",
       "      <td>11</td>\n",
       "      <td>0</td>\n",
       "      <td>115</td>\n",
       "      <td>0</td>\n",
       "      <td>165</td>\n",
       "      <td>412</td>\n",
       "      <td>80</td>\n",
       "      <td>11.000000</td>\n",
       "      <td>0.006122</td>\n",
       "      <td>0.000000</td>\n",
       "      <td>0.000000</td>\n",
       "      <td>0.006122</td>\n",
       "      <td>0.006491</td>\n",
       "      <td>0.000000</td>\n",
       "      <td>0.000000</td>\n",
       "      <td>0.006491</td>\n",
       "    </tr>\n",
       "    <tr>\n",
       "      <th>3</th>\n",
       "      <td>39</td>\n",
       "      <td>1990</td>\n",
       "      <td>0</td>\n",
       "      <td>150</td>\n",
       "      <td>0</td>\n",
       "      <td>76</td>\n",
       "      <td>42</td>\n",
       "      <td>3</td>\n",
       "      <td>31</td>\n",
       "      <td>1</td>\n",
       "      <td>68</td>\n",
       "      <td>0</td>\n",
       "      <td>178</td>\n",
       "      <td>260</td>\n",
       "      <td>6</td>\n",
       "      <td>62.305853</td>\n",
       "      <td>0.043839</td>\n",
       "      <td>0.000000</td>\n",
       "      <td>0.003702</td>\n",
       "      <td>0.159734</td>\n",
       "      <td>0.049627</td>\n",
       "      <td>0.000000</td>\n",
       "      <td>0.004433</td>\n",
       "      <td>0.188418</td>\n",
       "    </tr>\n",
       "    <tr>\n",
       "      <th>4</th>\n",
       "      <td>1</td>\n",
       "      <td>1990</td>\n",
       "      <td>0</td>\n",
       "      <td>41</td>\n",
       "      <td>1</td>\n",
       "      <td>73</td>\n",
       "      <td>40</td>\n",
       "      <td>1</td>\n",
       "      <td>8</td>\n",
       "      <td>2</td>\n",
       "      <td>43</td>\n",
       "      <td>4</td>\n",
       "      <td>180</td>\n",
       "      <td>124</td>\n",
       "      <td>49</td>\n",
       "      <td>203.000262</td>\n",
       "      <td>0.023945</td>\n",
       "      <td>0.014914</td>\n",
       "      <td>0.004162</td>\n",
       "      <td>0.647860</td>\n",
       "      <td>0.028676</td>\n",
       "      <td>0.017878</td>\n",
       "      <td>0.004985</td>\n",
       "      <td>0.776431</td>\n",
       "    </tr>\n",
       "  </tbody>\n",
       "</table>\n",
       "</div>"
      ],
      "text/plain": [
       "   goals  birthday  skin_colour  victories  leagueCountry  weight  ties  \\\n",
       "0      9      1979            0        247              0      71   179   \n",
       "1     62      1986            0        141              2      73    73   \n",
       "2     31      1987            0        200              0      63    97   \n",
       "3     39      1990            0        150              0      76    42   \n",
       "4      1      1990            0         41              1      73    40   \n",
       "\n",
       "   position  yellowCards  redCards  defeats  yellowReds  height  games  club  \\\n",
       "0         1           19         0      228           0     182    654    34   \n",
       "1         0           42         1      122           0     183    336    87   \n",
       "2        10           11         0      115           0     165    412    80   \n",
       "3         3           31         1       68           0     178    260     6   \n",
       "4         1            8         2       43           4     180    124    49   \n",
       "\n",
       "      gravity  meanIAT_yellowCards  meanIAT_yellowReds  meanIAT_redCards  \\\n",
       "0   19.000000             0.011600            0.000000          0.000000   \n",
       "1   73.305853             0.036043            0.000000          0.000297   \n",
       "2   11.000000             0.006122            0.000000          0.000000   \n",
       "3   62.305853             0.043839            0.000000          0.003702   \n",
       "4  203.000262             0.023945            0.014914          0.004162   \n",
       "\n",
       "   meanIAT_gravity  meanExp_yellowCards  meanExp_yellowReds  meanExp_redCards  \\\n",
       "0         0.011600             0.012772            0.000000          0.000000   \n",
       "1         0.045332             0.041615            0.000000          0.000358   \n",
       "2         0.006122             0.006491            0.000000          0.000000   \n",
       "3         0.159734             0.049627            0.000000          0.004433   \n",
       "4         0.647860             0.028676            0.017878          0.004985   \n",
       "\n",
       "   meanExp_gravity  \n",
       "0         0.012772  \n",
       "1         0.052832  \n",
       "2         0.006491  \n",
       "3         0.188418  \n",
       "4         0.776431  "
      ]
     },
     "execution_count": 8,
     "metadata": {},
     "output_type": "execute_result"
    }
   ],
   "source": [
    "# load data\n",
    "df_features = pd.read_csv('./data/players.csv')\n",
    "df_features.head()"
   ]
  },
  {
   "cell_type": "markdown",
   "metadata": {},
   "source": [
    "## Clustering\n",
    "\n",
    "We apply exactly the same clustering as we have done just before."
   ]
  },
  {
   "cell_type": "markdown",
   "metadata": {},
   "source": [
    "### Optimizing on the Silhouette score"
   ]
  },
  {
   "cell_type": "code",
   "execution_count": null,
   "metadata": {
    "collapsed": false
   },
   "outputs": [],
   "source": [
    "base_sil, base_score = silhouette_kmeans(df_features)\n",
    "col, col_sil, col_score = optimize(base_sil, base_score, df_features, optimize_on='silhouette')\n",
    "print(\"Features removed iteratively and the corresponding silhouette and label score\")\n",
    "print(\"red: silhouette, green: label_score\")\n",
    "print(\"Feature removed: \", set(col))\n",
    "# To get the remaining feature, we take all the features and remove the feature removed and the skin_colour (obviously)\n",
    "print(\"Remaining features: \", set(df_features.columns.values[:-1]) -  set(col) - set(['skin_colour']))\n",
    "print(\"silhouette score: \", col_sil[-1])\n",
    "print(\"label score: \", col_score[-1])\n",
    "fig = helper.plot_array(col, col_sil, col_score, base_sil, base_score, labelx=\"removed features\", labely=\"percent\")"
   ]
  },
  {
   "cell_type": "markdown",
   "metadata": {},
   "source": [
    "This time, we obtain a more interesting result. =)\n",
    "\n",
    "If we optimize on the silhouette score, we get a value of 0.78 for the silhouette and 0.74 for the label score. It's not too bad even if we keep only one feature being `meanIAT_yellowReds`. But it also means that the features we added are useful! Let's optimize on the label score"
   ]
  },
  {
   "cell_type": "markdown",
   "metadata": {},
   "source": [
    "### Optimizing on the label score"
   ]
  },
  {
   "cell_type": "code",
   "execution_count": null,
   "metadata": {
    "collapsed": false,
    "scrolled": false
   },
   "outputs": [],
   "source": [
    "base_sil, base_score = silhouette_kmeans(df_features)\n",
    "col, col_sil, col_score = optimize(base_sil, base_score, df_features, optimize_on='score')\n",
    "print(\"Features removed iteratively and the corresponding silhouette and label score\")\n",
    "print(\"red: silhouette, green: label_score\")\n",
    "print(\"Feature removed: \", set(col))\n",
    "# To get the remaining feature, we take all the features and remove the feature removed and the skin_colour (obviously)\n",
    "print(\"Remaining features: \", set(df_features.columns.values[:-1]) -  set(col) - set(['skin_colour']))\n",
    "print(\"silhouette score: \", col_sil[-1])\n",
    "print(\"label score: \", col_score[-1])\n",
    "fig = helper.plot_array(col, col_sil, col_score, base_sil, base_score, labelx=\"removed features\", labely=\"percent\")"
   ]
  },
  {
   "cell_type": "markdown",
   "metadata": {},
   "source": [
    "We have almost the same result as when we did not use the new features. There is still some kind of overfitting. The silhouette is very low and therefore the data are not will clusterized."
   ]
  },
  {
   "cell_type": "markdown",
   "metadata": {},
   "source": [
    "## Conclusion\n",
    "\n",
    "### Is there any correlations between skin colours and referee intervention ???\n",
    "The study of these data leads us to actually ask ourselves **if there is any correlaction** or if we are just trying to reveal something that doesn't exist. Anyway, just looking at the available data, it is hard to drow any conclusion about racism in football, and, as **any case of doubt shall be resolved in favour of the accused**, we will say that their is no evidence of racisme.\n",
    "\n",
    "On the opposite, the best way to clustierize the data (without the added features) is on `leagueCountry`. I let you drow the conclusion yourself... =P"
   ]
  }
 ],
 "metadata": {
  "anaconda-cloud": {},
  "kernelspec": {
   "display_name": "Python [conda root]",
   "language": "python",
   "name": "conda-root-py"
  },
  "language_info": {
   "codemirror_mode": {
    "name": "ipython",
    "version": 3
   },
   "file_extension": ".py",
   "mimetype": "text/x-python",
   "name": "python",
   "nbconvert_exporter": "python",
   "pygments_lexer": "ipython3",
   "version": "3.5.2"
  }
 },
 "nbformat": 4,
 "nbformat_minor": 1
}
