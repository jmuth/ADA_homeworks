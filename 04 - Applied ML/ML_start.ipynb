{
 "cells": [
  {
   "cell_type": "markdown",
   "metadata": {},
   "source": [
    "As always, import the necessary libraries"
   ]
  },
  {
   "cell_type": "code",
   "execution_count": 1,
   "metadata": {
    "collapsed": false
   },
   "outputs": [],
   "source": [
    "import pandas as pd\n",
    "import numpy as np\n",
    "from sklearn.ensemble import RandomForestClassifier\n",
    "import matplotlib.pyplot as plt\n",
    "\n",
    "%matplotlib inline\n",
    "import seaborn as sns"
   ]
  },
  {
   "cell_type": "markdown",
   "metadata": {},
   "source": [
    "Importing our numeric data"
   ]
  },
  {
   "cell_type": "code",
   "execution_count": 2,
   "metadata": {
    "collapsed": false
   },
   "outputs": [],
   "source": [
    "df = pd.read_csv('data/players_with features_no_nan_only_num_values.csv')"
   ]
  },
  {
   "cell_type": "code",
   "execution_count": 3,
   "metadata": {
    "collapsed": false
   },
   "outputs": [
    {
     "data": {
      "text/html": [
       "<div>\n",
       "<table border=\"1\" class=\"dataframe\">\n",
       "  <thead>\n",
       "    <tr style=\"text-align: right;\">\n",
       "      <th></th>\n",
       "      <th>height</th>\n",
       "      <th>weight</th>\n",
       "      <th>games</th>\n",
       "      <th>victories</th>\n",
       "      <th>ties</th>\n",
       "      <th>defeats</th>\n",
       "      <th>goals</th>\n",
       "      <th>yellowCards</th>\n",
       "      <th>yellowReds</th>\n",
       "      <th>redCards</th>\n",
       "      <th>skin_colour</th>\n",
       "      <th>gravity</th>\n",
       "      <th>meanIAT_yellowCards</th>\n",
       "      <th>meanIAT_yellowReds</th>\n",
       "      <th>meanIAT_redCards</th>\n",
       "      <th>meanIAT_gravity</th>\n",
       "      <th>meanExp_yellowCards</th>\n",
       "      <th>meanExp_yellowReds</th>\n",
       "      <th>meanExp_redCards</th>\n",
       "      <th>meanExp_gravity</th>\n",
       "    </tr>\n",
       "  </thead>\n",
       "  <tbody>\n",
       "    <tr>\n",
       "      <th>0</th>\n",
       "      <td>177.0</td>\n",
       "      <td>72.0</td>\n",
       "      <td>144.0</td>\n",
       "      <td>65.0</td>\n",
       "      <td>32.0</td>\n",
       "      <td>47.0</td>\n",
       "      <td>10.0</td>\n",
       "      <td>21.0</td>\n",
       "      <td>1.0</td>\n",
       "      <td>2.0</td>\n",
       "      <td>0.375</td>\n",
       "      <td>116.674213</td>\n",
       "      <td>0.058858</td>\n",
       "      <td>0.000535</td>\n",
       "      <td>0.001203</td>\n",
       "      <td>0.114196</td>\n",
       "      <td>0.093395</td>\n",
       "      <td>0.001087</td>\n",
       "      <td>0.002447</td>\n",
       "      <td>0.205938</td>\n",
       "    </tr>\n",
       "    <tr>\n",
       "      <th>1</th>\n",
       "      <td>179.0</td>\n",
       "      <td>82.0</td>\n",
       "      <td>427.0</td>\n",
       "      <td>183.0</td>\n",
       "      <td>101.0</td>\n",
       "      <td>143.0</td>\n",
       "      <td>88.0</td>\n",
       "      <td>33.0</td>\n",
       "      <td>0.0</td>\n",
       "      <td>2.0</td>\n",
       "      <td>0.750</td>\n",
       "      <td>95.589050</td>\n",
       "      <td>0.020451</td>\n",
       "      <td>0.000000</td>\n",
       "      <td>0.001752</td>\n",
       "      <td>0.075289</td>\n",
       "      <td>0.013638</td>\n",
       "      <td>0.000000</td>\n",
       "      <td>-0.000520</td>\n",
       "      <td>-0.002640</td>\n",
       "    </tr>\n",
       "    <tr>\n",
       "      <th>2</th>\n",
       "      <td>182.0</td>\n",
       "      <td>71.0</td>\n",
       "      <td>654.0</td>\n",
       "      <td>247.0</td>\n",
       "      <td>179.0</td>\n",
       "      <td>228.0</td>\n",
       "      <td>9.0</td>\n",
       "      <td>19.0</td>\n",
       "      <td>0.0</td>\n",
       "      <td>0.0</td>\n",
       "      <td>0.125</td>\n",
       "      <td>19.000000</td>\n",
       "      <td>0.011768</td>\n",
       "      <td>0.000000</td>\n",
       "      <td>0.000000</td>\n",
       "      <td>0.011768</td>\n",
       "      <td>0.018965</td>\n",
       "      <td>0.000000</td>\n",
       "      <td>0.000000</td>\n",
       "      <td>0.018965</td>\n",
       "    </tr>\n",
       "    <tr>\n",
       "      <th>3</th>\n",
       "      <td>187.0</td>\n",
       "      <td>80.0</td>\n",
       "      <td>285.0</td>\n",
       "      <td>138.0</td>\n",
       "      <td>57.0</td>\n",
       "      <td>90.0</td>\n",
       "      <td>28.0</td>\n",
       "      <td>50.0</td>\n",
       "      <td>4.0</td>\n",
       "      <td>3.0</td>\n",
       "      <td>0.125</td>\n",
       "      <td>276.224227</td>\n",
       "      <td>0.054788</td>\n",
       "      <td>0.006257</td>\n",
       "      <td>0.008396</td>\n",
       "      <td>0.524554</td>\n",
       "      <td>0.085066</td>\n",
       "      <td>0.011986</td>\n",
       "      <td>0.018192</td>\n",
       "      <td>1.050962</td>\n",
       "    </tr>\n",
       "    <tr>\n",
       "      <th>4</th>\n",
       "      <td>180.0</td>\n",
       "      <td>68.0</td>\n",
       "      <td>214.0</td>\n",
       "      <td>88.0</td>\n",
       "      <td>54.0</td>\n",
       "      <td>72.0</td>\n",
       "      <td>11.0</td>\n",
       "      <td>34.0</td>\n",
       "      <td>0.0</td>\n",
       "      <td>0.0</td>\n",
       "      <td>1.000</td>\n",
       "      <td>34.000000</td>\n",
       "      <td>0.049788</td>\n",
       "      <td>0.000000</td>\n",
       "      <td>0.000000</td>\n",
       "      <td>0.049788</td>\n",
       "      <td>0.077372</td>\n",
       "      <td>0.000000</td>\n",
       "      <td>0.000000</td>\n",
       "      <td>0.077372</td>\n",
       "    </tr>\n",
       "  </tbody>\n",
       "</table>\n",
       "</div>"
      ],
      "text/plain": [
       "   height  weight  games  victories   ties  defeats  goals  yellowCards  \\\n",
       "0   177.0    72.0  144.0       65.0   32.0     47.0   10.0         21.0   \n",
       "1   179.0    82.0  427.0      183.0  101.0    143.0   88.0         33.0   \n",
       "2   182.0    71.0  654.0      247.0  179.0    228.0    9.0         19.0   \n",
       "3   187.0    80.0  285.0      138.0   57.0     90.0   28.0         50.0   \n",
       "4   180.0    68.0  214.0       88.0   54.0     72.0   11.0         34.0   \n",
       "\n",
       "   yellowReds  redCards  skin_colour     gravity  meanIAT_yellowCards  \\\n",
       "0         1.0       2.0        0.375  116.674213             0.058858   \n",
       "1         0.0       2.0        0.750   95.589050             0.020451   \n",
       "2         0.0       0.0        0.125   19.000000             0.011768   \n",
       "3         4.0       3.0        0.125  276.224227             0.054788   \n",
       "4         0.0       0.0        1.000   34.000000             0.049788   \n",
       "\n",
       "   meanIAT_yellowReds  meanIAT_redCards  meanIAT_gravity  meanExp_yellowCards  \\\n",
       "0            0.000535          0.001203         0.114196             0.093395   \n",
       "1            0.000000          0.001752         0.075289             0.013638   \n",
       "2            0.000000          0.000000         0.011768             0.018965   \n",
       "3            0.006257          0.008396         0.524554             0.085066   \n",
       "4            0.000000          0.000000         0.049788             0.077372   \n",
       "\n",
       "   meanExp_yellowReds  meanExp_redCards  meanExp_gravity  \n",
       "0            0.001087          0.002447         0.205938  \n",
       "1            0.000000         -0.000520        -0.002640  \n",
       "2            0.000000          0.000000         0.018965  \n",
       "3            0.011986          0.018192         1.050962  \n",
       "4            0.000000          0.000000         0.077372  "
      ]
     },
     "execution_count": 3,
     "metadata": {},
     "output_type": "execute_result"
    }
   ],
   "source": [
    "df.head(5)"
   ]
  },
  {
   "cell_type": "markdown",
   "metadata": {},
   "source": [
    "Creating target data:"
   ]
  },
  {
   "cell_type": "code",
   "execution_count": 4,
   "metadata": {
    "collapsed": true
   },
   "outputs": [],
   "source": [
    "target = df['skin_colour']"
   ]
  },
  {
   "cell_type": "code",
   "execution_count": 5,
   "metadata": {
    "collapsed": false
   },
   "outputs": [
    {
     "data": {
      "text/plain": [
       "array([ 0.375,  0.75 ,  0.125,  1.   ,  0.25 ,  0.   ,  0.5  ,  0.875,\n",
       "        0.625])"
      ]
     },
     "execution_count": 5,
     "metadata": {},
     "output_type": "execute_result"
    }
   ],
   "source": [
    "target.unique()"
   ]
  },
  {
   "cell_type": "markdown",
   "metadata": {},
   "source": [
    "Remember, the skin colour is the average over the two raters"
   ]
  },
  {
   "cell_type": "markdown",
   "metadata": {},
   "source": [
    "For easier classification, we divide the skin colour list into four classes. We believe four classes are enough to get an idea."
   ]
  },
  {
   "cell_type": "code",
   "execution_count": 6,
   "metadata": {
    "collapsed": true
   },
   "outputs": [],
   "source": [
    "def separator(x):\n",
    "    if x <= 0.25:\n",
    "        return 0\n",
    "    elif x <= 0.5:\n",
    "        return 1\n",
    "    elif x <= 0.75:\n",
    "        return 2\n",
    "    elif x <= 1.:\n",
    "        return 3"
   ]
  },
  {
   "cell_type": "code",
   "execution_count": 7,
   "metadata": {
    "collapsed": false
   },
   "outputs": [],
   "source": [
    "target = target.apply(separator)"
   ]
  },
  {
   "cell_type": "code",
   "execution_count": 8,
   "metadata": {
    "collapsed": false
   },
   "outputs": [
    {
     "data": {
      "text/plain": [
       "0    1\n",
       "1    2\n",
       "2    0\n",
       "3    0\n",
       "4    3\n",
       "Name: skin_colour, dtype: int64"
      ]
     },
     "execution_count": 8,
     "metadata": {},
     "output_type": "execute_result"
    }
   ],
   "source": [
    "target.head()"
   ]
  },
  {
   "cell_type": "code",
   "execution_count": 9,
   "metadata": {
    "collapsed": false
   },
   "outputs": [],
   "source": [
    "cols = ['height', 'weight', 'games', 'victories', 'ties', 'defeats', 'goals', 'skin_colour']\n",
    "df = df.drop(cols, axis = 1)\n",
    "data = df.as_matrix()"
   ]
  },
  {
   "cell_type": "code",
   "execution_count": 10,
   "metadata": {
    "collapsed": false
   },
   "outputs": [
    {
     "data": {
      "text/plain": [
       "(1406, 12)"
      ]
     },
     "execution_count": 10,
     "metadata": {},
     "output_type": "execute_result"
    }
   ],
   "source": [
    "data.shape"
   ]
  },
  {
   "cell_type": "code",
   "execution_count": 11,
   "metadata": {
    "collapsed": false
   },
   "outputs": [
    {
     "data": {
      "text/plain": [
       "(1406,)"
      ]
     },
     "execution_count": 11,
     "metadata": {},
     "output_type": "execute_result"
    }
   ],
   "source": [
    "target.shape"
   ]
  },
  {
   "cell_type": "code",
   "execution_count": 12,
   "metadata": {
    "collapsed": true
   },
   "outputs": [],
   "source": [
    "forest = RandomForestClassifier(n_estimators = 100)"
   ]
  },
  {
   "cell_type": "code",
   "execution_count": 13,
   "metadata": {
    "collapsed": false
   },
   "outputs": [
    {
     "data": {
      "text/plain": [
       "RandomForestClassifier(bootstrap=True, class_weight=None, criterion='gini',\n",
       "            max_depth=None, max_features='auto', max_leaf_nodes=None,\n",
       "            min_samples_leaf=1, min_samples_split=2,\n",
       "            min_weight_fraction_leaf=0.0, n_estimators=100, n_jobs=1,\n",
       "            oob_score=False, random_state=None, verbose=0,\n",
       "            warm_start=False)"
      ]
     },
     "execution_count": 13,
     "metadata": {},
     "output_type": "execute_result"
    }
   ],
   "source": [
    "forest.fit(data, target)"
   ]
  },
  {
   "cell_type": "code",
   "execution_count": 19,
   "metadata": {
    "collapsed": false
   },
   "outputs": [],
   "source": [
    "imp = forest.feature_importances_"
   ]
  },
  {
   "cell_type": "code",
   "execution_count": 39,
   "metadata": {
    "collapsed": false
   },
   "outputs": [
    {
     "data": {
      "text/plain": [
       "Index(['yellowCards', 'yellowReds', 'redCards', 'gravity',\n",
       "       'meanIAT_yellowCards', 'meanIAT_yellowReds', 'meanIAT_redCards',\n",
       "       'meanIAT_gravity', 'meanExp_yellowCards', 'meanExp_yellowReds',\n",
       "       'meanExp_redCards', 'meanExp_gravity'],\n",
       "      dtype='object')"
      ]
     },
     "execution_count": 39,
     "metadata": {},
     "output_type": "execute_result"
    }
   ],
   "source": [
    "importance = pd.DataFrame([forest.feature_importances_], columns = df.columns)\n",
    "importance.columns"
   ]
  },
  {
   "cell_type": "code",
   "execution_count": 48,
   "metadata": {
    "collapsed": false
   },
   "outputs": [
    {
     "data": {
      "text/plain": [
       "[<matplotlib.text.Text at 0x11d807be0>,\n",
       " <matplotlib.text.Text at 0x11d1df7f0>,\n",
       " <matplotlib.text.Text at 0x11dcf6518>,\n",
       " <matplotlib.text.Text at 0x11dcfb048>,\n",
       " <matplotlib.text.Text at 0x11dcfbb38>,\n",
       " <matplotlib.text.Text at 0x11dcff668>,\n",
       " <matplotlib.text.Text at 0x11e123198>,\n",
       " <matplotlib.text.Text at 0x11e123c88>,\n",
       " <matplotlib.text.Text at 0x11e1257b8>,\n",
       " <matplotlib.text.Text at 0x11e12a2e8>,\n",
       " <matplotlib.text.Text at 0x11e12add8>,\n",
       " <matplotlib.text.Text at 0x11e12d908>]"
      ]
     },
     "execution_count": 48,
     "metadata": {},
     "output_type": "execute_result"
    },
    {
     "data": {
      "image/png": "[encoded data removed]",
      "text/plain": [
       "<matplotlib.figure.Figure at 0x11d8aca20>"
      ]
     },
     "metadata": {},
     "output_type": "display_data"
    }
   ],
   "source": [
    "fig, ax = plt.subplots()\n",
    "ax.bar(range(len(imp)), imp)\n",
    "ax.set_xticks(range(0, 12))\n",
    "ax.set_xticklabels(importance.columns, rotation=90)"
   ]
  },
  {
   "cell_type": "code",
   "execution_count": 94,
   "metadata": {
    "collapsed": false
   },
   "outputs": [
    {
     "data": {
      "text/plain": [
       "Index(['yellowCards', 'yellowReds', 'redCards', 'gravity',\n",
       "       'meanIAT_yellowCards', 'meanIAT_yellowReds', 'meanIAT_redCards',\n",
       "       'meanIAT_gravity', 'meanExp_yellowCards', 'meanExp_yellowReds',\n",
       "       'meanExp_redCards', 'meanExp_gravity'],\n",
       "      dtype='object')"
      ]
     },
     "execution_count": 94,
     "metadata": {},
     "output_type": "execute_result"
    }
   ],
   "source": [
    "df.columns"
   ]
  },
  {
   "cell_type": "code",
   "execution_count": 108,
   "metadata": {
    "collapsed": false
   },
   "outputs": [
    {
     "ename": "NotFittedError",
     "evalue": "Estimator not fitted, call `fit` before `feature_importances_`.",
     "output_type": "error",
     "traceback": [
      "\u001b[0;31m---------------------------------------------------------------------------\u001b[0m",
      "\u001b[0;31mNotFittedError\u001b[0m                            Traceback (most recent call last)",
      "\u001b[0;32m<ipython-input-108-1153edf0e2f5>\u001b[0m in \u001b[0;36m<module>\u001b[0;34m()\u001b[0m\n\u001b[0;32m----> 1\u001b[0;31m \u001b[0mf\u001b[0m\u001b[0;34m.\u001b[0m\u001b[0mfeature_importances_\u001b[0m\u001b[0;34m\u001b[0m\u001b[0m\n\u001b[0m",
      "\u001b[0;32m/Users/Jonas/anaconda/lib/python3.5/site-packages/sklearn/ensemble/forest.py\u001b[0m in \u001b[0;36mfeature_importances_\u001b[0;34m(self)\u001b[0m\n\u001b[1;32m    329\u001b[0m         \"\"\"\n\u001b[1;32m    330\u001b[0m         \u001b[0;32mif\u001b[0m \u001b[0mself\u001b[0m\u001b[0;34m.\u001b[0m\u001b[0mestimators_\u001b[0m \u001b[0;32mis\u001b[0m \u001b[0;32mNone\u001b[0m \u001b[0;32mor\u001b[0m \u001b[0mlen\u001b[0m\u001b[0;34m(\u001b[0m\u001b[0mself\u001b[0m\u001b[0;34m.\u001b[0m\u001b[0mestimators_\u001b[0m\u001b[0;34m)\u001b[0m \u001b[0;34m==\u001b[0m \u001b[0;36m0\u001b[0m\u001b[0;34m:\u001b[0m\u001b[0;34m\u001b[0m\u001b[0m\n\u001b[0;32m--> 331\u001b[0;31m             raise NotFittedError(\"Estimator not fitted, \"\n\u001b[0m\u001b[1;32m    332\u001b[0m                                  \"call `fit` before `feature_importances_`.\")\n\u001b[1;32m    333\u001b[0m \u001b[0;34m\u001b[0m\u001b[0m\n",
      "\u001b[0;31mNotFittedError\u001b[0m: Estimator not fitted, call `fit` before `feature_importances_`."
     ]
    }
   ],
   "source": [
    "f.feature_importances_"
   ]
  },
  {
   "cell_type": "code",
   "execution_count": 13,
   "metadata": {
    "collapsed": true
   },
   "outputs": [],
   "source": [
    "from sklearn.cross_validation import cross_val_score"
   ]
  },
  {
   "cell_type": "code",
   "execution_count": 14,
   "metadata": {
    "collapsed": true
   },
   "outputs": [],
   "source": [
    "f = RandomForestClassifier(n_estimators = 100)"
   ]
  },
  {
   "cell_type": "code",
   "execution_count": 128,
   "metadata": {
    "collapsed": false
   },
   "outputs": [],
   "source": [
    "target = target.values"
   ]
  },
  {
   "cell_type": "code",
   "execution_count": 144,
   "metadata": {
    "collapsed": false
   },
   "outputs": [],
   "source": [
    "target = np.array(target)"
   ]
  },
  {
   "cell_type": "code",
   "execution_count": 15,
   "metadata": {
    "collapsed": false
   },
   "outputs": [],
   "source": [
    "scores = cross_val_score(f, data, target, cv=10, scoring='accuracy')"
   ]
  },
  {
   "cell_type": "code",
   "execution_count": 16,
   "metadata": {
    "collapsed": false
   },
   "outputs": [
    {
     "data": {
      "text/plain": [
       "array([ 0.71328671,  0.70422535,  0.71126761,  0.70422535,  0.69503546,\n",
       "        0.71428571,  0.71942446,  0.69064748,  0.67625899,  0.65467626])"
      ]
     },
     "execution_count": 16,
     "metadata": {},
     "output_type": "execute_result"
    }
   ],
   "source": [
    "scores"
   ]
  },
  {
   "cell_type": "markdown",
   "metadata": {},
   "source": [
    "idea: use a hold-out sample"
   ]
  },
  {
   "cell_type": "code",
   "execution_count": null,
   "metadata": {
    "collapsed": true
   },
   "outputs": [],
   "source": []
  }
 ],
 "metadata": {
  "anaconda-cloud": {},
  "kernelspec": {
   "display_name": "Python [default]",
   "language": "python",
   "name": "python3"
  },
  "language_info": {
   "codemirror_mode": {
    "name": "ipython",
    "version": 3
   },
   "file_extension": ".py",
   "mimetype": "text/x-python",
   "name": "python",
   "nbconvert_exporter": "python",
   "pygments_lexer": "ipython3",
   "version": "3.5.2"
  }
 },
 "nbformat": 4,
 "nbformat_minor": 1
}
