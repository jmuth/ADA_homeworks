{
 "cells": [
  {
   "cell_type": "code",
   "execution_count": 1,
   "metadata": {
    "collapsed": true
   },
   "outputs": [],
   "source": [
    "import pandas as pd\n",
    "import scipy.stats as stats\n",
    "import os\n",
    "import matplotlib.pyplot as plt\n",
    "import numpy as np\n",
    "%matplotlib inline"
   ]
  },
  {
   "cell_type": "markdown",
   "metadata": {},
   "source": [
    "# Preparation of the data\n",
    "\n",
    "First, we need to prepare the data. The very first step is to concatenate the information in all the files we scraped from IsAcademia. (Reminder: We have one file per year.) The function `concatFiles` opens all the files and then return a DataFrame."
   ]
  },
  {
   "cell_type": "code",
   "execution_count": 2,
   "metadata": {
    "collapsed": true
   },
   "outputs": [],
   "source": [
    "# requires os\n",
    "def concatFiles(direc, fileType):\n",
    "    files = os.listdir(direc)\n",
    "    if '.DS_Store' in files:\n",
    "        files.remove('.DS_Store')\n",
    "    if fileType == 'csv':\n",
    "        r = pd.read_csv\n",
    "    for idx, file in enumerate(files):\n",
    "        file = direc+file\n",
    "        if idx == 0:\n",
    "            df = r(file, header=0)\n",
    "        else:\n",
    "            new = r(file, header=0)\n",
    "            df = pd.concat([df, new], axis=0)\n",
    "    return df"
   ]
  },
  {
   "cell_type": "code",
   "execution_count": 3,
   "metadata": {
    "collapsed": false
   },
   "outputs": [
    {
     "data": {
      "text/html": [
       "<div>\n",
       "<table border=\"1\" class=\"dataframe\">\n",
       "  <thead>\n",
       "    <tr style=\"text-align: right;\">\n",
       "      <th></th>\n",
       "      <th>Civilité</th>\n",
       "      <th>Nom Prénom</th>\n",
       "      <th>Orientation Bachelor</th>\n",
       "      <th>Orientation Master</th>\n",
       "      <th>Spécialisation</th>\n",
       "      <th>Filière opt.</th>\n",
       "      <th>Mineur</th>\n",
       "      <th>Statut</th>\n",
       "      <th>Type Echange</th>\n",
       "      <th>Ecole Echange</th>\n",
       "      <th>No Sciper</th>\n",
       "      <th>Subject</th>\n",
       "      <th>Period</th>\n",
       "      <th>Semester</th>\n",
       "    </tr>\n",
       "  </thead>\n",
       "  <tbody>\n",
       "    <tr>\n",
       "      <th>0</th>\n",
       "      <td>Monsieur</td>\n",
       "      <td>Bouaziz Sofien</td>\n",
       "      <td>NaN</td>\n",
       "      <td>NaN</td>\n",
       "      <td>NaN</td>\n",
       "      <td>NaN</td>\n",
       "      <td>NaN</td>\n",
       "      <td>Présent</td>\n",
       "      <td>Erasmus</td>\n",
       "      <td>Ecole Supérieure d'Ingénieurs en Electronique ...</td>\n",
       "      <td>179749</td>\n",
       "      <td>Informatique</td>\n",
       "      <td>2007-2008</td>\n",
       "      <td>Semestre automne</td>\n",
       "    </tr>\n",
       "    <tr>\n",
       "      <th>1</th>\n",
       "      <td>Monsieur</td>\n",
       "      <td>Charles Christian</td>\n",
       "      <td>NaN</td>\n",
       "      <td>NaN</td>\n",
       "      <td>NaN</td>\n",
       "      <td>NaN</td>\n",
       "      <td>NaN</td>\n",
       "      <td>Présent</td>\n",
       "      <td>Erasmus</td>\n",
       "      <td>Ecole Supérieure de Chimie Physique Electroniq...</td>\n",
       "      <td>180104</td>\n",
       "      <td>Informatique</td>\n",
       "      <td>2007-2008</td>\n",
       "      <td>Semestre automne</td>\n",
       "    </tr>\n",
       "    <tr>\n",
       "      <th>2</th>\n",
       "      <td>Monsieur</td>\n",
       "      <td>Dagand Pierre-Evariste</td>\n",
       "      <td>NaN</td>\n",
       "      <td>NaN</td>\n",
       "      <td>NaN</td>\n",
       "      <td>NaN</td>\n",
       "      <td>NaN</td>\n",
       "      <td>Présent</td>\n",
       "      <td>Erasmus</td>\n",
       "      <td>Ecole Normale Supérieure de Cachan</td>\n",
       "      <td>181031</td>\n",
       "      <td>Informatique</td>\n",
       "      <td>2007-2008</td>\n",
       "      <td>Semestre automne</td>\n",
       "    </tr>\n",
       "    <tr>\n",
       "      <th>3</th>\n",
       "      <td>Monsieur</td>\n",
       "      <td>Grataloup Olivier</td>\n",
       "      <td>NaN</td>\n",
       "      <td>NaN</td>\n",
       "      <td>NaN</td>\n",
       "      <td>NaN</td>\n",
       "      <td>NaN</td>\n",
       "      <td>Présent</td>\n",
       "      <td>Erasmus</td>\n",
       "      <td>Ecole Supérieure de Chimie Physique Electroniq...</td>\n",
       "      <td>179911</td>\n",
       "      <td>Informatique</td>\n",
       "      <td>2007-2008</td>\n",
       "      <td>Semestre automne</td>\n",
       "    </tr>\n",
       "    <tr>\n",
       "      <th>4</th>\n",
       "      <td>Monsieur</td>\n",
       "      <td>Grignard Arnaud</td>\n",
       "      <td>NaN</td>\n",
       "      <td>NaN</td>\n",
       "      <td>NaN</td>\n",
       "      <td>NaN</td>\n",
       "      <td>NaN</td>\n",
       "      <td>Présent</td>\n",
       "      <td>Erasmus</td>\n",
       "      <td>Ecole Supérieure de Chimie Physique Electroniq...</td>\n",
       "      <td>179934</td>\n",
       "      <td>Informatique</td>\n",
       "      <td>2007-2008</td>\n",
       "      <td>Semestre automne</td>\n",
       "    </tr>\n",
       "  </tbody>\n",
       "</table>\n",
       "</div>"
      ],
      "text/plain": [
       "   Civilité              Nom Prénom  Orientation Bachelor  Orientation Master  \\\n",
       "0  Monsieur          Bouaziz Sofien                   NaN                 NaN   \n",
       "1  Monsieur       Charles Christian                   NaN                 NaN   \n",
       "2  Monsieur  Dagand Pierre-Evariste                   NaN                 NaN   \n",
       "3  Monsieur       Grataloup Olivier                   NaN                 NaN   \n",
       "4  Monsieur         Grignard Arnaud                   NaN                 NaN   \n",
       "\n",
       "  Spécialisation Filière opt. Mineur   Statut Type Echange  \\\n",
       "0            NaN          NaN    NaN  Présent      Erasmus   \n",
       "1            NaN          NaN    NaN  Présent      Erasmus   \n",
       "2            NaN          NaN    NaN  Présent      Erasmus   \n",
       "3            NaN          NaN    NaN  Présent      Erasmus   \n",
       "4            NaN          NaN    NaN  Présent      Erasmus   \n",
       "\n",
       "                                       Ecole Echange  No Sciper       Subject  \\\n",
       "0  Ecole Supérieure d'Ingénieurs en Electronique ...     179749  Informatique   \n",
       "1  Ecole Supérieure de Chimie Physique Electroniq...     180104  Informatique   \n",
       "2                 Ecole Normale Supérieure de Cachan     181031  Informatique   \n",
       "3  Ecole Supérieure de Chimie Physique Electroniq...     179911  Informatique   \n",
       "4  Ecole Supérieure de Chimie Physique Electroniq...     179934  Informatique   \n",
       "\n",
       "      Period          Semester  \n",
       "0  2007-2008  Semestre automne  \n",
       "1  2007-2008  Semestre automne  \n",
       "2  2007-2008  Semestre automne  \n",
       "3  2007-2008  Semestre automne  \n",
       "4  2007-2008  Semestre automne  "
      ]
     },
     "execution_count": 3,
     "metadata": {},
     "output_type": "execute_result"
    }
   ],
   "source": [
    "info = concatFiles('data/', 'csv')\n",
    "# Print the head of the big DataFrame\n",
    "info.head()"
   ]
  },
  {
   "cell_type": "markdown",
   "metadata": {},
   "source": [
    "In this exercise, we are looking for Master students. Therefore, we can create a function that will locate if the *Semester* field contains the word *Master*."
   ]
  },
  {
   "cell_type": "code",
   "execution_count": 4,
   "metadata": {
    "collapsed": true
   },
   "outputs": [],
   "source": [
    "def locator_ma(s):\n",
    "    return s.find('Master') != -1"
   ]
  },
  {
   "cell_type": "code",
   "execution_count": 5,
   "metadata": {
    "collapsed": false
   },
   "outputs": [
    {
     "data": {
      "text/html": [
       "<div>\n",
       "<table border=\"1\" class=\"dataframe\">\n",
       "  <thead>\n",
       "    <tr style=\"text-align: right;\">\n",
       "      <th></th>\n",
       "      <th>Civilité</th>\n",
       "      <th>Nom Prénom</th>\n",
       "      <th>Orientation Bachelor</th>\n",
       "      <th>Orientation Master</th>\n",
       "      <th>Spécialisation</th>\n",
       "      <th>Filière opt.</th>\n",
       "      <th>Mineur</th>\n",
       "      <th>Statut</th>\n",
       "      <th>Type Echange</th>\n",
       "      <th>Ecole Echange</th>\n",
       "      <th>No Sciper</th>\n",
       "      <th>Subject</th>\n",
       "      <th>Period</th>\n",
       "      <th>Semester</th>\n",
       "    </tr>\n",
       "  </thead>\n",
       "  <tbody>\n",
       "    <tr>\n",
       "      <th>369</th>\n",
       "      <td>Monsieur</td>\n",
       "      <td>Aeberhard François-Xavier</td>\n",
       "      <td>NaN</td>\n",
       "      <td>NaN</td>\n",
       "      <td>NaN</td>\n",
       "      <td>NaN</td>\n",
       "      <td>NaN</td>\n",
       "      <td>Présent</td>\n",
       "      <td>NaN</td>\n",
       "      <td>NaN</td>\n",
       "      <td>153066</td>\n",
       "      <td>Informatique</td>\n",
       "      <td>2007-2008</td>\n",
       "      <td>Master semestre 1</td>\n",
       "    </tr>\n",
       "    <tr>\n",
       "      <th>370</th>\n",
       "      <td>Madame</td>\n",
       "      <td>Agarwal Megha</td>\n",
       "      <td>NaN</td>\n",
       "      <td>NaN</td>\n",
       "      <td>NaN</td>\n",
       "      <td>NaN</td>\n",
       "      <td>NaN</td>\n",
       "      <td>Présent</td>\n",
       "      <td>NaN</td>\n",
       "      <td>NaN</td>\n",
       "      <td>180027</td>\n",
       "      <td>Informatique</td>\n",
       "      <td>2007-2008</td>\n",
       "      <td>Master semestre 1</td>\n",
       "    </tr>\n",
       "    <tr>\n",
       "      <th>371</th>\n",
       "      <td>Monsieur</td>\n",
       "      <td>Anagnostaras David</td>\n",
       "      <td>NaN</td>\n",
       "      <td>NaN</td>\n",
       "      <td>NaN</td>\n",
       "      <td>NaN</td>\n",
       "      <td>NaN</td>\n",
       "      <td>Présent</td>\n",
       "      <td>NaN</td>\n",
       "      <td>NaN</td>\n",
       "      <td>152232</td>\n",
       "      <td>Informatique</td>\n",
       "      <td>2007-2008</td>\n",
       "      <td>Master semestre 1</td>\n",
       "    </tr>\n",
       "    <tr>\n",
       "      <th>372</th>\n",
       "      <td>Monsieur</td>\n",
       "      <td>Auroux Damien</td>\n",
       "      <td>NaN</td>\n",
       "      <td>NaN</td>\n",
       "      <td>NaN</td>\n",
       "      <td>NaN</td>\n",
       "      <td>NaN</td>\n",
       "      <td>Présent</td>\n",
       "      <td>NaN</td>\n",
       "      <td>NaN</td>\n",
       "      <td>177395</td>\n",
       "      <td>Informatique</td>\n",
       "      <td>2007-2008</td>\n",
       "      <td>Master semestre 1</td>\n",
       "    </tr>\n",
       "    <tr>\n",
       "      <th>373</th>\n",
       "      <td>Monsieur</td>\n",
       "      <td>Awalebo Joseph</td>\n",
       "      <td>NaN</td>\n",
       "      <td>NaN</td>\n",
       "      <td>NaN</td>\n",
       "      <td>NaN</td>\n",
       "      <td>NaN</td>\n",
       "      <td>Présent</td>\n",
       "      <td>NaN</td>\n",
       "      <td>NaN</td>\n",
       "      <td>161970</td>\n",
       "      <td>Informatique</td>\n",
       "      <td>2007-2008</td>\n",
       "      <td>Master semestre 1</td>\n",
       "    </tr>\n",
       "  </tbody>\n",
       "</table>\n",
       "</div>"
      ],
      "text/plain": [
       "     Civilité                 Nom Prénom  Orientation Bachelor  \\\n",
       "369  Monsieur  Aeberhard François-Xavier                   NaN   \n",
       "370    Madame              Agarwal Megha                   NaN   \n",
       "371  Monsieur         Anagnostaras David                   NaN   \n",
       "372  Monsieur              Auroux Damien                   NaN   \n",
       "373  Monsieur             Awalebo Joseph                   NaN   \n",
       "\n",
       "     Orientation Master Spécialisation Filière opt. Mineur   Statut  \\\n",
       "369                 NaN            NaN          NaN    NaN  Présent   \n",
       "370                 NaN            NaN          NaN    NaN  Présent   \n",
       "371                 NaN            NaN          NaN    NaN  Présent   \n",
       "372                 NaN            NaN          NaN    NaN  Présent   \n",
       "373                 NaN            NaN          NaN    NaN  Présent   \n",
       "\n",
       "    Type Echange Ecole Echange  No Sciper       Subject     Period  \\\n",
       "369          NaN           NaN     153066  Informatique  2007-2008   \n",
       "370          NaN           NaN     180027  Informatique  2007-2008   \n",
       "371          NaN           NaN     152232  Informatique  2007-2008   \n",
       "372          NaN           NaN     177395  Informatique  2007-2008   \n",
       "373          NaN           NaN     161970  Informatique  2007-2008   \n",
       "\n",
       "              Semester  \n",
       "369  Master semestre 1  \n",
       "370  Master semestre 1  \n",
       "371  Master semestre 1  \n",
       "372  Master semestre 1  \n",
       "373  Master semestre 1  "
      ]
     },
     "execution_count": 5,
     "metadata": {},
     "output_type": "execute_result"
    }
   ],
   "source": [
    "ma = info.loc[info['Semester'].apply(locator_ma)]\n",
    "ma.head()\n"
   ]
  },
  {
   "cell_type": "markdown",
   "metadata": {},
   "source": [
    "Next step is to locate the *sciper* number. Indeed, it's easier to deal with a number than with a complicated name."
   ]
  },
  {
   "cell_type": "code",
   "execution_count": 6,
   "metadata": {
    "collapsed": true
   },
   "outputs": [],
   "source": [
    "def locSciper(df, sciper):\n",
    "    return df.loc[df['No Sciper'] == sciper]"
   ]
  },
  {
   "cell_type": "markdown",
   "metadata": {},
   "source": [
    "We collect the *Gender*."
   ]
  },
  {
   "cell_type": "code",
   "execution_count": 7,
   "metadata": {
    "collapsed": true
   },
   "outputs": [],
   "source": [
    "def getGender(df):\n",
    "    \"\"\" Take a DataFrame and checks the gender\n",
    "    \n",
    "    Args:\n",
    "        df (DataFrame): a DataFrame, typically a .loc on a specific student\n",
    "        \n",
    "    Returns:\n",
    "        bool: True if student is a woman, False otherwise\n",
    "    \"\"\"\n",
    "    try:\n",
    "        if df.isin(['Madame'])['Civilité'].value_counts()[True] > 0:\n",
    "            return 1\n",
    "    except KeyError:\n",
    "        return 0"
   ]
  },
  {
   "cell_type": "markdown",
   "metadata": {},
   "source": [
    "We return 1 if the students has an entry with 'Master semestre 3'. Otherwise, we return a NaN."
   ]
  },
  {
   "cell_type": "code",
   "execution_count": 8,
   "metadata": {
    "collapsed": true
   },
   "outputs": [],
   "source": [
    "def getMaster3(df):\n",
    "    \"\"\" Take a DataFrame and checks if the student had a Master Project\n",
    "    \n",
    "    Args:\n",
    "        df (DataFrame): a DataFrame, typically a .loc on a specific student\n",
    "        \n",
    "    Returns:\n",
    "        bool: True if student had a Master 3, False otherwise\n",
    "    \"\"\"\n",
    "    try:\n",
    "        if df.isin(['Master semestre 3'])['Semester'].value_counts()[True] > 0:\n",
    "            return 1\n",
    "    except KeyError:\n",
    "        return None    "
   ]
  },
  {
   "cell_type": "markdown",
   "metadata": {},
   "source": [
    "We return 1 if the students has an entry with 'Projet Master automne' ou 'Projet Master printemps'. Otherwise, we return a NaN."
   ]
  },
  {
   "cell_type": "code",
   "execution_count": 9,
   "metadata": {
    "collapsed": true
   },
   "outputs": [],
   "source": [
    "def getMasterProject(df):\n",
    "    \"\"\" Take a DataFrame and checks if the student had a Master Project\n",
    "    \n",
    "    Args:\n",
    "        df (DataFrame): a DataFrame, typically a .loc on a specific student\n",
    "        \n",
    "    Returns:\n",
    "        bool: True if student had a Master Project, False otherwise\n",
    "    \"\"\"\n",
    "    try:\n",
    "        if df.isin(['Projet Master automne'])['Semester'].value_counts()[True] > 0:\n",
    "            return 1\n",
    "        elif df.isin(['Projet Master printemps'])['Semester'].value_counts()[True] > 0:\n",
    "            return 1        \n",
    "    except KeyError:\n",
    "        return None  "
   ]
  },
  {
   "cell_type": "markdown",
   "metadata": {},
   "source": [
    "We create a function such that if the student doesn't have the entry for 'Master semestre 1', we won't take it into account. We only have to check this, because a student will have only 1 entry in MA1. If a student does more year than intended, he will do the following years: \n",
    "\n",
    "`MA1 -> MA2 -> MA3 -> MA2 -> MA3 -> Master Project`"
   ]
  },
  {
   "cell_type": "code",
   "execution_count": 10,
   "metadata": {
    "collapsed": true
   },
   "outputs": [],
   "source": [
    "def isOne(df):\n",
    "    \"\"\" Take a DataFrame and check that there is an entry for both BA1 and BA6\n",
    "    \n",
    "    Args:\n",
    "        df (DataFrame): a DataFrame, typically a .loc on a specific student\n",
    "        \n",
    "    Returns:\n",
    "        bool: True if it finds MA1, False otherwise\n",
    "    \"\"\"\n",
    "    try:\n",
    "        one = df.isin(['Master semestre 1'])['Semester'].value_counts()[True] > 0\n",
    "    except KeyError:\n",
    "        one = 0\n",
    "    return one"
   ]
  },
  {
   "cell_type": "markdown",
   "metadata": {},
   "source": [
    "We also remove all the students who started before 2014. Indeed, the maximum length of a Master is 4 years. Therefore, a student who did his master in 4 years, will automatically finish this year."
   ]
  },
  {
   "cell_type": "code",
   "execution_count": 11,
   "metadata": {
    "collapsed": true
   },
   "outputs": [],
   "source": [
    "def restrict_years(df):\n",
    "    \"\"\" Take a DataFrame and check that there is an entry for both BA1 and BA6\n",
    "    \n",
    "    Args:\n",
    "        df (DataFrame): a DataFrame, typically a .loc on a specific student\n",
    "        \n",
    "    Returns:\n",
    "        bool: True if it he has an entry in the good years, False otherwise\n",
    "    \"\"\"    \n",
    "    wrong_years = ['2014-2015', '2015-2016', '2016-2017']\n",
    "    \n",
    "    try:\n",
    "        periods_ma1 = df.loc[df['Semester'] == 'Master semestre 1'].Period\n",
    "        if any(years in wrong_years for years in periods_ma1):\n",
    "            return False\n",
    "        else:\n",
    "            return True\n",
    "    except KeyError:\n",
    "        return False"
   ]
  },
  {
   "cell_type": "markdown",
   "metadata": {},
   "source": [
    "We also get the years when the student started his Master."
   ]
  },
  {
   "cell_type": "code",
   "execution_count": 12,
   "metadata": {
    "collapsed": true
   },
   "outputs": [],
   "source": [
    "def getYearStartedMaster(df):\n",
    "    \"\"\" Take a DataFrame and checks if the student had a Master Project\n",
    "    \n",
    "    Args:\n",
    "        df (DataFrame): a DataFrame, typically a .loc on a specific student\n",
    "        \n",
    "    Returns:\n",
    "        bool: True if student had a Master 3, False otherwise\n",
    "    \"\"\"\n",
    "    try:\n",
    "        return np.array(df.loc[df['Semester'] == 'Master semestre 1'].Period)[-1]\n",
    "    except KeyError:\n",
    "        return None"
   ]
  },
  {
   "cell_type": "markdown",
   "metadata": {},
   "source": [
    "Now, we create a dictionnary with all the information we want. "
   ]
  },
  {
   "cell_type": "code",
   "execution_count": 13,
   "metadata": {
    "collapsed": false
   },
   "outputs": [],
   "source": [
    "# We need to remove the students who started too late. \n",
    "# Let's say 2 sem without spec. 3 sem with spec\n",
    "\n",
    "dico = {'sciper': [], 'gender': [], 'length': [], \n",
    "        'Master3': [], 'MasterProject': [], 'Specialization':[],\n",
    "        'YearStarted': []}\n",
    "# Do some tests\n",
    "for row in ma.iterrows():\n",
    "    o = row[1]\n",
    "    sciper = o['No Sciper']\n",
    "    if not sciper in dico['sciper']:\n",
    "        df = locSciper(ma, sciper)\n",
    "        if isOne(df) and restrict_years(df):\n",
    "            dico['sciper'].append(sciper)\n",
    "            dico['gender'].append(getGender(df))\n",
    "            # Calculating length of stay by nbr of rows\n",
    "            dico['length'].append(len(df))\n",
    "            dico['MasterProject'].append(getMasterProject(df))\n",
    "            dico['Master3'].append(getMaster3(df))\n",
    "            dico['Specialization'].append(o['Spécialisation'])\n",
    "            dico['YearStarted'].append(getYearStartedMaster(df))"
   ]
  },
  {
   "cell_type": "markdown",
   "metadata": {},
   "source": [
    "We transform the dictionnary into a pandas DataFrame."
   ]
  },
  {
   "cell_type": "code",
   "execution_count": 14,
   "metadata": {
    "collapsed": false
   },
   "outputs": [
    {
     "data": {
      "text/html": [
       "<div>\n",
       "<table border=\"1\" class=\"dataframe\">\n",
       "  <thead>\n",
       "    <tr style=\"text-align: right;\">\n",
       "      <th></th>\n",
       "      <th>Master3</th>\n",
       "      <th>MasterProject</th>\n",
       "      <th>Specialization</th>\n",
       "      <th>YearStarted</th>\n",
       "      <th>gender</th>\n",
       "      <th>length</th>\n",
       "      <th>sciper</th>\n",
       "    </tr>\n",
       "  </thead>\n",
       "  <tbody>\n",
       "    <tr>\n",
       "      <th>0</th>\n",
       "      <td>1.0</td>\n",
       "      <td>NaN</td>\n",
       "      <td>NaN</td>\n",
       "      <td>2007-2008</td>\n",
       "      <td>0</td>\n",
       "      <td>6</td>\n",
       "      <td>153066</td>\n",
       "    </tr>\n",
       "    <tr>\n",
       "      <th>1</th>\n",
       "      <td>NaN</td>\n",
       "      <td>1.0</td>\n",
       "      <td>NaN</td>\n",
       "      <td>2007-2008</td>\n",
       "      <td>1</td>\n",
       "      <td>3</td>\n",
       "      <td>180027</td>\n",
       "    </tr>\n",
       "    <tr>\n",
       "      <th>2</th>\n",
       "      <td>1.0</td>\n",
       "      <td>NaN</td>\n",
       "      <td>NaN</td>\n",
       "      <td>2007-2008</td>\n",
       "      <td>0</td>\n",
       "      <td>3</td>\n",
       "      <td>152232</td>\n",
       "    </tr>\n",
       "    <tr>\n",
       "      <th>3</th>\n",
       "      <td>1.0</td>\n",
       "      <td>NaN</td>\n",
       "      <td>NaN</td>\n",
       "      <td>2007-2008</td>\n",
       "      <td>0</td>\n",
       "      <td>3</td>\n",
       "      <td>177395</td>\n",
       "    </tr>\n",
       "    <tr>\n",
       "      <th>4</th>\n",
       "      <td>1.0</td>\n",
       "      <td>NaN</td>\n",
       "      <td>NaN</td>\n",
       "      <td>2007-2008</td>\n",
       "      <td>0</td>\n",
       "      <td>3</td>\n",
       "      <td>161970</td>\n",
       "    </tr>\n",
       "  </tbody>\n",
       "</table>\n",
       "</div>"
      ],
      "text/plain": [
       "   Master3  MasterProject Specialization YearStarted  gender  length  sciper\n",
       "0      1.0            NaN            NaN   2007-2008       0       6  153066\n",
       "1      NaN            1.0            NaN   2007-2008       1       3  180027\n",
       "2      1.0            NaN            NaN   2007-2008       0       3  152232\n",
       "3      1.0            NaN            NaN   2007-2008       0       3  177395\n",
       "4      1.0            NaN            NaN   2007-2008       0       3  161970"
      ]
     },
     "execution_count": 14,
     "metadata": {},
     "output_type": "execute_result"
    }
   ],
   "source": [
    "data = pd.DataFrame(dico)\n",
    "data.head()"
   ]
  },
  {
   "cell_type": "code",
   "execution_count": 15,
   "metadata": {
    "collapsed": false
   },
   "outputs": [
    {
     "data": {
      "text/plain": [
       "count    540.000000\n",
       "mean       3.285185\n",
       "std        1.082909\n",
       "min        1.000000\n",
       "25%        3.000000\n",
       "50%        3.000000\n",
       "75%        4.000000\n",
       "max        8.000000\n",
       "Name: length, dtype: float64"
      ]
     },
     "execution_count": 15,
     "metadata": {},
     "output_type": "execute_result"
    }
   ],
   "source": [
    "data.length.describe()"
   ]
  },
  {
   "cell_type": "markdown",
   "metadata": {},
   "source": [
    "We notice that the minimum length is **2 semesters** which is wrong. Let's see how many persons did their Master in less than 3 semesters."
   ]
  },
  {
   "cell_type": "code",
   "execution_count": 16,
   "metadata": {
    "collapsed": false
   },
   "outputs": [
    {
     "data": {
      "text/plain": [
       "Master3             0\n",
       "MasterProject       0\n",
       "Specialization      2\n",
       "YearStarted       118\n",
       "gender            118\n",
       "length            118\n",
       "sciper            118\n",
       "dtype: int64"
      ]
     },
     "execution_count": 16,
     "metadata": {},
     "output_type": "execute_result"
    }
   ],
   "source": [
    "data.loc[data.length < 3].count()"
   ]
  },
  {
   "cell_type": "markdown",
   "metadata": {},
   "source": [
    "We see that there are 201 entries with students who did their Master in 2 semesters. We cannot remove all of these entries. Therefore, we will keep them even if we know that there's a problem.\n",
    "\n",
    "We just check the mean of the whole data. We are interested in the length especially."
   ]
  },
  {
   "cell_type": "code",
   "execution_count": 17,
   "metadata": {
    "collapsed": false
   },
   "outputs": [
    {
     "data": {
      "text/plain": [
       "Master3               1.000000\n",
       "MasterProject         1.000000\n",
       "gender                0.144444\n",
       "length                3.285185\n",
       "sciper           192550.235185\n",
       "dtype: float64"
      ]
     },
     "execution_count": 17,
     "metadata": {},
     "output_type": "execute_result"
    }
   ],
   "source": [
    "data.mean()"
   ]
  },
  {
   "cell_type": "markdown",
   "metadata": {},
   "source": [
    "Now, we create a DataFrame with the students who had an entry for the Specialization."
   ]
  },
  {
   "cell_type": "code",
   "execution_count": 18,
   "metadata": {
    "collapsed": false
   },
   "outputs": [
    {
     "data": {
      "text/html": [
       "<div>\n",
       "<table border=\"1\" class=\"dataframe\">\n",
       "  <thead>\n",
       "    <tr style=\"text-align: right;\">\n",
       "      <th></th>\n",
       "      <th>Master3</th>\n",
       "      <th>MasterProject</th>\n",
       "      <th>Specialization</th>\n",
       "      <th>YearStarted</th>\n",
       "      <th>gender</th>\n",
       "      <th>length</th>\n",
       "      <th>sciper</th>\n",
       "    </tr>\n",
       "  </thead>\n",
       "  <tbody>\n",
       "    <tr>\n",
       "      <th>13</th>\n",
       "      <td>1.0</td>\n",
       "      <td>NaN</td>\n",
       "      <td>Internet computing</td>\n",
       "      <td>2007-2008</td>\n",
       "      <td>0</td>\n",
       "      <td>4</td>\n",
       "      <td>180072</td>\n",
       "    </tr>\n",
       "    <tr>\n",
       "      <th>32</th>\n",
       "      <td>1.0</td>\n",
       "      <td>NaN</td>\n",
       "      <td>Foundations of Software</td>\n",
       "      <td>2007-2008</td>\n",
       "      <td>0</td>\n",
       "      <td>4</td>\n",
       "      <td>165819</td>\n",
       "    </tr>\n",
       "    <tr>\n",
       "      <th>42</th>\n",
       "      <td>1.0</td>\n",
       "      <td>NaN</td>\n",
       "      <td>Biocomputing</td>\n",
       "      <td>2007-2008</td>\n",
       "      <td>0</td>\n",
       "      <td>3</td>\n",
       "      <td>172611</td>\n",
       "    </tr>\n",
       "    <tr>\n",
       "      <th>50</th>\n",
       "      <td>1.0</td>\n",
       "      <td>NaN</td>\n",
       "      <td>Internet computing</td>\n",
       "      <td>2007-2008</td>\n",
       "      <td>0</td>\n",
       "      <td>4</td>\n",
       "      <td>179878</td>\n",
       "    </tr>\n",
       "    <tr>\n",
       "      <th>53</th>\n",
       "      <td>1.0</td>\n",
       "      <td>NaN</td>\n",
       "      <td>Internet computing</td>\n",
       "      <td>2007-2008</td>\n",
       "      <td>0</td>\n",
       "      <td>3</td>\n",
       "      <td>180160</td>\n",
       "    </tr>\n",
       "  </tbody>\n",
       "</table>\n",
       "</div>"
      ],
      "text/plain": [
       "    Master3  MasterProject           Specialization YearStarted  gender  \\\n",
       "13      1.0            NaN       Internet computing   2007-2008       0   \n",
       "32      1.0            NaN  Foundations of Software   2007-2008       0   \n",
       "42      1.0            NaN             Biocomputing   2007-2008       0   \n",
       "50      1.0            NaN       Internet computing   2007-2008       0   \n",
       "53      1.0            NaN       Internet computing   2007-2008       0   \n",
       "\n",
       "    length  sciper  \n",
       "13       4  180072  \n",
       "32       4  165819  \n",
       "42       3  172611  \n",
       "50       4  179878  \n",
       "53       3  180160  "
      ]
     },
     "execution_count": 18,
     "metadata": {},
     "output_type": "execute_result"
    }
   ],
   "source": [
    "data_spec = data[~data[\"Specialization\"].isnull()]\n",
    "data_spec.head()"
   ]
  },
  {
   "cell_type": "markdown",
   "metadata": {},
   "source": [
    "We just check all the unique names for the Specialization."
   ]
  },
  {
   "cell_type": "code",
   "execution_count": 19,
   "metadata": {
    "collapsed": false
   },
   "outputs": [
    {
     "data": {
      "text/plain": [
       "array(['Internet computing', 'Foundations of Software', 'Biocomputing',\n",
       "       'Signals, Images and Interfaces', 'Computer Engineering - SP',\n",
       "       'Service science', 'Software Systems'], dtype=object)"
      ]
     },
     "execution_count": 19,
     "metadata": {},
     "output_type": "execute_result"
    }
   ],
   "source": [
    "data_spec.Specialization.unique()"
   ]
  },
  {
   "cell_type": "markdown",
   "metadata": {},
   "source": [
    "We can groupy this new DataFrame by the Specialization."
   ]
  },
  {
   "cell_type": "code",
   "execution_count": 20,
   "metadata": {
    "collapsed": false
   },
   "outputs": [
    {
     "data": {
      "text/html": [
       "<div>\n",
       "<table border=\"1\" class=\"dataframe\">\n",
       "  <thead>\n",
       "    <tr style=\"text-align: right;\">\n",
       "      <th></th>\n",
       "      <th>Master3</th>\n",
       "      <th>MasterProject</th>\n",
       "      <th>YearStarted</th>\n",
       "      <th>gender</th>\n",
       "      <th>length</th>\n",
       "      <th>sciper</th>\n",
       "    </tr>\n",
       "    <tr>\n",
       "      <th>Specialization</th>\n",
       "      <th></th>\n",
       "      <th></th>\n",
       "      <th></th>\n",
       "      <th></th>\n",
       "      <th></th>\n",
       "      <th></th>\n",
       "    </tr>\n",
       "  </thead>\n",
       "  <tbody>\n",
       "    <tr>\n",
       "      <th>Biocomputing</th>\n",
       "      <td>1</td>\n",
       "      <td>0</td>\n",
       "      <td>1</td>\n",
       "      <td>1</td>\n",
       "      <td>1</td>\n",
       "      <td>1</td>\n",
       "    </tr>\n",
       "    <tr>\n",
       "      <th>Computer Engineering - SP</th>\n",
       "      <td>4</td>\n",
       "      <td>0</td>\n",
       "      <td>4</td>\n",
       "      <td>4</td>\n",
       "      <td>4</td>\n",
       "      <td>4</td>\n",
       "    </tr>\n",
       "    <tr>\n",
       "      <th>Foundations of Software</th>\n",
       "      <td>13</td>\n",
       "      <td>0</td>\n",
       "      <td>14</td>\n",
       "      <td>14</td>\n",
       "      <td>14</td>\n",
       "      <td>14</td>\n",
       "    </tr>\n",
       "    <tr>\n",
       "      <th>Internet computing</th>\n",
       "      <td>17</td>\n",
       "      <td>0</td>\n",
       "      <td>18</td>\n",
       "      <td>18</td>\n",
       "      <td>18</td>\n",
       "      <td>18</td>\n",
       "    </tr>\n",
       "    <tr>\n",
       "      <th>Service science</th>\n",
       "      <td>2</td>\n",
       "      <td>0</td>\n",
       "      <td>2</td>\n",
       "      <td>2</td>\n",
       "      <td>2</td>\n",
       "      <td>2</td>\n",
       "    </tr>\n",
       "    <tr>\n",
       "      <th>Signals, Images and Interfaces</th>\n",
       "      <td>12</td>\n",
       "      <td>1</td>\n",
       "      <td>12</td>\n",
       "      <td>12</td>\n",
       "      <td>12</td>\n",
       "      <td>12</td>\n",
       "    </tr>\n",
       "    <tr>\n",
       "      <th>Software Systems</th>\n",
       "      <td>3</td>\n",
       "      <td>0</td>\n",
       "      <td>3</td>\n",
       "      <td>3</td>\n",
       "      <td>3</td>\n",
       "      <td>3</td>\n",
       "    </tr>\n",
       "  </tbody>\n",
       "</table>\n",
       "</div>"
      ],
      "text/plain": [
       "                                Master3  MasterProject  YearStarted  gender  \\\n",
       "Specialization                                                                \n",
       "Biocomputing                          1              0            1       1   \n",
       "Computer Engineering - SP             4              0            4       4   \n",
       "Foundations of Software              13              0           14      14   \n",
       "Internet computing                   17              0           18      18   \n",
       "Service science                       2              0            2       2   \n",
       "Signals, Images and Interfaces       12              1           12      12   \n",
       "Software Systems                      3              0            3       3   \n",
       "\n",
       "                                length  sciper  \n",
       "Specialization                                  \n",
       "Biocomputing                         1       1  \n",
       "Computer Engineering - SP            4       4  \n",
       "Foundations of Software             14      14  \n",
       "Internet computing                  18      18  \n",
       "Service science                      2       2  \n",
       "Signals, Images and Interfaces      12      12  \n",
       "Software Systems                     3       3  "
      ]
     },
     "execution_count": 20,
     "metadata": {},
     "output_type": "execute_result"
    }
   ],
   "source": [
    "data_spec.groupby(['Specialization']).count()"
   ]
  },
  {
   "cell_type": "markdown",
   "metadata": {},
   "source": [
    "A very interesting fact is that most of the students do not have an entry for the Master Project. IsAcademia seems to have some very good data...\n",
    "\n",
    "Anyway, we calculate the mean for all the students with Specilization. We are more interested in the length."
   ]
  },
  {
   "cell_type": "code",
   "execution_count": 21,
   "metadata": {
    "collapsed": false
   },
   "outputs": [
    {
     "data": {
      "text/html": [
       "<div>\n",
       "<table border=\"1\" class=\"dataframe\">\n",
       "  <thead>\n",
       "    <tr style=\"text-align: right;\">\n",
       "      <th></th>\n",
       "      <th>Master3</th>\n",
       "      <th>MasterProject</th>\n",
       "      <th>gender</th>\n",
       "      <th>length</th>\n",
       "      <th>sciper</th>\n",
       "    </tr>\n",
       "    <tr>\n",
       "      <th>Specialization</th>\n",
       "      <th></th>\n",
       "      <th></th>\n",
       "      <th></th>\n",
       "      <th></th>\n",
       "      <th></th>\n",
       "    </tr>\n",
       "  </thead>\n",
       "  <tbody>\n",
       "    <tr>\n",
       "      <th>Biocomputing</th>\n",
       "      <td>1.0</td>\n",
       "      <td>NaN</td>\n",
       "      <td>0.000000</td>\n",
       "      <td>3.000000</td>\n",
       "      <td>172611.000000</td>\n",
       "    </tr>\n",
       "    <tr>\n",
       "      <th>Computer Engineering - SP</th>\n",
       "      <td>1.0</td>\n",
       "      <td>NaN</td>\n",
       "      <td>0.000000</td>\n",
       "      <td>3.500000</td>\n",
       "      <td>182714.500000</td>\n",
       "    </tr>\n",
       "    <tr>\n",
       "      <th>Foundations of Software</th>\n",
       "      <td>1.0</td>\n",
       "      <td>NaN</td>\n",
       "      <td>0.142857</td>\n",
       "      <td>3.785714</td>\n",
       "      <td>184436.214286</td>\n",
       "    </tr>\n",
       "    <tr>\n",
       "      <th>Internet computing</th>\n",
       "      <td>1.0</td>\n",
       "      <td>NaN</td>\n",
       "      <td>0.111111</td>\n",
       "      <td>3.666667</td>\n",
       "      <td>191093.944444</td>\n",
       "    </tr>\n",
       "    <tr>\n",
       "      <th>Service science</th>\n",
       "      <td>1.0</td>\n",
       "      <td>NaN</td>\n",
       "      <td>0.000000</td>\n",
       "      <td>3.000000</td>\n",
       "      <td>175079.500000</td>\n",
       "    </tr>\n",
       "    <tr>\n",
       "      <th>Signals, Images and Interfaces</th>\n",
       "      <td>1.0</td>\n",
       "      <td>1.0</td>\n",
       "      <td>0.083333</td>\n",
       "      <td>4.416667</td>\n",
       "      <td>181389.333333</td>\n",
       "    </tr>\n",
       "    <tr>\n",
       "      <th>Software Systems</th>\n",
       "      <td>1.0</td>\n",
       "      <td>NaN</td>\n",
       "      <td>0.000000</td>\n",
       "      <td>3.666667</td>\n",
       "      <td>201335.666667</td>\n",
       "    </tr>\n",
       "  </tbody>\n",
       "</table>\n",
       "</div>"
      ],
      "text/plain": [
       "                                Master3  MasterProject    gender    length  \\\n",
       "Specialization                                                               \n",
       "Biocomputing                        1.0            NaN  0.000000  3.000000   \n",
       "Computer Engineering - SP           1.0            NaN  0.000000  3.500000   \n",
       "Foundations of Software             1.0            NaN  0.142857  3.785714   \n",
       "Internet computing                  1.0            NaN  0.111111  3.666667   \n",
       "Service science                     1.0            NaN  0.000000  3.000000   \n",
       "Signals, Images and Interfaces      1.0            1.0  0.083333  4.416667   \n",
       "Software Systems                    1.0            NaN  0.000000  3.666667   \n",
       "\n",
       "                                       sciper  \n",
       "Specialization                                 \n",
       "Biocomputing                    172611.000000  \n",
       "Computer Engineering - SP       182714.500000  \n",
       "Foundations of Software         184436.214286  \n",
       "Internet computing              191093.944444  \n",
       "Service science                 175079.500000  \n",
       "Signals, Images and Interfaces  181389.333333  \n",
       "Software Systems                201335.666667  "
      ]
     },
     "execution_count": 21,
     "metadata": {},
     "output_type": "execute_result"
    }
   ],
   "source": [
    "data_spec.groupby(['Specialization']).mean()"
   ]
  },
  {
   "cell_type": "markdown",
   "metadata": {},
   "source": [
    "Now, we can do the statistics. We recall that the average length for all the students is 3.354962. We are using a **One-Sample t-test** because we want to see if the population of students with each of the Specialization can be put in the population of all the students."
   ]
  },
  {
   "cell_type": "code",
   "execution_count": 22,
   "metadata": {
    "collapsed": false
   },
   "outputs": [
    {
     "name": "stdout",
     "output_type": "stream",
     "text": [
      "Internet computing\n",
      "Ttest_1sampResult(statistic=1.926387053057951, pvalue=0.070944187487054458)\n",
      "\n",
      "Foundations of Software\n",
      "Ttest_1sampResult(statistic=1.9209054666675036, pvalue=0.076946650849120946)\n",
      "\n",
      "Biocomputing\n",
      "Ttest_1sampResult(statistic=nan, pvalue=nan)\n",
      "\n",
      "Signals, Images and Interfaces\n",
      "Ttest_1sampResult(statistic=3.6170889589334019, pvalue=0.004047025128941866)\n",
      "\n",
      "Computer Engineering - SP\n",
      "Ttest_1sampResult(statistic=0.74414034695551756, pvalue=0.51077671335895469)\n",
      "\n",
      "Service science\n",
      "Ttest_1sampResult(statistic=-inf, pvalue=0.0)\n",
      "\n",
      "Software Systems\n",
      "Ttest_1sampResult(statistic=1.1444444444444437, pvalue=0.37093297962364813)\n",
      "\n"
     ]
    },
    {
     "name": "stderr",
     "output_type": "stream",
     "text": [
      "/Users/joachimmuth/anaconda3/lib/python3.5/site-packages/numpy/core/_methods.py:82: RuntimeWarning: Degrees of freedom <= 0 for slice\n",
      "  warnings.warn(\"Degrees of freedom <= 0 for slice\", RuntimeWarning)\n"
     ]
    }
   ],
   "source": [
    "for spec in data_spec.Specialization.unique():\n",
    "    print(spec)\n",
    "    students = data_spec.loc[data_spec.Specialization == spec]\n",
    "    print(stats.ttest_1samp(popmean=data.length.mean(), a=students.length))\n",
    "    print()"
   ]
  },
  {
   "cell_type": "markdown",
   "metadata": {},
   "source": [
    "We have some interesting results. We can see that for the Specializations 'Signals, Images and Interfaces', 'Internet computing' and 'Foundations of Software' that the p-value is under 0.05 (5%). Therefore, we can say that for these Specialization, they will surely take more time than most of the students to finish their Master. \n",
    "\n",
    "But this conclusion is to take carefully. Indeed, the data from IS-Academia are note really good. We are missing a lot of entries."
   ]
  },
  {
   "cell_type": "markdown",
   "metadata": {},
   "source": [
    "# Bonus\n",
    "\n",
    "For the bonus, we want to create the men and women DataFrame and check if they are correlated or not."
   ]
  },
  {
   "cell_type": "code",
   "execution_count": 23,
   "metadata": {
    "collapsed": false
   },
   "outputs": [
    {
     "data": {
      "text/plain": [
       "count    462.000000\n",
       "mean       3.292208\n",
       "std        1.075816\n",
       "min        1.000000\n",
       "25%        3.000000\n",
       "50%        3.000000\n",
       "75%        4.000000\n",
       "max        8.000000\n",
       "Name: length, dtype: float64"
      ]
     },
     "execution_count": 23,
     "metadata": {},
     "output_type": "execute_result"
    }
   ],
   "source": [
    "men = data.loc[data.gender == 0]\n",
    "men.length.describe()"
   ]
  },
  {
   "cell_type": "code",
   "execution_count": 24,
   "metadata": {
    "collapsed": false
   },
   "outputs": [
    {
     "data": {
      "text/plain": [
       "count    78.00000\n",
       "mean      3.24359\n",
       "std       1.13029\n",
       "min       1.00000\n",
       "25%       3.00000\n",
       "50%       3.00000\n",
       "75%       4.00000\n",
       "max       7.00000\n",
       "Name: length, dtype: float64"
      ]
     },
     "execution_count": 24,
     "metadata": {},
     "output_type": "execute_result"
    }
   ],
   "source": [
    "women = data.loc[data.gender == 1]\n",
    "women.length.describe()"
   ]
  },
  {
   "cell_type": "markdown",
   "metadata": {},
   "source": [
    "If we check the mean and the std, we can see that they are really close. So, if we two a **Two-Sample T-Test**, we should get a very high p-value."
   ]
  },
  {
   "cell_type": "code",
   "execution_count": 25,
   "metadata": {
    "collapsed": false
   },
   "outputs": [
    {
     "data": {
      "text/plain": [
       "Ttest_indResult(statistic=-0.36646097609480088, pvalue=0.71416519801125344)"
      ]
     },
     "execution_count": 25,
     "metadata": {},
     "output_type": "execute_result"
    }
   ],
   "source": [
    "stats.ttest_ind(a=women.length, b=men.length, equal_var=True)\n",
    "# Not significant at all"
   ]
  },
  {
   "cell_type": "markdown",
   "metadata": {},
   "source": [
    "We, indeed, get a very high value for the p-value. Therefore, a visualization of the data could be more interesting.\n",
    "\n",
    "First, we will replace the *YearStarted* value by an integer."
   ]
  },
  {
   "cell_type": "code",
   "execution_count": 26,
   "metadata": {
    "collapsed": false
   },
   "outputs": [
    {
     "name": "stdout",
     "output_type": "stream",
     "text": [
      "['2007-2008' '2008-2009' '2009-2010' '2010-2011' '2011-2012' '2012-2013'\n",
      " '2013-2014']\n"
     ]
    },
    {
     "data": {
      "text/html": [
       "<div>\n",
       "<table border=\"1\" class=\"dataframe\">\n",
       "  <thead>\n",
       "    <tr style=\"text-align: right;\">\n",
       "      <th></th>\n",
       "      <th>Master3</th>\n",
       "      <th>MasterProject</th>\n",
       "      <th>Specialization</th>\n",
       "      <th>YearStarted</th>\n",
       "      <th>gender</th>\n",
       "      <th>length</th>\n",
       "      <th>sciper</th>\n",
       "    </tr>\n",
       "  </thead>\n",
       "  <tbody>\n",
       "    <tr>\n",
       "      <th>0</th>\n",
       "      <td>1.0</td>\n",
       "      <td>NaN</td>\n",
       "      <td>NaN</td>\n",
       "      <td>4</td>\n",
       "      <td>0</td>\n",
       "      <td>6</td>\n",
       "      <td>153066</td>\n",
       "    </tr>\n",
       "    <tr>\n",
       "      <th>1</th>\n",
       "      <td>NaN</td>\n",
       "      <td>1.0</td>\n",
       "      <td>NaN</td>\n",
       "      <td>4</td>\n",
       "      <td>1</td>\n",
       "      <td>3</td>\n",
       "      <td>180027</td>\n",
       "    </tr>\n",
       "    <tr>\n",
       "      <th>2</th>\n",
       "      <td>1.0</td>\n",
       "      <td>NaN</td>\n",
       "      <td>NaN</td>\n",
       "      <td>4</td>\n",
       "      <td>0</td>\n",
       "      <td>3</td>\n",
       "      <td>152232</td>\n",
       "    </tr>\n",
       "    <tr>\n",
       "      <th>3</th>\n",
       "      <td>1.0</td>\n",
       "      <td>NaN</td>\n",
       "      <td>NaN</td>\n",
       "      <td>4</td>\n",
       "      <td>0</td>\n",
       "      <td>3</td>\n",
       "      <td>177395</td>\n",
       "    </tr>\n",
       "    <tr>\n",
       "      <th>4</th>\n",
       "      <td>1.0</td>\n",
       "      <td>NaN</td>\n",
       "      <td>NaN</td>\n",
       "      <td>4</td>\n",
       "      <td>0</td>\n",
       "      <td>3</td>\n",
       "      <td>161970</td>\n",
       "    </tr>\n",
       "  </tbody>\n",
       "</table>\n",
       "</div>"
      ],
      "text/plain": [
       "   Master3  MasterProject Specialization  YearStarted  gender  length  sciper\n",
       "0      1.0            NaN            NaN            4       0       6  153066\n",
       "1      NaN            1.0            NaN            4       1       3  180027\n",
       "2      1.0            NaN            NaN            4       0       3  152232\n",
       "3      1.0            NaN            NaN            4       0       3  177395\n",
       "4      1.0            NaN            NaN            4       0       3  161970"
      ]
     },
     "execution_count": 26,
     "metadata": {},
     "output_type": "execute_result"
    }
   ],
   "source": [
    "# Prepare the data to plot in function of the years\n",
    "years = data.YearStarted.unique()\n",
    "print(years)\n",
    "\n",
    "# val corresponds to the order of the years\n",
    "val = [4,3,5,2,6,1,0]\n",
    "data = data.replace(to_replace=data.YearStarted.unique(), value=val)\n",
    "data.head()\n",
    "    \n",
    "    "
   ]
  },
  {
   "cell_type": "markdown",
   "metadata": {},
   "source": [
    "We can drop the non-useful columns."
   ]
  },
  {
   "cell_type": "code",
   "execution_count": 27,
   "metadata": {
    "collapsed": false
   },
   "outputs": [
    {
     "data": {
      "text/html": [
       "<div>\n",
       "<table border=\"1\" class=\"dataframe\">\n",
       "  <thead>\n",
       "    <tr style=\"text-align: right;\">\n",
       "      <th></th>\n",
       "      <th>YearStarted</th>\n",
       "      <th>gender</th>\n",
       "      <th>length</th>\n",
       "    </tr>\n",
       "  </thead>\n",
       "  <tbody>\n",
       "    <tr>\n",
       "      <th>0</th>\n",
       "      <td>4</td>\n",
       "      <td>0</td>\n",
       "      <td>6</td>\n",
       "    </tr>\n",
       "    <tr>\n",
       "      <th>1</th>\n",
       "      <td>4</td>\n",
       "      <td>1</td>\n",
       "      <td>3</td>\n",
       "    </tr>\n",
       "    <tr>\n",
       "      <th>2</th>\n",
       "      <td>4</td>\n",
       "      <td>0</td>\n",
       "      <td>3</td>\n",
       "    </tr>\n",
       "    <tr>\n",
       "      <th>3</th>\n",
       "      <td>4</td>\n",
       "      <td>0</td>\n",
       "      <td>3</td>\n",
       "    </tr>\n",
       "    <tr>\n",
       "      <th>4</th>\n",
       "      <td>4</td>\n",
       "      <td>0</td>\n",
       "      <td>3</td>\n",
       "    </tr>\n",
       "  </tbody>\n",
       "</table>\n",
       "</div>"
      ],
      "text/plain": [
       "   YearStarted  gender  length\n",
       "0            4       0       6\n",
       "1            4       1       3\n",
       "2            4       0       3\n",
       "3            4       0       3\n",
       "4            4       0       3"
      ]
     },
     "execution_count": 27,
     "metadata": {},
     "output_type": "execute_result"
    }
   ],
   "source": [
    "data = data.drop(['Master3', 'MasterProject', 'Specialization', 'sciper'], axis=1)\n",
    "data.head()"
   ]
  },
  {
   "cell_type": "markdown",
   "metadata": {},
   "source": [
    "We create the men and women DataFrame."
   ]
  },
  {
   "cell_type": "code",
   "execution_count": 28,
   "metadata": {
    "collapsed": false
   },
   "outputs": [
    {
     "data": {
      "text/html": [
       "<div>\n",
       "<table border=\"1\" class=\"dataframe\">\n",
       "  <thead>\n",
       "    <tr style=\"text-align: right;\">\n",
       "      <th></th>\n",
       "      <th>YearStarted</th>\n",
       "      <th>gender</th>\n",
       "      <th>length</th>\n",
       "    </tr>\n",
       "  </thead>\n",
       "  <tbody>\n",
       "    <tr>\n",
       "      <th>1</th>\n",
       "      <td>4</td>\n",
       "      <td>1</td>\n",
       "      <td>3</td>\n",
       "    </tr>\n",
       "    <tr>\n",
       "      <th>8</th>\n",
       "      <td>4</td>\n",
       "      <td>1</td>\n",
       "      <td>6</td>\n",
       "    </tr>\n",
       "    <tr>\n",
       "      <th>12</th>\n",
       "      <td>4</td>\n",
       "      <td>1</td>\n",
       "      <td>2</td>\n",
       "    </tr>\n",
       "    <tr>\n",
       "      <th>15</th>\n",
       "      <td>4</td>\n",
       "      <td>1</td>\n",
       "      <td>3</td>\n",
       "    </tr>\n",
       "    <tr>\n",
       "      <th>41</th>\n",
       "      <td>4</td>\n",
       "      <td>1</td>\n",
       "      <td>2</td>\n",
       "    </tr>\n",
       "  </tbody>\n",
       "</table>\n",
       "</div>"
      ],
      "text/plain": [
       "    YearStarted  gender  length\n",
       "1             4       1       3\n",
       "8             4       1       6\n",
       "12            4       1       2\n",
       "15            4       1       3\n",
       "41            4       1       2"
      ]
     },
     "execution_count": 28,
     "metadata": {},
     "output_type": "execute_result"
    }
   ],
   "source": [
    "men = data.loc[data.gender == 0]\n",
    "\n",
    "women = data.loc[data.gender == 1]\n",
    "women.head()"
   ]
  },
  {
   "cell_type": "markdown",
   "metadata": {},
   "source": [
    "We can drop the *gender* column."
   ]
  },
  {
   "cell_type": "code",
   "execution_count": 29,
   "metadata": {
    "collapsed": false
   },
   "outputs": [
    {
     "data": {
      "text/html": [
       "<div>\n",
       "<table border=\"1\" class=\"dataframe\">\n",
       "  <thead>\n",
       "    <tr style=\"text-align: right;\">\n",
       "      <th></th>\n",
       "      <th>YearStarted</th>\n",
       "      <th>length</th>\n",
       "    </tr>\n",
       "  </thead>\n",
       "  <tbody>\n",
       "    <tr>\n",
       "      <th>1</th>\n",
       "      <td>4</td>\n",
       "      <td>3</td>\n",
       "    </tr>\n",
       "    <tr>\n",
       "      <th>8</th>\n",
       "      <td>4</td>\n",
       "      <td>6</td>\n",
       "    </tr>\n",
       "    <tr>\n",
       "      <th>12</th>\n",
       "      <td>4</td>\n",
       "      <td>2</td>\n",
       "    </tr>\n",
       "    <tr>\n",
       "      <th>15</th>\n",
       "      <td>4</td>\n",
       "      <td>3</td>\n",
       "    </tr>\n",
       "    <tr>\n",
       "      <th>41</th>\n",
       "      <td>4</td>\n",
       "      <td>2</td>\n",
       "    </tr>\n",
       "  </tbody>\n",
       "</table>\n",
       "</div>"
      ],
      "text/plain": [
       "    YearStarted  length\n",
       "1             4       3\n",
       "8             4       6\n",
       "12            4       2\n",
       "15            4       3\n",
       "41            4       2"
      ]
     },
     "execution_count": 29,
     "metadata": {},
     "output_type": "execute_result"
    }
   ],
   "source": [
    "men = men.drop(['gender'], axis=1)\n",
    "women = women.drop(['gender'], axis=1)\n",
    "women.head()"
   ]
  },
  {
   "cell_type": "markdown",
   "metadata": {},
   "source": [
    "Now, we create two arrays such that they get the count of the people who did their master in `j` semesters and started in the `i` years. This will be used for the scatter plot. "
   ]
  },
  {
   "cell_type": "code",
   "execution_count": 30,
   "metadata": {
    "collapsed": false
   },
   "outputs": [],
   "source": [
    "sizes_men = []\n",
    "sizes_women = []\n",
    "for i in range(len(years)):\n",
    "    for j in range(8):\n",
    "        val_m = 0\n",
    "        val_w = 0        \n",
    "        val_m = men.loc[men.YearStarted == i].loc[men.length==j].count()[0]\n",
    "        if val_m > 0:\n",
    "            sizes_men.append(val_m)\n",
    "        val_w = women.loc[women.YearStarted == i].loc[women.length==j].count()[0]\n",
    "        if val_w > 0:\n",
    "            sizes_women.append(val_w)"
   ]
  },
  {
   "cell_type": "markdown",
   "metadata": {},
   "source": [
    "Now, we can do the scatter plot."
   ]
  },
  {
   "cell_type": "code",
   "execution_count": 31,
   "metadata": {
    "collapsed": false
   },
   "outputs": [
    {
     "data": {
      "image/png": "[encoded data removed]",
      "text/plain": [
       "<matplotlib.figure.Figure at 0x11ab31390>"
      ]
     },
     "metadata": {},
     "output_type": "display_data"
    }
   ],
   "source": [
    "plt.figure()\n",
    "plt.scatter(men.YearStarted, men.length, s=sizes_men, color='b', label='men')\n",
    "plt.scatter(women.YearStarted+0.2, women.length, s=sizes_women, color='r', label='women')\n",
    "plt.xlabel('Years when the Master started')\n",
    "plt.ylabel('# semesters needed to complete Master')\n",
    "plt.xticks(val, years, rotation='vertical')\n",
    "plt.legend()\n",
    "plt.title('Men and Women (unormalized)')\n",
    "plt.show() "
   ]
  },
  {
   "cell_type": "markdown",
   "metadata": {},
   "source": [
    "Since there is a lot more male students than female, we normalize the data by the number of male/female students."
   ]
  },
  {
   "cell_type": "code",
   "execution_count": 32,
   "metadata": {
    "collapsed": false
   },
   "outputs": [
    {
     "data": {
      "image/png": "[encoded data removed]",
      "text/plain": [
       "<matplotlib.figure.Figure at 0x11a999ba8>"
      ]
     },
     "metadata": {},
     "output_type": "display_data"
    }
   ],
   "source": [
    "size = 400 # Just to get a good size on the plot\n",
    "sizes_men_normalized = size*np.array(sizes_men/men.count()['length'])\n",
    "sizes_women_normalized = size*np.array(sizes_women/women.count()['length'])\n",
    "\n",
    "plt.figure()\n",
    "plt.scatter(men.YearStarted, men.length, s=sizes_men_normalized, color='b', label='men')\n",
    "plt.scatter(women.YearStarted+0.2, women.length, s=sizes_women_normalized, color='r', label='women')\n",
    "plt.xlabel('Years when the Master started')\n",
    "plt.ylabel('# semesters needed to complete Master')\n",
    "plt.xticks(val, years, rotation='vertical')\n",
    "plt.legend()\n",
    "plt.title('Men and Women (normalized)')\n",
    "plt.show() "
   ]
  },
  {
   "cell_type": "markdown",
   "metadata": {
    "collapsed": true
   },
   "source": [
    "This graph is quite beautiful. But at the end, not that useful. Therefore, we can just say that Men and Women usually finish their Master in the same amount of time."
   ]
  }
 ],
 "metadata": {
  "anaconda-cloud": {},
  "kernelspec": {
   "display_name": "Python [Root]",
   "language": "python",
   "name": "Python [Root]"
  },
  "language_info": {
   "codemirror_mode": {
    "name": "ipython",
    "version": 3
   },
   "file_extension": ".py",
   "mimetype": "text/x-python",
   "name": "python",
   "nbconvert_exporter": "python",
   "pygments_lexer": "ipython3",
   "version": "3.5.2"
  }
 },
 "nbformat": 4,
 "nbformat_minor": 0
}
