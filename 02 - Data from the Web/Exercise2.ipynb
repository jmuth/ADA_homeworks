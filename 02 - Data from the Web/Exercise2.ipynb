{
 "cells": [
  {
   "cell_type": "code",
   "execution_count": 1,
   "metadata": {
    "collapsed": true
   },
   "outputs": [],
   "source": [
    "import pandas as pd\n",
    "import scipy.stats as stats\n",
    "import os\n",
    "import matplotlib.pyplot as plt\n",
    "import numpy as np\n",
    "%matplotlib inline"
   ]
  },
  {
   "cell_type": "markdown",
   "metadata": {},
   "source": [
    "# Exercise 2 : Master\n",
    "\n",
    "There is (as everybody knows ^^) a BIG problem of missing data in ISA, we chose to show to main way to obtain the wished result:\n",
    "* Try to keep as much data as possible, by filtering and trying to fill the missing datas (bonus is done on this method)\n",
    "* A more aggressiv one, consisting of only taking into account the student's career correctly registered into ISA (shown at the end)"
   ]
  },
  {
   "cell_type": "markdown",
   "metadata": {},
   "source": [
    "# Preparation of the data\n",
    "\n",
    "First, we need to prepare the data. The very first step is to concatenate the information in all the files we scraped from IsAcademia. (Reminder: We have one file per year.) The function `concatFiles` opens all the files and then return a DataFrame."
   ]
  },
  {
   "cell_type": "code",
   "execution_count": 2,
   "metadata": {
    "collapsed": true
   },
   "outputs": [],
   "source": [
    "# requires os\n",
    "def concatFiles(direc, fileType):\n",
    "    files = os.listdir(direc)\n",
    "    if '.DS_Store' in files:\n",
    "        files.remove('.DS_Store')\n",
    "    if fileType == 'csv':\n",
    "        r = pd.read_csv\n",
    "    for idx, file in enumerate(files):\n",
    "        file = direc+file\n",
    "        if idx == 0:\n",
    "            df = r(file, header=0)\n",
    "        else:\n",
    "            new = r(file, header=0)\n",
    "            df = pd.concat([df, new], axis=0)\n",
    "    return df"
   ]
  },
  {
   "cell_type": "code",
   "execution_count": 3,
   "metadata": {
    "collapsed": false
   },
   "outputs": [
    {
     "data": {
      "text/html": [
       "<div>\n",
       "<table border=\"1\" class=\"dataframe\">\n",
       "  <thead>\n",
       "    <tr style=\"text-align: right;\">\n",
       "      <th></th>\n",
       "      <th>Civilité</th>\n",
       "      <th>Nom Prénom</th>\n",
       "      <th>Orientation Bachelor</th>\n",
       "      <th>Orientation Master</th>\n",
       "      <th>Spécialisation</th>\n",
       "      <th>Filière opt.</th>\n",
       "      <th>Mineur</th>\n",
       "      <th>Statut</th>\n",
       "      <th>Type Echange</th>\n",
       "      <th>Ecole Echange</th>\n",
       "      <th>No Sciper</th>\n",
       "      <th>Subject</th>\n",
       "      <th>Period</th>\n",
       "      <th>Semester</th>\n",
       "    </tr>\n",
       "  </thead>\n",
       "  <tbody>\n",
       "    <tr>\n",
       "      <th>0</th>\n",
       "      <td>Monsieur</td>\n",
       "      <td>Caesar Holger</td>\n",
       "      <td>NaN</td>\n",
       "      <td>NaN</td>\n",
       "      <td>NaN</td>\n",
       "      <td>NaN</td>\n",
       "      <td>NaN</td>\n",
       "      <td>Présent</td>\n",
       "      <td>Erasmus</td>\n",
       "      <td>Karlsruher Institut für Technologie</td>\n",
       "      <td>215268</td>\n",
       "      <td>Informatique</td>\n",
       "      <td>2011-2012</td>\n",
       "      <td>Semestre automne</td>\n",
       "    </tr>\n",
       "    <tr>\n",
       "      <th>1</th>\n",
       "      <td>Monsieur</td>\n",
       "      <td>Cerezo Luna Alfredo</td>\n",
       "      <td>NaN</td>\n",
       "      <td>NaN</td>\n",
       "      <td>NaN</td>\n",
       "      <td>NaN</td>\n",
       "      <td>NaN</td>\n",
       "      <td>Présent</td>\n",
       "      <td>Erasmus</td>\n",
       "      <td>Universidad Complutense de Madrid</td>\n",
       "      <td>214433</td>\n",
       "      <td>Informatique</td>\n",
       "      <td>2011-2012</td>\n",
       "      <td>Semestre automne</td>\n",
       "    </tr>\n",
       "    <tr>\n",
       "      <th>2</th>\n",
       "      <td>Monsieur</td>\n",
       "      <td>Gracia Diego</td>\n",
       "      <td>NaN</td>\n",
       "      <td>NaN</td>\n",
       "      <td>NaN</td>\n",
       "      <td>NaN</td>\n",
       "      <td>NaN</td>\n",
       "      <td>Présent</td>\n",
       "      <td>Erasmus</td>\n",
       "      <td>Universidad de Zaragoza</td>\n",
       "      <td>214469</td>\n",
       "      <td>Informatique</td>\n",
       "      <td>2011-2012</td>\n",
       "      <td>Semestre automne</td>\n",
       "    </tr>\n",
       "    <tr>\n",
       "      <th>3</th>\n",
       "      <td>Monsieur</td>\n",
       "      <td>Herraez Concejo Borja Javier</td>\n",
       "      <td>NaN</td>\n",
       "      <td>NaN</td>\n",
       "      <td>NaN</td>\n",
       "      <td>NaN</td>\n",
       "      <td>NaN</td>\n",
       "      <td>Présent</td>\n",
       "      <td>Erasmus</td>\n",
       "      <td>Universidad Politecnica de Valencia</td>\n",
       "      <td>214428</td>\n",
       "      <td>Informatique</td>\n",
       "      <td>2011-2012</td>\n",
       "      <td>Semestre automne</td>\n",
       "    </tr>\n",
       "    <tr>\n",
       "      <th>4</th>\n",
       "      <td>Monsieur</td>\n",
       "      <td>Järnberg Mathias</td>\n",
       "      <td>NaN</td>\n",
       "      <td>NaN</td>\n",
       "      <td>NaN</td>\n",
       "      <td>NaN</td>\n",
       "      <td>NaN</td>\n",
       "      <td>Présent</td>\n",
       "      <td>Erasmus</td>\n",
       "      <td>Royal Institute of Technology, (KTH) Stockholm</td>\n",
       "      <td>214299</td>\n",
       "      <td>Informatique</td>\n",
       "      <td>2011-2012</td>\n",
       "      <td>Semestre automne</td>\n",
       "    </tr>\n",
       "  </tbody>\n",
       "</table>\n",
       "</div>"
      ],
      "text/plain": [
       "   Civilité                    Nom Prénom  Orientation Bachelor  \\\n",
       "0  Monsieur                 Caesar Holger                   NaN   \n",
       "1  Monsieur           Cerezo Luna Alfredo                   NaN   \n",
       "2  Monsieur                  Gracia Diego                   NaN   \n",
       "3  Monsieur  Herraez Concejo Borja Javier                   NaN   \n",
       "4  Monsieur              Järnberg Mathias                   NaN   \n",
       "\n",
       "   Orientation Master Spécialisation Filière opt. Mineur   Statut  \\\n",
       "0                 NaN            NaN          NaN    NaN  Présent   \n",
       "1                 NaN            NaN          NaN    NaN  Présent   \n",
       "2                 NaN            NaN          NaN    NaN  Présent   \n",
       "3                 NaN            NaN          NaN    NaN  Présent   \n",
       "4                 NaN            NaN          NaN    NaN  Présent   \n",
       "\n",
       "  Type Echange                                   Ecole Echange  No Sciper  \\\n",
       "0      Erasmus             Karlsruher Institut für Technologie     215268   \n",
       "1      Erasmus               Universidad Complutense de Madrid     214433   \n",
       "2      Erasmus                         Universidad de Zaragoza     214469   \n",
       "3      Erasmus             Universidad Politecnica de Valencia     214428   \n",
       "4      Erasmus  Royal Institute of Technology, (KTH) Stockholm     214299   \n",
       "\n",
       "        Subject     Period          Semester  \n",
       "0  Informatique  2011-2012  Semestre automne  \n",
       "1  Informatique  2011-2012  Semestre automne  \n",
       "2  Informatique  2011-2012  Semestre automne  \n",
       "3  Informatique  2011-2012  Semestre automne  \n",
       "4  Informatique  2011-2012  Semestre automne  "
      ]
     },
     "execution_count": 3,
     "metadata": {},
     "output_type": "execute_result"
    }
   ],
   "source": [
    "info = concatFiles('data/', 'csv')\n",
    "# Print the head of the big DataFrame\n",
    "info.head()"
   ]
  },
  {
   "cell_type": "markdown",
   "metadata": {},
   "source": [
    "In this exercise, we are looking for Master students. Therefore, we can create a function that will locate if the *Semester* field contains the word *Master*."
   ]
  },
  {
   "cell_type": "code",
   "execution_count": 4,
   "metadata": {
    "collapsed": true
   },
   "outputs": [],
   "source": [
    "def locator_ma(s):\n",
    "    return s.find('Master') != -1"
   ]
  },
  {
   "cell_type": "code",
   "execution_count": 5,
   "metadata": {
    "collapsed": false
   },
   "outputs": [
    {
     "data": {
      "text/html": [
       "<div>\n",
       "<table border=\"1\" class=\"dataframe\">\n",
       "  <thead>\n",
       "    <tr style=\"text-align: right;\">\n",
       "      <th></th>\n",
       "      <th>Civilité</th>\n",
       "      <th>Nom Prénom</th>\n",
       "      <th>Orientation Bachelor</th>\n",
       "      <th>Orientation Master</th>\n",
       "      <th>Spécialisation</th>\n",
       "      <th>Filière opt.</th>\n",
       "      <th>Mineur</th>\n",
       "      <th>Statut</th>\n",
       "      <th>Type Echange</th>\n",
       "      <th>Ecole Echange</th>\n",
       "      <th>No Sciper</th>\n",
       "      <th>Subject</th>\n",
       "      <th>Period</th>\n",
       "      <th>Semester</th>\n",
       "    </tr>\n",
       "  </thead>\n",
       "  <tbody>\n",
       "    <tr>\n",
       "      <th>574</th>\n",
       "      <td>Monsieur</td>\n",
       "      <td>Arnfred Jonas</td>\n",
       "      <td>NaN</td>\n",
       "      <td>NaN</td>\n",
       "      <td>NaN</td>\n",
       "      <td>NaN</td>\n",
       "      <td>NaN</td>\n",
       "      <td>Présent</td>\n",
       "      <td>NaN</td>\n",
       "      <td>NaN</td>\n",
       "      <td>184772</td>\n",
       "      <td>Informatique</td>\n",
       "      <td>2011-2012</td>\n",
       "      <td>Master semestre 1</td>\n",
       "    </tr>\n",
       "    <tr>\n",
       "      <th>575</th>\n",
       "      <td>Monsieur</td>\n",
       "      <td>Asgari Ehsaneddin</td>\n",
       "      <td>NaN</td>\n",
       "      <td>NaN</td>\n",
       "      <td>NaN</td>\n",
       "      <td>NaN</td>\n",
       "      <td>NaN</td>\n",
       "      <td>Présent</td>\n",
       "      <td>NaN</td>\n",
       "      <td>NaN</td>\n",
       "      <td>211754</td>\n",
       "      <td>Informatique</td>\n",
       "      <td>2011-2012</td>\n",
       "      <td>Master semestre 1</td>\n",
       "    </tr>\n",
       "    <tr>\n",
       "      <th>576</th>\n",
       "      <td>Monsieur</td>\n",
       "      <td>Baeriswyl Jonathan</td>\n",
       "      <td>NaN</td>\n",
       "      <td>NaN</td>\n",
       "      <td>NaN</td>\n",
       "      <td>NaN</td>\n",
       "      <td>NaN</td>\n",
       "      <td>Présent</td>\n",
       "      <td>NaN</td>\n",
       "      <td>NaN</td>\n",
       "      <td>179406</td>\n",
       "      <td>Informatique</td>\n",
       "      <td>2011-2012</td>\n",
       "      <td>Master semestre 1</td>\n",
       "    </tr>\n",
       "    <tr>\n",
       "      <th>577</th>\n",
       "      <td>Madame</td>\n",
       "      <td>Bai Yi</td>\n",
       "      <td>NaN</td>\n",
       "      <td>NaN</td>\n",
       "      <td>NaN</td>\n",
       "      <td>NaN</td>\n",
       "      <td>NaN</td>\n",
       "      <td>Présent</td>\n",
       "      <td>NaN</td>\n",
       "      <td>NaN</td>\n",
       "      <td>209850</td>\n",
       "      <td>Informatique</td>\n",
       "      <td>2011-2012</td>\n",
       "      <td>Master semestre 1</td>\n",
       "    </tr>\n",
       "    <tr>\n",
       "      <th>578</th>\n",
       "      <td>Monsieur</td>\n",
       "      <td>Barroco Michael</td>\n",
       "      <td>NaN</td>\n",
       "      <td>NaN</td>\n",
       "      <td>NaN</td>\n",
       "      <td>NaN</td>\n",
       "      <td>NaN</td>\n",
       "      <td>Présent</td>\n",
       "      <td>NaN</td>\n",
       "      <td>NaN</td>\n",
       "      <td>179428</td>\n",
       "      <td>Informatique</td>\n",
       "      <td>2011-2012</td>\n",
       "      <td>Master semestre 1</td>\n",
       "    </tr>\n",
       "  </tbody>\n",
       "</table>\n",
       "</div>"
      ],
      "text/plain": [
       "     Civilité          Nom Prénom  Orientation Bachelor  Orientation Master  \\\n",
       "574  Monsieur       Arnfred Jonas                   NaN                 NaN   \n",
       "575  Monsieur   Asgari Ehsaneddin                   NaN                 NaN   \n",
       "576  Monsieur  Baeriswyl Jonathan                   NaN                 NaN   \n",
       "577    Madame              Bai Yi                   NaN                 NaN   \n",
       "578  Monsieur     Barroco Michael                   NaN                 NaN   \n",
       "\n",
       "    Spécialisation Filière opt. Mineur   Statut Type Echange Ecole Echange  \\\n",
       "574            NaN          NaN    NaN  Présent          NaN           NaN   \n",
       "575            NaN          NaN    NaN  Présent          NaN           NaN   \n",
       "576            NaN          NaN    NaN  Présent          NaN           NaN   \n",
       "577            NaN          NaN    NaN  Présent          NaN           NaN   \n",
       "578            NaN          NaN    NaN  Présent          NaN           NaN   \n",
       "\n",
       "     No Sciper       Subject     Period           Semester  \n",
       "574     184772  Informatique  2011-2012  Master semestre 1  \n",
       "575     211754  Informatique  2011-2012  Master semestre 1  \n",
       "576     179406  Informatique  2011-2012  Master semestre 1  \n",
       "577     209850  Informatique  2011-2012  Master semestre 1  \n",
       "578     179428  Informatique  2011-2012  Master semestre 1  "
      ]
     },
     "execution_count": 5,
     "metadata": {},
     "output_type": "execute_result"
    }
   ],
   "source": [
    "ma = info.loc[info['Semester'].apply(locator_ma)]\n",
    "ma.head()\n"
   ]
  },
  {
   "cell_type": "markdown",
   "metadata": {},
   "source": [
    "Next step is to locate the *sciper* number. Indeed, it's easier to deal with a number than with a complicated name."
   ]
  },
  {
   "cell_type": "code",
   "execution_count": 6,
   "metadata": {
    "collapsed": true
   },
   "outputs": [],
   "source": [
    "def locSciper(df, sciper):\n",
    "    return df.loc[df['No Sciper'] == sciper]"
   ]
  },
  {
   "cell_type": "markdown",
   "metadata": {},
   "source": [
    "We collect the *Gender*."
   ]
  },
  {
   "cell_type": "code",
   "execution_count": 7,
   "metadata": {
    "collapsed": true
   },
   "outputs": [],
   "source": [
    "def getGender(df):\n",
    "    \"\"\" Take a DataFrame and checks the gender\n",
    "    \n",
    "    Args:\n",
    "        df (DataFrame): a DataFrame, typically a .loc on a specific student\n",
    "        \n",
    "    Returns:\n",
    "        bool: True if student is a woman, False otherwise\n",
    "    \"\"\"\n",
    "    try:\n",
    "        if df.isin(['Madame'])['Civilité'].value_counts()[True] > 0:\n",
    "            return 1\n",
    "    except KeyError:\n",
    "        return 0"
   ]
  },
  {
   "cell_type": "markdown",
   "metadata": {},
   "source": [
    "We return 1 if the students has an entry with 'Master semestre 3'. Otherwise, we return a NaN."
   ]
  },
  {
   "cell_type": "code",
   "execution_count": 8,
   "metadata": {
    "collapsed": true
   },
   "outputs": [],
   "source": [
    "def getMaster3(df):\n",
    "    \"\"\" Take a DataFrame and checks if the student had a Master Project\n",
    "    \n",
    "    Args:\n",
    "        df (DataFrame): a DataFrame, typically a .loc on a specific student\n",
    "        \n",
    "    Returns:\n",
    "        bool: True if student had a Master 3, False otherwise\n",
    "    \"\"\"\n",
    "    try:\n",
    "        if df.isin(['Master semestre 3'])['Semester'].value_counts()[True] > 0:\n",
    "            return 1\n",
    "    except KeyError:\n",
    "        return None    "
   ]
  },
  {
   "cell_type": "markdown",
   "metadata": {},
   "source": [
    "We return 1 if the students has an entry with 'Projet Master automne' ou 'Projet Master printemps'. Otherwise, we return a NaN."
   ]
  },
  {
   "cell_type": "code",
   "execution_count": 9,
   "metadata": {
    "collapsed": true
   },
   "outputs": [],
   "source": [
    "def getMasterProject(df):\n",
    "    \"\"\" Take a DataFrame and checks if the student had a Master Project\n",
    "    \n",
    "    Args:\n",
    "        df (DataFrame): a DataFrame, typically a .loc on a specific student\n",
    "        \n",
    "    Returns:\n",
    "        bool: True if student had a Master Project, False otherwise\n",
    "    \"\"\"\n",
    "    try:\n",
    "        if df.isin(['Projet Master automne'])['Semester'].value_counts()[True] > 0:\n",
    "            return 1\n",
    "        elif df.isin(['Projet Master printemps'])['Semester'].value_counts()[True] > 0:\n",
    "            return 1        \n",
    "    except KeyError:\n",
    "        return None  "
   ]
  },
  {
   "cell_type": "markdown",
   "metadata": {},
   "source": [
    "We create a function such that if the student doesn't have the entry for 'Master semestre 1', we won't take it into account. We only have to check this, because a student will have only 1 entry in MA1. If a student does more year than intended, he will do the following years: \n",
    "\n",
    "`MA1 -> MA2 -> MA3 -> MA2 -> MA3 -> Master Project`"
   ]
  },
  {
   "cell_type": "code",
   "execution_count": 10,
   "metadata": {
    "collapsed": true
   },
   "outputs": [],
   "source": [
    "def isOne(df):\n",
    "    \"\"\" Take a DataFrame and check that there is an entry for both BA1 and BA6\n",
    "    \n",
    "    Args:\n",
    "        df (DataFrame): a DataFrame, typically a .loc on a specific student\n",
    "        \n",
    "    Returns:\n",
    "        bool: True if it finds MA1, False otherwise\n",
    "    \"\"\"\n",
    "    try:\n",
    "        one = df.isin(['Master semestre 1'])['Semester'].value_counts()[True] > 0\n",
    "    except KeyError:\n",
    "        one = 0\n",
    "    return one"
   ]
  },
  {
   "cell_type": "markdown",
   "metadata": {},
   "source": [
    "We also remove all the students who started before 2014. Indeed, the maximum length of a Master is 4 years. Therefore, a student who did his master in 4 years, will automatically finish this year. Since the students will have only once the entry 'Master semestre 1', we don't have to remove the ones who started in '2007-2008'. "
   ]
  },
  {
   "cell_type": "code",
   "execution_count": 11,
   "metadata": {
    "collapsed": true
   },
   "outputs": [],
   "source": [
    "def restrict_years(df):\n",
    "    \"\"\" Take a DataFrame and check that there is an entry for both BA1 and BA6\n",
    "    \n",
    "    Args:\n",
    "        df (DataFrame): a DataFrame, typically a .loc on a specific student\n",
    "        \n",
    "    Returns:\n",
    "        bool: True if it he has an entry in the good years, False otherwise\n",
    "    \"\"\"    \n",
    "    wrong_years = ['2014-2015', '2015-2016', '2016-2017']\n",
    "    \n",
    "    try:\n",
    "        periods_ma1 = df.loc[df['Semester'] == 'Master semestre 1'].Period\n",
    "        if any(years in wrong_years for years in periods_ma1):\n",
    "            return False\n",
    "        else:\n",
    "            return True\n",
    "    except KeyError:\n",
    "        return False"
   ]
  },
  {
   "cell_type": "markdown",
   "metadata": {},
   "source": [
    "We also get the years when the student started his Master."
   ]
  },
  {
   "cell_type": "code",
   "execution_count": 12,
   "metadata": {
    "collapsed": true
   },
   "outputs": [],
   "source": [
    "def getYearStartedMaster(df):\n",
    "    \"\"\" Take a DataFrame and checks if the student had a Master Project\n",
    "    \n",
    "    Args:\n",
    "        df (DataFrame): a DataFrame, typically a .loc on a specific student\n",
    "        \n",
    "    Returns:\n",
    "        bool: True if student had a Master 3, False otherwise\n",
    "    \"\"\"\n",
    "    try:\n",
    "        return np.array(df.loc[df['Semester'] == 'Master semestre 1'].Period)[-1]\n",
    "    except KeyError:\n",
    "        return None"
   ]
  },
  {
   "cell_type": "markdown",
   "metadata": {},
   "source": [
    "Now, we create a dictionnary with all the information we want. "
   ]
  },
  {
   "cell_type": "code",
   "execution_count": 13,
   "metadata": {
    "collapsed": false
   },
   "outputs": [],
   "source": [
    "# We need to remove the students who started too late. \n",
    "# Let's say 2 sem without spec. 3 sem with spec\n",
    "\n",
    "dico = {'sciper': [], 'gender': [], 'length': [], \n",
    "        'Master3': [], 'MasterProject': [], 'Specialization':[],\n",
    "        'YearStarted': []}\n",
    "# Do some tests\n",
    "for row in ma.iterrows():\n",
    "    o = row[1]\n",
    "    sciper = o['No Sciper']\n",
    "    if not sciper in dico['sciper']:\n",
    "        df = locSciper(ma, sciper)\n",
    "        if isOne(df) and restrict_years(df):\n",
    "            dico['sciper'].append(sciper)\n",
    "            dico['gender'].append(getGender(df))\n",
    "            # Calculating length of stay by nbr of rows\n",
    "            dico['length'].append(len(df))\n",
    "            dico['MasterProject'].append(getMasterProject(df))\n",
    "            dico['Master3'].append(getMaster3(df))\n",
    "            dico['Specialization'].append(o['Spécialisation'])\n",
    "            dico['YearStarted'].append(getYearStartedMaster(df))"
   ]
  },
  {
   "cell_type": "markdown",
   "metadata": {},
   "source": [
    "We transform the dictionnary into a pandas DataFrame."
   ]
  },
  {
   "cell_type": "code",
   "execution_count": 14,
   "metadata": {
    "collapsed": false
   },
   "outputs": [
    {
     "data": {
      "text/html": [
       "<div>\n",
       "<table border=\"1\" class=\"dataframe\">\n",
       "  <thead>\n",
       "    <tr style=\"text-align: right;\">\n",
       "      <th></th>\n",
       "      <th>Master3</th>\n",
       "      <th>MasterProject</th>\n",
       "      <th>Specialization</th>\n",
       "      <th>YearStarted</th>\n",
       "      <th>gender</th>\n",
       "      <th>length</th>\n",
       "      <th>sciper</th>\n",
       "    </tr>\n",
       "  </thead>\n",
       "  <tbody>\n",
       "    <tr>\n",
       "      <th>0</th>\n",
       "      <td>1.0</td>\n",
       "      <td>NaN</td>\n",
       "      <td>NaN</td>\n",
       "      <td>2011-2012</td>\n",
       "      <td>0</td>\n",
       "      <td>3</td>\n",
       "      <td>184772</td>\n",
       "    </tr>\n",
       "    <tr>\n",
       "      <th>1</th>\n",
       "      <td>1.0</td>\n",
       "      <td>NaN</td>\n",
       "      <td>NaN</td>\n",
       "      <td>2011-2012</td>\n",
       "      <td>0</td>\n",
       "      <td>4</td>\n",
       "      <td>211754</td>\n",
       "    </tr>\n",
       "    <tr>\n",
       "      <th>2</th>\n",
       "      <td>1.0</td>\n",
       "      <td>NaN</td>\n",
       "      <td>NaN</td>\n",
       "      <td>2011-2012</td>\n",
       "      <td>0</td>\n",
       "      <td>4</td>\n",
       "      <td>179406</td>\n",
       "    </tr>\n",
       "    <tr>\n",
       "      <th>3</th>\n",
       "      <td>1.0</td>\n",
       "      <td>NaN</td>\n",
       "      <td>NaN</td>\n",
       "      <td>2011-2012</td>\n",
       "      <td>1</td>\n",
       "      <td>3</td>\n",
       "      <td>209850</td>\n",
       "    </tr>\n",
       "    <tr>\n",
       "      <th>4</th>\n",
       "      <td>NaN</td>\n",
       "      <td>NaN</td>\n",
       "      <td>NaN</td>\n",
       "      <td>2011-2012</td>\n",
       "      <td>0</td>\n",
       "      <td>2</td>\n",
       "      <td>179428</td>\n",
       "    </tr>\n",
       "  </tbody>\n",
       "</table>\n",
       "</div>"
      ],
      "text/plain": [
       "   Master3  MasterProject Specialization YearStarted  gender  length  sciper\n",
       "0      1.0            NaN            NaN   2011-2012       0       3  184772\n",
       "1      1.0            NaN            NaN   2011-2012       0       4  211754\n",
       "2      1.0            NaN            NaN   2011-2012       0       4  179406\n",
       "3      1.0            NaN            NaN   2011-2012       1       3  209850\n",
       "4      NaN            NaN            NaN   2011-2012       0       2  179428"
      ]
     },
     "execution_count": 14,
     "metadata": {},
     "output_type": "execute_result"
    }
   ],
   "source": [
    "data = pd.DataFrame(dico)\n",
    "data.head()"
   ]
  },
  {
   "cell_type": "code",
   "execution_count": 15,
   "metadata": {
    "collapsed": false
   },
   "outputs": [
    {
     "data": {
      "text/plain": [
       "count    540.000000\n",
       "mean       3.285185\n",
       "std        1.082909\n",
       "min        1.000000\n",
       "25%        3.000000\n",
       "50%        3.000000\n",
       "75%        4.000000\n",
       "max        8.000000\n",
       "Name: length, dtype: float64"
      ]
     },
     "execution_count": 15,
     "metadata": {},
     "output_type": "execute_result"
    }
   ],
   "source": [
    "data.length.describe()"
   ]
  },
  {
   "cell_type": "markdown",
   "metadata": {},
   "source": [
    "We notice that the minimum length is **2 semesters** which is wrong. Let's see how many persons did their Master in less than 3 semesters."
   ]
  },
  {
   "cell_type": "code",
   "execution_count": 16,
   "metadata": {
    "collapsed": false
   },
   "outputs": [
    {
     "data": {
      "text/plain": [
       "Master3             0\n",
       "MasterProject       0\n",
       "Specialization      2\n",
       "YearStarted       118\n",
       "gender            118\n",
       "length            118\n",
       "sciper            118\n",
       "dtype: int64"
      ]
     },
     "execution_count": 16,
     "metadata": {},
     "output_type": "execute_result"
    }
   ],
   "source": [
    "data.loc[data.length < 3].count()"
   ]
  },
  {
   "cell_type": "markdown",
   "metadata": {},
   "source": [
    "We see that there are 98 entries with students who did their Master in 2 or 1 semester(s). We cannot remove all of these entries. Therefore, we will keep them even if we know that there's a problem.\n",
    "\n",
    "We just check the mean of the whole data. We are interested in the length especially."
   ]
  },
  {
   "cell_type": "code",
   "execution_count": 17,
   "metadata": {
    "collapsed": false
   },
   "outputs": [
    {
     "data": {
      "text/plain": [
       "Master3               1.000000\n",
       "MasterProject         1.000000\n",
       "gender                0.144444\n",
       "length                3.285185\n",
       "sciper           192550.235185\n",
       "dtype: float64"
      ]
     },
     "execution_count": 17,
     "metadata": {},
     "output_type": "execute_result"
    }
   ],
   "source": [
    "data.mean()"
   ]
  },
  {
   "cell_type": "markdown",
   "metadata": {},
   "source": [
    "Now, we create a DataFrame with the students who had an entry for the Specialization."
   ]
  },
  {
   "cell_type": "code",
   "execution_count": 18,
   "metadata": {
    "collapsed": false
   },
   "outputs": [
    {
     "data": {
      "text/html": [
       "<div>\n",
       "<table border=\"1\" class=\"dataframe\">\n",
       "  <thead>\n",
       "    <tr style=\"text-align: right;\">\n",
       "      <th></th>\n",
       "      <th>Master3</th>\n",
       "      <th>MasterProject</th>\n",
       "      <th>Specialization</th>\n",
       "      <th>YearStarted</th>\n",
       "      <th>gender</th>\n",
       "      <th>length</th>\n",
       "      <th>sciper</th>\n",
       "    </tr>\n",
       "  </thead>\n",
       "  <tbody>\n",
       "    <tr>\n",
       "      <th>11</th>\n",
       "      <td>1.0</td>\n",
       "      <td>NaN</td>\n",
       "      <td>Signals, Images and Interfaces</td>\n",
       "      <td>2011-2012</td>\n",
       "      <td>0</td>\n",
       "      <td>4</td>\n",
       "      <td>184991</td>\n",
       "    </tr>\n",
       "    <tr>\n",
       "      <th>21</th>\n",
       "      <td>1.0</td>\n",
       "      <td>NaN</td>\n",
       "      <td>Internet computing</td>\n",
       "      <td>2011-2012</td>\n",
       "      <td>0</td>\n",
       "      <td>4</td>\n",
       "      <td>214805</td>\n",
       "    </tr>\n",
       "    <tr>\n",
       "      <th>24</th>\n",
       "      <td>1.0</td>\n",
       "      <td>NaN</td>\n",
       "      <td>Software Systems</td>\n",
       "      <td>2011-2012</td>\n",
       "      <td>0</td>\n",
       "      <td>3</td>\n",
       "      <td>185853</td>\n",
       "    </tr>\n",
       "    <tr>\n",
       "      <th>28</th>\n",
       "      <td>1.0</td>\n",
       "      <td>NaN</td>\n",
       "      <td>Signals, Images and Interfaces</td>\n",
       "      <td>2011-2012</td>\n",
       "      <td>0</td>\n",
       "      <td>4</td>\n",
       "      <td>147008</td>\n",
       "    </tr>\n",
       "    <tr>\n",
       "      <th>48</th>\n",
       "      <td>1.0</td>\n",
       "      <td>NaN</td>\n",
       "      <td>Foundations of Software</td>\n",
       "      <td>2011-2012</td>\n",
       "      <td>0</td>\n",
       "      <td>5</td>\n",
       "      <td>186250</td>\n",
       "    </tr>\n",
       "  </tbody>\n",
       "</table>\n",
       "</div>"
      ],
      "text/plain": [
       "    Master3  MasterProject                  Specialization YearStarted  \\\n",
       "11      1.0            NaN  Signals, Images and Interfaces   2011-2012   \n",
       "21      1.0            NaN              Internet computing   2011-2012   \n",
       "24      1.0            NaN                Software Systems   2011-2012   \n",
       "28      1.0            NaN  Signals, Images and Interfaces   2011-2012   \n",
       "48      1.0            NaN         Foundations of Software   2011-2012   \n",
       "\n",
       "    gender  length  sciper  \n",
       "11       0       4  184991  \n",
       "21       0       4  214805  \n",
       "24       0       3  185853  \n",
       "28       0       4  147008  \n",
       "48       0       5  186250  "
      ]
     },
     "execution_count": 18,
     "metadata": {},
     "output_type": "execute_result"
    }
   ],
   "source": [
    "data_spec = data[~data[\"Specialization\"].isnull()]\n",
    "data_spec.head()"
   ]
  },
  {
   "cell_type": "markdown",
   "metadata": {},
   "source": [
    "We just check all the unique names for the Specialization."
   ]
  },
  {
   "cell_type": "code",
   "execution_count": 19,
   "metadata": {
    "collapsed": false
   },
   "outputs": [
    {
     "data": {
      "text/plain": [
       "array(['Signals, Images and Interfaces', 'Internet computing',\n",
       "       'Software Systems', 'Foundations of Software', 'Service science',\n",
       "       'Computer Engineering - SP', 'Biocomputing'], dtype=object)"
      ]
     },
     "execution_count": 19,
     "metadata": {},
     "output_type": "execute_result"
    }
   ],
   "source": [
    "data_spec.Specialization.unique()"
   ]
  },
  {
   "cell_type": "markdown",
   "metadata": {},
   "source": [
    "We can groupy this new DataFrame by the Specialization."
   ]
  },
  {
   "cell_type": "code",
   "execution_count": 20,
   "metadata": {
    "collapsed": false
   },
   "outputs": [
    {
     "data": {
      "text/html": [
       "<div>\n",
       "<table border=\"1\" class=\"dataframe\">\n",
       "  <thead>\n",
       "    <tr style=\"text-align: right;\">\n",
       "      <th></th>\n",
       "      <th>Master3</th>\n",
       "      <th>MasterProject</th>\n",
       "      <th>YearStarted</th>\n",
       "      <th>gender</th>\n",
       "      <th>length</th>\n",
       "      <th>sciper</th>\n",
       "    </tr>\n",
       "    <tr>\n",
       "      <th>Specialization</th>\n",
       "      <th></th>\n",
       "      <th></th>\n",
       "      <th></th>\n",
       "      <th></th>\n",
       "      <th></th>\n",
       "      <th></th>\n",
       "    </tr>\n",
       "  </thead>\n",
       "  <tbody>\n",
       "    <tr>\n",
       "      <th>Biocomputing</th>\n",
       "      <td>2</td>\n",
       "      <td>0</td>\n",
       "      <td>2</td>\n",
       "      <td>2</td>\n",
       "      <td>2</td>\n",
       "      <td>2</td>\n",
       "    </tr>\n",
       "    <tr>\n",
       "      <th>Computer Engineering - SP</th>\n",
       "      <td>5</td>\n",
       "      <td>0</td>\n",
       "      <td>5</td>\n",
       "      <td>5</td>\n",
       "      <td>5</td>\n",
       "      <td>5</td>\n",
       "    </tr>\n",
       "    <tr>\n",
       "      <th>Foundations of Software</th>\n",
       "      <td>37</td>\n",
       "      <td>0</td>\n",
       "      <td>39</td>\n",
       "      <td>39</td>\n",
       "      <td>39</td>\n",
       "      <td>39</td>\n",
       "    </tr>\n",
       "    <tr>\n",
       "      <th>Internet computing</th>\n",
       "      <td>48</td>\n",
       "      <td>0</td>\n",
       "      <td>50</td>\n",
       "      <td>50</td>\n",
       "      <td>50</td>\n",
       "      <td>50</td>\n",
       "    </tr>\n",
       "    <tr>\n",
       "      <th>Service science</th>\n",
       "      <td>3</td>\n",
       "      <td>1</td>\n",
       "      <td>3</td>\n",
       "      <td>3</td>\n",
       "      <td>3</td>\n",
       "      <td>3</td>\n",
       "    </tr>\n",
       "    <tr>\n",
       "      <th>Signals, Images and Interfaces</th>\n",
       "      <td>15</td>\n",
       "      <td>1</td>\n",
       "      <td>15</td>\n",
       "      <td>15</td>\n",
       "      <td>15</td>\n",
       "      <td>15</td>\n",
       "    </tr>\n",
       "    <tr>\n",
       "      <th>Software Systems</th>\n",
       "      <td>5</td>\n",
       "      <td>0</td>\n",
       "      <td>5</td>\n",
       "      <td>5</td>\n",
       "      <td>5</td>\n",
       "      <td>5</td>\n",
       "    </tr>\n",
       "  </tbody>\n",
       "</table>\n",
       "</div>"
      ],
      "text/plain": [
       "                                Master3  MasterProject  YearStarted  gender  \\\n",
       "Specialization                                                                \n",
       "Biocomputing                          2              0            2       2   \n",
       "Computer Engineering - SP             5              0            5       5   \n",
       "Foundations of Software              37              0           39      39   \n",
       "Internet computing                   48              0           50      50   \n",
       "Service science                       3              1            3       3   \n",
       "Signals, Images and Interfaces       15              1           15      15   \n",
       "Software Systems                      5              0            5       5   \n",
       "\n",
       "                                length  sciper  \n",
       "Specialization                                  \n",
       "Biocomputing                         2       2  \n",
       "Computer Engineering - SP            5       5  \n",
       "Foundations of Software             39      39  \n",
       "Internet computing                  50      50  \n",
       "Service science                      3       3  \n",
       "Signals, Images and Interfaces      15      15  \n",
       "Software Systems                     5       5  "
      ]
     },
     "execution_count": 20,
     "metadata": {},
     "output_type": "execute_result"
    }
   ],
   "source": [
    "data_spec.groupby(['Specialization']).count()"
   ]
  },
  {
   "cell_type": "markdown",
   "metadata": {},
   "source": [
    "A very interesting fact is that most of the students do not have an entry for the Master Project. IsAcademia seems to have some very good data...\n",
    "\n",
    "Anyway, we calculate the mean for all the students with Specilization. We are more interested in the length."
   ]
  },
  {
   "cell_type": "code",
   "execution_count": 21,
   "metadata": {
    "collapsed": false
   },
   "outputs": [
    {
     "data": {
      "text/html": [
       "<div>\n",
       "<table border=\"1\" class=\"dataframe\">\n",
       "  <thead>\n",
       "    <tr style=\"text-align: right;\">\n",
       "      <th></th>\n",
       "      <th>Master3</th>\n",
       "      <th>MasterProject</th>\n",
       "      <th>gender</th>\n",
       "      <th>length</th>\n",
       "      <th>sciper</th>\n",
       "    </tr>\n",
       "    <tr>\n",
       "      <th>Specialization</th>\n",
       "      <th></th>\n",
       "      <th></th>\n",
       "      <th></th>\n",
       "      <th></th>\n",
       "      <th></th>\n",
       "    </tr>\n",
       "  </thead>\n",
       "  <tbody>\n",
       "    <tr>\n",
       "      <th>Biocomputing</th>\n",
       "      <td>1.0</td>\n",
       "      <td>NaN</td>\n",
       "      <td>0.500000</td>\n",
       "      <td>5.500000</td>\n",
       "      <td>162153.500000</td>\n",
       "    </tr>\n",
       "    <tr>\n",
       "      <th>Computer Engineering - SP</th>\n",
       "      <td>1.0</td>\n",
       "      <td>NaN</td>\n",
       "      <td>0.000000</td>\n",
       "      <td>3.200000</td>\n",
       "      <td>179925.600000</td>\n",
       "    </tr>\n",
       "    <tr>\n",
       "      <th>Foundations of Software</th>\n",
       "      <td>1.0</td>\n",
       "      <td>NaN</td>\n",
       "      <td>0.076923</td>\n",
       "      <td>3.794872</td>\n",
       "      <td>182448.717949</td>\n",
       "    </tr>\n",
       "    <tr>\n",
       "      <th>Internet computing</th>\n",
       "      <td>1.0</td>\n",
       "      <td>NaN</td>\n",
       "      <td>0.120000</td>\n",
       "      <td>3.820000</td>\n",
       "      <td>187980.800000</td>\n",
       "    </tr>\n",
       "    <tr>\n",
       "      <th>Service science</th>\n",
       "      <td>1.0</td>\n",
       "      <td>1.0</td>\n",
       "      <td>0.333333</td>\n",
       "      <td>3.666667</td>\n",
       "      <td>204981.000000</td>\n",
       "    </tr>\n",
       "    <tr>\n",
       "      <th>Signals, Images and Interfaces</th>\n",
       "      <td>1.0</td>\n",
       "      <td>1.0</td>\n",
       "      <td>0.000000</td>\n",
       "      <td>4.400000</td>\n",
       "      <td>178076.600000</td>\n",
       "    </tr>\n",
       "    <tr>\n",
       "      <th>Software Systems</th>\n",
       "      <td>1.0</td>\n",
       "      <td>NaN</td>\n",
       "      <td>0.000000</td>\n",
       "      <td>3.600000</td>\n",
       "      <td>192762.400000</td>\n",
       "    </tr>\n",
       "  </tbody>\n",
       "</table>\n",
       "</div>"
      ],
      "text/plain": [
       "                                Master3  MasterProject    gender    length  \\\n",
       "Specialization                                                               \n",
       "Biocomputing                        1.0            NaN  0.500000  5.500000   \n",
       "Computer Engineering - SP           1.0            NaN  0.000000  3.200000   \n",
       "Foundations of Software             1.0            NaN  0.076923  3.794872   \n",
       "Internet computing                  1.0            NaN  0.120000  3.820000   \n",
       "Service science                     1.0            1.0  0.333333  3.666667   \n",
       "Signals, Images and Interfaces      1.0            1.0  0.000000  4.400000   \n",
       "Software Systems                    1.0            NaN  0.000000  3.600000   \n",
       "\n",
       "                                       sciper  \n",
       "Specialization                                 \n",
       "Biocomputing                    162153.500000  \n",
       "Computer Engineering - SP       179925.600000  \n",
       "Foundations of Software         182448.717949  \n",
       "Internet computing              187980.800000  \n",
       "Service science                 204981.000000  \n",
       "Signals, Images and Interfaces  178076.600000  \n",
       "Software Systems                192762.400000  "
      ]
     },
     "execution_count": 21,
     "metadata": {},
     "output_type": "execute_result"
    }
   ],
   "source": [
    "data_spec.groupby(['Specialization']).mean()"
   ]
  },
  {
   "cell_type": "markdown",
   "metadata": {},
   "source": [
    "Now, we can do the statistics. We recall that the average length for all the students is 3.354962. We are using a **One-Sample t-test** because we want to see if the population of students with each of the Specialization can be put in the population of all the students."
   ]
  },
  {
   "cell_type": "code",
   "execution_count": 22,
   "metadata": {
    "collapsed": false
   },
   "outputs": [
    {
     "name": "stdout",
     "output_type": "stream",
     "text": [
      "Signals, Images and Interfaces\n",
      "Ttest_1sampResult(statistic=3.8508450591117596, pvalue=0.0017646045928949498)\n",
      "\n",
      "Internet computing\n",
      "Ttest_1sampResult(statistic=3.6232407031910556, pvalue=0.00069013911272873031)\n",
      "\n",
      "Software Systems\n",
      "Ttest_1sampResult(statistic=1.2852260996084579, pvalue=0.26808169247801006)\n",
      "\n",
      "Foundations of Software\n",
      "Ttest_1sampResult(statistic=3.6845297368926597, pvalue=0.00071115638373574674)\n",
      "\n",
      "Service science\n",
      "Ttest_1sampResult(statistic=0.57222222222222197, pvalue=0.62491850885661893)\n",
      "\n",
      "Computer Engineering - SP\n",
      "Ttest_1sampResult(statistic=-0.42592592592592521, pvalue=0.69208046041748306)\n",
      "\n",
      "Biocomputing\n",
      "Ttest_1sampResult(statistic=4.4296296296296296, pvalue=0.14134905418377344)\n",
      "\n"
     ]
    }
   ],
   "source": [
    "for spec in data_spec.Specialization.unique():\n",
    "    print(spec)\n",
    "    students = data_spec.loc[data_spec.Specialization == spec]\n",
    "    print(stats.ttest_1samp(popmean=data.length.mean(), a=students.length))\n",
    "    print()"
   ]
  },
  {
   "cell_type": "markdown",
   "metadata": {},
   "source": [
    "We have some interesting results. We can see that for the Specializations '*Signals, Images and Interfaces*', '*Internet computing*' and '*Foundations of Software*' that the p-value is under 0.05 (5%). Therefore, we can say that for these Specialization, they will surely take more time than most of the students to finish their Master. \n",
    "\n",
    "But this conclusion is to take carefully. Indeed, the data from IS-Academia are note really good. We are missing a lot of entries."
   ]
  },
  {
   "cell_type": "markdown",
   "metadata": {},
   "source": [
    "# Bonus\n",
    "\n",
    "For the bonus, we want to create the men and women DataFrame and check if they are correlated or not."
   ]
  },
  {
   "cell_type": "code",
   "execution_count": 23,
   "metadata": {
    "collapsed": false
   },
   "outputs": [
    {
     "data": {
      "text/plain": [
       "count    462.000000\n",
       "mean       3.292208\n",
       "std        1.075816\n",
       "min        1.000000\n",
       "25%        3.000000\n",
       "50%        3.000000\n",
       "75%        4.000000\n",
       "max        8.000000\n",
       "Name: length, dtype: float64"
      ]
     },
     "execution_count": 23,
     "metadata": {},
     "output_type": "execute_result"
    }
   ],
   "source": [
    "men = data.loc[data.gender == 0]\n",
    "men.length.describe()"
   ]
  },
  {
   "cell_type": "code",
   "execution_count": 24,
   "metadata": {
    "collapsed": false
   },
   "outputs": [
    {
     "data": {
      "text/plain": [
       "count    78.00000\n",
       "mean      3.24359\n",
       "std       1.13029\n",
       "min       1.00000\n",
       "25%       3.00000\n",
       "50%       3.00000\n",
       "75%       4.00000\n",
       "max       7.00000\n",
       "Name: length, dtype: float64"
      ]
     },
     "execution_count": 24,
     "metadata": {},
     "output_type": "execute_result"
    }
   ],
   "source": [
    "women = data.loc[data.gender == 1]\n",
    "women.length.describe()"
   ]
  },
  {
   "cell_type": "markdown",
   "metadata": {},
   "source": [
    "If we check the mean and the std, we can see that they are really close. So, if we two a **Two-Sample T-Test**, we should get a very high p-value."
   ]
  },
  {
   "cell_type": "code",
   "execution_count": 25,
   "metadata": {
    "collapsed": false
   },
   "outputs": [
    {
     "data": {
      "text/plain": [
       "Ttest_indResult(statistic=-0.36646097609480088, pvalue=0.71416519801125344)"
      ]
     },
     "execution_count": 25,
     "metadata": {},
     "output_type": "execute_result"
    }
   ],
   "source": [
    "stats.ttest_ind(a=women.length, b=men.length, equal_var=True)\n",
    "# Not significant at all"
   ]
  },
  {
   "cell_type": "markdown",
   "metadata": {},
   "source": [
    "We, indeed, get a very high value for the p-value. Therefore, a visualization of the data could be more interesting.\n",
    "\n",
    "First, we will replace the *YearStarted* value by an integer."
   ]
  },
  {
   "cell_type": "code",
   "execution_count": 27,
   "metadata": {
    "collapsed": false
   },
   "outputs": [
    {
     "name": "stdout",
     "output_type": "stream",
     "text": [
      "['2011-2012' '2010-2011' '2012-2013' '2009-2010' '2013-2014' '2008-2009'\n",
      " '2007-2008']\n"
     ]
    },
    {
     "data": {
      "text/html": [
       "<div>\n",
       "<table border=\"1\" class=\"dataframe\">\n",
       "  <thead>\n",
       "    <tr style=\"text-align: right;\">\n",
       "      <th></th>\n",
       "      <th>Master3</th>\n",
       "      <th>MasterProject</th>\n",
       "      <th>Specialization</th>\n",
       "      <th>YearStarted</th>\n",
       "      <th>gender</th>\n",
       "      <th>length</th>\n",
       "      <th>sciper</th>\n",
       "    </tr>\n",
       "  </thead>\n",
       "  <tbody>\n",
       "    <tr>\n",
       "      <th>0</th>\n",
       "      <td>1.0</td>\n",
       "      <td>NaN</td>\n",
       "      <td>NaN</td>\n",
       "      <td>4</td>\n",
       "      <td>0</td>\n",
       "      <td>3</td>\n",
       "      <td>184772</td>\n",
       "    </tr>\n",
       "    <tr>\n",
       "      <th>1</th>\n",
       "      <td>1.0</td>\n",
       "      <td>NaN</td>\n",
       "      <td>NaN</td>\n",
       "      <td>4</td>\n",
       "      <td>0</td>\n",
       "      <td>4</td>\n",
       "      <td>211754</td>\n",
       "    </tr>\n",
       "    <tr>\n",
       "      <th>2</th>\n",
       "      <td>1.0</td>\n",
       "      <td>NaN</td>\n",
       "      <td>NaN</td>\n",
       "      <td>4</td>\n",
       "      <td>0</td>\n",
       "      <td>4</td>\n",
       "      <td>179406</td>\n",
       "    </tr>\n",
       "    <tr>\n",
       "      <th>3</th>\n",
       "      <td>1.0</td>\n",
       "      <td>NaN</td>\n",
       "      <td>NaN</td>\n",
       "      <td>4</td>\n",
       "      <td>1</td>\n",
       "      <td>3</td>\n",
       "      <td>209850</td>\n",
       "    </tr>\n",
       "    <tr>\n",
       "      <th>4</th>\n",
       "      <td>NaN</td>\n",
       "      <td>NaN</td>\n",
       "      <td>NaN</td>\n",
       "      <td>4</td>\n",
       "      <td>0</td>\n",
       "      <td>2</td>\n",
       "      <td>179428</td>\n",
       "    </tr>\n",
       "  </tbody>\n",
       "</table>\n",
       "</div>"
      ],
      "text/plain": [
       "   Master3  MasterProject Specialization  YearStarted  gender  length  sciper\n",
       "0      1.0            NaN            NaN            4       0       3  184772\n",
       "1      1.0            NaN            NaN            4       0       4  211754\n",
       "2      1.0            NaN            NaN            4       0       4  179406\n",
       "3      1.0            NaN            NaN            4       1       3  209850\n",
       "4      NaN            NaN            NaN            4       0       2  179428"
      ]
     },
     "execution_count": 27,
     "metadata": {},
     "output_type": "execute_result"
    }
   ],
   "source": [
    "# Prepare the data to plot in function of the years\n",
    "years = data.YearStarted.unique()\n",
    "print(years)\n",
    "\n",
    "# val corresponds to the order of the years\n",
    "val = [4,3,5,2,6,1,0]\n",
    "data = data.replace(to_replace=data.YearStarted.unique(), value=val)\n",
    "data.head()\n",
    "    \n",
    "    "
   ]
  },
  {
   "cell_type": "markdown",
   "metadata": {},
   "source": [
    "We can drop the non-useful columns."
   ]
  },
  {
   "cell_type": "code",
   "execution_count": 28,
   "metadata": {
    "collapsed": false
   },
   "outputs": [
    {
     "data": {
      "text/html": [
       "<div>\n",
       "<table border=\"1\" class=\"dataframe\">\n",
       "  <thead>\n",
       "    <tr style=\"text-align: right;\">\n",
       "      <th></th>\n",
       "      <th>YearStarted</th>\n",
       "      <th>gender</th>\n",
       "      <th>length</th>\n",
       "    </tr>\n",
       "  </thead>\n",
       "  <tbody>\n",
       "    <tr>\n",
       "      <th>0</th>\n",
       "      <td>4</td>\n",
       "      <td>0</td>\n",
       "      <td>3</td>\n",
       "    </tr>\n",
       "    <tr>\n",
       "      <th>1</th>\n",
       "      <td>4</td>\n",
       "      <td>0</td>\n",
       "      <td>4</td>\n",
       "    </tr>\n",
       "    <tr>\n",
       "      <th>2</th>\n",
       "      <td>4</td>\n",
       "      <td>0</td>\n",
       "      <td>4</td>\n",
       "    </tr>\n",
       "    <tr>\n",
       "      <th>3</th>\n",
       "      <td>4</td>\n",
       "      <td>1</td>\n",
       "      <td>3</td>\n",
       "    </tr>\n",
       "    <tr>\n",
       "      <th>4</th>\n",
       "      <td>4</td>\n",
       "      <td>0</td>\n",
       "      <td>2</td>\n",
       "    </tr>\n",
       "  </tbody>\n",
       "</table>\n",
       "</div>"
      ],
      "text/plain": [
       "   YearStarted  gender  length\n",
       "0            4       0       3\n",
       "1            4       0       4\n",
       "2            4       0       4\n",
       "3            4       1       3\n",
       "4            4       0       2"
      ]
     },
     "execution_count": 28,
     "metadata": {},
     "output_type": "execute_result"
    }
   ],
   "source": [
    "data = data.drop(['Master3', 'MasterProject', 'Specialization', 'sciper'], axis=1)\n",
    "data.head()"
   ]
  },
  {
   "cell_type": "markdown",
   "metadata": {},
   "source": [
    "We create the men and women DataFrame."
   ]
  },
  {
   "cell_type": "code",
   "execution_count": 29,
   "metadata": {
    "collapsed": false
   },
   "outputs": [
    {
     "data": {
      "text/html": [
       "<div>\n",
       "<table border=\"1\" class=\"dataframe\">\n",
       "  <thead>\n",
       "    <tr style=\"text-align: right;\">\n",
       "      <th></th>\n",
       "      <th>YearStarted</th>\n",
       "      <th>gender</th>\n",
       "      <th>length</th>\n",
       "    </tr>\n",
       "  </thead>\n",
       "  <tbody>\n",
       "    <tr>\n",
       "      <th>3</th>\n",
       "      <td>4</td>\n",
       "      <td>1</td>\n",
       "      <td>3</td>\n",
       "    </tr>\n",
       "    <tr>\n",
       "      <th>10</th>\n",
       "      <td>4</td>\n",
       "      <td>1</td>\n",
       "      <td>3</td>\n",
       "    </tr>\n",
       "    <tr>\n",
       "      <th>22</th>\n",
       "      <td>4</td>\n",
       "      <td>1</td>\n",
       "      <td>2</td>\n",
       "    </tr>\n",
       "    <tr>\n",
       "      <th>26</th>\n",
       "      <td>4</td>\n",
       "      <td>1</td>\n",
       "      <td>3</td>\n",
       "    </tr>\n",
       "    <tr>\n",
       "      <th>31</th>\n",
       "      <td>4</td>\n",
       "      <td>1</td>\n",
       "      <td>3</td>\n",
       "    </tr>\n",
       "  </tbody>\n",
       "</table>\n",
       "</div>"
      ],
      "text/plain": [
       "    YearStarted  gender  length\n",
       "3             4       1       3\n",
       "10            4       1       3\n",
       "22            4       1       2\n",
       "26            4       1       3\n",
       "31            4       1       3"
      ]
     },
     "execution_count": 29,
     "metadata": {},
     "output_type": "execute_result"
    }
   ],
   "source": [
    "men = data.loc[data.gender == 0]\n",
    "\n",
    "women = data.loc[data.gender == 1]\n",
    "women.head()"
   ]
  },
  {
   "cell_type": "markdown",
   "metadata": {},
   "source": [
    "We can drop the *gender* column."
   ]
  },
  {
   "cell_type": "code",
   "execution_count": 30,
   "metadata": {
    "collapsed": false
   },
   "outputs": [
    {
     "data": {
      "text/html": [
       "<div>\n",
       "<table border=\"1\" class=\"dataframe\">\n",
       "  <thead>\n",
       "    <tr style=\"text-align: right;\">\n",
       "      <th></th>\n",
       "      <th>YearStarted</th>\n",
       "      <th>length</th>\n",
       "    </tr>\n",
       "  </thead>\n",
       "  <tbody>\n",
       "    <tr>\n",
       "      <th>3</th>\n",
       "      <td>4</td>\n",
       "      <td>3</td>\n",
       "    </tr>\n",
       "    <tr>\n",
       "      <th>10</th>\n",
       "      <td>4</td>\n",
       "      <td>3</td>\n",
       "    </tr>\n",
       "    <tr>\n",
       "      <th>22</th>\n",
       "      <td>4</td>\n",
       "      <td>2</td>\n",
       "    </tr>\n",
       "    <tr>\n",
       "      <th>26</th>\n",
       "      <td>4</td>\n",
       "      <td>3</td>\n",
       "    </tr>\n",
       "    <tr>\n",
       "      <th>31</th>\n",
       "      <td>4</td>\n",
       "      <td>3</td>\n",
       "    </tr>\n",
       "  </tbody>\n",
       "</table>\n",
       "</div>"
      ],
      "text/plain": [
       "    YearStarted  length\n",
       "3             4       3\n",
       "10            4       3\n",
       "22            4       2\n",
       "26            4       3\n",
       "31            4       3"
      ]
     },
     "execution_count": 30,
     "metadata": {},
     "output_type": "execute_result"
    }
   ],
   "source": [
    "men = men.drop(['gender'], axis=1)\n",
    "women = women.drop(['gender'], axis=1)\n",
    "women.head()"
   ]
  },
  {
   "cell_type": "markdown",
   "metadata": {},
   "source": [
    "Now, we create two arrays such that they get the count of the people who did their master in `j` semesters and started in the `i` years. This will be used for the scatter plot. "
   ]
  },
  {
   "cell_type": "code",
   "execution_count": 31,
   "metadata": {
    "collapsed": false
   },
   "outputs": [],
   "source": [
    "sizes_men = []\n",
    "sizes_women = []\n",
    "for i in range(len(years)):\n",
    "    for j in range(8):\n",
    "        val_m = 0\n",
    "        val_w = 0        \n",
    "        val_m = men.loc[men.YearStarted == i].loc[men.length==j].count()[0]\n",
    "        if val_m > 0:\n",
    "            sizes_men.append(val_m)\n",
    "        val_w = women.loc[women.YearStarted == i].loc[women.length==j].count()[0]\n",
    "        if val_w > 0:\n",
    "            sizes_women.append(val_w)"
   ]
  },
  {
   "cell_type": "markdown",
   "metadata": {},
   "source": [
    "Now, we can do the scatter plot."
   ]
  },
  {
   "cell_type": "code",
   "execution_count": 32,
   "metadata": {
    "collapsed": false
   },
   "outputs": [
    {
     "data": {
      "image/png": "[encoded data removed]",
      "text/plain": [
       "<matplotlib.figure.Figure at 0x7fa4fd99deb8>"
      ]
     },
     "metadata": {},
     "output_type": "display_data"
    }
   ],
   "source": [
    "plt.figure()\n",
    "plt.scatter(men.YearStarted, men.length, s=sizes_men, color='b', label='men')\n",
    "plt.scatter(women.YearStarted+0.2, women.length, s=sizes_women, color='r', label='women')\n",
    "plt.xlabel('Years when the Master started')\n",
    "plt.ylabel('# semesters needed to complete Master')\n",
    "plt.xticks(val, years, rotation='vertical')\n",
    "plt.legend()\n",
    "plt.title('Men and Women (unormalized)')\n",
    "plt.show() "
   ]
  },
  {
   "cell_type": "markdown",
   "metadata": {},
   "source": [
    "Since there is a lot more male students than female, we normalize the data by the number of male/female students."
   ]
  },
  {
   "cell_type": "code",
   "execution_count": 33,
   "metadata": {
    "collapsed": false,
    "scrolled": true
   },
   "outputs": [
    {
     "data": {
      "image/png": "[encoded data removed]",
      "text/plain": [
       "<matplotlib.figure.Figure at 0x7fa4fd954208>"
      ]
     },
     "metadata": {},
     "output_type": "display_data"
    }
   ],
   "source": [
    "size = 400 # Just to get a good size on the plot\n",
    "sizes_men_normalized = size*np.array(sizes_men/men.count()['length'])\n",
    "sizes_women_normalized = size*np.array(sizes_women/women.count()['length'])\n",
    "\n",
    "plt.figure()\n",
    "plt.scatter(men.YearStarted, men.length, s=sizes_men_normalized, color='b', label='men')\n",
    "plt.scatter(women.YearStarted+0.2, women.length, s=sizes_women_normalized, color='r', label='women')\n",
    "plt.xlabel('Years when the Master started')\n",
    "plt.ylabel('# semesters needed to complete Master')\n",
    "plt.xticks(val, years, rotation='vertical')\n",
    "plt.legend()\n",
    "plt.title('Men and Women (normalized)')\n",
    "plt.show() "
   ]
  },
  {
   "cell_type": "markdown",
   "metadata": {
    "collapsed": true
   },
   "source": [
    "This graph is quite beautiful. But at the end, not that useful. Therefore, we can just say that Men and Women usually finish their Master in the same amount of time."
   ]
  },
  {
   "cell_type": "markdown",
   "metadata": {},
   "source": [
    "## Alternative way to analyse the data\n",
    "\n",
    "In this part we show (briefly!) how we can analyze the data in a \"defensive programming\" way which is to only consider the ones that have a Project Master registered in ISA. \n",
    "\n",
    "By the way, defensive prog on data is not a good idea in general. Whathever ...\n"
   ]
  },
  {
   "cell_type": "code",
   "execution_count": 34,
   "metadata": {
    "collapsed": true
   },
   "outputs": [],
   "source": [
    "ma = info.loc[info['Semester'].apply(locator_ma)]"
   ]
  },
  {
   "cell_type": "markdown",
   "metadata": {},
   "source": [
    "One of the main problem of the data set is that it begins on 2007-2008, when ISA system was set up. Then, students of the year before is \"half registered\".\n",
    "Then, we will not only filter students that finished their Project Master, but also the ones that is not between these years."
   ]
  },
  {
   "cell_type": "code",
   "execution_count": 35,
   "metadata": {
    "collapsed": false
   },
   "outputs": [
    {
     "data": {
      "text/html": [
       "<div>\n",
       "<table border=\"1\" class=\"dataframe\">\n",
       "  <thead>\n",
       "    <tr style=\"text-align: right;\">\n",
       "      <th></th>\n",
       "      <th>Civilité</th>\n",
       "      <th>Nom Prénom</th>\n",
       "      <th>Orientation Bachelor</th>\n",
       "      <th>Orientation Master</th>\n",
       "      <th>Spécialisation</th>\n",
       "      <th>Filière opt.</th>\n",
       "      <th>Mineur</th>\n",
       "      <th>Statut</th>\n",
       "      <th>Type Echange</th>\n",
       "      <th>Ecole Echange</th>\n",
       "      <th>No Sciper</th>\n",
       "      <th>Subject</th>\n",
       "      <th>Period</th>\n",
       "      <th>Semester</th>\n",
       "    </tr>\n",
       "  </thead>\n",
       "  <tbody>\n",
       "    <tr>\n",
       "      <th>473</th>\n",
       "      <td>Monsieur</td>\n",
       "      <td>Gulati Asheesh</td>\n",
       "      <td>NaN</td>\n",
       "      <td>NaN</td>\n",
       "      <td>Internet computing</td>\n",
       "      <td>NaN</td>\n",
       "      <td>NaN</td>\n",
       "      <td>Présent</td>\n",
       "      <td>NaN</td>\n",
       "      <td>NaN</td>\n",
       "      <td>128911</td>\n",
       "      <td>Informatique</td>\n",
       "      <td>2007-2008</td>\n",
       "      <td>Master semestre 2</td>\n",
       "    </tr>\n",
       "    <tr>\n",
       "      <th>549</th>\n",
       "      <td>Monsieur</td>\n",
       "      <td>Gulati Asheesh</td>\n",
       "      <td>NaN</td>\n",
       "      <td>NaN</td>\n",
       "      <td>Internet computing</td>\n",
       "      <td>NaN</td>\n",
       "      <td>NaN</td>\n",
       "      <td>Présent</td>\n",
       "      <td>NaN</td>\n",
       "      <td>NaN</td>\n",
       "      <td>128911</td>\n",
       "      <td>Informatique</td>\n",
       "      <td>2007-2008</td>\n",
       "      <td>Master semestre 3</td>\n",
       "    </tr>\n",
       "  </tbody>\n",
       "</table>\n",
       "</div>"
      ],
      "text/plain": [
       "     Civilité      Nom Prénom  Orientation Bachelor  Orientation Master  \\\n",
       "473  Monsieur  Gulati Asheesh                   NaN                 NaN   \n",
       "549  Monsieur  Gulati Asheesh                   NaN                 NaN   \n",
       "\n",
       "         Spécialisation Filière opt. Mineur   Statut Type Echange  \\\n",
       "473  Internet computing          NaN    NaN  Présent          NaN   \n",
       "549  Internet computing          NaN    NaN  Présent          NaN   \n",
       "\n",
       "    Ecole Echange  No Sciper       Subject     Period           Semester  \n",
       "473           NaN     128911  Informatique  2007-2008  Master semestre 2  \n",
       "549           NaN     128911  Informatique  2007-2008  Master semestre 3  "
      ]
     },
     "execution_count": 35,
     "metadata": {},
     "output_type": "execute_result"
    }
   ],
   "source": [
    "# exemple of one of these student \"half-registered\"\n",
    "ma.loc[ma['No Sciper'] == 128911]"
   ]
  },
  {
   "cell_type": "code",
   "execution_count": 36,
   "metadata": {
    "collapsed": false
   },
   "outputs": [
    {
     "name": "stdout",
     "output_type": "stream",
     "text": [
      "976\n",
      "114\n"
     ]
    }
   ],
   "source": [
    "ma_sciper = ma['No Sciper'].unique()\n",
    "print(ma_sciper.size)\n",
    "\n",
    "ma_project = ma.loc[(ma['Semester'].str.contains('Projet')) & (ma['Period'] != '2007-2008') & (ma['No Sciper'] != 159852)]\n",
    "ma_project_sciper = ma_project['No Sciper'].unique()\n",
    "print(ma_project_sciper.size)"
   ]
  },
  {
   "cell_type": "markdown",
   "metadata": {},
   "source": [
    "There are only 115 students registered for Master Project on ISA !!"
   ]
  },
  {
   "cell_type": "code",
   "execution_count": 37,
   "metadata": {
    "collapsed": false
   },
   "outputs": [
    {
     "data": {
      "text/plain": [
       "count    114.000000\n",
       "mean       4.245614\n",
       "std        1.052274\n",
       "min        3.000000\n",
       "25%        3.000000\n",
       "50%        4.000000\n",
       "75%        5.000000\n",
       "max        8.000000\n",
       "dtype: float64"
      ]
     },
     "execution_count": 37,
     "metadata": {},
     "output_type": "execute_result"
    }
   ],
   "source": [
    "ma_project_career = ma.loc[ma['No Sciper'].isin(ma_project_sciper)]\n",
    "ma_project_grouped = ma_project_career.groupby('No Sciper').size()\n",
    "ma_project_grouped.describe()"
   ]
  },
  {
   "cell_type": "markdown",
   "metadata": {},
   "source": [
    "We directly see that our data are cleaner than before, with \n",
    "* min # of semester: 3\n",
    "* max # of semester: 8\n",
    "\n",
    "That follows the academic constraints \n",
    "\n",
    "Let's split the data between students having a specialitation and not."
   ]
  },
  {
   "cell_type": "code",
   "execution_count": 38,
   "metadata": {
    "collapsed": false
   },
   "outputs": [
    {
     "data": {
      "text/html": [
       "<div>\n",
       "<table border=\"1\" class=\"dataframe\">\n",
       "  <thead>\n",
       "    <tr style=\"text-align: right;\">\n",
       "      <th></th>\n",
       "      <th>Civilité</th>\n",
       "      <th>Nom Prénom</th>\n",
       "      <th>Orientation Bachelor</th>\n",
       "      <th>Orientation Master</th>\n",
       "      <th>Spécialisation</th>\n",
       "      <th>Filière opt.</th>\n",
       "      <th>Mineur</th>\n",
       "      <th>Statut</th>\n",
       "      <th>Type Echange</th>\n",
       "      <th>Ecole Echange</th>\n",
       "      <th>No Sciper</th>\n",
       "      <th>Subject</th>\n",
       "      <th>Period</th>\n",
       "      <th>Semester</th>\n",
       "    </tr>\n",
       "  </thead>\n",
       "  <tbody>\n",
       "    <tr>\n",
       "      <th>658</th>\n",
       "      <td>Monsieur</td>\n",
       "      <td>Tran Bao Duy</td>\n",
       "      <td>NaN</td>\n",
       "      <td>NaN</td>\n",
       "      <td>NaN</td>\n",
       "      <td>NaN</td>\n",
       "      <td>NaN</td>\n",
       "      <td>Présent</td>\n",
       "      <td>NaN</td>\n",
       "      <td>NaN</td>\n",
       "      <td>210215</td>\n",
       "      <td>Informatique</td>\n",
       "      <td>2011-2012</td>\n",
       "      <td>Master semestre 1</td>\n",
       "    </tr>\n",
       "    <tr>\n",
       "      <th>659</th>\n",
       "      <td>Monsieur</td>\n",
       "      <td>Tran Le Hung</td>\n",
       "      <td>NaN</td>\n",
       "      <td>NaN</td>\n",
       "      <td>NaN</td>\n",
       "      <td>NaN</td>\n",
       "      <td>NaN</td>\n",
       "      <td>Présent</td>\n",
       "      <td>NaN</td>\n",
       "      <td>NaN</td>\n",
       "      <td>206923</td>\n",
       "      <td>Informatique</td>\n",
       "      <td>2011-2012</td>\n",
       "      <td>Master semestre 1</td>\n",
       "    </tr>\n",
       "    <tr>\n",
       "      <th>694</th>\n",
       "      <td>Monsieur</td>\n",
       "      <td>Coca Olmos Cievoloth Gilber</td>\n",
       "      <td>NaN</td>\n",
       "      <td>NaN</td>\n",
       "      <td>Service science</td>\n",
       "      <td>NaN</td>\n",
       "      <td>NaN</td>\n",
       "      <td>Présent</td>\n",
       "      <td>NaN</td>\n",
       "      <td>NaN</td>\n",
       "      <td>202059</td>\n",
       "      <td>Informatique</td>\n",
       "      <td>2011-2012</td>\n",
       "      <td>Master semestre 2</td>\n",
       "    </tr>\n",
       "    <tr>\n",
       "      <th>775</th>\n",
       "      <td>Monsieur</td>\n",
       "      <td>Tran Bao Duy</td>\n",
       "      <td>NaN</td>\n",
       "      <td>NaN</td>\n",
       "      <td>Internet computing</td>\n",
       "      <td>NaN</td>\n",
       "      <td>NaN</td>\n",
       "      <td>Présent</td>\n",
       "      <td>NaN</td>\n",
       "      <td>NaN</td>\n",
       "      <td>210215</td>\n",
       "      <td>Informatique</td>\n",
       "      <td>2011-2012</td>\n",
       "      <td>Master semestre 2</td>\n",
       "    </tr>\n",
       "    <tr>\n",
       "      <th>776</th>\n",
       "      <td>Monsieur</td>\n",
       "      <td>Tran Le Hung</td>\n",
       "      <td>NaN</td>\n",
       "      <td>NaN</td>\n",
       "      <td>NaN</td>\n",
       "      <td>NaN</td>\n",
       "      <td>NaN</td>\n",
       "      <td>Présent</td>\n",
       "      <td>NaN</td>\n",
       "      <td>NaN</td>\n",
       "      <td>206923</td>\n",
       "      <td>Informatique</td>\n",
       "      <td>2011-2012</td>\n",
       "      <td>Master semestre 2</td>\n",
       "    </tr>\n",
       "  </tbody>\n",
       "</table>\n",
       "</div>"
      ],
      "text/plain": [
       "     Civilité                   Nom Prénom  Orientation Bachelor  \\\n",
       "658  Monsieur                 Tran Bao Duy                   NaN   \n",
       "659  Monsieur                 Tran Le Hung                   NaN   \n",
       "694  Monsieur  Coca Olmos Cievoloth Gilber                   NaN   \n",
       "775  Monsieur                 Tran Bao Duy                   NaN   \n",
       "776  Monsieur                 Tran Le Hung                   NaN   \n",
       "\n",
       "     Orientation Master      Spécialisation Filière opt. Mineur   Statut  \\\n",
       "658                 NaN                 NaN          NaN    NaN  Présent   \n",
       "659                 NaN                 NaN          NaN    NaN  Présent   \n",
       "694                 NaN     Service science          NaN    NaN  Présent   \n",
       "775                 NaN  Internet computing          NaN    NaN  Présent   \n",
       "776                 NaN                 NaN          NaN    NaN  Présent   \n",
       "\n",
       "    Type Echange Ecole Echange  No Sciper       Subject     Period  \\\n",
       "658          NaN           NaN     210215  Informatique  2011-2012   \n",
       "659          NaN           NaN     206923  Informatique  2011-2012   \n",
       "694          NaN           NaN     202059  Informatique  2011-2012   \n",
       "775          NaN           NaN     210215  Informatique  2011-2012   \n",
       "776          NaN           NaN     206923  Informatique  2011-2012   \n",
       "\n",
       "              Semester  \n",
       "658  Master semestre 1  \n",
       "659  Master semestre 1  \n",
       "694  Master semestre 2  \n",
       "775  Master semestre 2  \n",
       "776  Master semestre 2  "
      ]
     },
     "execution_count": 38,
     "metadata": {},
     "output_type": "execute_result"
    }
   ],
   "source": [
    "ma_project_career.head()"
   ]
  },
  {
   "cell_type": "code",
   "execution_count": 39,
   "metadata": {
    "collapsed": false
   },
   "outputs": [],
   "source": [
    "# find all sciper of student subscribing for a minor or specialitation (can be at the first semester or later)\n",
    "df_with_spec_minor = ma_project_career.loc[(ma_project_career['Spécialisation'].notnull() | ma_project_career['Filière opt.'].notnull())]\n",
    "sciper_with_spec_minor = df_with_spec_minor['No Sciper'].unique()\n",
    "\n",
    "# deduce the ones without specialitation or minor (can finish in three semesters)\n",
    "sciper_without_spec_minor = set(ma_project_sciper) - set(sciper_with_spec_minor)\n",
    "\n",
    "# set the data frames for both\n",
    "df_without_spec_minor = ma_project_career.loc[ma_project_career['No Sciper'].isin(sciper_without_spec_minor)]\n",
    "df_with_spec_minor = ma_project_career.loc[ma_project_career['No Sciper'].isin(sciper_with_spec_minor)]"
   ]
  },
  {
   "cell_type": "code",
   "execution_count": 40,
   "metadata": {
    "collapsed": false
   },
   "outputs": [
    {
     "data": {
      "text/plain": [
       "count    86.000000\n",
       "mean      4.000000\n",
       "std       0.982194\n",
       "min       3.000000\n",
       "25%       3.000000\n",
       "50%       4.000000\n",
       "75%       5.000000\n",
       "max       8.000000\n",
       "dtype: float64"
      ]
     },
     "execution_count": 40,
     "metadata": {},
     "output_type": "execute_result"
    }
   ],
   "source": [
    "df_without_spec_minor.groupby('No Sciper').size().describe()"
   ]
  },
  {
   "cell_type": "code",
   "execution_count": 41,
   "metadata": {
    "collapsed": false
   },
   "outputs": [
    {
     "data": {
      "text/plain": [
       "count    28.000000\n",
       "mean      5.000000\n",
       "std       0.902671\n",
       "min       4.000000\n",
       "25%       4.000000\n",
       "50%       5.000000\n",
       "75%       5.000000\n",
       "max       7.000000\n",
       "dtype: float64"
      ]
     },
     "execution_count": 41,
     "metadata": {},
     "output_type": "execute_result"
    }
   ],
   "source": [
    "df_with_spec_minor.groupby('No Sciper').size().describe()"
   ]
  },
  {
   "cell_type": "markdown",
   "metadata": {},
   "source": [
    "## Conclusion of method 2\n",
    "\n",
    "Here we can see that, as expected:\n",
    "* Students without spec. or minor can do their career between 3 and 6 semesters (the one with 8 semesters have probably took a \"Congé\" during his studies. They do their master in an average of 4 semesters.\n",
    "\n",
    "* Students with spec. or minor can do their career between 4 and 8 semesters. They do their master in an average of 5 semesters."
   ]
  },
  {
   "cell_type": "code",
   "execution_count": 42,
   "metadata": {
    "collapsed": false
   },
   "outputs": [
    {
     "data": {
      "text/html": [
       "<div>\n",
       "<table border=\"1\" class=\"dataframe\">\n",
       "  <thead>\n",
       "    <tr style=\"text-align: right;\">\n",
       "      <th></th>\n",
       "      <th>Civilité</th>\n",
       "      <th>Nom Prénom</th>\n",
       "      <th>Orientation Bachelor</th>\n",
       "      <th>Orientation Master</th>\n",
       "      <th>Spécialisation</th>\n",
       "      <th>Filière opt.</th>\n",
       "      <th>Mineur</th>\n",
       "      <th>Statut</th>\n",
       "      <th>Type Echange</th>\n",
       "      <th>Ecole Echange</th>\n",
       "      <th>No Sciper</th>\n",
       "      <th>Subject</th>\n",
       "      <th>Period</th>\n",
       "      <th>Semester</th>\n",
       "    </tr>\n",
       "  </thead>\n",
       "  <tbody>\n",
       "    <tr>\n",
       "      <th>430</th>\n",
       "      <td>Monsieur</td>\n",
       "      <td>Imperatori Alexandre</td>\n",
       "      <td>NaN</td>\n",
       "      <td>NaN</td>\n",
       "      <td>NaN</td>\n",
       "      <td>NaN</td>\n",
       "      <td>NaN</td>\n",
       "      <td>Présent</td>\n",
       "      <td>NaN</td>\n",
       "      <td>NaN</td>\n",
       "      <td>166491</td>\n",
       "      <td>Informatique</td>\n",
       "      <td>2008-2009</td>\n",
       "      <td>Master semestre 1</td>\n",
       "    </tr>\n",
       "    <tr>\n",
       "      <th>492</th>\n",
       "      <td>Monsieur</td>\n",
       "      <td>Imperatori Alexandre</td>\n",
       "      <td>NaN</td>\n",
       "      <td>NaN</td>\n",
       "      <td>NaN</td>\n",
       "      <td>NaN</td>\n",
       "      <td>NaN</td>\n",
       "      <td>Congé</td>\n",
       "      <td>NaN</td>\n",
       "      <td>NaN</td>\n",
       "      <td>166491</td>\n",
       "      <td>Informatique</td>\n",
       "      <td>2008-2009</td>\n",
       "      <td>Master semestre 2</td>\n",
       "    </tr>\n",
       "    <tr>\n",
       "      <th>404</th>\n",
       "      <td>Monsieur</td>\n",
       "      <td>Imperatori Alexandre</td>\n",
       "      <td>NaN</td>\n",
       "      <td>NaN</td>\n",
       "      <td>NaN</td>\n",
       "      <td>NaN</td>\n",
       "      <td>NaN</td>\n",
       "      <td>Présent</td>\n",
       "      <td>NaN</td>\n",
       "      <td>NaN</td>\n",
       "      <td>166491</td>\n",
       "      <td>Informatique</td>\n",
       "      <td>2007-2008</td>\n",
       "      <td>Master semestre 1</td>\n",
       "    </tr>\n",
       "    <tr>\n",
       "      <th>479</th>\n",
       "      <td>Monsieur</td>\n",
       "      <td>Imperatori Alexandre</td>\n",
       "      <td>NaN</td>\n",
       "      <td>NaN</td>\n",
       "      <td>NaN</td>\n",
       "      <td>NaN</td>\n",
       "      <td>NaN</td>\n",
       "      <td>Congé</td>\n",
       "      <td>NaN</td>\n",
       "      <td>NaN</td>\n",
       "      <td>166491</td>\n",
       "      <td>Informatique</td>\n",
       "      <td>2007-2008</td>\n",
       "      <td>Master semestre 2</td>\n",
       "    </tr>\n",
       "    <tr>\n",
       "      <th>740</th>\n",
       "      <td>Monsieur</td>\n",
       "      <td>Imperatori Alexandre</td>\n",
       "      <td>NaN</td>\n",
       "      <td>NaN</td>\n",
       "      <td>NaN</td>\n",
       "      <td>NaN</td>\n",
       "      <td>NaN</td>\n",
       "      <td>Présent</td>\n",
       "      <td>NaN</td>\n",
       "      <td>NaN</td>\n",
       "      <td>166491</td>\n",
       "      <td>Informatique</td>\n",
       "      <td>2010-2011</td>\n",
       "      <td>Master semestre 3</td>\n",
       "    </tr>\n",
       "    <tr>\n",
       "      <th>771</th>\n",
       "      <td>Monsieur</td>\n",
       "      <td>Imperatori Alexandre</td>\n",
       "      <td>NaN</td>\n",
       "      <td>NaN</td>\n",
       "      <td>NaN</td>\n",
       "      <td>NaN</td>\n",
       "      <td>NaN</td>\n",
       "      <td>Congé</td>\n",
       "      <td>NaN</td>\n",
       "      <td>NaN</td>\n",
       "      <td>166491</td>\n",
       "      <td>Informatique</td>\n",
       "      <td>2010-2011</td>\n",
       "      <td>Projet Master printemps</td>\n",
       "    </tr>\n",
       "    <tr>\n",
       "      <th>491</th>\n",
       "      <td>Monsieur</td>\n",
       "      <td>Imperatori Alexandre</td>\n",
       "      <td>NaN</td>\n",
       "      <td>NaN</td>\n",
       "      <td>NaN</td>\n",
       "      <td>NaN</td>\n",
       "      <td>NaN</td>\n",
       "      <td>Congé</td>\n",
       "      <td>NaN</td>\n",
       "      <td>NaN</td>\n",
       "      <td>166491</td>\n",
       "      <td>Informatique</td>\n",
       "      <td>2009-2010</td>\n",
       "      <td>Master semestre 1</td>\n",
       "    </tr>\n",
       "    <tr>\n",
       "      <th>551</th>\n",
       "      <td>Monsieur</td>\n",
       "      <td>Imperatori Alexandre</td>\n",
       "      <td>NaN</td>\n",
       "      <td>NaN</td>\n",
       "      <td>NaN</td>\n",
       "      <td>NaN</td>\n",
       "      <td>NaN</td>\n",
       "      <td>Présent</td>\n",
       "      <td>NaN</td>\n",
       "      <td>NaN</td>\n",
       "      <td>166491</td>\n",
       "      <td>Informatique</td>\n",
       "      <td>2009-2010</td>\n",
       "      <td>Master semestre 2</td>\n",
       "    </tr>\n",
       "  </tbody>\n",
       "</table>\n",
       "</div>"
      ],
      "text/plain": [
       "     Civilité            Nom Prénom  Orientation Bachelor  Orientation Master  \\\n",
       "430  Monsieur  Imperatori Alexandre                   NaN                 NaN   \n",
       "492  Monsieur  Imperatori Alexandre                   NaN                 NaN   \n",
       "404  Monsieur  Imperatori Alexandre                   NaN                 NaN   \n",
       "479  Monsieur  Imperatori Alexandre                   NaN                 NaN   \n",
       "740  Monsieur  Imperatori Alexandre                   NaN                 NaN   \n",
       "771  Monsieur  Imperatori Alexandre                   NaN                 NaN   \n",
       "491  Monsieur  Imperatori Alexandre                   NaN                 NaN   \n",
       "551  Monsieur  Imperatori Alexandre                   NaN                 NaN   \n",
       "\n",
       "    Spécialisation Filière opt. Mineur   Statut Type Echange Ecole Echange  \\\n",
       "430            NaN          NaN    NaN  Présent          NaN           NaN   \n",
       "492            NaN          NaN    NaN    Congé          NaN           NaN   \n",
       "404            NaN          NaN    NaN  Présent          NaN           NaN   \n",
       "479            NaN          NaN    NaN    Congé          NaN           NaN   \n",
       "740            NaN          NaN    NaN  Présent          NaN           NaN   \n",
       "771            NaN          NaN    NaN    Congé          NaN           NaN   \n",
       "491            NaN          NaN    NaN    Congé          NaN           NaN   \n",
       "551            NaN          NaN    NaN  Présent          NaN           NaN   \n",
       "\n",
       "     No Sciper       Subject     Period                 Semester  \n",
       "430     166491  Informatique  2008-2009        Master semestre 1  \n",
       "492     166491  Informatique  2008-2009        Master semestre 2  \n",
       "404     166491  Informatique  2007-2008        Master semestre 1  \n",
       "479     166491  Informatique  2007-2008        Master semestre 2  \n",
       "740     166491  Informatique  2010-2011        Master semestre 3  \n",
       "771     166491  Informatique  2010-2011  Projet Master printemps  \n",
       "491     166491  Informatique  2009-2010        Master semestre 1  \n",
       "551     166491  Informatique  2009-2010        Master semestre 2  "
      ]
     },
     "execution_count": 42,
     "metadata": {},
     "output_type": "execute_result"
    }
   ],
   "source": [
    "# pro\n",
    "ma.loc[ma['No Sciper'] == 166491]"
   ]
  }
 ],
 "metadata": {
  "anaconda-cloud": {},
  "kernelspec": {
   "display_name": "Python [Root]",
   "language": "python",
   "name": "Python [Root]"
  },
  "language_info": {
   "codemirror_mode": {
    "name": "ipython",
    "version": 3
   },
   "file_extension": ".py",
   "mimetype": "text/x-python",
   "name": "python",
   "nbconvert_exporter": "python",
   "pygments_lexer": "ipython3",
   "version": "3.5.2"
  }
 },
 "nbformat": 4,
 "nbformat_minor": 0
}
