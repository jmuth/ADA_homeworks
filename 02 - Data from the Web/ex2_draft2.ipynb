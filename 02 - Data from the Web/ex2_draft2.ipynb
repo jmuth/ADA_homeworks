{
 "cells": [
  {
   "cell_type": "code",
   "execution_count": 1,
   "metadata": {
    "collapsed": true
   },
   "outputs": [],
   "source": [
    "import pandas as pd\n",
    "import scipy.stats as stats\n",
    "import os\n",
    "import matplotlib.pyplot as plt\n",
    "import numpy as np\n",
    "%matplotlib inline"
   ]
  },
  {
   "cell_type": "markdown",
   "metadata": {},
   "source": [
    "Concatenate our files. Reminder: we have a file per year, we all of 'Informatique' in it."
   ]
  },
  {
   "cell_type": "code",
   "execution_count": 2,
   "metadata": {
    "collapsed": true
   },
   "outputs": [],
   "source": [
    "# requires os\n",
    "def concatFiles(direc, fileType):\n",
    "    files = os.listdir(direc)\n",
    "    if '.DS_Store' in files:\n",
    "        files.remove('.DS_Store')\n",
    "    print(files)\n",
    "    if fileType == 'csv':\n",
    "        r = pd.read_csv\n",
    "    for idx, file in enumerate(files):\n",
    "        file = direc+file\n",
    "        if idx == 0:\n",
    "            df = r(file, header=0)\n",
    "            print(file)\n",
    "        else:\n",
    "            new = r(file, header=0)\n",
    "            df = pd.concat([df, new], axis=0)\n",
    "            print(file)\n",
    "    return df"
   ]
  },
  {
   "cell_type": "code",
   "execution_count": 3,
   "metadata": {
    "collapsed": false
   },
   "outputs": [
    {
     "name": "stdout",
     "output_type": "stream",
     "text": [
      "['informatique_2011_2012.csv', 'informatique_2014_2015.csv', 'informatique_2012_2013.csv', 'informatique_2008_2009.csv', 'informatique_2007_2008.csv', 'informatique_2016_2017.csv', 'informatique_2015_2016.csv', 'informatique_2010_2011.csv', 'informatique_2013_2014.csv', 'informatique_2009_2010.csv', '.~lock.informatique_2013_2014.csv#']\n",
      "data/informatique_2011_2012.csv\n",
      "data/informatique_2014_2015.csv\n",
      "data/informatique_2012_2013.csv\n",
      "data/informatique_2008_2009.csv\n",
      "data/informatique_2007_2008.csv\n",
      "data/informatique_2016_2017.csv\n",
      "data/informatique_2015_2016.csv\n",
      "data/informatique_2010_2011.csv\n",
      "data/informatique_2013_2014.csv\n",
      "data/informatique_2009_2010.csv\n",
      "data/.~lock.informatique_2013_2014.csv#\n"
     ]
    }
   ],
   "source": [
    "info = concatFiles('data/', 'csv')"
   ]
  },
  {
   "cell_type": "markdown",
   "metadata": {},
   "source": [
    "We want to take only the data for the Master students\n"
   ]
  },
  {
   "cell_type": "code",
   "execution_count": 4,
   "metadata": {
    "collapsed": true
   },
   "outputs": [],
   "source": [
    "def locator(s):\n",
    "    return s.find('Master') != -1"
   ]
  },
  {
   "cell_type": "code",
   "execution_count": 5,
   "metadata": {
    "collapsed": false
   },
   "outputs": [
    {
     "data": {
      "text/html": [
       "<div>\n",
       "<table border=\"1\" class=\"dataframe\">\n",
       "  <thead>\n",
       "    <tr style=\"text-align: right;\">\n",
       "      <th></th>\n",
       "      <th>13.10.2016 14:53</th>\n",
       "      <th>Civilité</th>\n",
       "      <th>Ecole Echange</th>\n",
       "      <th>Filière opt.</th>\n",
       "      <th>Mineur</th>\n",
       "      <th>No Sciper</th>\n",
       "      <th>Nom Prénom</th>\n",
       "      <th>Orientation Bachelor</th>\n",
       "      <th>Orientation Master</th>\n",
       "      <th>Period</th>\n",
       "      <th>Semester</th>\n",
       "      <th>Spécialisation</th>\n",
       "      <th>Statut</th>\n",
       "      <th>Subject</th>\n",
       "      <th>Type Echange</th>\n",
       "      <th>Unnamed: 0</th>\n",
       "      <th>file:///home/gael/.config/libreoffice/4;</th>\n",
       "      <th>gael</th>\n",
       "      <th>gael-Alienware-15-R2</th>\n",
       "    </tr>\n",
       "  </thead>\n",
       "  <tbody>\n",
       "    <tr>\n",
       "      <th>574</th>\n",
       "      <td>NaN</td>\n",
       "      <td>Monsieur</td>\n",
       "      <td>NaN</td>\n",
       "      <td>NaN</td>\n",
       "      <td>NaN</td>\n",
       "      <td>184772.0</td>\n",
       "      <td>Arnfred Jonas</td>\n",
       "      <td>NaN</td>\n",
       "      <td>NaN</td>\n",
       "      <td>2011-2012</td>\n",
       "      <td>Master semestre 1</td>\n",
       "      <td>NaN</td>\n",
       "      <td>Présent</td>\n",
       "      <td>Informatique</td>\n",
       "      <td>NaN</td>\n",
       "      <td>NaN</td>\n",
       "      <td>NaN</td>\n",
       "      <td>NaN</td>\n",
       "      <td>NaN</td>\n",
       "    </tr>\n",
       "    <tr>\n",
       "      <th>575</th>\n",
       "      <td>NaN</td>\n",
       "      <td>Monsieur</td>\n",
       "      <td>NaN</td>\n",
       "      <td>NaN</td>\n",
       "      <td>NaN</td>\n",
       "      <td>211754.0</td>\n",
       "      <td>Asgari Ehsaneddin</td>\n",
       "      <td>NaN</td>\n",
       "      <td>NaN</td>\n",
       "      <td>2011-2012</td>\n",
       "      <td>Master semestre 1</td>\n",
       "      <td>NaN</td>\n",
       "      <td>Présent</td>\n",
       "      <td>Informatique</td>\n",
       "      <td>NaN</td>\n",
       "      <td>NaN</td>\n",
       "      <td>NaN</td>\n",
       "      <td>NaN</td>\n",
       "      <td>NaN</td>\n",
       "    </tr>\n",
       "    <tr>\n",
       "      <th>576</th>\n",
       "      <td>NaN</td>\n",
       "      <td>Monsieur</td>\n",
       "      <td>NaN</td>\n",
       "      <td>NaN</td>\n",
       "      <td>NaN</td>\n",
       "      <td>179406.0</td>\n",
       "      <td>Baeriswyl Jonathan</td>\n",
       "      <td>NaN</td>\n",
       "      <td>NaN</td>\n",
       "      <td>2011-2012</td>\n",
       "      <td>Master semestre 1</td>\n",
       "      <td>NaN</td>\n",
       "      <td>Présent</td>\n",
       "      <td>Informatique</td>\n",
       "      <td>NaN</td>\n",
       "      <td>NaN</td>\n",
       "      <td>NaN</td>\n",
       "      <td>NaN</td>\n",
       "      <td>NaN</td>\n",
       "    </tr>\n",
       "    <tr>\n",
       "      <th>577</th>\n",
       "      <td>NaN</td>\n",
       "      <td>Madame</td>\n",
       "      <td>NaN</td>\n",
       "      <td>NaN</td>\n",
       "      <td>NaN</td>\n",
       "      <td>209850.0</td>\n",
       "      <td>Bai Yi</td>\n",
       "      <td>NaN</td>\n",
       "      <td>NaN</td>\n",
       "      <td>2011-2012</td>\n",
       "      <td>Master semestre 1</td>\n",
       "      <td>NaN</td>\n",
       "      <td>Présent</td>\n",
       "      <td>Informatique</td>\n",
       "      <td>NaN</td>\n",
       "      <td>NaN</td>\n",
       "      <td>NaN</td>\n",
       "      <td>NaN</td>\n",
       "      <td>NaN</td>\n",
       "    </tr>\n",
       "    <tr>\n",
       "      <th>578</th>\n",
       "      <td>NaN</td>\n",
       "      <td>Monsieur</td>\n",
       "      <td>NaN</td>\n",
       "      <td>NaN</td>\n",
       "      <td>NaN</td>\n",
       "      <td>179428.0</td>\n",
       "      <td>Barroco Michael</td>\n",
       "      <td>NaN</td>\n",
       "      <td>NaN</td>\n",
       "      <td>2011-2012</td>\n",
       "      <td>Master semestre 1</td>\n",
       "      <td>NaN</td>\n",
       "      <td>Présent</td>\n",
       "      <td>Informatique</td>\n",
       "      <td>NaN</td>\n",
       "      <td>NaN</td>\n",
       "      <td>NaN</td>\n",
       "      <td>NaN</td>\n",
       "      <td>NaN</td>\n",
       "    </tr>\n",
       "  </tbody>\n",
       "</table>\n",
       "</div>"
      ],
      "text/plain": [
       "    13.10.2016 14:53  Civilité Ecole Echange Filière opt. Mineur  No Sciper  \\\n",
       "574              NaN  Monsieur           NaN          NaN    NaN   184772.0   \n",
       "575              NaN  Monsieur           NaN          NaN    NaN   211754.0   \n",
       "576              NaN  Monsieur           NaN          NaN    NaN   179406.0   \n",
       "577              NaN    Madame           NaN          NaN    NaN   209850.0   \n",
       "578              NaN  Monsieur           NaN          NaN    NaN   179428.0   \n",
       "\n",
       "             Nom Prénom  Orientation Bachelor  Orientation Master     Period  \\\n",
       "574       Arnfred Jonas                   NaN                 NaN  2011-2012   \n",
       "575   Asgari Ehsaneddin                   NaN                 NaN  2011-2012   \n",
       "576  Baeriswyl Jonathan                   NaN                 NaN  2011-2012   \n",
       "577              Bai Yi                   NaN                 NaN  2011-2012   \n",
       "578     Barroco Michael                   NaN                 NaN  2011-2012   \n",
       "\n",
       "              Semester Spécialisation   Statut       Subject Type Echange  \\\n",
       "574  Master semestre 1            NaN  Présent  Informatique          NaN   \n",
       "575  Master semestre 1            NaN  Présent  Informatique          NaN   \n",
       "576  Master semestre 1            NaN  Présent  Informatique          NaN   \n",
       "577  Master semestre 1            NaN  Présent  Informatique          NaN   \n",
       "578  Master semestre 1            NaN  Présent  Informatique          NaN   \n",
       "\n",
       "    Unnamed: 0 file:///home/gael/.config/libreoffice/4; gael  \\\n",
       "574        NaN                                      NaN  NaN   \n",
       "575        NaN                                      NaN  NaN   \n",
       "576        NaN                                      NaN  NaN   \n",
       "577        NaN                                      NaN  NaN   \n",
       "578        NaN                                      NaN  NaN   \n",
       "\n",
       "    gael-Alienware-15-R2  \n",
       "574                  NaN  \n",
       "575                  NaN  \n",
       "576                  NaN  \n",
       "577                  NaN  \n",
       "578                  NaN  "
      ]
     },
     "execution_count": 5,
     "metadata": {},
     "output_type": "execute_result"
    }
   ],
   "source": [
    "ma = info.loc[info['Semester'].apply(locator)]\n",
    "ma.head()\n"
   ]
  },
  {
   "cell_type": "markdown",
   "metadata": {},
   "source": [
    "We define a function to locate a specific sciper #. They are unique."
   ]
  },
  {
   "cell_type": "code",
   "execution_count": 6,
   "metadata": {
    "collapsed": true
   },
   "outputs": [],
   "source": [
    "def locSciper(df, sciper):\n",
    "    return df.loc[df['No Sciper'] == sciper]"
   ]
  },
  {
   "cell_type": "code",
   "execution_count": 7,
   "metadata": {
    "collapsed": true
   },
   "outputs": [],
   "source": [
    "def getGender(df):\n",
    "    \"\"\" Take a DataFrame and checks the gender\n",
    "    \n",
    "    Args:\n",
    "        df (DataFrame): a DataFrame, typically a .loc on a specific student\n",
    "        \n",
    "    Returns:\n",
    "        bool: True if student is a woman, False otherwise\n",
    "    \"\"\"\n",
    "    try:\n",
    "        if df.isin(['Madame'])['Civilité'].value_counts()[True] > 0:\n",
    "            return 1\n",
    "    except KeyError:\n",
    "        return 0"
   ]
  },
  {
   "cell_type": "code",
   "execution_count": 8,
   "metadata": {
    "collapsed": true
   },
   "outputs": [],
   "source": [
    "def getMaster3(df):\n",
    "    \"\"\" Take a DataFrame and checks if the student had a Master Project\n",
    "    \n",
    "    Args:\n",
    "        df (DataFrame): a DataFrame, typically a .loc on a specific student\n",
    "        \n",
    "    Returns:\n",
    "        bool: True if student had a Master 3, False otherwise\n",
    "    \"\"\"\n",
    "    try:\n",
    "        if df.isin(['Master semestre 3'])['Semester'].value_counts()[True] > 0:\n",
    "            return 1\n",
    "    except KeyError:\n",
    "        return 0    "
   ]
  },
  {
   "cell_type": "code",
   "execution_count": 9,
   "metadata": {
    "collapsed": true
   },
   "outputs": [],
   "source": [
    "def getMasterProject(df):\n",
    "    \"\"\" Take a DataFrame and checks if the student had a Master Project\n",
    "    \n",
    "    Args:\n",
    "        df (DataFrame): a DataFrame, typically a .loc on a specific student\n",
    "        \n",
    "    Returns:\n",
    "        bool: True if student had a Master 3, False otherwise\n",
    "    \"\"\"\n",
    "    try:\n",
    "        if df.isin(['Projet Master automne'])['Semester'].value_counts()[True] > 0:\n",
    "            return 1\n",
    "        elif df.isin(['Projet Master printemps'])['Semester'].value_counts()[True] > 0:\n",
    "            return 1        \n",
    "    except KeyError:\n",
    "        return 0  "
   ]
  },
  {
   "cell_type": "code",
   "execution_count": 10,
   "metadata": {
    "collapsed": true
   },
   "outputs": [],
   "source": [
    "def isOneTwo(df):\n",
    "    \"\"\" Take a DataFrame and check that there is an entry for both BA1 and BA6\n",
    "    \n",
    "    Args:\n",
    "        df (DataFrame): a DataFrame, typically a .loc on a specific student\n",
    "        \n",
    "    Returns:\n",
    "        bool: True if it finds both BA1 and BA6, False otherwise\n",
    "    \"\"\"\n",
    "    try:\n",
    "        one = df.isin(['Master semestre 1'])['Semester'].value_counts()[True] > 0\n",
    "    except KeyError:\n",
    "        one = 0\n",
    "    try:\n",
    "        two = df.isin(['Master semestre 2'])['Semester'].value_counts()[True] > 0\n",
    "    except KeyError:\n",
    "        two = 0\n",
    "    return (one and two)"
   ]
  },
  {
   "cell_type": "code",
   "execution_count": 11,
   "metadata": {
    "collapsed": true
   },
   "outputs": [],
   "source": [
    "def started_before_2015(df):\n",
    "    \"\"\" Take a DataFrame and check that there is an entry for both BA1 and BA6\n",
    "    \n",
    "    Args:\n",
    "        df (DataFrame): a DataFrame, typically a .loc on a specific student\n",
    "        \n",
    "    Returns:\n",
    "        bool: True if it finds both BA1 and BA6, False otherwise\n",
    "    \"\"\"\n",
    "    wrong_years = ['2015-2016', '2016-2017'] \n",
    "    \n",
    "    try:\n",
    "        periods_ma1 = df.loc[df['Semester'] == 'Master semestre 1'].Period\n",
    "        if any(years in wrong_years for years in periods_ma1):\n",
    "            return False\n",
    "        else:\n",
    "            return True\n",
    "    except KeyError:\n",
    "        return False"
   ]
  },
  {
   "cell_type": "code",
   "execution_count": 34,
   "metadata": {
    "collapsed": true
   },
   "outputs": [],
   "source": [
    "def getYearStartedMaster(df):\n",
    "    \"\"\" Take a DataFrame and checks if the student had a Master Project\n",
    "    \n",
    "    Args:\n",
    "        df (DataFrame): a DataFrame, typically a .loc on a specific student\n",
    "        \n",
    "    Returns:\n",
    "        bool: True if student had a Master 3, False otherwise\n",
    "    \"\"\"\n",
    "    try:\n",
    "        return np.array(df.loc[df['Semester'] == 'Master semestre 1'].Period)[-1]\n",
    "    except KeyError:\n",
    "        return None"
   ]
  },
  {
   "cell_type": "markdown",
   "metadata": {},
   "source": [
    "Loop through all the students\n"
   ]
  },
  {
   "cell_type": "code",
   "execution_count": 146,
   "metadata": {
    "collapsed": false
   },
   "outputs": [],
   "source": [
    "# We need to remove the students who started too late. \n",
    "# Let's say 2 sem without spec. 3 sem with spec\n",
    "\n",
    "dico = {'sciper': [], 'gender': [], 'length': [], \n",
    "        'Master3': [], 'MasterProject': [], 'Specialization':[],\n",
    "        'YearStarted': []}\n",
    "# Do some tests\n",
    "for row in ma.iterrows():\n",
    "    o = row[1]\n",
    "    sciper = o['No Sciper']\n",
    "    if not sciper in dico['sciper']:\n",
    "        df = locSciper(ma, sciper)\n",
    "        if isOneTwo(df) and started_before_2015(df):\n",
    "            dico['sciper'].append(sciper)\n",
    "            dico['gender'].append(getGender(df))\n",
    "            # Calculating length of stay by nbr of rows\n",
    "            dico['length'].append(len(df))\n",
    "            dico['MasterProject'].append(getMasterProject(df))\n",
    "            dico['Master3'].append(getMaster3(df))\n",
    "            dico['Specialization'].append(o['Spécialisation'])\n",
    "            dico['YearStarted'].append(getYearStartedMaster(df))"
   ]
  },
  {
   "cell_type": "code",
   "execution_count": 147,
   "metadata": {
    "collapsed": false
   },
   "outputs": [
    {
     "data": {
      "text/html": [
       "<div>\n",
       "<table border=\"1\" class=\"dataframe\">\n",
       "  <thead>\n",
       "    <tr style=\"text-align: right;\">\n",
       "      <th></th>\n",
       "      <th>Master3</th>\n",
       "      <th>MasterProject</th>\n",
       "      <th>Specialization</th>\n",
       "      <th>YearStarted</th>\n",
       "      <th>gender</th>\n",
       "      <th>length</th>\n",
       "      <th>sciper</th>\n",
       "    </tr>\n",
       "  </thead>\n",
       "  <tbody>\n",
       "    <tr>\n",
       "      <th>0</th>\n",
       "      <td>1</td>\n",
       "      <td>0</td>\n",
       "      <td>NaN</td>\n",
       "      <td>2011-2012</td>\n",
       "      <td>0</td>\n",
       "      <td>3</td>\n",
       "      <td>184772.0</td>\n",
       "    </tr>\n",
       "    <tr>\n",
       "      <th>1</th>\n",
       "      <td>1</td>\n",
       "      <td>0</td>\n",
       "      <td>NaN</td>\n",
       "      <td>2011-2012</td>\n",
       "      <td>0</td>\n",
       "      <td>4</td>\n",
       "      <td>211754.0</td>\n",
       "    </tr>\n",
       "    <tr>\n",
       "      <th>2</th>\n",
       "      <td>1</td>\n",
       "      <td>0</td>\n",
       "      <td>NaN</td>\n",
       "      <td>2011-2012</td>\n",
       "      <td>0</td>\n",
       "      <td>4</td>\n",
       "      <td>179406.0</td>\n",
       "    </tr>\n",
       "    <tr>\n",
       "      <th>3</th>\n",
       "      <td>1</td>\n",
       "      <td>0</td>\n",
       "      <td>NaN</td>\n",
       "      <td>2011-2012</td>\n",
       "      <td>1</td>\n",
       "      <td>3</td>\n",
       "      <td>209850.0</td>\n",
       "    </tr>\n",
       "    <tr>\n",
       "      <th>4</th>\n",
       "      <td>0</td>\n",
       "      <td>0</td>\n",
       "      <td>NaN</td>\n",
       "      <td>2011-2012</td>\n",
       "      <td>0</td>\n",
       "      <td>2</td>\n",
       "      <td>179428.0</td>\n",
       "    </tr>\n",
       "  </tbody>\n",
       "</table>\n",
       "</div>"
      ],
      "text/plain": [
       "   Master3  MasterProject Specialization YearStarted  gender  length    sciper\n",
       "0        1              0            NaN   2011-2012       0       3  184772.0\n",
       "1        1              0            NaN   2011-2012       0       4  211754.0\n",
       "2        1              0            NaN   2011-2012       0       4  179406.0\n",
       "3        1              0            NaN   2011-2012       1       3  209850.0\n",
       "4        0              0            NaN   2011-2012       0       2  179428.0"
      ]
     },
     "execution_count": 147,
     "metadata": {},
     "output_type": "execute_result"
    }
   ],
   "source": [
    "data = pd.DataFrame(dico)\n",
    "data.head()"
   ]
  },
  {
   "cell_type": "code",
   "execution_count": 38,
   "metadata": {
    "collapsed": false
   },
   "outputs": [
    {
     "data": {
      "text/plain": [
       "count    622.000000\n",
       "mean       3.461415\n",
       "std        1.089087\n",
       "min        2.000000\n",
       "25%        3.000000\n",
       "50%        3.000000\n",
       "75%        4.000000\n",
       "max        8.000000\n",
       "Name: length, dtype: float64"
      ]
     },
     "execution_count": 38,
     "metadata": {},
     "output_type": "execute_result"
    }
   ],
   "source": [
    "data.length.describe()"
   ]
  },
  {
   "cell_type": "markdown",
   "metadata": {},
   "source": [
    "2 is wrong\n"
   ]
  },
  {
   "cell_type": "code",
   "execution_count": 39,
   "metadata": {
    "collapsed": false
   },
   "outputs": [],
   "source": [
    "data = data.drop(data[data.length < 3].index)"
   ]
  },
  {
   "cell_type": "code",
   "execution_count": 40,
   "metadata": {
    "collapsed": false
   },
   "outputs": [
    {
     "data": {
      "text/plain": [
       "count    509.000000\n",
       "mean       3.785855\n",
       "std        0.932419\n",
       "min        3.000000\n",
       "25%        3.000000\n",
       "50%        4.000000\n",
       "75%        4.000000\n",
       "max        8.000000\n",
       "Name: length, dtype: float64"
      ]
     },
     "execution_count": 40,
     "metadata": {},
     "output_type": "execute_result"
    }
   ],
   "source": [
    "data.length.describe()"
   ]
  },
  {
   "cell_type": "code",
   "execution_count": 41,
   "metadata": {
    "collapsed": false
   },
   "outputs": [
    {
     "data": {
      "text/html": [
       "<div>\n",
       "<table border=\"1\" class=\"dataframe\">\n",
       "  <thead>\n",
       "    <tr style=\"text-align: right;\">\n",
       "      <th></th>\n",
       "      <th>Master3</th>\n",
       "      <th>MasterProject</th>\n",
       "      <th>Specialization</th>\n",
       "      <th>YearStarted</th>\n",
       "      <th>gender</th>\n",
       "      <th>length</th>\n",
       "      <th>sciper</th>\n",
       "    </tr>\n",
       "  </thead>\n",
       "  <tbody>\n",
       "    <tr>\n",
       "      <th>11</th>\n",
       "      <td>1</td>\n",
       "      <td>0</td>\n",
       "      <td>Signals, Images and Interfaces</td>\n",
       "      <td>2011-2012</td>\n",
       "      <td>0</td>\n",
       "      <td>4</td>\n",
       "      <td>184991.0</td>\n",
       "    </tr>\n",
       "    <tr>\n",
       "      <th>21</th>\n",
       "      <td>1</td>\n",
       "      <td>0</td>\n",
       "      <td>Internet computing</td>\n",
       "      <td>2011-2012</td>\n",
       "      <td>0</td>\n",
       "      <td>4</td>\n",
       "      <td>214805.0</td>\n",
       "    </tr>\n",
       "    <tr>\n",
       "      <th>24</th>\n",
       "      <td>1</td>\n",
       "      <td>0</td>\n",
       "      <td>Software Systems</td>\n",
       "      <td>2011-2012</td>\n",
       "      <td>0</td>\n",
       "      <td>3</td>\n",
       "      <td>185853.0</td>\n",
       "    </tr>\n",
       "    <tr>\n",
       "      <th>28</th>\n",
       "      <td>1</td>\n",
       "      <td>0</td>\n",
       "      <td>Signals, Images and Interfaces</td>\n",
       "      <td>2011-2012</td>\n",
       "      <td>0</td>\n",
       "      <td>4</td>\n",
       "      <td>147008.0</td>\n",
       "    </tr>\n",
       "    <tr>\n",
       "      <th>48</th>\n",
       "      <td>1</td>\n",
       "      <td>0</td>\n",
       "      <td>Foundations of Software</td>\n",
       "      <td>2011-2012</td>\n",
       "      <td>0</td>\n",
       "      <td>5</td>\n",
       "      <td>186250.0</td>\n",
       "    </tr>\n",
       "  </tbody>\n",
       "</table>\n",
       "</div>"
      ],
      "text/plain": [
       "    Master3  MasterProject                  Specialization YearStarted  \\\n",
       "11        1              0  Signals, Images and Interfaces   2011-2012   \n",
       "21        1              0              Internet computing   2011-2012   \n",
       "24        1              0                Software Systems   2011-2012   \n",
       "28        1              0  Signals, Images and Interfaces   2011-2012   \n",
       "48        1              0         Foundations of Software   2011-2012   \n",
       "\n",
       "    gender  length    sciper  \n",
       "11       0       4  184991.0  \n",
       "21       0       4  214805.0  \n",
       "24       0       3  185853.0  \n",
       "28       0       4  147008.0  \n",
       "48       0       5  186250.0  "
      ]
     },
     "execution_count": 41,
     "metadata": {},
     "output_type": "execute_result"
    }
   ],
   "source": [
    "data_spec = data[~data[\"Specialization\"].isnull()]\n",
    "data_spec.head()"
   ]
  },
  {
   "cell_type": "code",
   "execution_count": 42,
   "metadata": {
    "collapsed": false
   },
   "outputs": [
    {
     "data": {
      "text/plain": [
       "array(['Signals, Images and Interfaces', 'Internet computing',\n",
       "       'Software Systems', 'Foundations of Software', 'Service science',\n",
       "       'Computer Engineering - SP', 'Information Security - SP',\n",
       "       'Biocomputing'], dtype=object)"
      ]
     },
     "execution_count": 42,
     "metadata": {},
     "output_type": "execute_result"
    }
   ],
   "source": [
    "data_spec.Specialization.unique()"
   ]
  },
  {
   "cell_type": "code",
   "execution_count": 43,
   "metadata": {
    "collapsed": false
   },
   "outputs": [
    {
     "data": {
      "text/html": [
       "<div>\n",
       "<table border=\"1\" class=\"dataframe\">\n",
       "  <thead>\n",
       "    <tr style=\"text-align: right;\">\n",
       "      <th></th>\n",
       "      <th>Master3</th>\n",
       "      <th>MasterProject</th>\n",
       "      <th>YearStarted</th>\n",
       "      <th>gender</th>\n",
       "      <th>length</th>\n",
       "      <th>sciper</th>\n",
       "    </tr>\n",
       "    <tr>\n",
       "      <th>Specialization</th>\n",
       "      <th></th>\n",
       "      <th></th>\n",
       "      <th></th>\n",
       "      <th></th>\n",
       "      <th></th>\n",
       "      <th></th>\n",
       "    </tr>\n",
       "  </thead>\n",
       "  <tbody>\n",
       "    <tr>\n",
       "      <th>Biocomputing</th>\n",
       "      <td>2</td>\n",
       "      <td>2</td>\n",
       "      <td>2</td>\n",
       "      <td>2</td>\n",
       "      <td>2</td>\n",
       "      <td>2</td>\n",
       "    </tr>\n",
       "    <tr>\n",
       "      <th>Computer Engineering - SP</th>\n",
       "      <td>5</td>\n",
       "      <td>5</td>\n",
       "      <td>5</td>\n",
       "      <td>5</td>\n",
       "      <td>5</td>\n",
       "      <td>5</td>\n",
       "    </tr>\n",
       "    <tr>\n",
       "      <th>Foundations of Software</th>\n",
       "      <td>39</td>\n",
       "      <td>39</td>\n",
       "      <td>39</td>\n",
       "      <td>39</td>\n",
       "      <td>39</td>\n",
       "      <td>39</td>\n",
       "    </tr>\n",
       "    <tr>\n",
       "      <th>Information Security - SP</th>\n",
       "      <td>1</td>\n",
       "      <td>1</td>\n",
       "      <td>1</td>\n",
       "      <td>1</td>\n",
       "      <td>1</td>\n",
       "      <td>1</td>\n",
       "    </tr>\n",
       "    <tr>\n",
       "      <th>Internet computing</th>\n",
       "      <td>54</td>\n",
       "      <td>54</td>\n",
       "      <td>54</td>\n",
       "      <td>54</td>\n",
       "      <td>54</td>\n",
       "      <td>54</td>\n",
       "    </tr>\n",
       "    <tr>\n",
       "      <th>Service science</th>\n",
       "      <td>3</td>\n",
       "      <td>3</td>\n",
       "      <td>3</td>\n",
       "      <td>3</td>\n",
       "      <td>3</td>\n",
       "      <td>3</td>\n",
       "    </tr>\n",
       "    <tr>\n",
       "      <th>Signals, Images and Interfaces</th>\n",
       "      <td>16</td>\n",
       "      <td>16</td>\n",
       "      <td>16</td>\n",
       "      <td>16</td>\n",
       "      <td>16</td>\n",
       "      <td>16</td>\n",
       "    </tr>\n",
       "    <tr>\n",
       "      <th>Software Systems</th>\n",
       "      <td>7</td>\n",
       "      <td>7</td>\n",
       "      <td>7</td>\n",
       "      <td>7</td>\n",
       "      <td>7</td>\n",
       "      <td>7</td>\n",
       "    </tr>\n",
       "  </tbody>\n",
       "</table>\n",
       "</div>"
      ],
      "text/plain": [
       "                                Master3  MasterProject  YearStarted  gender  \\\n",
       "Specialization                                                                \n",
       "Biocomputing                          2              2            2       2   \n",
       "Computer Engineering - SP             5              5            5       5   \n",
       "Foundations of Software              39             39           39      39   \n",
       "Information Security - SP             1              1            1       1   \n",
       "Internet computing                   54             54           54      54   \n",
       "Service science                       3              3            3       3   \n",
       "Signals, Images and Interfaces       16             16           16      16   \n",
       "Software Systems                      7              7            7       7   \n",
       "\n",
       "                                length  sciper  \n",
       "Specialization                                  \n",
       "Biocomputing                         2       2  \n",
       "Computer Engineering - SP            5       5  \n",
       "Foundations of Software             39      39  \n",
       "Information Security - SP            1       1  \n",
       "Internet computing                  54      54  \n",
       "Service science                      3       3  \n",
       "Signals, Images and Interfaces      16      16  \n",
       "Software Systems                     7       7  "
      ]
     },
     "execution_count": 43,
     "metadata": {},
     "output_type": "execute_result"
    }
   ],
   "source": [
    "data_spec.groupby(['Specialization']).count()"
   ]
  },
  {
   "cell_type": "code",
   "execution_count": 44,
   "metadata": {
    "collapsed": false
   },
   "outputs": [
    {
     "data": {
      "text/html": [
       "<div>\n",
       "<table border=\"1\" class=\"dataframe\">\n",
       "  <thead>\n",
       "    <tr style=\"text-align: right;\">\n",
       "      <th></th>\n",
       "      <th>Master3</th>\n",
       "      <th>MasterProject</th>\n",
       "      <th>gender</th>\n",
       "      <th>length</th>\n",
       "      <th>sciper</th>\n",
       "    </tr>\n",
       "    <tr>\n",
       "      <th>Specialization</th>\n",
       "      <th></th>\n",
       "      <th></th>\n",
       "      <th></th>\n",
       "      <th></th>\n",
       "      <th></th>\n",
       "    </tr>\n",
       "  </thead>\n",
       "  <tbody>\n",
       "    <tr>\n",
       "      <th>Biocomputing</th>\n",
       "      <td>1.000000</td>\n",
       "      <td>0.000000</td>\n",
       "      <td>0.500000</td>\n",
       "      <td>5.500000</td>\n",
       "      <td>162153.500000</td>\n",
       "    </tr>\n",
       "    <tr>\n",
       "      <th>Computer Engineering - SP</th>\n",
       "      <td>1.000000</td>\n",
       "      <td>0.000000</td>\n",
       "      <td>0.000000</td>\n",
       "      <td>3.200000</td>\n",
       "      <td>179925.600000</td>\n",
       "    </tr>\n",
       "    <tr>\n",
       "      <th>Foundations of Software</th>\n",
       "      <td>0.974359</td>\n",
       "      <td>0.025641</td>\n",
       "      <td>0.076923</td>\n",
       "      <td>3.923077</td>\n",
       "      <td>182902.692308</td>\n",
       "    </tr>\n",
       "    <tr>\n",
       "      <th>Information Security - SP</th>\n",
       "      <td>1.000000</td>\n",
       "      <td>1.000000</td>\n",
       "      <td>0.000000</td>\n",
       "      <td>5.000000</td>\n",
       "      <td>212859.000000</td>\n",
       "    </tr>\n",
       "    <tr>\n",
       "      <th>Internet computing</th>\n",
       "      <td>0.962963</td>\n",
       "      <td>0.055556</td>\n",
       "      <td>0.092593</td>\n",
       "      <td>3.888889</td>\n",
       "      <td>189945.148148</td>\n",
       "    </tr>\n",
       "    <tr>\n",
       "      <th>Service science</th>\n",
       "      <td>1.000000</td>\n",
       "      <td>0.333333</td>\n",
       "      <td>0.333333</td>\n",
       "      <td>3.666667</td>\n",
       "      <td>204981.000000</td>\n",
       "    </tr>\n",
       "    <tr>\n",
       "      <th>Signals, Images and Interfaces</th>\n",
       "      <td>1.000000</td>\n",
       "      <td>0.062500</td>\n",
       "      <td>0.000000</td>\n",
       "      <td>4.562500</td>\n",
       "      <td>179721.375000</td>\n",
       "    </tr>\n",
       "    <tr>\n",
       "      <th>Software Systems</th>\n",
       "      <td>1.000000</td>\n",
       "      <td>0.285714</td>\n",
       "      <td>0.000000</td>\n",
       "      <td>4.000000</td>\n",
       "      <td>202037.571429</td>\n",
       "    </tr>\n",
       "  </tbody>\n",
       "</table>\n",
       "</div>"
      ],
      "text/plain": [
       "                                 Master3  MasterProject    gender    length  \\\n",
       "Specialization                                                                \n",
       "Biocomputing                    1.000000       0.000000  0.500000  5.500000   \n",
       "Computer Engineering - SP       1.000000       0.000000  0.000000  3.200000   \n",
       "Foundations of Software         0.974359       0.025641  0.076923  3.923077   \n",
       "Information Security - SP       1.000000       1.000000  0.000000  5.000000   \n",
       "Internet computing              0.962963       0.055556  0.092593  3.888889   \n",
       "Service science                 1.000000       0.333333  0.333333  3.666667   \n",
       "Signals, Images and Interfaces  1.000000       0.062500  0.000000  4.562500   \n",
       "Software Systems                1.000000       0.285714  0.000000  4.000000   \n",
       "\n",
       "                                       sciper  \n",
       "Specialization                                 \n",
       "Biocomputing                    162153.500000  \n",
       "Computer Engineering - SP       179925.600000  \n",
       "Foundations of Software         182902.692308  \n",
       "Information Security - SP       212859.000000  \n",
       "Internet computing              189945.148148  \n",
       "Service science                 204981.000000  \n",
       "Signals, Images and Interfaces  179721.375000  \n",
       "Software Systems                202037.571429  "
      ]
     },
     "execution_count": 44,
     "metadata": {},
     "output_type": "execute_result"
    }
   ],
   "source": [
    "mean_spec = data_spec.groupby(['Specialization']).mean()\n",
    "mean_spec"
   ]
  },
  {
   "cell_type": "code",
   "execution_count": 45,
   "metadata": {
    "collapsed": false
   },
   "outputs": [
    {
     "data": {
      "text/plain": [
       "5.5"
      ]
     },
     "execution_count": 45,
     "metadata": {},
     "output_type": "execute_result"
    }
   ],
   "source": [
    "mean_spec.length.max()"
   ]
  },
  {
   "cell_type": "code",
   "execution_count": 46,
   "metadata": {
    "collapsed": false
   },
   "outputs": [
    {
     "name": "stdout",
     "output_type": "stream",
     "text": [
      "Signals, Images and Interfaces\n",
      "Ttest_indResult(statistic=-3.2419654448327786, pvalue=0.001262750878107682)\n",
      "\n",
      "Internet computing\n",
      "Ttest_indResult(statistic=-0.76487459537059066, pvalue=0.44466784823070771)\n",
      "\n",
      "Software Systems\n",
      "Ttest_indResult(statistic=-0.60432756957698608, pvalue=0.5458925291219503)\n",
      "\n",
      "Foundations of Software\n",
      "Ttest_indResult(statistic=-0.88414519848505302, pvalue=0.37700698981463265)\n",
      "\n",
      "Service science\n",
      "Ttest_indResult(statistic=0.22052188201440165, pvalue=0.82555298215558104)\n",
      "\n",
      "Computer Engineering - SP\n",
      "Ttest_indResult(statistic=1.4023327283794929, pvalue=0.16142192050351803)\n",
      "\n",
      "Information Security - SP\n",
      "Ttest_indResult(statistic=nan, pvalue=nan)\n",
      "\n",
      "Biocomputing\n",
      "Ttest_indResult(statistic=-2.5958593914470725, pvalue=0.0097080047358320039)\n",
      "\n"
     ]
    },
    {
     "name": "stderr",
     "output_type": "stream",
     "text": [
      "/home/gael/.local/lib/python3.5/site-packages/numpy/core/_methods.py:82: RuntimeWarning: Degrees of freedom <= 0 for slice\n",
      "  warnings.warn(\"Degrees of freedom <= 0 for slice\", RuntimeWarning)\n"
     ]
    }
   ],
   "source": [
    "for spec in data_spec.Specialization.unique():\n",
    "    print(spec)\n",
    "    students = data_spec.loc[data_spec.Specialization == spec]\n",
    "    print(stats.ttest_ind(a=data.length, b=students.length, ))\n",
    "    print()"
   ]
  },
  {
   "cell_type": "markdown",
   "metadata": {},
   "source": [
    "# Bonus\n"
   ]
  },
  {
   "cell_type": "code",
   "execution_count": 117,
   "metadata": {
    "collapsed": false
   },
   "outputs": [
    {
     "data": {
      "text/plain": [
       "3.463687150837989"
      ]
     },
     "execution_count": 117,
     "metadata": {},
     "output_type": "execute_result"
    }
   ],
   "source": [
    "men = data.loc[data.gender == 0]\n",
    "men.length.mean()"
   ]
  },
  {
   "cell_type": "code",
   "execution_count": 118,
   "metadata": {
    "collapsed": false
   },
   "outputs": [
    {
     "data": {
      "text/plain": [
       "3.447058823529412"
      ]
     },
     "execution_count": 118,
     "metadata": {},
     "output_type": "execute_result"
    }
   ],
   "source": [
    "women = data.loc[data.gender == 1]\n",
    "women.length.mean()"
   ]
  },
  {
   "cell_type": "code",
   "execution_count": 119,
   "metadata": {
    "collapsed": false
   },
   "outputs": [
    {
     "data": {
      "text/plain": [
       "Ttest_indResult(statistic=-0.13069038140928971, pvalue=0.89606263414595266)"
      ]
     },
     "execution_count": 119,
     "metadata": {},
     "output_type": "execute_result"
    }
   ],
   "source": [
    "stats.ttest_ind(a=women.length, b=men.length, )\n",
    "# Not significant at all"
   ]
  },
  {
   "cell_type": "code",
   "execution_count": 120,
   "metadata": {
    "collapsed": false
   },
   "outputs": [
    {
     "data": {
      "text/html": [
       "<div>\n",
       "<table border=\"1\" class=\"dataframe\">\n",
       "  <thead>\n",
       "    <tr style=\"text-align: right;\">\n",
       "      <th></th>\n",
       "      <th>Master3</th>\n",
       "      <th>MasterProject</th>\n",
       "      <th>Specialization</th>\n",
       "      <th>YearStarted</th>\n",
       "      <th>gender</th>\n",
       "      <th>length</th>\n",
       "      <th>sciper</th>\n",
       "    </tr>\n",
       "  </thead>\n",
       "  <tbody>\n",
       "    <tr>\n",
       "      <th>0</th>\n",
       "      <td>1</td>\n",
       "      <td>0</td>\n",
       "      <td>NaN</td>\n",
       "      <td>2011-2012</td>\n",
       "      <td>0</td>\n",
       "      <td>3</td>\n",
       "      <td>184772.0</td>\n",
       "    </tr>\n",
       "    <tr>\n",
       "      <th>1</th>\n",
       "      <td>1</td>\n",
       "      <td>0</td>\n",
       "      <td>NaN</td>\n",
       "      <td>2011-2012</td>\n",
       "      <td>0</td>\n",
       "      <td>4</td>\n",
       "      <td>211754.0</td>\n",
       "    </tr>\n",
       "    <tr>\n",
       "      <th>2</th>\n",
       "      <td>1</td>\n",
       "      <td>0</td>\n",
       "      <td>NaN</td>\n",
       "      <td>2011-2012</td>\n",
       "      <td>0</td>\n",
       "      <td>4</td>\n",
       "      <td>179406.0</td>\n",
       "    </tr>\n",
       "    <tr>\n",
       "      <th>4</th>\n",
       "      <td>0</td>\n",
       "      <td>0</td>\n",
       "      <td>NaN</td>\n",
       "      <td>2011-2012</td>\n",
       "      <td>0</td>\n",
       "      <td>2</td>\n",
       "      <td>179428.0</td>\n",
       "    </tr>\n",
       "    <tr>\n",
       "      <th>5</th>\n",
       "      <td>1</td>\n",
       "      <td>0</td>\n",
       "      <td>NaN</td>\n",
       "      <td>2011-2012</td>\n",
       "      <td>0</td>\n",
       "      <td>6</td>\n",
       "      <td>184814.0</td>\n",
       "    </tr>\n",
       "  </tbody>\n",
       "</table>\n",
       "</div>"
      ],
      "text/plain": [
       "   Master3  MasterProject Specialization YearStarted  gender  length    sciper\n",
       "0        1              0            NaN   2011-2012       0       3  184772.0\n",
       "1        1              0            NaN   2011-2012       0       4  211754.0\n",
       "2        1              0            NaN   2011-2012       0       4  179406.0\n",
       "4        0              0            NaN   2011-2012       0       2  179428.0\n",
       "5        1              0            NaN   2011-2012       0       6  184814.0"
      ]
     },
     "execution_count": 120,
     "metadata": {},
     "output_type": "execute_result"
    }
   ],
   "source": [
    "men.head()"
   ]
  },
  {
   "cell_type": "code",
   "execution_count": 148,
   "metadata": {
    "collapsed": false
   },
   "outputs": [
    {
     "data": {
      "text/html": [
       "<div>\n",
       "<table border=\"1\" class=\"dataframe\">\n",
       "  <thead>\n",
       "    <tr style=\"text-align: right;\">\n",
       "      <th></th>\n",
       "      <th>Master3</th>\n",
       "      <th>MasterProject</th>\n",
       "      <th>Specialization</th>\n",
       "      <th>YearStarted</th>\n",
       "      <th>gender</th>\n",
       "      <th>length</th>\n",
       "      <th>sciper</th>\n",
       "    </tr>\n",
       "  </thead>\n",
       "  <tbody>\n",
       "    <tr>\n",
       "      <th>0</th>\n",
       "      <td>1</td>\n",
       "      <td>0</td>\n",
       "      <td>NaN</td>\n",
       "      <td>4</td>\n",
       "      <td>0</td>\n",
       "      <td>3</td>\n",
       "      <td>184772.0</td>\n",
       "    </tr>\n",
       "    <tr>\n",
       "      <th>1</th>\n",
       "      <td>1</td>\n",
       "      <td>0</td>\n",
       "      <td>NaN</td>\n",
       "      <td>4</td>\n",
       "      <td>0</td>\n",
       "      <td>4</td>\n",
       "      <td>211754.0</td>\n",
       "    </tr>\n",
       "    <tr>\n",
       "      <th>2</th>\n",
       "      <td>1</td>\n",
       "      <td>0</td>\n",
       "      <td>NaN</td>\n",
       "      <td>4</td>\n",
       "      <td>0</td>\n",
       "      <td>4</td>\n",
       "      <td>179406.0</td>\n",
       "    </tr>\n",
       "    <tr>\n",
       "      <th>3</th>\n",
       "      <td>1</td>\n",
       "      <td>0</td>\n",
       "      <td>NaN</td>\n",
       "      <td>4</td>\n",
       "      <td>1</td>\n",
       "      <td>3</td>\n",
       "      <td>209850.0</td>\n",
       "    </tr>\n",
       "    <tr>\n",
       "      <th>4</th>\n",
       "      <td>0</td>\n",
       "      <td>0</td>\n",
       "      <td>NaN</td>\n",
       "      <td>4</td>\n",
       "      <td>0</td>\n",
       "      <td>2</td>\n",
       "      <td>179428.0</td>\n",
       "    </tr>\n",
       "  </tbody>\n",
       "</table>\n",
       "</div>"
      ],
      "text/plain": [
       "   Master3  MasterProject Specialization  YearStarted  gender  length  \\\n",
       "0        1              0            NaN            4       0       3   \n",
       "1        1              0            NaN            4       0       4   \n",
       "2        1              0            NaN            4       0       4   \n",
       "3        1              0            NaN            4       1       3   \n",
       "4        0              0            NaN            4       0       2   \n",
       "\n",
       "     sciper  \n",
       "0  184772.0  \n",
       "1  211754.0  \n",
       "2  179406.0  \n",
       "3  209850.0  \n",
       "4  179428.0  "
      ]
     },
     "execution_count": 148,
     "metadata": {},
     "output_type": "execute_result"
    }
   ],
   "source": [
    "# Prepare the data to plot in function of the years\n",
    "years = data.YearStarted.unique()\n",
    "\n",
    "val = [4,3,5,2,7,6,1,0]\n",
    "data = data.replace(to_replace=data.YearStarted.unique(), value=val)\n",
    "data.head()\n",
    "    \n",
    "    "
   ]
  },
  {
   "cell_type": "code",
   "execution_count": 149,
   "metadata": {
    "collapsed": false
   },
   "outputs": [
    {
     "data": {
      "text/html": [
       "<div>\n",
       "<table border=\"1\" class=\"dataframe\">\n",
       "  <thead>\n",
       "    <tr style=\"text-align: right;\">\n",
       "      <th></th>\n",
       "      <th>YearStarted</th>\n",
       "      <th>gender</th>\n",
       "      <th>length</th>\n",
       "    </tr>\n",
       "  </thead>\n",
       "  <tbody>\n",
       "    <tr>\n",
       "      <th>0</th>\n",
       "      <td>4</td>\n",
       "      <td>0</td>\n",
       "      <td>3</td>\n",
       "    </tr>\n",
       "    <tr>\n",
       "      <th>1</th>\n",
       "      <td>4</td>\n",
       "      <td>0</td>\n",
       "      <td>4</td>\n",
       "    </tr>\n",
       "    <tr>\n",
       "      <th>2</th>\n",
       "      <td>4</td>\n",
       "      <td>0</td>\n",
       "      <td>4</td>\n",
       "    </tr>\n",
       "    <tr>\n",
       "      <th>3</th>\n",
       "      <td>4</td>\n",
       "      <td>1</td>\n",
       "      <td>3</td>\n",
       "    </tr>\n",
       "    <tr>\n",
       "      <th>4</th>\n",
       "      <td>4</td>\n",
       "      <td>0</td>\n",
       "      <td>2</td>\n",
       "    </tr>\n",
       "  </tbody>\n",
       "</table>\n",
       "</div>"
      ],
      "text/plain": [
       "   YearStarted  gender  length\n",
       "0            4       0       3\n",
       "1            4       0       4\n",
       "2            4       0       4\n",
       "3            4       1       3\n",
       "4            4       0       2"
      ]
     },
     "execution_count": 149,
     "metadata": {},
     "output_type": "execute_result"
    }
   ],
   "source": [
    "data = data.drop(['Master3', 'MasterProject', 'Specialization', 'sciper'], axis=1)\n",
    "data.head()"
   ]
  },
  {
   "cell_type": "code",
   "execution_count": 150,
   "metadata": {
    "collapsed": false
   },
   "outputs": [
    {
     "data": {
      "text/html": [
       "<div>\n",
       "<table border=\"1\" class=\"dataframe\">\n",
       "  <thead>\n",
       "    <tr style=\"text-align: right;\">\n",
       "      <th></th>\n",
       "      <th>YearStarted</th>\n",
       "      <th>gender</th>\n",
       "      <th>length</th>\n",
       "    </tr>\n",
       "  </thead>\n",
       "  <tbody>\n",
       "    <tr>\n",
       "      <th>3</th>\n",
       "      <td>4</td>\n",
       "      <td>1</td>\n",
       "      <td>3</td>\n",
       "    </tr>\n",
       "    <tr>\n",
       "      <th>10</th>\n",
       "      <td>4</td>\n",
       "      <td>1</td>\n",
       "      <td>3</td>\n",
       "    </tr>\n",
       "    <tr>\n",
       "      <th>22</th>\n",
       "      <td>4</td>\n",
       "      <td>1</td>\n",
       "      <td>2</td>\n",
       "    </tr>\n",
       "    <tr>\n",
       "      <th>26</th>\n",
       "      <td>4</td>\n",
       "      <td>1</td>\n",
       "      <td>3</td>\n",
       "    </tr>\n",
       "    <tr>\n",
       "      <th>31</th>\n",
       "      <td>4</td>\n",
       "      <td>1</td>\n",
       "      <td>3</td>\n",
       "    </tr>\n",
       "  </tbody>\n",
       "</table>\n",
       "</div>"
      ],
      "text/plain": [
       "    YearStarted  gender  length\n",
       "3             4       1       3\n",
       "10            4       1       3\n",
       "22            4       1       2\n",
       "26            4       1       3\n",
       "31            4       1       3"
      ]
     },
     "execution_count": 150,
     "metadata": {},
     "output_type": "execute_result"
    }
   ],
   "source": [
    "men = data.loc[data.gender == 0]\n",
    "\n",
    "women = data.loc[data.gender == 1]\n",
    "women.head()"
   ]
  },
  {
   "cell_type": "code",
   "execution_count": 151,
   "metadata": {
    "collapsed": false
   },
   "outputs": [
    {
     "data": {
      "text/html": [
       "<div>\n",
       "<table border=\"1\" class=\"dataframe\">\n",
       "  <thead>\n",
       "    <tr style=\"text-align: right;\">\n",
       "      <th></th>\n",
       "      <th>YearStarted</th>\n",
       "      <th>length</th>\n",
       "    </tr>\n",
       "  </thead>\n",
       "  <tbody>\n",
       "    <tr>\n",
       "      <th>3</th>\n",
       "      <td>4</td>\n",
       "      <td>3</td>\n",
       "    </tr>\n",
       "    <tr>\n",
       "      <th>10</th>\n",
       "      <td>4</td>\n",
       "      <td>3</td>\n",
       "    </tr>\n",
       "    <tr>\n",
       "      <th>22</th>\n",
       "      <td>4</td>\n",
       "      <td>2</td>\n",
       "    </tr>\n",
       "    <tr>\n",
       "      <th>26</th>\n",
       "      <td>4</td>\n",
       "      <td>3</td>\n",
       "    </tr>\n",
       "    <tr>\n",
       "      <th>31</th>\n",
       "      <td>4</td>\n",
       "      <td>3</td>\n",
       "    </tr>\n",
       "  </tbody>\n",
       "</table>\n",
       "</div>"
      ],
      "text/plain": [
       "    YearStarted  length\n",
       "3             4       3\n",
       "10            4       3\n",
       "22            4       2\n",
       "26            4       3\n",
       "31            4       3"
      ]
     },
     "execution_count": 151,
     "metadata": {},
     "output_type": "execute_result"
    }
   ],
   "source": [
    "men = men.drop(['gender'], axis=1)\n",
    "women = women.drop(['gender'], axis=1)\n",
    "women.head()"
   ]
  },
  {
   "cell_type": "code",
   "execution_count": 152,
   "metadata": {
    "collapsed": false
   },
   "outputs": [
    {
     "data": {
      "text/html": [
       "<div>\n",
       "<table border=\"1\" class=\"dataframe\">\n",
       "  <thead>\n",
       "    <tr style=\"text-align: right;\">\n",
       "      <th></th>\n",
       "      <th>YearStarted</th>\n",
       "      <th>length</th>\n",
       "    </tr>\n",
       "  </thead>\n",
       "  <tbody>\n",
       "    <tr>\n",
       "      <th>0</th>\n",
       "      <td>4</td>\n",
       "      <td>3</td>\n",
       "    </tr>\n",
       "    <tr>\n",
       "      <th>1</th>\n",
       "      <td>4</td>\n",
       "      <td>4</td>\n",
       "    </tr>\n",
       "    <tr>\n",
       "      <th>2</th>\n",
       "      <td>4</td>\n",
       "      <td>4</td>\n",
       "    </tr>\n",
       "    <tr>\n",
       "      <th>4</th>\n",
       "      <td>4</td>\n",
       "      <td>2</td>\n",
       "    </tr>\n",
       "    <tr>\n",
       "      <th>5</th>\n",
       "      <td>4</td>\n",
       "      <td>6</td>\n",
       "    </tr>\n",
       "  </tbody>\n",
       "</table>\n",
       "</div>"
      ],
      "text/plain": [
       "   YearStarted  length\n",
       "0            4       3\n",
       "1            4       4\n",
       "2            4       4\n",
       "4            4       2\n",
       "5            4       6"
      ]
     },
     "execution_count": 152,
     "metadata": {},
     "output_type": "execute_result"
    }
   ],
   "source": [
    "men.head()"
   ]
  },
  {
   "cell_type": "code",
   "execution_count": 154,
   "metadata": {
    "collapsed": false
   },
   "outputs": [
    {
     "name": "stdout",
     "output_type": "stream",
     "text": [
      "[4, 3, 5, 2, 7, 6, 1, 0]\n",
      "['2011-2012' '2010-2011' '2012-2013' '2009-2010' '2014-2015' '2013-2014'\n",
      " '2008-2009' '2007-2008']\n",
      "['2014-2015' '2009-2010' '2013-2014' '2012-2013' '2007-2008' '2008-2009'\n",
      " '2010-2011' '2011-2012']\n"
     ]
    },
    {
     "name": "stderr",
     "output_type": "stream",
     "text": [
      "/home/gael/anaconda3/lib/python3.5/site-packages/matplotlib/legend.py:633: UserWarning: Legend does not support 'm' instances.\n",
      "A proxy artist may be used instead.\n",
      "See: http://matplotlib.org/users/legend_guide.html#using-proxy-artist\n",
      "  \"#using-proxy-artist\".format(orig_handle)\n",
      "/home/gael/anaconda3/lib/python3.5/site-packages/matplotlib/legend.py:633: UserWarning: Legend does not support 'e' instances.\n",
      "A proxy artist may be used instead.\n",
      "See: http://matplotlib.org/users/legend_guide.html#using-proxy-artist\n",
      "  \"#using-proxy-artist\".format(orig_handle)\n",
      "/home/gael/anaconda3/lib/python3.5/site-packages/matplotlib/legend.py:633: UserWarning: Legend does not support 'n' instances.\n",
      "A proxy artist may be used instead.\n",
      "See: http://matplotlib.org/users/legend_guide.html#using-proxy-artist\n",
      "  \"#using-proxy-artist\".format(orig_handle)\n"
     ]
    },
    {
     "data": {
      "image/png": "[encoded data removed]",
      "text/plain": [
       "<matplotlib.figure.Figure at 0x7f0f53175320>"
      ]
     },
     "metadata": {},
     "output_type": "display_data"
    }
   ],
   "source": [
    "print(val)\n",
    "print(years)\n",
    "years_ordered = years[val]\n",
    "print(years_ordered)\n",
    "\n",
    "plt.figure()\n",
    "plt.scatter(men.YearStarted, men.length, color='b')\n",
    "plt.scatter(women.YearStarted+0.2, women.length, color='r')\n",
    "plt.xlabel('Years when the Master started')\n",
    "plt.ylabel('# semesters needed to complete Master')\n",
    "plt.xticks(val, years, rotation='vertical')\n",
    "plt.legend('men', 'women')\n",
    "plt.show() \n",
    "# Me no comprendo what to do with scatter plots.. ^^"
   ]
  },
  {
   "cell_type": "code",
   "execution_count": null,
   "metadata": {
    "collapsed": true
   },
   "outputs": [],
   "source": []
  }
 ],
 "metadata": {
  "anaconda-cloud": {},
  "kernelspec": {
   "display_name": "Python [Root]",
   "language": "python",
   "name": "Python [Root]"
  },
  "language_info": {
   "codemirror_mode": {
    "name": "ipython",
    "version": 3
   },
   "file_extension": ".py",
   "mimetype": "text/x-python",
   "name": "python",
   "nbconvert_exporter": "python",
   "pygments_lexer": "ipython3",
   "version": "3.5.2"
  }
 },
 "nbformat": 4,
 "nbformat_minor": 0
}
