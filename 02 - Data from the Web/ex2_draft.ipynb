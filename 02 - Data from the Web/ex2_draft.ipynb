{
 "cells": [
  {
   "cell_type": "code",
   "execution_count": 2,
   "metadata": {
    "collapsed": true
   },
   "outputs": [],
   "source": [
    "import pandas as pd\n",
    "import scipy.stats as stats\n",
    "import os"
   ]
  },
  {
   "cell_type": "markdown",
   "metadata": {},
   "source": [
    "Concatenate our files. Reminder: we have a file per year, we all of 'Informatique' in it."
   ]
  },
  {
   "cell_type": "code",
   "execution_count": 3,
   "metadata": {
    "collapsed": true
   },
   "outputs": [],
   "source": [
    "# requires os\n",
    "def concatFiles(direc, fileType):\n",
    "    files = os.listdir(direc)\n",
    "    if '.DS_Store' in files:\n",
    "        files.remove('.DS_Store')\n",
    "    print(files)\n",
    "    if fileType == 'csv':\n",
    "        r = pd.read_csv\n",
    "    for idx, file in enumerate(files):\n",
    "        file = direc+file\n",
    "        if idx == 0:\n",
    "            df = r(file, header=0)\n",
    "            print(file)\n",
    "        else:\n",
    "            new = r(file, header=0)\n",
    "            df = pd.concat([df, new], axis=0)\n",
    "            print(file)\n",
    "    return df"
   ]
  },
  {
   "cell_type": "code",
   "execution_count": 4,
   "metadata": {
    "collapsed": false
   },
   "outputs": [
    {
     "name": "stdout",
     "output_type": "stream",
     "text": [
      "['informatique_2011_2012.csv', 'informatique_2014_2015.csv', 'informatique_2012_2013.csv', 'informatique_2008_2009.csv', 'informatique_2007_2008.csv', 'informatique_2016_2017.csv', 'informatique_2015_2016.csv', 'informatique_2010_2011.csv', 'informatique_2013_2014.csv', 'informatique_2009_2010.csv']\n",
      "data/informatique_2011_2012.csv\n",
      "data/informatique_2014_2015.csv\n",
      "data/informatique_2012_2013.csv\n",
      "data/informatique_2008_2009.csv\n",
      "data/informatique_2007_2008.csv\n",
      "data/informatique_2016_2017.csv\n",
      "data/informatique_2015_2016.csv\n",
      "data/informatique_2010_2011.csv\n",
      "data/informatique_2013_2014.csv\n",
      "data/informatique_2009_2010.csv\n"
     ]
    }
   ],
   "source": [
    "info = concatFiles('data/', 'csv')"
   ]
  },
  {
   "cell_type": "markdown",
   "metadata": {},
   "source": [
    "We want to take only the data for the Master students"
   ]
  },
  {
   "cell_type": "code",
   "execution_count": 5,
   "metadata": {
    "collapsed": true
   },
   "outputs": [],
   "source": [
    "def locator(s):\n",
    "    return s.find('Master') != -1"
   ]
  },
  {
   "cell_type": "code",
   "execution_count": 6,
   "metadata": {
    "collapsed": false
   },
   "outputs": [
    {
     "data": {
      "text/html": [
       "<div>\n",
       "<table border=\"1\" class=\"dataframe\">\n",
       "  <thead>\n",
       "    <tr style=\"text-align: right;\">\n",
       "      <th></th>\n",
       "      <th>Civilité</th>\n",
       "      <th>Nom Prénom</th>\n",
       "      <th>Orientation Bachelor</th>\n",
       "      <th>Orientation Master</th>\n",
       "      <th>Spécialisation</th>\n",
       "      <th>Filière opt.</th>\n",
       "      <th>Mineur</th>\n",
       "      <th>Statut</th>\n",
       "      <th>Type Echange</th>\n",
       "      <th>Ecole Echange</th>\n",
       "      <th>No Sciper</th>\n",
       "      <th>Subject</th>\n",
       "      <th>Period</th>\n",
       "      <th>Semester</th>\n",
       "    </tr>\n",
       "  </thead>\n",
       "  <tbody>\n",
       "    <tr>\n",
       "      <th>574</th>\n",
       "      <td>Monsieur</td>\n",
       "      <td>Arnfred Jonas</td>\n",
       "      <td>NaN</td>\n",
       "      <td>NaN</td>\n",
       "      <td>NaN</td>\n",
       "      <td>NaN</td>\n",
       "      <td>NaN</td>\n",
       "      <td>Présent</td>\n",
       "      <td>NaN</td>\n",
       "      <td>NaN</td>\n",
       "      <td>184772</td>\n",
       "      <td>Informatique</td>\n",
       "      <td>2011-2012</td>\n",
       "      <td>Master semestre 1</td>\n",
       "    </tr>\n",
       "    <tr>\n",
       "      <th>575</th>\n",
       "      <td>Monsieur</td>\n",
       "      <td>Asgari Ehsaneddin</td>\n",
       "      <td>NaN</td>\n",
       "      <td>NaN</td>\n",
       "      <td>NaN</td>\n",
       "      <td>NaN</td>\n",
       "      <td>NaN</td>\n",
       "      <td>Présent</td>\n",
       "      <td>NaN</td>\n",
       "      <td>NaN</td>\n",
       "      <td>211754</td>\n",
       "      <td>Informatique</td>\n",
       "      <td>2011-2012</td>\n",
       "      <td>Master semestre 1</td>\n",
       "    </tr>\n",
       "    <tr>\n",
       "      <th>576</th>\n",
       "      <td>Monsieur</td>\n",
       "      <td>Baeriswyl Jonathan</td>\n",
       "      <td>NaN</td>\n",
       "      <td>NaN</td>\n",
       "      <td>NaN</td>\n",
       "      <td>NaN</td>\n",
       "      <td>NaN</td>\n",
       "      <td>Présent</td>\n",
       "      <td>NaN</td>\n",
       "      <td>NaN</td>\n",
       "      <td>179406</td>\n",
       "      <td>Informatique</td>\n",
       "      <td>2011-2012</td>\n",
       "      <td>Master semestre 1</td>\n",
       "    </tr>\n",
       "    <tr>\n",
       "      <th>577</th>\n",
       "      <td>Madame</td>\n",
       "      <td>Bai Yi</td>\n",
       "      <td>NaN</td>\n",
       "      <td>NaN</td>\n",
       "      <td>NaN</td>\n",
       "      <td>NaN</td>\n",
       "      <td>NaN</td>\n",
       "      <td>Présent</td>\n",
       "      <td>NaN</td>\n",
       "      <td>NaN</td>\n",
       "      <td>209850</td>\n",
       "      <td>Informatique</td>\n",
       "      <td>2011-2012</td>\n",
       "      <td>Master semestre 1</td>\n",
       "    </tr>\n",
       "    <tr>\n",
       "      <th>578</th>\n",
       "      <td>Monsieur</td>\n",
       "      <td>Barroco Michael</td>\n",
       "      <td>NaN</td>\n",
       "      <td>NaN</td>\n",
       "      <td>NaN</td>\n",
       "      <td>NaN</td>\n",
       "      <td>NaN</td>\n",
       "      <td>Présent</td>\n",
       "      <td>NaN</td>\n",
       "      <td>NaN</td>\n",
       "      <td>179428</td>\n",
       "      <td>Informatique</td>\n",
       "      <td>2011-2012</td>\n",
       "      <td>Master semestre 1</td>\n",
       "    </tr>\n",
       "  </tbody>\n",
       "</table>\n",
       "</div>"
      ],
      "text/plain": [
       "     Civilité          Nom Prénom  Orientation Bachelor  Orientation Master  \\\n",
       "574  Monsieur       Arnfred Jonas                   NaN                 NaN   \n",
       "575  Monsieur   Asgari Ehsaneddin                   NaN                 NaN   \n",
       "576  Monsieur  Baeriswyl Jonathan                   NaN                 NaN   \n",
       "577    Madame              Bai Yi                   NaN                 NaN   \n",
       "578  Monsieur     Barroco Michael                   NaN                 NaN   \n",
       "\n",
       "    Spécialisation Filière opt. Mineur   Statut Type Echange Ecole Echange  \\\n",
       "574            NaN          NaN    NaN  Présent          NaN           NaN   \n",
       "575            NaN          NaN    NaN  Présent          NaN           NaN   \n",
       "576            NaN          NaN    NaN  Présent          NaN           NaN   \n",
       "577            NaN          NaN    NaN  Présent          NaN           NaN   \n",
       "578            NaN          NaN    NaN  Présent          NaN           NaN   \n",
       "\n",
       "     No Sciper       Subject     Period           Semester  \n",
       "574     184772  Informatique  2011-2012  Master semestre 1  \n",
       "575     211754  Informatique  2011-2012  Master semestre 1  \n",
       "576     179406  Informatique  2011-2012  Master semestre 1  \n",
       "577     209850  Informatique  2011-2012  Master semestre 1  \n",
       "578     179428  Informatique  2011-2012  Master semestre 1  "
      ]
     },
     "execution_count": 6,
     "metadata": {},
     "output_type": "execute_result"
    }
   ],
   "source": [
    "ma = info.loc[info['Semester'].apply(locator)]\n",
    "ma.head()"
   ]
  },
  {
   "cell_type": "markdown",
   "metadata": {},
   "source": [
    "We define a function to locate a specific sciper #. They are unique."
   ]
  },
  {
   "cell_type": "code",
   "execution_count": 7,
   "metadata": {
    "collapsed": true
   },
   "outputs": [],
   "source": [
    "def locSciper(df, sciper):\n",
    "    return df.loc[df['No Sciper'] == sciper]"
   ]
  },
  {
   "cell_type": "code",
   "execution_count": 8,
   "metadata": {
    "collapsed": true
   },
   "outputs": [],
   "source": [
    "def getGender(df):\n",
    "    \"\"\" Take a DataFrame and checks the gender\n",
    "    \n",
    "    Args:\n",
    "        df (DataFrame): a DataFrame, typically a .loc on a specific student\n",
    "        \n",
    "    Returns:\n",
    "        bool: True if student is a woman, False otherwise\n",
    "    \"\"\"\n",
    "    try:\n",
    "        if df.isin(['Madame'])['Civilité'].value_counts()[True] > 0:\n",
    "            return 1\n",
    "    except KeyError:\n",
    "        return 0"
   ]
  },
  {
   "cell_type": "markdown",
   "metadata": {},
   "source": [
    "Define a function that will return first and last semester depending on different possibilities"
   ]
  },
  {
   "cell_type": "code",
   "execution_count": 13,
   "metadata": {
    "collapsed": true
   },
   "outputs": [],
   "source": [
    "def isOneTwo(df):\n",
    "    \"\"\" Take a DataFrame and check that there is an entry for both BA1 and BA6\n",
    "    \n",
    "    Args:\n",
    "        df (DataFrame): a DataFrame, typically a .loc on a specific student\n",
    "        \n",
    "    Returns:\n",
    "        bool: True if it finds both BA1 and BA6, False otherwise\n",
    "    \"\"\"\n",
    "    try:\n",
    "        one = df.isin(['Master semestre 1'])['Semester'].value_counts()[True] > 0\n",
    "    except KeyError:\n",
    "        one = 0\n",
    "    try:\n",
    "        two = df.isin(['Master semestre 2'])['Semester'].value_counts()[True] > 0\n",
    "    except KeyError:\n",
    "        two = 0\n",
    "    return (one and two)"
   ]
  },
  {
   "cell_type": "markdown",
   "metadata": {},
   "source": [
    "Loop through all the students\n"
   ]
  },
  {
   "cell_type": "code",
   "execution_count": 14,
   "metadata": {
    "collapsed": false
   },
   "outputs": [],
   "source": [
    "dico = {'sciper': [], 'gender': [], 'length': []}\n",
    "for row in ma.iterrows():\n",
    "    o = row[1]\n",
    "    sciper = o['No Sciper']\n",
    "    # Making sure we consider unique sciper #s\n",
    "    if not sciper in dico['sciper']:\n",
    "        df = locSciper(ma, sciper)\n",
    "        if isOneTwo(df):        \n",
    "            dico['sciper'].append(sciper)\n",
    "            dico['gender'].append(getGender(df))\n",
    "            # Calculating length of stay by nbr of rows\n",
    "            dico['length'].append(len(df))"
   ]
  },
  {
   "cell_type": "code",
   "execution_count": 15,
   "metadata": {
    "collapsed": true
   },
   "outputs": [],
   "source": [
    "data = pd.DataFrame(dico)"
   ]
  },
  {
   "cell_type": "code",
   "execution_count": 16,
   "metadata": {
    "collapsed": false
   },
   "outputs": [
    {
     "data": {
      "text/plain": [
       "count    764.000000\n",
       "mean       3.391361\n",
       "std        1.023948\n",
       "min        2.000000\n",
       "25%        3.000000\n",
       "50%        3.000000\n",
       "75%        4.000000\n",
       "max        8.000000\n",
       "Name: length, dtype: float64"
      ]
     },
     "execution_count": 16,
     "metadata": {},
     "output_type": "execute_result"
    }
   ],
   "source": [
    "data['length'].describe()"
   ]
  },
  {
   "cell_type": "code",
   "execution_count": 17,
   "metadata": {
    "collapsed": true
   },
   "outputs": [],
   "source": [
    "men = data.loc[data.gender == 0]"
   ]
  },
  {
   "cell_type": "code",
   "execution_count": 18,
   "metadata": {
    "collapsed": false
   },
   "outputs": [
    {
     "data": {
      "text/plain": [
       "3.3891402714932126"
      ]
     },
     "execution_count": 18,
     "metadata": {},
     "output_type": "execute_result"
    }
   ],
   "source": [
    "men.length.mean()"
   ]
  },
  {
   "cell_type": "code",
   "execution_count": 19,
   "metadata": {
    "collapsed": true
   },
   "outputs": [],
   "source": [
    "women = data.loc[data.gender == 1]"
   ]
  },
  {
   "cell_type": "code",
   "execution_count": 20,
   "metadata": {
    "collapsed": false
   },
   "outputs": [
    {
     "data": {
      "text/plain": [
       "3.405940594059406"
      ]
     },
     "execution_count": 20,
     "metadata": {},
     "output_type": "execute_result"
    }
   ],
   "source": [
    "women.length.mean()"
   ]
  },
  {
   "cell_type": "code",
   "execution_count": 21,
   "metadata": {
    "collapsed": false
   },
   "outputs": [
    {
     "data": {
      "text/plain": [
       "Ttest_indResult(statistic=0.15350842579835766, pvalue=0.87803798898545327)"
      ]
     },
     "execution_count": 21,
     "metadata": {},
     "output_type": "execute_result"
    }
   ],
   "source": [
    "stats.ttest_ind(a=women.length, b=men.length, )"
   ]
  },
  {
   "cell_type": "code",
   "execution_count": null,
   "metadata": {
    "collapsed": true
   },
   "outputs": [],
   "source": []
  }
 ],
 "metadata": {
  "anaconda-cloud": {},
  "kernelspec": {
   "display_name": "Python [Root]",
   "language": "python",
   "name": "Python [Root]"
  },
  "language_info": {
   "codemirror_mode": {
    "name": "ipython",
    "version": 3
   },
   "file_extension": ".py",
   "mimetype": "text/x-python",
   "name": "python",
   "nbconvert_exporter": "python",
   "pygments_lexer": "ipython3",
   "version": "3.5.2"
  }
 },
 "nbformat": 4,
 "nbformat_minor": 0
}
