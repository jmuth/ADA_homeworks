{
 "cells": [
  {
   "cell_type": "code",
   "execution_count": 1,
   "metadata": {
    "collapsed": true
   },
   "outputs": [],
   "source": [
    "import pandas as pd\n",
    "import scipy.stats as stats\n",
    "import os"
   ]
  },
  {
   "cell_type": "markdown",
   "metadata": {},
   "source": [
    "Concatenate our files. Reminder: we have a file per year, we all of 'Informatique' in it."
   ]
  },
  {
   "cell_type": "code",
   "execution_count": 3,
   "metadata": {
    "collapsed": false
   },
   "outputs": [],
   "source": [
    "# requires os\n",
    "def concatFiles(direc, fileType):\n",
    "    files = os.listdir(direc)\n",
    "    if '.DS_Store' in files:\n",
    "        files.remove('.DS_Store')\n",
    "    print(files)\n",
    "    if fileType == 'csv':\n",
    "        r = pd.read_csv\n",
    "    for idx, file in enumerate(files):\n",
    "        file = direc+file\n",
    "        if idx == 0:\n",
    "            df = r(file, header=0)\n",
    "            print(file)\n",
    "        else:\n",
    "            new = r(file, header=0)\n",
    "            df = pd.concat([df, new], axis=0)\n",
    "            print(file)\n",
    "    return df"
   ]
  },
  {
   "cell_type": "code",
   "execution_count": 4,
   "metadata": {
    "collapsed": false
   },
   "outputs": [
    {
     "name": "stdout",
     "output_type": "stream",
     "text": [
      "['informatique_2011_2012.csv', 'informatique_2014_2015.csv', 'informatique_2012_2013.csv', 'informatique_2008_2009.csv', 'informatique_2007_2008.csv', 'informatique_2016_2017.csv', 'informatique_2015_2016.csv', 'informatique_2010_2011.csv', 'informatique_2013_2014.csv', 'informatique_2009_2010.csv']\n",
      "data/informatique_2011_2012.csv\n",
      "data/informatique_2014_2015.csv\n",
      "data/informatique_2012_2013.csv\n",
      "data/informatique_2008_2009.csv\n",
      "data/informatique_2007_2008.csv\n",
      "data/informatique_2016_2017.csv\n",
      "data/informatique_2015_2016.csv\n",
      "data/informatique_2010_2011.csv\n",
      "data/informatique_2013_2014.csv\n",
      "data/informatique_2009_2010.csv\n"
     ]
    }
   ],
   "source": [
    "info = concatFiles('data/', 'csv')"
   ]
  },
  {
   "cell_type": "markdown",
   "metadata": {},
   "source": [
    "We define a locating function to grab only bachelor data"
   ]
  },
  {
   "cell_type": "code",
   "execution_count": 8,
   "metadata": {
    "collapsed": true
   },
   "outputs": [],
   "source": [
    "def locator(s):\n",
    "    return s.find('Bachelor') != -1"
   ]
  },
  {
   "cell_type": "code",
   "execution_count": 11,
   "metadata": {
    "collapsed": false
   },
   "outputs": [],
   "source": [
    "ba = info.loc[info['Semester'].apply(locator)]"
   ]
  },
  {
   "cell_type": "markdown",
   "metadata": {},
   "source": [
    "We define a function to locate a specific sciper #. They are unique."
   ]
  },
  {
   "cell_type": "code",
   "execution_count": 12,
   "metadata": {
    "collapsed": true
   },
   "outputs": [],
   "source": [
    "def locSciper(df, sciper):\n",
    "    return df.loc[df['No Sciper'] == sciper]"
   ]
  },
  {
   "cell_type": "markdown",
   "metadata": {},
   "source": [
    "isOneSix checks if there is an entry for BA1 and BA6 in the given DataFrame"
   ]
  },
  {
   "cell_type": "code",
   "execution_count": 13,
   "metadata": {
    "collapsed": true
   },
   "outputs": [],
   "source": [
    "def isOneSix(df):\n",
    "    \"\"\" Take a DataFrame and check that there is an entry for both BA1 and BA6\n",
    "    \n",
    "    Args:\n",
    "        df (DataFrame): a DataFrame, typically a .loc on a specific student\n",
    "        \n",
    "    Returns:\n",
    "        bool: True if it finds both BA1 and BA6, False otherwise\n",
    "    \"\"\"\n",
    "    try:\n",
    "        one = df.isin(['Bachelor semestre 1'])['Semester'].value_counts()[True] > 0\n",
    "    except KeyError:\n",
    "        one = 0\n",
    "    try:\n",
    "        six = df.isin(['Bachelor semestre 6'])['Semester'].value_counts()[True] > 0\n",
    "    except KeyError:\n",
    "        six = 0\n",
    "    return (one and six)"
   ]
  },
  {
   "cell_type": "code",
   "execution_count": 14,
   "metadata": {
    "collapsed": true
   },
   "outputs": [],
   "source": [
    "def getGender(df):\n",
    "    \"\"\" Take a DataFrame and checks the gender\n",
    "    \n",
    "    Args:\n",
    "        df (DataFrame): a DataFrame, typically a .loc on a specific student\n",
    "        \n",
    "    Returns:\n",
    "        bool: True if student is a woman, False otherwise\n",
    "    \"\"\"\n",
    "    try:\n",
    "        if df.isin(['Madame'])['Civilité'].value_counts()[True] > 0:\n",
    "            return 1\n",
    "    except KeyError:\n",
    "        return 0"
   ]
  },
  {
   "cell_type": "markdown",
   "metadata": {},
   "source": [
    "We loop through the bachelor rows, perform checks and fill a dict with appropriate data."
   ]
  },
  {
   "cell_type": "code",
   "execution_count": 16,
   "metadata": {
    "collapsed": false
   },
   "outputs": [],
   "source": [
    "dico = {'sciper': [], 'gender': [], 'length': []}\n",
    "for row in ba.iterrows():\n",
    "    o = row[1]\n",
    "    sciper = o['No Sciper']\n",
    "    # Making sure we consider unique sciper #s\n",
    "    if not sciper in dico['sciper']:\n",
    "        df = locSciper(ba, sciper)\n",
    "        if isOneSix(df):\n",
    "            dico['sciper'].append(sciper)\n",
    "            dico['gender'].append(getGender(df))\n",
    "            # Calculating length of stay by nbr of rows\n",
    "            dico['length'].append(len(df))"
   ]
  },
  {
   "cell_type": "markdown",
   "metadata": {},
   "source": [
    "We transform this dict into a DataFrame, now containing only the students we're concerned with"
   ]
  },
  {
   "cell_type": "code",
   "execution_count": 17,
   "metadata": {
    "collapsed": false
   },
   "outputs": [],
   "source": [
    "data = pd.DataFrame(dico)"
   ]
  },
  {
   "cell_type": "markdown",
   "metadata": {},
   "source": [
    "We do a quick describe to check for inconsistencies"
   ]
  },
  {
   "cell_type": "code",
   "execution_count": 180,
   "metadata": {
    "collapsed": false,
    "scrolled": true
   },
   "outputs": [
    {
     "data": {
      "text/plain": [
       "count    398.000000\n",
       "mean       7.080402\n",
       "std        1.523475\n",
       "min        4.000000\n",
       "25%        6.000000\n",
       "50%        6.000000\n",
       "75%        8.000000\n",
       "max       12.000000\n",
       "Name: length, dtype: float64"
      ]
     },
     "execution_count": 180,
     "metadata": {},
     "output_type": "execute_result"
    }
   ],
   "source": [
    "data['length'].describe()"
   ]
  },
  {
   "cell_type": "markdown",
   "metadata": {},
   "source": [
    "We notice the minimum is 4, which doesn't seem to make sense. So we check what it is:"
   ]
  },
  {
   "cell_type": "code",
   "execution_count": 182,
   "metadata": {
    "collapsed": false
   },
   "outputs": [
    {
     "data": {
      "text/html": [
       "<div>\n",
       "<table border=\"1\" class=\"dataframe\">\n",
       "  <thead>\n",
       "    <tr style=\"text-align: right;\">\n",
       "      <th></th>\n",
       "      <th>gender</th>\n",
       "      <th>length</th>\n",
       "      <th>sciper</th>\n",
       "    </tr>\n",
       "  </thead>\n",
       "  <tbody>\n",
       "    <tr>\n",
       "      <th>241</th>\n",
       "      <td>0</td>\n",
       "      <td>4</td>\n",
       "      <td>204222</td>\n",
       "    </tr>\n",
       "  </tbody>\n",
       "</table>\n",
       "</div>"
      ],
      "text/plain": [
       "     gender  length  sciper\n",
       "241       0       4  204222"
      ]
     },
     "execution_count": 182,
     "metadata": {},
     "output_type": "execute_result"
    }
   ],
   "source": [
    "data.loc[data.length < 6]"
   ]
  },
  {
   "cell_type": "code",
   "execution_count": 19,
   "metadata": {
    "collapsed": false
   },
   "outputs": [
    {
     "data": {
      "text/html": [
       "<div>\n",
       "<table border=\"1\" class=\"dataframe\">\n",
       "  <thead>\n",
       "    <tr style=\"text-align: right;\">\n",
       "      <th></th>\n",
       "      <th>Civilité</th>\n",
       "      <th>Nom Prénom</th>\n",
       "      <th>Orientation Bachelor</th>\n",
       "      <th>Orientation Master</th>\n",
       "      <th>Spécialisation</th>\n",
       "      <th>Filière opt.</th>\n",
       "      <th>Mineur</th>\n",
       "      <th>Statut</th>\n",
       "      <th>Type Echange</th>\n",
       "      <th>Ecole Echange</th>\n",
       "      <th>No Sciper</th>\n",
       "      <th>Subject</th>\n",
       "      <th>Period</th>\n",
       "      <th>Semester</th>\n",
       "    </tr>\n",
       "  </thead>\n",
       "  <tbody>\n",
       "    <tr>\n",
       "      <th>165</th>\n",
       "      <td>Monsieur</td>\n",
       "      <td>Séguy Louis Marie James</td>\n",
       "      <td>NaN</td>\n",
       "      <td>NaN</td>\n",
       "      <td>NaN</td>\n",
       "      <td>NaN</td>\n",
       "      <td>NaN</td>\n",
       "      <td>Présent</td>\n",
       "      <td>NaN</td>\n",
       "      <td>NaN</td>\n",
       "      <td>204222</td>\n",
       "      <td>Informatique</td>\n",
       "      <td>2011-2012</td>\n",
       "      <td>Bachelor semestre 1</td>\n",
       "    </tr>\n",
       "    <tr>\n",
       "      <th>290</th>\n",
       "      <td>Monsieur</td>\n",
       "      <td>Séguy Louis Marie James</td>\n",
       "      <td>NaN</td>\n",
       "      <td>NaN</td>\n",
       "      <td>NaN</td>\n",
       "      <td>NaN</td>\n",
       "      <td>NaN</td>\n",
       "      <td>Présent</td>\n",
       "      <td>NaN</td>\n",
       "      <td>NaN</td>\n",
       "      <td>204222</td>\n",
       "      <td>Informatique</td>\n",
       "      <td>2011-2012</td>\n",
       "      <td>Bachelor semestre 2</td>\n",
       "    </tr>\n",
       "    <tr>\n",
       "      <th>721</th>\n",
       "      <td>Monsieur</td>\n",
       "      <td>Séguy Louis Marie James</td>\n",
       "      <td>NaN</td>\n",
       "      <td>NaN</td>\n",
       "      <td>NaN</td>\n",
       "      <td>NaN</td>\n",
       "      <td>NaN</td>\n",
       "      <td>Présent</td>\n",
       "      <td>NaN</td>\n",
       "      <td>NaN</td>\n",
       "      <td>204222</td>\n",
       "      <td>Informatique</td>\n",
       "      <td>2014-2015</td>\n",
       "      <td>Bachelor semestre 5</td>\n",
       "    </tr>\n",
       "    <tr>\n",
       "      <th>840</th>\n",
       "      <td>Monsieur</td>\n",
       "      <td>Séguy Louis Marie James</td>\n",
       "      <td>NaN</td>\n",
       "      <td>NaN</td>\n",
       "      <td>NaN</td>\n",
       "      <td>NaN</td>\n",
       "      <td>NaN</td>\n",
       "      <td>Présent</td>\n",
       "      <td>NaN</td>\n",
       "      <td>NaN</td>\n",
       "      <td>204222</td>\n",
       "      <td>Informatique</td>\n",
       "      <td>2014-2015</td>\n",
       "      <td>Bachelor semestre 6</td>\n",
       "    </tr>\n",
       "  </tbody>\n",
       "</table>\n",
       "</div>"
      ],
      "text/plain": [
       "     Civilité               Nom Prénom  Orientation Bachelor  \\\n",
       "165  Monsieur  Séguy Louis Marie James                   NaN   \n",
       "290  Monsieur  Séguy Louis Marie James                   NaN   \n",
       "721  Monsieur  Séguy Louis Marie James                   NaN   \n",
       "840  Monsieur  Séguy Louis Marie James                   NaN   \n",
       "\n",
       "     Orientation Master Spécialisation Filière opt. Mineur   Statut  \\\n",
       "165                 NaN            NaN          NaN    NaN  Présent   \n",
       "290                 NaN            NaN          NaN    NaN  Présent   \n",
       "721                 NaN            NaN          NaN    NaN  Présent   \n",
       "840                 NaN            NaN          NaN    NaN  Présent   \n",
       "\n",
       "    Type Echange Ecole Echange  No Sciper       Subject     Period  \\\n",
       "165          NaN           NaN     204222  Informatique  2011-2012   \n",
       "290          NaN           NaN     204222  Informatique  2011-2012   \n",
       "721          NaN           NaN     204222  Informatique  2014-2015   \n",
       "840          NaN           NaN     204222  Informatique  2014-2015   \n",
       "\n",
       "                Semester  \n",
       "165  Bachelor semestre 1  \n",
       "290  Bachelor semestre 2  \n",
       "721  Bachelor semestre 5  \n",
       "840  Bachelor semestre 6  "
      ]
     },
     "execution_count": 19,
     "metadata": {},
     "output_type": "execute_result"
    }
   ],
   "source": [
    "locSciper(ba, 204222)"
   ]
  },
  {
   "cell_type": "markdown",
   "metadata": {},
   "source": [
    "It seems there are missing records for this person. We could take him out."
   ]
  },
  {
   "cell_type": "markdown",
   "metadata": {},
   "source": [
    "Setting up our statistical calculations"
   ]
  },
  {
   "cell_type": "code",
   "execution_count": 20,
   "metadata": {
    "collapsed": true
   },
   "outputs": [],
   "source": [
    "men = data.loc[data.gender == 0]"
   ]
  },
  {
   "cell_type": "code",
   "execution_count": 21,
   "metadata": {
    "collapsed": false
   },
   "outputs": [
    {
     "data": {
      "text/plain": [
       "7.102981029810298"
      ]
     },
     "execution_count": 21,
     "metadata": {},
     "output_type": "execute_result"
    }
   ],
   "source": [
    "men.length.mean()"
   ]
  },
  {
   "cell_type": "code",
   "execution_count": 22,
   "metadata": {
    "collapsed": true
   },
   "outputs": [],
   "source": [
    "women = data.loc[data.gender == 1]"
   ]
  },
  {
   "cell_type": "code",
   "execution_count": 23,
   "metadata": {
    "collapsed": false
   },
   "outputs": [
    {
     "data": {
      "text/plain": [
       "6.793103448275862"
      ]
     },
     "execution_count": 23,
     "metadata": {},
     "output_type": "execute_result"
    }
   ],
   "source": [
    "women.length.mean()"
   ]
  },
  {
   "cell_type": "code",
   "execution_count": 24,
   "metadata": {
    "collapsed": false
   },
   "outputs": [
    {
     "data": {
      "text/plain": [
       "Ttest_indResult(statistic=-1.0548414519194305, pvalue=0.29214098486369383)"
      ]
     },
     "execution_count": 24,
     "metadata": {},
     "output_type": "execute_result"
    }
   ],
   "source": [
    "stats.ttest_ind(a=women.length, b=men.length, )"
   ]
  },
  {
   "cell_type": "markdown",
   "metadata": {},
   "source": [
    "Not significant."
   ]
  },
  {
   "cell_type": "code",
   "execution_count": null,
   "metadata": {
    "collapsed": true
   },
   "outputs": [],
   "source": []
  }
 ],
 "metadata": {
  "anaconda-cloud": {},
  "kernelspec": {
   "display_name": "Python [Root]",
   "language": "python",
   "name": "Python [Root]"
  },
  "language_info": {
   "codemirror_mode": {
    "name": "ipython",
    "version": 3
   },
   "file_extension": ".py",
   "mimetype": "text/x-python",
   "name": "python",
   "nbconvert_exporter": "python",
   "pygments_lexer": "ipython3",
   "version": "3.5.2"
  }
 },
 "nbformat": 4,
 "nbformat_minor": 1
}
