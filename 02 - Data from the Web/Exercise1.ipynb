{
 "cells": [
  {
   "cell_type": "code",
   "execution_count": 1,
   "metadata": {
    "collapsed": true
   },
   "outputs": [],
   "source": [
    "import pandas as pd\n",
    "import scipy.stats as stats\n",
    "import os"
   ]
  },
  {
   "cell_type": "markdown",
   "metadata": {},
   "source": [
    "# Preparation of the data\n",
    "\n",
    "First, we need to prepare the data. The very first step is to concatenate the information in all the files we scraped from IsAcademia. (Reminder: We have one file per year.) The function `concatFiles` opens all the files and weill return a DataFrame."
   ]
  },
  {
   "cell_type": "code",
   "execution_count": 2,
   "metadata": {
    "collapsed": false
   },
   "outputs": [],
   "source": [
    "# requires os\n",
    "def concatFiles(direc, fileType):\n",
    "    files = os.listdir(direc)\n",
    "    if '.DS_Store' in files:\n",
    "        files.remove('.DS_Store')\n",
    "    if fileType == 'csv':\n",
    "        r = pd.read_csv\n",
    "    for idx, file in enumerate(files):\n",
    "        file = direc+file\n",
    "        if idx == 0:\n",
    "            df = r(file, header=0)\n",
    "        else:\n",
    "            new = r(file, header=0)\n",
    "            df = pd.concat([df, new], axis=0)\n",
    "    return df"
   ]
  },
  {
   "cell_type": "code",
   "execution_count": 3,
   "metadata": {
    "collapsed": false
   },
   "outputs": [
    {
     "data": {
      "text/html": [
       "<div>\n",
       "<table border=\"1\" class=\"dataframe\">\n",
       "  <thead>\n",
       "    <tr style=\"text-align: right;\">\n",
       "      <th></th>\n",
       "      <th>Civilité</th>\n",
       "      <th>Nom Prénom</th>\n",
       "      <th>Orientation Bachelor</th>\n",
       "      <th>Orientation Master</th>\n",
       "      <th>Spécialisation</th>\n",
       "      <th>Filière opt.</th>\n",
       "      <th>Mineur</th>\n",
       "      <th>Statut</th>\n",
       "      <th>Type Echange</th>\n",
       "      <th>Ecole Echange</th>\n",
       "      <th>No Sciper</th>\n",
       "      <th>Subject</th>\n",
       "      <th>Period</th>\n",
       "      <th>Semester</th>\n",
       "    </tr>\n",
       "  </thead>\n",
       "  <tbody>\n",
       "    <tr>\n",
       "      <th>0</th>\n",
       "      <td>Monsieur</td>\n",
       "      <td>Caesar Holger</td>\n",
       "      <td>NaN</td>\n",
       "      <td>NaN</td>\n",
       "      <td>NaN</td>\n",
       "      <td>NaN</td>\n",
       "      <td>NaN</td>\n",
       "      <td>Présent</td>\n",
       "      <td>Erasmus</td>\n",
       "      <td>Karlsruher Institut für Technologie</td>\n",
       "      <td>215268</td>\n",
       "      <td>Informatique</td>\n",
       "      <td>2011-2012</td>\n",
       "      <td>Semestre automne</td>\n",
       "    </tr>\n",
       "    <tr>\n",
       "      <th>1</th>\n",
       "      <td>Monsieur</td>\n",
       "      <td>Cerezo Luna Alfredo</td>\n",
       "      <td>NaN</td>\n",
       "      <td>NaN</td>\n",
       "      <td>NaN</td>\n",
       "      <td>NaN</td>\n",
       "      <td>NaN</td>\n",
       "      <td>Présent</td>\n",
       "      <td>Erasmus</td>\n",
       "      <td>Universidad Complutense de Madrid</td>\n",
       "      <td>214433</td>\n",
       "      <td>Informatique</td>\n",
       "      <td>2011-2012</td>\n",
       "      <td>Semestre automne</td>\n",
       "    </tr>\n",
       "    <tr>\n",
       "      <th>2</th>\n",
       "      <td>Monsieur</td>\n",
       "      <td>Gracia Diego</td>\n",
       "      <td>NaN</td>\n",
       "      <td>NaN</td>\n",
       "      <td>NaN</td>\n",
       "      <td>NaN</td>\n",
       "      <td>NaN</td>\n",
       "      <td>Présent</td>\n",
       "      <td>Erasmus</td>\n",
       "      <td>Universidad de Zaragoza</td>\n",
       "      <td>214469</td>\n",
       "      <td>Informatique</td>\n",
       "      <td>2011-2012</td>\n",
       "      <td>Semestre automne</td>\n",
       "    </tr>\n",
       "    <tr>\n",
       "      <th>3</th>\n",
       "      <td>Monsieur</td>\n",
       "      <td>Herraez Concejo Borja Javier</td>\n",
       "      <td>NaN</td>\n",
       "      <td>NaN</td>\n",
       "      <td>NaN</td>\n",
       "      <td>NaN</td>\n",
       "      <td>NaN</td>\n",
       "      <td>Présent</td>\n",
       "      <td>Erasmus</td>\n",
       "      <td>Universidad Politecnica de Valencia</td>\n",
       "      <td>214428</td>\n",
       "      <td>Informatique</td>\n",
       "      <td>2011-2012</td>\n",
       "      <td>Semestre automne</td>\n",
       "    </tr>\n",
       "    <tr>\n",
       "      <th>4</th>\n",
       "      <td>Monsieur</td>\n",
       "      <td>Järnberg Mathias</td>\n",
       "      <td>NaN</td>\n",
       "      <td>NaN</td>\n",
       "      <td>NaN</td>\n",
       "      <td>NaN</td>\n",
       "      <td>NaN</td>\n",
       "      <td>Présent</td>\n",
       "      <td>Erasmus</td>\n",
       "      <td>Royal Institute of Technology, (KTH) Stockholm</td>\n",
       "      <td>214299</td>\n",
       "      <td>Informatique</td>\n",
       "      <td>2011-2012</td>\n",
       "      <td>Semestre automne</td>\n",
       "    </tr>\n",
       "  </tbody>\n",
       "</table>\n",
       "</div>"
      ],
      "text/plain": [
       "   Civilité                    Nom Prénom  Orientation Bachelor  \\\n",
       "0  Monsieur                 Caesar Holger                   NaN   \n",
       "1  Monsieur           Cerezo Luna Alfredo                   NaN   \n",
       "2  Monsieur                  Gracia Diego                   NaN   \n",
       "3  Monsieur  Herraez Concejo Borja Javier                   NaN   \n",
       "4  Monsieur              Järnberg Mathias                   NaN   \n",
       "\n",
       "   Orientation Master Spécialisation Filière opt. Mineur   Statut  \\\n",
       "0                 NaN            NaN          NaN    NaN  Présent   \n",
       "1                 NaN            NaN          NaN    NaN  Présent   \n",
       "2                 NaN            NaN          NaN    NaN  Présent   \n",
       "3                 NaN            NaN          NaN    NaN  Présent   \n",
       "4                 NaN            NaN          NaN    NaN  Présent   \n",
       "\n",
       "  Type Echange                                   Ecole Echange  No Sciper  \\\n",
       "0      Erasmus             Karlsruher Institut für Technologie     215268   \n",
       "1      Erasmus               Universidad Complutense de Madrid     214433   \n",
       "2      Erasmus                         Universidad de Zaragoza     214469   \n",
       "3      Erasmus             Universidad Politecnica de Valencia     214428   \n",
       "4      Erasmus  Royal Institute of Technology, (KTH) Stockholm     214299   \n",
       "\n",
       "        Subject     Period          Semester  \n",
       "0  Informatique  2011-2012  Semestre automne  \n",
       "1  Informatique  2011-2012  Semestre automne  \n",
       "2  Informatique  2011-2012  Semestre automne  \n",
       "3  Informatique  2011-2012  Semestre automne  \n",
       "4  Informatique  2011-2012  Semestre automne  "
      ]
     },
     "execution_count": 3,
     "metadata": {},
     "output_type": "execute_result"
    }
   ],
   "source": [
    "info = concatFiles('data/', 'csv')\n",
    "# Print the head of the big DataFrame\n",
    "info.head()"
   ]
  },
  {
   "cell_type": "markdown",
   "metadata": {},
   "source": [
    "In this exercise, we are looking for Bachelor students. Therefore, we can create a function that will locate if the *Semester* field contains the word *Bachelor*."
   ]
  },
  {
   "cell_type": "code",
   "execution_count": 4,
   "metadata": {
    "collapsed": true
   },
   "outputs": [],
   "source": [
    "def locator_ba(s):\n",
    "    return s.find('Bachelor') != -1"
   ]
  },
  {
   "cell_type": "code",
   "execution_count": 5,
   "metadata": {
    "collapsed": false
   },
   "outputs": [
    {
     "data": {
      "text/html": [
       "<div>\n",
       "<table border=\"1\" class=\"dataframe\">\n",
       "  <thead>\n",
       "    <tr style=\"text-align: right;\">\n",
       "      <th></th>\n",
       "      <th>Civilité</th>\n",
       "      <th>Nom Prénom</th>\n",
       "      <th>Orientation Bachelor</th>\n",
       "      <th>Orientation Master</th>\n",
       "      <th>Spécialisation</th>\n",
       "      <th>Filière opt.</th>\n",
       "      <th>Mineur</th>\n",
       "      <th>Statut</th>\n",
       "      <th>Type Echange</th>\n",
       "      <th>Ecole Echange</th>\n",
       "      <th>No Sciper</th>\n",
       "      <th>Subject</th>\n",
       "      <th>Period</th>\n",
       "      <th>Semester</th>\n",
       "    </tr>\n",
       "  </thead>\n",
       "  <tbody>\n",
       "    <tr>\n",
       "      <th>16</th>\n",
       "      <td>Monsieur</td>\n",
       "      <td>Aiulfi Loris Sandro</td>\n",
       "      <td>NaN</td>\n",
       "      <td>NaN</td>\n",
       "      <td>NaN</td>\n",
       "      <td>NaN</td>\n",
       "      <td>NaN</td>\n",
       "      <td>Présent</td>\n",
       "      <td>NaN</td>\n",
       "      <td>NaN</td>\n",
       "      <td>202293</td>\n",
       "      <td>Informatique</td>\n",
       "      <td>2011-2012</td>\n",
       "      <td>Bachelor semestre 1</td>\n",
       "    </tr>\n",
       "    <tr>\n",
       "      <th>17</th>\n",
       "      <td>Monsieur</td>\n",
       "      <td>Akiba David</td>\n",
       "      <td>NaN</td>\n",
       "      <td>NaN</td>\n",
       "      <td>NaN</td>\n",
       "      <td>NaN</td>\n",
       "      <td>NaN</td>\n",
       "      <td>Présent</td>\n",
       "      <td>NaN</td>\n",
       "      <td>NaN</td>\n",
       "      <td>206418</td>\n",
       "      <td>Informatique</td>\n",
       "      <td>2011-2012</td>\n",
       "      <td>Bachelor semestre 1</td>\n",
       "    </tr>\n",
       "    <tr>\n",
       "      <th>18</th>\n",
       "      <td>Monsieur</td>\n",
       "      <td>Albasini Romain</td>\n",
       "      <td>NaN</td>\n",
       "      <td>NaN</td>\n",
       "      <td>NaN</td>\n",
       "      <td>NaN</td>\n",
       "      <td>NaN</td>\n",
       "      <td>Présent</td>\n",
       "      <td>NaN</td>\n",
       "      <td>NaN</td>\n",
       "      <td>198197</td>\n",
       "      <td>Informatique</td>\n",
       "      <td>2011-2012</td>\n",
       "      <td>Bachelor semestre 1</td>\n",
       "    </tr>\n",
       "    <tr>\n",
       "      <th>19</th>\n",
       "      <td>Monsieur</td>\n",
       "      <td>Albrecht Pablo</td>\n",
       "      <td>NaN</td>\n",
       "      <td>NaN</td>\n",
       "      <td>NaN</td>\n",
       "      <td>NaN</td>\n",
       "      <td>NaN</td>\n",
       "      <td>Présent</td>\n",
       "      <td>NaN</td>\n",
       "      <td>NaN</td>\n",
       "      <td>212726</td>\n",
       "      <td>Informatique</td>\n",
       "      <td>2011-2012</td>\n",
       "      <td>Bachelor semestre 1</td>\n",
       "    </tr>\n",
       "    <tr>\n",
       "      <th>20</th>\n",
       "      <td>Monsieur</td>\n",
       "      <td>Alonso Seisdedos Florian</td>\n",
       "      <td>NaN</td>\n",
       "      <td>NaN</td>\n",
       "      <td>NaN</td>\n",
       "      <td>NaN</td>\n",
       "      <td>NaN</td>\n",
       "      <td>Présent</td>\n",
       "      <td>NaN</td>\n",
       "      <td>NaN</td>\n",
       "      <td>215576</td>\n",
       "      <td>Informatique</td>\n",
       "      <td>2011-2012</td>\n",
       "      <td>Bachelor semestre 1</td>\n",
       "    </tr>\n",
       "  </tbody>\n",
       "</table>\n",
       "</div>"
      ],
      "text/plain": [
       "    Civilité                Nom Prénom  Orientation Bachelor  \\\n",
       "16  Monsieur       Aiulfi Loris Sandro                   NaN   \n",
       "17  Monsieur               Akiba David                   NaN   \n",
       "18  Monsieur           Albasini Romain                   NaN   \n",
       "19  Monsieur            Albrecht Pablo                   NaN   \n",
       "20  Monsieur  Alonso Seisdedos Florian                   NaN   \n",
       "\n",
       "    Orientation Master Spécialisation Filière opt. Mineur   Statut  \\\n",
       "16                 NaN            NaN          NaN    NaN  Présent   \n",
       "17                 NaN            NaN          NaN    NaN  Présent   \n",
       "18                 NaN            NaN          NaN    NaN  Présent   \n",
       "19                 NaN            NaN          NaN    NaN  Présent   \n",
       "20                 NaN            NaN          NaN    NaN  Présent   \n",
       "\n",
       "   Type Echange Ecole Echange  No Sciper       Subject     Period  \\\n",
       "16          NaN           NaN     202293  Informatique  2011-2012   \n",
       "17          NaN           NaN     206418  Informatique  2011-2012   \n",
       "18          NaN           NaN     198197  Informatique  2011-2012   \n",
       "19          NaN           NaN     212726  Informatique  2011-2012   \n",
       "20          NaN           NaN     215576  Informatique  2011-2012   \n",
       "\n",
       "               Semester  \n",
       "16  Bachelor semestre 1  \n",
       "17  Bachelor semestre 1  \n",
       "18  Bachelor semestre 1  \n",
       "19  Bachelor semestre 1  \n",
       "20  Bachelor semestre 1  "
      ]
     },
     "execution_count": 5,
     "metadata": {},
     "output_type": "execute_result"
    }
   ],
   "source": [
    "ba = info.loc[info['Semester'].apply(locator_ba)]\n",
    "ba.head()"
   ]
  },
  {
   "cell_type": "markdown",
   "metadata": {},
   "source": [
    "Next step is to locate the *sciper* number. Indeed, it's easier to deal with a number than with a complicated name."
   ]
  },
  {
   "cell_type": "code",
   "execution_count": 6,
   "metadata": {
    "collapsed": true
   },
   "outputs": [],
   "source": [
    "def locSciper(df, sciper):\n",
    "    return df.loc[df['No Sciper'] == sciper]"
   ]
  },
  {
   "cell_type": "markdown",
   "metadata": {},
   "source": [
    "The next function is here to return a Boolean in case a specific student has an entry for *Bachelor semestre 1* and *Bachelor semestre 6*. \n",
    "\n",
    "We consider that a student **without** these two entries has failed and therefore, we don't take it into account. For the moment, that is our **only** assumption. (Later, we will add another assumption)"
   ]
  },
  {
   "cell_type": "code",
   "execution_count": 7,
   "metadata": {
    "collapsed": true
   },
   "outputs": [],
   "source": [
    "def isOneSix(df):\n",
    "    \"\"\" Take a DataFrame and check that there is an entry for both BA1 and BA6\n",
    "    \n",
    "    Args:\n",
    "        df (DataFrame): a DataFrame, typically a .loc on a specific student\n",
    "        \n",
    "    Returns:\n",
    "        bool: True if it finds both BA1 and BA6, False otherwise\n",
    "    \"\"\"\n",
    "    try:\n",
    "        one = df.isin(['Bachelor semestre 1'])['Semester'].value_counts()[True] > 0\n",
    "    except KeyError:\n",
    "        one = 0\n",
    "    try:\n",
    "        six = df.isin(['Bachelor semestre 6'])['Semester'].value_counts()[True] > 0\n",
    "    except KeyError:\n",
    "        six = 0\n",
    "    return (one and six)"
   ]
  },
  {
   "cell_type": "markdown",
   "metadata": {},
   "source": [
    "We also collect the *Gender*. "
   ]
  },
  {
   "cell_type": "code",
   "execution_count": 8,
   "metadata": {
    "collapsed": true
   },
   "outputs": [],
   "source": [
    "def getGender(df):\n",
    "    \"\"\" Take a DataFrame and checks the gender\n",
    "    \n",
    "    Args:\n",
    "        df (DataFrame): a DataFrame, typically a .loc on a specific student\n",
    "        \n",
    "    Returns:\n",
    "        bool: True if student is a woman, False otherwise\n",
    "    \"\"\"\n",
    "    try:\n",
    "        if df.isin(['Madame'])['Civilité'].value_counts()[True] > 0:\n",
    "            return 1\n",
    "    except KeyError:\n",
    "        return 0"
   ]
  },
  {
   "cell_type": "markdown",
   "metadata": {},
   "source": [
    "Now, we will create a dictionnary to collect the different information. For each student, we need the **sciper**, the **gender** and the **number of occurencies** of this sciper. This will tell us how many semester the students did to go from *Bachelor semestre 1* to *Bachelor semestre 6*."
   ]
  },
  {
   "cell_type": "code",
   "execution_count": 9,
   "metadata": {
    "collapsed": false
   },
   "outputs": [],
   "source": [
    "dico = {'sciper': [], 'gender': [], 'length': []}\n",
    "# Go through all the rows in the Bachelor students DataFram\n",
    "for row in ba.iterrows():\n",
    "    o = row[1]\n",
    "    sciper = o['No Sciper']\n",
    "    # Making sure we consider unique scipers\n",
    "    if not sciper in dico['sciper']:\n",
    "        df = locSciper(ba, sciper)\n",
    "        # Check that he had an entry for Bachelor 1 and Bachelor 6\n",
    "        if isOneSix(df):\n",
    "            dico['sciper'].append(sciper)\n",
    "            dico['gender'].append(getGender(df))\n",
    "            # Calculating length of stay by nbr of rows\n",
    "            dico['length'].append(len(df))"
   ]
  },
  {
   "cell_type": "markdown",
   "metadata": {},
   "source": [
    "We transform the dictionnary into a pandas DataFrame."
   ]
  },
  {
   "cell_type": "code",
   "execution_count": 10,
   "metadata": {
    "collapsed": false
   },
   "outputs": [
    {
     "data": {
      "text/html": [
       "<div>\n",
       "<table border=\"1\" class=\"dataframe\">\n",
       "  <thead>\n",
       "    <tr style=\"text-align: right;\">\n",
       "      <th></th>\n",
       "      <th>gender</th>\n",
       "      <th>length</th>\n",
       "      <th>sciper</th>\n",
       "    </tr>\n",
       "  </thead>\n",
       "  <tbody>\n",
       "    <tr>\n",
       "      <th>0</th>\n",
       "      <td>0</td>\n",
       "      <td>12</td>\n",
       "      <td>202293</td>\n",
       "    </tr>\n",
       "    <tr>\n",
       "      <th>1</th>\n",
       "      <td>0</td>\n",
       "      <td>11</td>\n",
       "      <td>215576</td>\n",
       "    </tr>\n",
       "    <tr>\n",
       "      <th>2</th>\n",
       "      <td>0</td>\n",
       "      <td>8</td>\n",
       "      <td>213618</td>\n",
       "    </tr>\n",
       "    <tr>\n",
       "      <th>3</th>\n",
       "      <td>0</td>\n",
       "      <td>8</td>\n",
       "      <td>215623</td>\n",
       "    </tr>\n",
       "    <tr>\n",
       "      <th>4</th>\n",
       "      <td>0</td>\n",
       "      <td>10</td>\n",
       "      <td>212464</td>\n",
       "    </tr>\n",
       "  </tbody>\n",
       "</table>\n",
       "</div>"
      ],
      "text/plain": [
       "   gender  length  sciper\n",
       "0       0      12  202293\n",
       "1       0      11  215576\n",
       "2       0       8  213618\n",
       "3       0       8  215623\n",
       "4       0      10  212464"
      ]
     },
     "execution_count": 10,
     "metadata": {},
     "output_type": "execute_result"
    }
   ],
   "source": [
    "data = pd.DataFrame(dico)\n",
    "data.head()"
   ]
  },
  {
   "cell_type": "markdown",
   "metadata": {},
   "source": [
    "We use the `describe()` function to check for inconsistencies."
   ]
  },
  {
   "cell_type": "code",
   "execution_count": 11,
   "metadata": {
    "collapsed": false,
    "scrolled": true
   },
   "outputs": [
    {
     "data": {
      "text/plain": [
       "count    397.000000\n",
       "mean       7.083123\n",
       "std        1.524428\n",
       "min        4.000000\n",
       "25%        6.000000\n",
       "50%        6.000000\n",
       "75%        8.000000\n",
       "max       12.000000\n",
       "Name: length, dtype: float64"
      ]
     },
     "execution_count": 11,
     "metadata": {},
     "output_type": "execute_result"
    }
   ],
   "source": [
    "data['length'].describe()"
   ]
  },
  {
   "cell_type": "markdown",
   "metadata": {},
   "source": [
    "We notice that the minimum length is **4 semesters**. This is wrong. Let's see how many persons did their Bachelor in less than 6 semesters."
   ]
  },
  {
   "cell_type": "code",
   "execution_count": 12,
   "metadata": {
    "collapsed": false
   },
   "outputs": [
    {
     "data": {
      "text/html": [
       "<div>\n",
       "<table border=\"1\" class=\"dataframe\">\n",
       "  <thead>\n",
       "    <tr style=\"text-align: right;\">\n",
       "      <th></th>\n",
       "      <th>gender</th>\n",
       "      <th>length</th>\n",
       "      <th>sciper</th>\n",
       "    </tr>\n",
       "  </thead>\n",
       "  <tbody>\n",
       "    <tr>\n",
       "      <th>64</th>\n",
       "      <td>0</td>\n",
       "      <td>4</td>\n",
       "      <td>204222</td>\n",
       "    </tr>\n",
       "  </tbody>\n",
       "</table>\n",
       "</div>"
      ],
      "text/plain": [
       "    gender  length  sciper\n",
       "64       0       4  204222"
      ]
     },
     "execution_count": 12,
     "metadata": {},
     "output_type": "execute_result"
    }
   ],
   "source": [
    "data.loc[data.length < 6]"
   ]
  },
  {
   "cell_type": "markdown",
   "metadata": {},
   "source": [
    "We see that there's only one sciper. We can now use the Bachelor DataFrame to get more information about this person."
   ]
  },
  {
   "cell_type": "code",
   "execution_count": 13,
   "metadata": {
    "collapsed": false
   },
   "outputs": [
    {
     "data": {
      "text/html": [
       "<div>\n",
       "<table border=\"1\" class=\"dataframe\">\n",
       "  <thead>\n",
       "    <tr style=\"text-align: right;\">\n",
       "      <th></th>\n",
       "      <th>Civilité</th>\n",
       "      <th>Nom Prénom</th>\n",
       "      <th>Orientation Bachelor</th>\n",
       "      <th>Orientation Master</th>\n",
       "      <th>Spécialisation</th>\n",
       "      <th>Filière opt.</th>\n",
       "      <th>Mineur</th>\n",
       "      <th>Statut</th>\n",
       "      <th>Type Echange</th>\n",
       "      <th>Ecole Echange</th>\n",
       "      <th>No Sciper</th>\n",
       "      <th>Subject</th>\n",
       "      <th>Period</th>\n",
       "      <th>Semester</th>\n",
       "    </tr>\n",
       "  </thead>\n",
       "  <tbody>\n",
       "    <tr>\n",
       "      <th>165</th>\n",
       "      <td>Monsieur</td>\n",
       "      <td>Séguy Louis Marie James</td>\n",
       "      <td>NaN</td>\n",
       "      <td>NaN</td>\n",
       "      <td>NaN</td>\n",
       "      <td>NaN</td>\n",
       "      <td>NaN</td>\n",
       "      <td>Présent</td>\n",
       "      <td>NaN</td>\n",
       "      <td>NaN</td>\n",
       "      <td>204222</td>\n",
       "      <td>Informatique</td>\n",
       "      <td>2011-2012</td>\n",
       "      <td>Bachelor semestre 1</td>\n",
       "    </tr>\n",
       "    <tr>\n",
       "      <th>290</th>\n",
       "      <td>Monsieur</td>\n",
       "      <td>Séguy Louis Marie James</td>\n",
       "      <td>NaN</td>\n",
       "      <td>NaN</td>\n",
       "      <td>NaN</td>\n",
       "      <td>NaN</td>\n",
       "      <td>NaN</td>\n",
       "      <td>Présent</td>\n",
       "      <td>NaN</td>\n",
       "      <td>NaN</td>\n",
       "      <td>204222</td>\n",
       "      <td>Informatique</td>\n",
       "      <td>2011-2012</td>\n",
       "      <td>Bachelor semestre 2</td>\n",
       "    </tr>\n",
       "    <tr>\n",
       "      <th>721</th>\n",
       "      <td>Monsieur</td>\n",
       "      <td>Séguy Louis Marie James</td>\n",
       "      <td>NaN</td>\n",
       "      <td>NaN</td>\n",
       "      <td>NaN</td>\n",
       "      <td>NaN</td>\n",
       "      <td>NaN</td>\n",
       "      <td>Présent</td>\n",
       "      <td>NaN</td>\n",
       "      <td>NaN</td>\n",
       "      <td>204222</td>\n",
       "      <td>Informatique</td>\n",
       "      <td>2014-2015</td>\n",
       "      <td>Bachelor semestre 5</td>\n",
       "    </tr>\n",
       "    <tr>\n",
       "      <th>840</th>\n",
       "      <td>Monsieur</td>\n",
       "      <td>Séguy Louis Marie James</td>\n",
       "      <td>NaN</td>\n",
       "      <td>NaN</td>\n",
       "      <td>NaN</td>\n",
       "      <td>NaN</td>\n",
       "      <td>NaN</td>\n",
       "      <td>Présent</td>\n",
       "      <td>NaN</td>\n",
       "      <td>NaN</td>\n",
       "      <td>204222</td>\n",
       "      <td>Informatique</td>\n",
       "      <td>2014-2015</td>\n",
       "      <td>Bachelor semestre 6</td>\n",
       "    </tr>\n",
       "  </tbody>\n",
       "</table>\n",
       "</div>"
      ],
      "text/plain": [
       "     Civilité               Nom Prénom  Orientation Bachelor  \\\n",
       "165  Monsieur  Séguy Louis Marie James                   NaN   \n",
       "290  Monsieur  Séguy Louis Marie James                   NaN   \n",
       "721  Monsieur  Séguy Louis Marie James                   NaN   \n",
       "840  Monsieur  Séguy Louis Marie James                   NaN   \n",
       "\n",
       "     Orientation Master Spécialisation Filière opt. Mineur   Statut  \\\n",
       "165                 NaN            NaN          NaN    NaN  Présent   \n",
       "290                 NaN            NaN          NaN    NaN  Présent   \n",
       "721                 NaN            NaN          NaN    NaN  Présent   \n",
       "840                 NaN            NaN          NaN    NaN  Présent   \n",
       "\n",
       "    Type Echange Ecole Echange  No Sciper       Subject     Period  \\\n",
       "165          NaN           NaN     204222  Informatique  2011-2012   \n",
       "290          NaN           NaN     204222  Informatique  2011-2012   \n",
       "721          NaN           NaN     204222  Informatique  2014-2015   \n",
       "840          NaN           NaN     204222  Informatique  2014-2015   \n",
       "\n",
       "                Semester  \n",
       "165  Bachelor semestre 1  \n",
       "290  Bachelor semestre 2  \n",
       "721  Bachelor semestre 5  \n",
       "840  Bachelor semestre 6  "
      ]
     },
     "execution_count": 13,
     "metadata": {},
     "output_type": "execute_result"
    }
   ],
   "source": [
    "locSciper(ba, 204222)"
   ]
  },
  {
   "cell_type": "markdown",
   "metadata": {},
   "source": [
    "So... Either this person is a genius and didn't have to do his 2nd year or IsAcademia is missing some data. The second option seems more realistic. Therefore, we remove him from the DataFrame. "
   ]
  },
  {
   "cell_type": "code",
   "execution_count": 14,
   "metadata": {
    "collapsed": false
   },
   "outputs": [
    {
     "data": {
      "text/html": [
       "<div>\n",
       "<table border=\"1\" class=\"dataframe\">\n",
       "  <thead>\n",
       "    <tr style=\"text-align: right;\">\n",
       "      <th></th>\n",
       "      <th>gender</th>\n",
       "      <th>length</th>\n",
       "      <th>sciper</th>\n",
       "    </tr>\n",
       "  </thead>\n",
       "  <tbody>\n",
       "  </tbody>\n",
       "</table>\n",
       "</div>"
      ],
      "text/plain": [
       "Empty DataFrame\n",
       "Columns: [gender, length, sciper]\n",
       "Index: []"
      ]
     },
     "execution_count": 14,
     "metadata": {},
     "output_type": "execute_result"
    }
   ],
   "source": [
    "data = data.drop(data.loc[data.length < 6].index)\n",
    "data.loc[data.length < 6]\n"
   ]
  },
  {
   "cell_type": "markdown",
   "metadata": {},
   "source": [
    "Data are ready! =)"
   ]
  },
  {
   "cell_type": "markdown",
   "metadata": {},
   "source": [
    "# Do some statistics"
   ]
  },
  {
   "cell_type": "markdown",
   "metadata": {},
   "source": [
    "Now, we want to see if the *men* and *women* do their Bachelor in the same amount of time or if there's a significative difference.\n",
    "\n",
    "First, we create the men DataFrame."
   ]
  },
  {
   "cell_type": "code",
   "execution_count": 15,
   "metadata": {
    "collapsed": false
   },
   "outputs": [
    {
     "data": {
      "text/plain": [
       "count    367.000000\n",
       "mean       7.114441\n",
       "std        1.530379\n",
       "min        6.000000\n",
       "25%        6.000000\n",
       "50%        6.000000\n",
       "75%        8.000000\n",
       "max       12.000000\n",
       "Name: length, dtype: float64"
      ]
     },
     "execution_count": 15,
     "metadata": {},
     "output_type": "execute_result"
    }
   ],
   "source": [
    "men = data.loc[data.gender == 0]\n",
    "men.length.describe()"
   ]
  },
  {
   "cell_type": "markdown",
   "metadata": {},
   "source": [
    "Now, we can create the women DataFrame."
   ]
  },
  {
   "cell_type": "code",
   "execution_count": 16,
   "metadata": {
    "collapsed": false
   },
   "outputs": [
    {
     "data": {
      "text/plain": [
       "count    29.000000\n",
       "mean      6.793103\n",
       "std       1.346406\n",
       "min       6.000000\n",
       "25%       6.000000\n",
       "50%       6.000000\n",
       "75%       8.000000\n",
       "max      11.000000\n",
       "Name: length, dtype: float64"
      ]
     },
     "execution_count": 16,
     "metadata": {},
     "output_type": "execute_result"
    }
   ],
   "source": [
    "women = data.loc[data.gender == 1]\n",
    "women.length.describe()"
   ]
  },
  {
   "cell_type": "markdown",
   "metadata": {
    "collapsed": true
   },
   "source": [
    "Let's talk about these data.\n",
    "\n",
    "We can see that there is 367 occurences for men and \"only\" 29 occurences for women. So, there's a big difference between these two datasets. We can see that the min, 25%, and 50% quantiles are the same for both of the groups. It's quite expected since around half of the students do their Bachelor in 6 semesters (3 years). \n",
    "\n",
    "We can now use a statistical test to see if our result on the length are statistically significant. We are using a **two-sample t-test** because we want to compare the two population (men and women).  For this t-test, we say that the variance is different. Indeed, we saw before that the std values are different between men and women. For the t-test, we are mainly looking at the p-value. If it's less than 0.05 (5%), then there is a significant difference between men and women. "
   ]
  },
  {
   "cell_type": "code",
   "execution_count": 17,
   "metadata": {
    "collapsed": false
   },
   "outputs": [
    {
     "data": {
      "text/plain": [
       "Ttest_indResult(statistic=-1.2242690386586714, pvalue=0.22927095396453942)"
      ]
     },
     "execution_count": 17,
     "metadata": {},
     "output_type": "execute_result"
    }
   ],
   "source": [
    "stats.ttest_ind(a=women.length, b=men.length, equal_var=False)"
   ]
  },
  {
   "cell_type": "markdown",
   "metadata": {},
   "source": [
    "We can see that the pvalue is equal to 0.27. Therefore, it tells us that there is no significant result between men and women concerning the length of their Bachelor."
   ]
  },
  {
   "cell_type": "markdown",
   "metadata": {},
   "source": [
    "# Add some assumptions\n",
    "\n",
    "Now, we will restrict a bit the data. Indeed, if we take the year '2013-2014', we will only have the students who finished their Bachelor in 6 semester. Therefore, we are introducing a huge bias. We can also remove the students who started in '2011-2012' and in '2012-2013' because we will miss some students. Normally, the maximum length of the Bachelor is 6 years (12 semesters). So, if we remove all the students who started their Bachelor after '2010-2011', we will remove all the bias due to students who failed some/many years. \n",
    "\n",
    "On the other hand, if we add all the students who started their Bachelor in '2007-2008', we will miss the students who started in '2006-2007' and repeated their first year. Therefore, we remove the students who did their first only in '2007-2008'. (If a student did his first year in '2007-2008' and '2008-2009', we keep it because we know he repeated his first year.)\n",
    "\n",
    "The function `restrict_years` returns true if a student had an entry for *Bachelor semestre 1* in the years '2008-2009', '2009-2010' or '2010-2011'. It returns false otherwise."
   ]
  },
  {
   "cell_type": "code",
   "execution_count": 18,
   "metadata": {
    "collapsed": true
   },
   "outputs": [],
   "source": [
    "def restrict_years(df):\n",
    "    \"\"\" Take a DataFrame and check that there is an entry for both BA1 and BA6\n",
    "    \n",
    "    Args:\n",
    "        df (DataFrame): a DataFrame, typically a .loc on a specific student\n",
    "        \n",
    "    Returns:\n",
    "        bool: True if student started in the correct years, False otherwise\n",
    "    \"\"\"  \n",
    "    good_years = ['2008-2009', '2009-2010', '2010-2011']\n",
    "\n",
    "    try:\n",
    "        periods_ba1 = df.loc[df['Semester'] == 'Bachelor semestre 1'].Period\n",
    "        if any(years in good_years for years in periods_ba1):\n",
    "            return True\n",
    "        else:\n",
    "            return False\n",
    "    except KeyError:\n",
    "        return False"
   ]
  },
  {
   "cell_type": "markdown",
   "metadata": {},
   "source": [
    "Now, we create another dictionnary with the restricted years."
   ]
  },
  {
   "cell_type": "code",
   "execution_count": 19,
   "metadata": {
    "collapsed": false
   },
   "outputs": [],
   "source": [
    "dico_restricted = {'sciper': [], 'gender': [], 'length': []}\n",
    "for row in ba.iterrows():\n",
    "    o = row[1]\n",
    "    sciper = o['No Sciper']\n",
    "    # Making sure we consider unique sciper #s\n",
    "    if not sciper in dico_restricted ['sciper']:\n",
    "        df = locSciper(ba, sciper)\n",
    "        if isOneSix(df) and restrict_years(df):\n",
    "            dico_restricted ['sciper'].append(sciper)\n",
    "            dico_restricted ['gender'].append(getGender(df))\n",
    "            # Calculating length of stay by nbr of rows\n",
    "            dico_restricted['length'].append(len(df))"
   ]
  },
  {
   "cell_type": "markdown",
   "metadata": {},
   "source": [
    "We transform this dictionnary into a DataFrame and we describe the length to see if there is something wrong or not."
   ]
  },
  {
   "cell_type": "code",
   "execution_count": 20,
   "metadata": {
    "collapsed": false
   },
   "outputs": [
    {
     "data": {
      "text/plain": [
       "count    147.000000\n",
       "mean       7.414966\n",
       "std        1.755007\n",
       "min        6.000000\n",
       "25%        6.000000\n",
       "50%        6.000000\n",
       "75%        8.000000\n",
       "max       12.000000\n",
       "Name: length, dtype: float64"
      ]
     },
     "execution_count": 20,
     "metadata": {},
     "output_type": "execute_result"
    }
   ],
   "source": [
    "data_restricted = pd.DataFrame(dico_restricted)\n",
    "data_restricted.length.describe()"
   ]
  },
  {
   "cell_type": "markdown",
   "metadata": {
    "collapsed": false
   },
   "source": [
    "As we can see, we have now 147 students instead of 367. So, this restriction removed a lot of data. We also lost the student who did his Bachelor in only two years. Therefore, we can directly create the DataFrame for the men and describe it."
   ]
  },
  {
   "cell_type": "code",
   "execution_count": 21,
   "metadata": {
    "collapsed": false
   },
   "outputs": [
    {
     "data": {
      "text/plain": [
       "count    138.000000\n",
       "mean       7.471014\n",
       "std        1.776538\n",
       "min        6.000000\n",
       "25%        6.000000\n",
       "50%        7.000000\n",
       "75%        8.000000\n",
       "max       12.000000\n",
       "Name: length, dtype: float64"
      ]
     },
     "execution_count": 21,
     "metadata": {},
     "output_type": "execute_result"
    }
   ],
   "source": [
    "men_restricted = data_restricted.loc[data_restricted.gender == 0]\n",
    "men_restricted.length.describe()"
   ]
  },
  {
   "cell_type": "markdown",
   "metadata": {},
   "source": [
    "We can do the same for the women."
   ]
  },
  {
   "cell_type": "code",
   "execution_count": 22,
   "metadata": {
    "collapsed": false
   },
   "outputs": [
    {
     "data": {
      "text/plain": [
       "count    9.000000\n",
       "mean     6.555556\n",
       "std      1.130388\n",
       "min      6.000000\n",
       "25%      6.000000\n",
       "50%      6.000000\n",
       "75%      6.000000\n",
       "max      9.000000\n",
       "Name: length, dtype: float64"
      ]
     },
     "execution_count": 22,
     "metadata": {},
     "output_type": "execute_result"
    }
   ],
   "source": [
    "women_restricted = data_restricted.loc[data_restricted.gender == 1]\n",
    "women_restricted.length.describe()"
   ]
  },
  {
   "cell_type": "markdown",
   "metadata": {},
   "source": [
    "As we can see, we only have 9 women now. But we can see that the mean value changed. Now, the women seem to finish their master earlier than the men. We can again use a **two-sample t-test** to see if it's the case."
   ]
  },
  {
   "cell_type": "code",
   "execution_count": 23,
   "metadata": {
    "collapsed": false
   },
   "outputs": [
    {
     "data": {
      "text/plain": [
       "Ttest_indResult(statistic=-2.2547599154275426, pvalue=0.045997368363103121)"
      ]
     },
     "execution_count": 23,
     "metadata": {},
     "output_type": "execute_result"
    }
   ],
   "source": [
    "stats.ttest_ind(a=women_restricted.length, b=men_restricted.length, equal_var=False)"
   ]
  },
  {
   "cell_type": "markdown",
   "metadata": {
    "collapsed": true
   },
   "source": [
    "And now, we have a really interesting result! The p-value is now under 0.05 (5%) which means that there is a statistically significant difference. \n",
    "\n"
   ]
  },
  {
   "cell_type": "markdown",
   "metadata": {},
   "source": [
    "# Conclusion:\n",
    "\n",
    "Women (~6.5 semesters) seem to take one year less than men (~7.5 semesters) to finish their Bachelor. The t-test proved that it's statistically significant. **But** we have to be carefule about these data because we had really few entries for women."
   ]
  }
 ],
 "metadata": {
  "anaconda-cloud": {},
  "kernelspec": {
   "display_name": "Python [Root]",
   "language": "python",
   "name": "Python [Root]"
  },
  "language_info": {
   "codemirror_mode": {
    "name": "ipython",
    "version": 3
   },
   "file_extension": ".py",
   "mimetype": "text/x-python",
   "name": "python",
   "nbconvert_exporter": "python",
   "pygments_lexer": "ipython3",
   "version": "3.5.2"
  }
 },
 "nbformat": 4,
 "nbformat_minor": 1
}
