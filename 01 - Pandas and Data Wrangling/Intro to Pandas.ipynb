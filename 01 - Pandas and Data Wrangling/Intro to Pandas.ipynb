{
 "cells": [
  {
   "cell_type": "code",
   "execution_count": null,
   "metadata": {
    "collapsed": true
   },
   "outputs": [],
   "source": [
    "import pandas as pd\n",
    "import numpy as np\n",
    "pd.options.mode.chained_assignment = None  # default='warn'"
   ]
  },
  {
   "cell_type": "markdown",
   "metadata": {},
   "source": [
    "# Exercise 1\n",
    "### Preparation for the exercise\n"
   ]
  },
  {
   "cell_type": "code",
   "execution_count": null,
   "metadata": {
    "collapsed": false
   },
   "outputs": [],
   "source": [
    "data = pd.DataFrame({'value':[632, 1638, 569, 115, 433, 1130, 754, 555],\n",
    "                     'patient':[1, 1, 1, 1, 2, 2, 2, 2],\n",
    "                     'phylum':['Firmicutes', 'Proteobacteria', 'Actinobacteria', \n",
    "    'Bacteroidetes', 'Firmicutes', 'Proteobacteria', 'Actinobacteria', 'Bacteroidetes']})\n",
    "data"
   ]
  },
  {
   "cell_type": "markdown",
   "metadata": {},
   "source": [
    "### Exercise\n",
    "\n",
    "Try out these commands to see what they return:\n",
    "\n",
    "- `data.head()` return the **n first rows** of the DataFrame (5 by default)\n",
    "- `data.tail(3)` return the **n last rows** of the DataFrame (5 by default)\n",
    "- `data.shape` return the **(#rows, #columns)** of the DataFrame i.e. the **(cardinality, degree)**"
   ]
  },
  {
   "cell_type": "code",
   "execution_count": null,
   "metadata": {
    "collapsed": false
   },
   "outputs": [],
   "source": [
    "data.head()"
   ]
  },
  {
   "cell_type": "code",
   "execution_count": null,
   "metadata": {
    "collapsed": false
   },
   "outputs": [],
   "source": [
    "data.tail(3)"
   ]
  },
  {
   "cell_type": "code",
   "execution_count": null,
   "metadata": {
    "collapsed": false
   },
   "outputs": [],
   "source": [
    "data.shape"
   ]
  },
  {
   "cell_type": "markdown",
   "metadata": {},
   "source": [
    "# Exercise 2\n",
    "### Preparation for the exercise"
   ]
  },
  {
   "cell_type": "code",
   "execution_count": null,
   "metadata": {
    "collapsed": true
   },
   "outputs": [],
   "source": [
    "data = pd.DataFrame([{'patient': 1, 'phylum': 'Firmicutes', 'value': 632},\n",
    "                    {'patient': 1, 'phylum': 'Proteobacteria', 'value': 1638},\n",
    "                    {'patient': 1, 'phylum': 'Actinobacteria', 'value': 569},\n",
    "                    {'patient': 1, 'phylum': 'Bacteroidetes', 'value': 115},\n",
    "                    {'patient': 2, 'phylum': 'Firmicutes', 'value': 433},\n",
    "                    {'patient': 2, 'phylum': 'Proteobacteria', 'value': 1130},\n",
    "                    {'patient': 2, 'phylum': 'Actinobacteria', 'value': 754},\n",
    "                    {'patient': 2, 'phylum': 'Bacteroidetes', 'value': 555}])"
   ]
  },
  {
   "cell_type": "markdown",
   "metadata": {},
   "source": [
    "### Exercise\n",
    "\n",
    "From the `data` table above, create an index to return all rows for which the phylum name ends in \"bacteria\" and the value is greater than 1000."
   ]
  },
  {
   "cell_type": "code",
   "execution_count": null,
   "metadata": {
    "collapsed": false
   },
   "outputs": [],
   "source": [
    "# Write your answer here \n",
    "print(data)\n",
    "\n",
    "#instead of looping over the rows we can directly apply the criterium on all of them\n",
    "print(data.value > 1000)\n",
    "print(data.phylum.str.endswith('bacteria')) \n",
    "\n",
    "data[(data.value > 1000) & (data.phylum.str.endswith('bacteria'))]"
   ]
  },
  {
   "cell_type": "markdown",
   "metadata": {},
   "source": [
    "# Exercise 3\n",
    "### Preparation for the exercise"
   ]
  },
  {
   "cell_type": "code",
   "execution_count": null,
   "metadata": {
    "collapsed": false
   },
   "outputs": [],
   "source": [
    "baseball = pd.read_csv(\"Data/baseball.csv\", index_col='id')\n",
    "baseball.head()"
   ]
  },
  {
   "cell_type": "markdown",
   "metadata": {},
   "source": [
    "### Exercise\n",
    "\n",
    "You can use the `isin` method query a DataFrame based upon a list of values as follows: \n",
    "\n",
    "    data['phylum'].isin(['Firmacutes', 'Bacteroidetes'])\n",
    "\n",
    "Use `isin` to find all players that played for the Los Angeles Dodgers (LAN) or the San Francisco Giants (SFN). How many records contain these values?"
   ]
  },
  {
   "cell_type": "code",
   "execution_count": null,
   "metadata": {
    "collapsed": false
   },
   "outputs": [],
   "source": [
    "# Write your answer here\n",
    "LAN_and_SFD = baseball[baseball['team'].isin(['LAN', 'SFN'])]\n",
    "print(\"They are\", LAN_and_SFD.shape[0], \"players who played at LAN or SFN\")\n",
    "LAN_and_SFD"
   ]
  },
  {
   "cell_type": "markdown",
   "metadata": {},
   "source": [
    "# Exercise 4\n",
    "\n",
    "### Exercise\n",
    "\n",
    "Calculate **on base percentage** for each player, and return the ordered series of estimates.\n",
    "\n",
    "$$OBP = \\frac{H + BB + HBP}{AB + BB + HBP + SF}$$\n",
    "\n"
   ]
  },
  {
   "cell_type": "code",
   "execution_count": null,
   "metadata": {
    "collapsed": false
   },
   "outputs": [],
   "source": [
    "baseball.head()"
   ]
  },
  {
   "cell_type": "code",
   "execution_count": null,
   "metadata": {
    "collapsed": false
   },
   "outputs": [],
   "source": [
    "# Write your answer here\n",
    "def calculate_OBP(x):\n",
    "    num = x['h'] + x['bb'] + x['hbp']\n",
    "    denom = x['ab'] + x['bb'] + x['hbp'] + x['sf']\n",
    "    if denom == 0:\n",
    "        return np.NaN # handle 0 division\n",
    "    else:\n",
    "        return (num / denom)\n",
    "\n",
    "baseball['OBP'] = baseball.apply(calculate_OBP, axis=1)\n",
    "baseball.sort_values(['OBP'], ascending=False)"
   ]
  },
  {
   "cell_type": "markdown",
   "metadata": {},
   "source": [
    "# Exercise 4.2\n",
    "\n",
    "### Preparation for the exercise"
   ]
  },
  {
   "cell_type": "code",
   "execution_count": null,
   "metadata": {
    "collapsed": false
   },
   "outputs": [],
   "source": [
    "frame = pd.DataFrame(np.arange(12).reshape(( 4, 3)), \n",
    "                  index =[['a', 'a', 'b', 'b'], [1, 2, 1, 2]], \n",
    "                  columns =[['Ohio', 'Ohio', 'Colorado'], ['Green', 'Red', 'Green']])\n",
    "\n",
    "frame"
   ]
  },
  {
   "cell_type": "markdown",
   "metadata": {},
   "source": [
    "### Exercise\n",
    "\n",
    "Try retrieving the value corresponding to `b2` in `Colorado`:\n"
   ]
  },
  {
   "cell_type": "code",
   "execution_count": null,
   "metadata": {
    "collapsed": false
   },
   "outputs": [],
   "source": [
    "# Write your answer here\n",
    "int(frame.loc['b', 'Colorado'].iloc[1])"
   ]
  },
  {
   "cell_type": "markdown",
   "metadata": {},
   "source": [
    "# Exercise 5\n",
    "\n",
    "### Preparation for the exercise"
   ]
  },
  {
   "cell_type": "code",
   "execution_count": null,
   "metadata": {
    "collapsed": false
   },
   "outputs": [],
   "source": [
    "treatment = pd.Series([0]*4 + [1]*2)\n",
    "data['treatment'] = treatment\n",
    "\n",
    "data['month'] = ['Jan']*len(data)\n",
    "data"
   ]
  },
  {
   "cell_type": "markdown",
   "metadata": {},
   "source": [
    "### Exercise\n",
    "\n",
    "Try using the axis argument to drop columns with missing values:"
   ]
  },
  {
   "cell_type": "code",
   "execution_count": null,
   "metadata": {
    "collapsed": false
   },
   "outputs": [],
   "source": [
    "# Write your answer here\n",
    "data.dropna(axis=0)\n",
    "# Delete the lines\n",
    "\n"
   ]
  },
  {
   "cell_type": "code",
   "execution_count": null,
   "metadata": {
    "collapsed": false
   },
   "outputs": [],
   "source": [
    "# Write your answer here\n",
    "data.dropna(axis=1) # or data.dropna(axis='columns')\n",
    "# Delete the columns"
   ]
  },
  {
   "cell_type": "markdown",
   "metadata": {},
   "source": [
    "# Advanced Exercise\n",
    "\n",
    "The Data/ebola folder contains summarized reports of Ebola cases from three countries during the recent outbreak of the disease in West Africa. For each country, there are daily reports that contain various information about the outbreak in several cities in each country.\n",
    "\n",
    "From these data files, use pandas to import them and create a single data frame that includes the daily totals of new cases and deaths for each country."
   ]
  },
  {
   "cell_type": "markdown",
   "metadata": {},
   "source": [
    "## For this exercise, we split the first processing of the data by the three countries\n",
    "\n",
    "## We first start with Guinea"
   ]
  },
  {
   "cell_type": "code",
   "execution_count": null,
   "metadata": {
    "collapsed": false
   },
   "outputs": [],
   "source": [
    "# This small code is just to test the data\n",
    "file = 'Data/ebola/guinea_data/2014-08-04.csv'\n",
    "\n",
    "# Read the data\n",
    "data = pd.read_csv(file, parse_dates=True, dayfirst=True).fillna(0)\n",
    "# Take the date\n",
    "date = data['Date'][0]\n",
    "print(date)\n",
    "# Drop the Date column and change the index to be the column Description\n",
    "data.drop(['Date'], axis=1, inplace=True)\n",
    "data.index = data['Description']\n",
    "data.drop(['Description'], axis=1, inplace=True)\n",
    "if 'New deaths registered today' not in data.index:\n",
    "    death = int(data['Totals'].loc[['New deaths registered']])\n",
    "else:\n",
    "    death = int(data['Totals'].loc[['New deaths registered today']])\n",
    "\n",
    "case = int(data['Totals'].loc[['Total new cases registered so far']])\n",
    "    \n",
    "print(death)\n",
    "print(case)"
   ]
  },
  {
   "cell_type": "markdown",
   "metadata": {},
   "source": [
    "### Code to deal with all the files in the guinea_data folder"
   ]
  },
  {
   "cell_type": "code",
   "execution_count": null,
   "metadata": {
    "collapsed": false
   },
   "outputs": [],
   "source": [
    "import os\n",
    "\n",
    "# List the files for Guinea\n",
    "basepath = 'Data/ebola/guinea_data/'\n",
    "\n",
    "# Empty dic\n",
    "guinea = {}\n",
    "# Arrays for date, new cases and new deaths\n",
    "date = []\n",
    "new_cases = []\n",
    "new_deaths = []\n",
    "\n",
    "# Go through all the files\n",
    "for fname in os.listdir(basepath):\n",
    "    if 'lock' not in fname:\n",
    "        #print(fname)\n",
    "        path = os.path.join(basepath, fname)\n",
    "        # Load the data\n",
    "        data = pd.read_csv(path, parse_dates=True, dayfirst=True).fillna(0)\n",
    "        # Get the date\n",
    "        date.append(data[\"Date\"][0])\n",
    "        # Drop the Date column and change the index to be the column Description\n",
    "        data.drop(['Date'], axis=1, inplace=True)\n",
    "        data.index = data['Description']\n",
    "        data.drop(['Description'], axis=1, inplace=True)\n",
    "        # Get the new cases\n",
    "        new_cases.append(int(data['Totals'].loc[['Total new cases registered so far']]))\n",
    "        # Get the new deaths\n",
    "        if 'New deaths registered today' not in data.index:\n",
    "            new_deaths.append(int(data['Totals'].loc[['New deaths registered']]))\n",
    "        else:\n",
    "            new_deaths.append(int(data['Totals'].loc[['New deaths registered today']]))        \n",
    "    \n",
    "mat = np.column_stack((new_cases, new_deaths)) \n",
    "guinea_frame = pd.DataFrame(mat, columns = [[\"Guinea\", \"Guinea\"], [\"New cases\", \"New deaths\"]])\n",
    "guinea_frame.index = date\n",
    "guinea_frame.index.name = \"Date\"\n",
    "guinea_frame.head() "
   ]
  },
  {
   "cell_type": "markdown",
   "metadata": {},
   "source": [
    "## Now, we take care of the data from the Sierra Leone\n"
   ]
  },
  {
   "cell_type": "code",
   "execution_count": null,
   "metadata": {
    "collapsed": false
   },
   "outputs": [],
   "source": [
    "# This small code is just to test the data\n",
    "file = 'Data/ebola/sl_data/2014-08-23-v88.csv'\n",
    "\n",
    "# Read the data\n",
    "data = pd.read_csv(file, parse_dates=True, dayfirst=True).fillna(0)\n",
    "# Take the date\n",
    "date = data['date'][0]\n",
    "print(date)\n",
    "# Drop the Date column and change the index to be the column Description\n",
    "data.drop(['date'], axis=1, inplace=True)\n",
    "data.index = data['variable']\n",
    "data.drop(['variable'], axis=1, inplace=True)\n",
    "data\n",
    "case = data['National'].loc[['new_noncase', 'new_suspected', \\\n",
    "                                 'new_probable', 'new_confirmed']]\n",
    "death = data['National'].loc[['death_suspected', 'death_probable', \\\n",
    "                              'death_confirmed']]\n",
    "\n",
    "print(case.astype(int).sum())\n",
    "print(death.astype(int).sum())"
   ]
  },
  {
   "cell_type": "markdown",
   "metadata": {},
   "source": [
    "### Code to deal with all the files in the sl_data folder"
   ]
  },
  {
   "cell_type": "code",
   "execution_count": null,
   "metadata": {
    "collapsed": false
   },
   "outputs": [],
   "source": [
    "# List the files for Sierra Leone\n",
    "basepath = 'Data/ebola/sl_data/'\n",
    "\n",
    "# Empty dic\n",
    "sierra_leone = {}\n",
    "# Arrays for date, new cases and new deaths\n",
    "date = []\n",
    "new_cases = []\n",
    "new_deaths = []\n",
    "\n",
    "# Go through all the files\n",
    "for fname in os.listdir(basepath):\n",
    "    if \"lock\" not in fname:\n",
    "        #print(fname)\n",
    "        path = os.path.join(basepath, fname)\n",
    "        # Load the data\n",
    "        data = pd.read_csv(path, parse_dates=True, dayfirst=True).fillna(0)\n",
    "        # Get the date\n",
    "        date.append(data[\"date\"][0])\n",
    "        # Drop the Date column and change the index to be the column Description\n",
    "        data.drop(['date'], axis=1, inplace=True)\n",
    "        data.index = data['variable']\n",
    "        data.drop(['variable'], axis=1, inplace=True)\n",
    "        # Get the new cases\n",
    "        new_cases.append(data['National'].loc[['new_noncase', \\\n",
    "                            'new_suspected', 'new_probable', \\\n",
    "                            'new_confirmed']].astype(int).sum())\n",
    "        # Get the new death\n",
    "        new_deaths.append(data['National'].loc[['death_suspected', \\\n",
    "                            'death_probable', 'death_confirmed']] \\\n",
    "                             .astype(int).sum()) \n",
    "        \n",
    "mat = np.column_stack((new_cases, new_deaths)) \n",
    "sierra_leone_frame = pd.DataFrame(mat, columns = [[\"Sierra Leone\", \"Sierra Leone\"], [\"New cases\", \"New deaths\"]])\n",
    "sierra_leone_frame.index = date\n",
    "sierra_leone_frame.index.name = \"Date\"\n",
    "sierra_leone_frame.head()"
   ]
  },
  {
   "cell_type": "markdown",
   "metadata": {},
   "source": [
    "## Now, we take care of the data from the Liberia\n"
   ]
  },
  {
   "cell_type": "code",
   "execution_count": null,
   "metadata": {
    "collapsed": false
   },
   "outputs": [],
   "source": [
    "# This small code is just to test the data\n",
    "file = 'Data/ebola/liberia_data/2014-06-16.csv'\n",
    "\n",
    "# Read the data\n",
    "data = pd.read_csv(file, parse_dates=True, dayfirst=True).fillna(0)\n",
    "# Take the date (00:00:00 is present all the time, we have to remove it)\n",
    "date = str(pd.to_datetime(data['Date'][0])).replace(' 00:00:00', '')\n",
    "print(date)\n",
    "# Drop the Date column and change the index to be the column Variable\n",
    "data.drop(['Date'], axis=1, inplace=True)\n",
    "data.index = data['Variable']\n",
    "data.drop(['Variable'], axis=1, inplace=True)\n",
    "data\n",
    "case = data['National'].loc[['New Case/s (Suspected)', \\\n",
    "                             'New Case/s (Probable)', \\\n",
    "                             'New case/s (confirmed)']]\n",
    "death = data['National'].loc[['Newly reported deaths']]\n",
    "\n",
    "print(case.astype(int).sum())\n",
    "print(int(death))"
   ]
  },
  {
   "cell_type": "markdown",
   "metadata": {},
   "source": [
    "### Code to deal with all the files in the liberia_data folder"
   ]
  },
  {
   "cell_type": "code",
   "execution_count": null,
   "metadata": {
    "collapsed": false
   },
   "outputs": [],
   "source": [
    "# List the files for Liberia\n",
    "basepath = 'Data/ebola/liberia_data/'\n",
    "\n",
    "# Empty dic\n",
    "liberia = {}\n",
    "# Arrays for date, new cases and new deaths\n",
    "date = []\n",
    "new_cases = []\n",
    "new_deaths = []\n",
    "\n",
    "# Go through all the files\n",
    "for fname in os.listdir(basepath):\n",
    "    if \"lock\" not in fname:\n",
    "        path = os.path.join(basepath, fname)\n",
    "        # Load the data\n",
    "        data = pd.read_csv(path, parse_dates=True, dayfirst=True).fillna(0)\n",
    "        # Get the date \n",
    "        # Default format is different from Guinea and Sierra Leone =>\n",
    "        # We change the format back to the usual one. We also have to \n",
    "        # replace the 00:00:00 coming from the change of format\n",
    "        date.append(str(pd.to_datetime(data['Date'][0])).replace(' 00:00:00', ''))\n",
    "        # Drop the Date column and change the index to be the column Variable\n",
    "        data.drop(['Date'], axis=1, inplace=True)\n",
    "        data.index = data['Variable']\n",
    "        data.drop(['Variable'], axis=1, inplace=True)\n",
    "        # Get the new cases\n",
    "        new_cases.append(data['National'].loc[['New Case/s (Suspected)', \\\n",
    "                             'New Case/s (Probable)', \\\n",
    "                             'New case/s (confirmed)']].astype(int).sum()) \n",
    "        # Get the new deaths\n",
    "        new_deaths.append(int(data['National'].loc[['Newly reported deaths']]))\n",
    "        \n",
    "\n",
    "mat = np.column_stack((new_cases, new_deaths)) \n",
    "liberia_frame = pd.DataFrame(mat, columns = [[\"Liberia\", \"Liberia\"], [\"New cases\", \"New deaths\"]])\n",
    "liberia_frame.index = date\n",
    "liberia_frame.index.name = \"Date\"\n",
    "liberia_frame.head()"
   ]
  },
  {
   "cell_type": "markdown",
   "metadata": {},
   "source": [
    "### Now, we merge the 3 frames together and we fill the NA with 0"
   ]
  },
  {
   "cell_type": "code",
   "execution_count": null,
   "metadata": {
    "collapsed": false
   },
   "outputs": [],
   "source": [
    "ebola = liberia_frame.add(guinea_frame, fill_value=0)\n",
    "ebola = ebola.add(sierra_leone_frame, fill_value=0)\n",
    "ebola"
   ]
  }
 ],
 "metadata": {
  "anaconda-cloud": {},
  "kernelspec": {
   "display_name": "Python [Root]",
   "language": "python",
   "name": "Python [Root]"
  },
  "language_info": {
   "codemirror_mode": {
    "name": "ipython",
    "version": 3
   },
   "file_extension": ".py",
   "mimetype": "text/x-python",
   "name": "python",
   "nbconvert_exporter": "python",
   "pygments_lexer": "ipython3",
   "version": "3.5.2"
  }
 },
 "nbformat": 4,
 "nbformat_minor": 0
}
