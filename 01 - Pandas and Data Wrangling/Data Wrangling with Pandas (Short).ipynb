{
 "cells": [
  {
   "cell_type": "markdown",
   "metadata": {
    "collapsed": true
   },
   "source": [
    "# Exercise 1\n",
    "\n",
    "In the *data/microbiome* subdirectory, there are 9 spreadsheets of microbiome data that was acquired from high-throughput RNA sequencing procedures, along with a 10th file that describes the content of each. Write code that imports each of the data spreadsheets and combines them into a single `DataFrame`, adding the identifying information from the metadata spreadsheet as columns in the combined `DataFrame`.\n"
   ]
  },
  {
   "cell_type": "code",
   "execution_count": null,
   "metadata": {
    "collapsed": true
   },
   "outputs": [],
   "source": [
    "%matplotlib inline\n",
    "import pandas as pd\n",
    "import numpy as np\n",
    "import matplotlib.pyplot as plt\n",
    "import seaborn as sns\n",
    "sns.set_context('notebook')\n",
    "import os"
   ]
  },
  {
   "cell_type": "code",
   "execution_count": null,
   "metadata": {
    "collapsed": false,
    "scrolled": true
   },
   "outputs": [],
   "source": [
    "# the idea is to loop through the files and concatenate them into a DataFrame\n",
    "# we list the files we are going to handle so we can loop through them to build our DataFrame\n",
    "import os\n",
    "direc = 'Data/microbiome/'\n",
    "files = os.listdir('Data/microbiome')\n",
    "# Remove the two files we will import by hand\n",
    "files.remove('MID1.xls')\n",
    "files.remove('metadata.xls')\n",
    "\n",
    "# we import the metadata separately\n",
    "metadata = pd.read_excel(direc+'metadata.xls', sheetname='Sheet1')\n",
    "\n",
    "# imports a file and formats it for concatenation, note the added BARCODE column for merging\n",
    "def importMid(s):\n",
    "    thisMid = pd.read_excel(direc+s, header=None)\n",
    "    thisMid.columns = ['TAXON', 'COUNT']\n",
    "    # include the barcode info (name of the file) to prepare the table to merge with metadata\n",
    "    thisMid['BARCODE'] = s[:4]\n",
    "    \n",
    "    return thisMid\n",
    "\n",
    "# we initiate a DataFrame with the first file\n",
    "midAll = importMid('MID1.xls')\n",
    "\n",
    "# we loop through the remaining files to concatenate them to our initial\n",
    "for file in files[2:]:\n",
    "    mid = importMid(file)\n",
    "    midAll = pd.concat([midAll, mid], axis=0)\n",
    "\n",
    "# we merge the microbiome data with the metadata, pandas automatically uses BARCODE as a key\n",
    "final = pd.merge(midAll, metadata)\n",
    "\n",
    "# proposal: index the table by barcode - taxon\n",
    "final.set_index(['BARCODE', 'TAXON'])\n",
    "\n"
   ]
  },
  {
   "cell_type": "markdown",
   "metadata": {},
   "source": [
    "# Exercise 2\n",
    "\n",
    "Load the dataset in `titanic.xls`. It contains data on all the passengers that travelled on the Titanic."
   ]
  },
  {
   "cell_type": "code",
   "execution_count": null,
   "metadata": {
    "collapsed": false
   },
   "outputs": [],
   "source": [
    "from IPython.core.display import HTML\n",
    "HTML(filename='Data/titanic.html')"
   ]
  },
  {
   "cell_type": "code",
   "execution_count": null,
   "metadata": {
    "collapsed": true
   },
   "outputs": [],
   "source": []
  }
 ],
 "metadata": {
  "anaconda-cloud": {},
  "kernelspec": {
   "display_name": "Python [Root]",
   "language": "python",
   "name": "Python [Root]"
  },
  "language_info": {
   "codemirror_mode": {
    "name": "ipython",
    "version": 3
   },
   "file_extension": ".py",
   "mimetype": "text/x-python",
   "name": "python",
   "nbconvert_exporter": "python",
   "pygments_lexer": "ipython3",
   "version": "3.5.2"
  }
 },
 "nbformat": 4,
 "nbformat_minor": 0
}
