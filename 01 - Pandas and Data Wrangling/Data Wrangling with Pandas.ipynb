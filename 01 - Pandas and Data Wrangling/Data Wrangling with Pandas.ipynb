{
 "cells": [
  {
   "cell_type": "markdown",
   "metadata": {
    "collapsed": true
   },
   "source": [
    "# Exercise 1\n",
    "\n",
    "In the *data/microbiome* subdirectory, there are 9 spreadsheets of microbiome data that was acquired from high-throughput RNA sequencing procedures, along with a 10th file that describes the content of each. Write code that imports each of the data spreadsheets and combines them into a single `DataFrame`, adding the identifying information from the metadata spreadsheet as columns in the combined `DataFrame`.\n"
   ]
  },
  {
   "cell_type": "code",
   "execution_count": 1,
   "metadata": {
    "collapsed": true
   },
   "outputs": [],
   "source": [
    "%matplotlib inline\n",
    "import pandas as pd\n",
    "import numpy as np\n",
    "import matplotlib.pyplot as plt\n",
    "import seaborn as sns #if seaborn is not installed --> \"pip install seaborn\"\n",
    "sns.set_context('notebook')\n",
    "import os"
   ]
  },
  {
   "cell_type": "code",
   "execution_count": 2,
   "metadata": {
    "collapsed": false,
    "scrolled": true
   },
   "outputs": [
    {
     "data": {
      "text/html": [
       "<div>\n",
       "<table border=\"1\" class=\"dataframe\">\n",
       "  <thead>\n",
       "    <tr style=\"text-align: right;\">\n",
       "      <th></th>\n",
       "      <th></th>\n",
       "      <th>COUNT</th>\n",
       "      <th>GROUP</th>\n",
       "      <th>SAMPLE</th>\n",
       "    </tr>\n",
       "    <tr>\n",
       "      <th>BARCODE</th>\n",
       "      <th>TAXON</th>\n",
       "      <th></th>\n",
       "      <th></th>\n",
       "      <th></th>\n",
       "    </tr>\n",
       "  </thead>\n",
       "  <tbody>\n",
       "    <tr>\n",
       "      <th rowspan=\"30\" valign=\"top\">MID1</th>\n",
       "      <th>Archaea \"Crenarchaeota\" Thermoprotei Desulfurococcales Desulfurococcaceae Ignisphaera</th>\n",
       "      <td>7</td>\n",
       "      <td>EXTRACTION CONTROL</td>\n",
       "      <td>NaN</td>\n",
       "    </tr>\n",
       "    <tr>\n",
       "      <th>Archaea \"Crenarchaeota\" Thermoprotei Desulfurococcales Pyrodictiaceae Pyrolobus</th>\n",
       "      <td>2</td>\n",
       "      <td>EXTRACTION CONTROL</td>\n",
       "      <td>NaN</td>\n",
       "    </tr>\n",
       "    <tr>\n",
       "      <th>Archaea \"Crenarchaeota\" Thermoprotei Sulfolobales Sulfolobaceae Stygiolobus</th>\n",
       "      <td>3</td>\n",
       "      <td>EXTRACTION CONTROL</td>\n",
       "      <td>NaN</td>\n",
       "    </tr>\n",
       "    <tr>\n",
       "      <th>Archaea \"Crenarchaeota\" Thermoprotei Thermoproteales Thermofilaceae Thermofilum</th>\n",
       "      <td>3</td>\n",
       "      <td>EXTRACTION CONTROL</td>\n",
       "      <td>NaN</td>\n",
       "    </tr>\n",
       "    <tr>\n",
       "      <th>Archaea \"Euryarchaeota\" \"Methanomicrobia\" Methanocellales Methanocellaceae Methanocella</th>\n",
       "      <td>7</td>\n",
       "      <td>EXTRACTION CONTROL</td>\n",
       "      <td>NaN</td>\n",
       "    </tr>\n",
       "    <tr>\n",
       "      <th>Archaea \"Euryarchaeota\" \"Methanomicrobia\" Methanosarcinales Methanosarcinaceae Methanimicrococcus</th>\n",
       "      <td>1</td>\n",
       "      <td>EXTRACTION CONTROL</td>\n",
       "      <td>NaN</td>\n",
       "    </tr>\n",
       "    <tr>\n",
       "      <th>Archaea \"Euryarchaeota\" \"Methanomicrobia\" Methanosarcinales Methermicoccaceae Methermicoccus</th>\n",
       "      <td>1</td>\n",
       "      <td>EXTRACTION CONTROL</td>\n",
       "      <td>NaN</td>\n",
       "    </tr>\n",
       "    <tr>\n",
       "      <th>Archaea \"Euryarchaeota\" Archaeoglobi Archaeoglobales Archaeoglobaceae Ferroglobus</th>\n",
       "      <td>1</td>\n",
       "      <td>EXTRACTION CONTROL</td>\n",
       "      <td>NaN</td>\n",
       "    </tr>\n",
       "    <tr>\n",
       "      <th>Archaea \"Euryarchaeota\" Archaeoglobi Archaeoglobales Archaeoglobaceae Geoglobus</th>\n",
       "      <td>1</td>\n",
       "      <td>EXTRACTION CONTROL</td>\n",
       "      <td>NaN</td>\n",
       "    </tr>\n",
       "    <tr>\n",
       "      <th>Archaea \"Euryarchaeota\" Halobacteria Halobacteriales Halobacteriaceae Haloplanus</th>\n",
       "      <td>1</td>\n",
       "      <td>EXTRACTION CONTROL</td>\n",
       "      <td>NaN</td>\n",
       "    </tr>\n",
       "    <tr>\n",
       "      <th>Archaea \"Euryarchaeota\" Halobacteria Halobacteriales Halobacteriaceae Haloquadratum</th>\n",
       "      <td>4</td>\n",
       "      <td>EXTRACTION CONTROL</td>\n",
       "      <td>NaN</td>\n",
       "    </tr>\n",
       "    <tr>\n",
       "      <th>Archaea \"Euryarchaeota\" Halobacteria Halobacteriales Halobacteriaceae Halosimplex</th>\n",
       "      <td>1</td>\n",
       "      <td>EXTRACTION CONTROL</td>\n",
       "      <td>NaN</td>\n",
       "    </tr>\n",
       "    <tr>\n",
       "      <th>Archaea \"Euryarchaeota\" Halobacteria Halobacteriales Halobacteriaceae Natronobacterium</th>\n",
       "      <td>2</td>\n",
       "      <td>EXTRACTION CONTROL</td>\n",
       "      <td>NaN</td>\n",
       "    </tr>\n",
       "    <tr>\n",
       "      <th>Archaea \"Euryarchaeota\" Halobacteria Halobacteriales Halobacteriaceae Natronomonas</th>\n",
       "      <td>4</td>\n",
       "      <td>EXTRACTION CONTROL</td>\n",
       "      <td>NaN</td>\n",
       "    </tr>\n",
       "    <tr>\n",
       "      <th>Archaea \"Euryarchaeota\" Methanococci Methanococcales Methanocaldococcaceae Methanotorris</th>\n",
       "      <td>1</td>\n",
       "      <td>EXTRACTION CONTROL</td>\n",
       "      <td>NaN</td>\n",
       "    </tr>\n",
       "    <tr>\n",
       "      <th>Archaea \"Euryarchaeota\" Methanopyri Methanopyrales Methanopyraceae Methanopyrus</th>\n",
       "      <td>12</td>\n",
       "      <td>EXTRACTION CONTROL</td>\n",
       "      <td>NaN</td>\n",
       "    </tr>\n",
       "    <tr>\n",
       "      <th>Archaea \"Euryarchaeota\" Thermoplasmata Thermoplasmatales Thermoplasmatales_incertae_sedis Thermogymnomonas</th>\n",
       "      <td>2</td>\n",
       "      <td>EXTRACTION CONTROL</td>\n",
       "      <td>NaN</td>\n",
       "    </tr>\n",
       "    <tr>\n",
       "      <th>Bacteria \"Actinobacteria\" Actinobacteria Actinomycetales Acidothermaceae Acidothermus</th>\n",
       "      <td>2</td>\n",
       "      <td>EXTRACTION CONTROL</td>\n",
       "      <td>NaN</td>\n",
       "    </tr>\n",
       "    <tr>\n",
       "      <th>Bacteria \"Actinobacteria\" Actinobacteria Actinomycetales Beutenbergiaceae Salana</th>\n",
       "      <td>1</td>\n",
       "      <td>EXTRACTION CONTROL</td>\n",
       "      <td>NaN</td>\n",
       "    </tr>\n",
       "    <tr>\n",
       "      <th>Bacteria \"Actinobacteria\" Actinobacteria Actinomycetales Bogoriellaceae Bogoriella</th>\n",
       "      <td>1</td>\n",
       "      <td>EXTRACTION CONTROL</td>\n",
       "      <td>NaN</td>\n",
       "    </tr>\n",
       "    <tr>\n",
       "      <th>Bacteria \"Actinobacteria\" Actinobacteria Actinomycetales Cellulomonadaceae Tropheryma</th>\n",
       "      <td>1</td>\n",
       "      <td>EXTRACTION CONTROL</td>\n",
       "      <td>NaN</td>\n",
       "    </tr>\n",
       "    <tr>\n",
       "      <th>Bacteria \"Actinobacteria\" Actinobacteria Actinomycetales Corynebacteriaceae Turicella</th>\n",
       "      <td>2</td>\n",
       "      <td>EXTRACTION CONTROL</td>\n",
       "      <td>NaN</td>\n",
       "    </tr>\n",
       "    <tr>\n",
       "      <th>Bacteria \"Actinobacteria\" Actinobacteria Actinomycetales Cryptosporangiaceae Cryptosporangium</th>\n",
       "      <td>53</td>\n",
       "      <td>EXTRACTION CONTROL</td>\n",
       "      <td>NaN</td>\n",
       "    </tr>\n",
       "    <tr>\n",
       "      <th>Bacteria \"Actinobacteria\" Actinobacteria Actinomycetales Dermabacteraceae Dermabacter</th>\n",
       "      <td>1</td>\n",
       "      <td>EXTRACTION CONTROL</td>\n",
       "      <td>NaN</td>\n",
       "    </tr>\n",
       "    <tr>\n",
       "      <th>Bacteria \"Actinobacteria\" Actinobacteria Actinomycetales Dermabacteraceae Devriesea</th>\n",
       "      <td>2</td>\n",
       "      <td>EXTRACTION CONTROL</td>\n",
       "      <td>NaN</td>\n",
       "    </tr>\n",
       "    <tr>\n",
       "      <th>Bacteria \"Actinobacteria\" Actinobacteria Actinomycetales Dermatophilaceae Kineosphaera</th>\n",
       "      <td>3</td>\n",
       "      <td>EXTRACTION CONTROL</td>\n",
       "      <td>NaN</td>\n",
       "    </tr>\n",
       "    <tr>\n",
       "      <th>Bacteria \"Actinobacteria\" Actinobacteria Actinomycetales Frankineae_incertae_sedis Fodinicola</th>\n",
       "      <td>1</td>\n",
       "      <td>EXTRACTION CONTROL</td>\n",
       "      <td>NaN</td>\n",
       "    </tr>\n",
       "    <tr>\n",
       "      <th>Bacteria \"Actinobacteria\" Actinobacteria Actinomycetales Geodermatophilaceae Blastococcus</th>\n",
       "      <td>99</td>\n",
       "      <td>EXTRACTION CONTROL</td>\n",
       "      <td>NaN</td>\n",
       "    </tr>\n",
       "    <tr>\n",
       "      <th>Bacteria \"Actinobacteria\" Actinobacteria Actinomycetales Geodermatophilaceae Geodermatophilus</th>\n",
       "      <td>17</td>\n",
       "      <td>EXTRACTION CONTROL</td>\n",
       "      <td>NaN</td>\n",
       "    </tr>\n",
       "    <tr>\n",
       "      <th>Bacteria \"Actinobacteria\" Actinobacteria Actinomycetales Intrasporangiaceae Kribbia</th>\n",
       "      <td>2</td>\n",
       "      <td>EXTRACTION CONTROL</td>\n",
       "      <td>NaN</td>\n",
       "    </tr>\n",
       "    <tr>\n",
       "      <th>...</th>\n",
       "      <th>...</th>\n",
       "      <td>...</td>\n",
       "      <td>...</td>\n",
       "      <td>...</td>\n",
       "    </tr>\n",
       "    <tr>\n",
       "      <th rowspan=\"30\" valign=\"top\">MID4</th>\n",
       "      <th>Bacteria \"Proteobacteria\" Betaproteobacteria Burkholderiales Burkholderiaceae Ralstonia</th>\n",
       "      <td>1</td>\n",
       "      <td>NEC 2</td>\n",
       "      <td>tissue</td>\n",
       "    </tr>\n",
       "    <tr>\n",
       "      <th>Bacteria \"Proteobacteria\" Betaproteobacteria Burkholderiales Burkholderiaceae Wautersia</th>\n",
       "      <td>1</td>\n",
       "      <td>NEC 2</td>\n",
       "      <td>tissue</td>\n",
       "    </tr>\n",
       "    <tr>\n",
       "      <th>Bacteria \"Proteobacteria\" Betaproteobacteria Burkholderiales Burkholderiales_incertae_sedis Aquabacterium</th>\n",
       "      <td>1</td>\n",
       "      <td>NEC 2</td>\n",
       "      <td>tissue</td>\n",
       "    </tr>\n",
       "    <tr>\n",
       "      <th>Bacteria \"Proteobacteria\" Betaproteobacteria Burkholderiales Burkholderiales_incertae_sedis Rhizobacter</th>\n",
       "      <td>1</td>\n",
       "      <td>NEC 2</td>\n",
       "      <td>tissue</td>\n",
       "    </tr>\n",
       "    <tr>\n",
       "      <th>Bacteria \"Proteobacteria\" Betaproteobacteria Neisseriales Neisseriaceae Simonsiella</th>\n",
       "      <td>1</td>\n",
       "      <td>NEC 2</td>\n",
       "      <td>tissue</td>\n",
       "    </tr>\n",
       "    <tr>\n",
       "      <th>Bacteria \"Proteobacteria\" Deltaproteobacteria Desulfarculales Desulfarculaceae Desulfarculus</th>\n",
       "      <td>1</td>\n",
       "      <td>NEC 2</td>\n",
       "      <td>tissue</td>\n",
       "    </tr>\n",
       "    <tr>\n",
       "      <th>Bacteria \"Proteobacteria\" Deltaproteobacteria Desulfobacterales Desulfobacteraceae Desulfatiferula</th>\n",
       "      <td>1</td>\n",
       "      <td>NEC 2</td>\n",
       "      <td>tissue</td>\n",
       "    </tr>\n",
       "    <tr>\n",
       "      <th>Bacteria \"Proteobacteria\" Deltaproteobacteria Desulfobacterales Desulfobacteraceae Desulfocella</th>\n",
       "      <td>1</td>\n",
       "      <td>NEC 2</td>\n",
       "      <td>tissue</td>\n",
       "    </tr>\n",
       "    <tr>\n",
       "      <th>Bacteria \"Proteobacteria\" Deltaproteobacteria Desulfovibrionales Desulfovibrionaceae Bilophila</th>\n",
       "      <td>3</td>\n",
       "      <td>NEC 2</td>\n",
       "      <td>tissue</td>\n",
       "    </tr>\n",
       "    <tr>\n",
       "      <th>Bacteria \"Proteobacteria\" Deltaproteobacteria Desulfovibrionales Desulfovibrionaceae Lawsonia</th>\n",
       "      <td>1</td>\n",
       "      <td>NEC 2</td>\n",
       "      <td>tissue</td>\n",
       "    </tr>\n",
       "    <tr>\n",
       "      <th>Bacteria \"Proteobacteria\" Deltaproteobacteria Syntrophobacterales Syntrophaceae Desulfobacca</th>\n",
       "      <td>1</td>\n",
       "      <td>NEC 2</td>\n",
       "      <td>tissue</td>\n",
       "    </tr>\n",
       "    <tr>\n",
       "      <th>Bacteria \"Proteobacteria\" Epsilonproteobacteria Nautiliales Nautiliaceae Lebetimonas</th>\n",
       "      <td>1</td>\n",
       "      <td>NEC 2</td>\n",
       "      <td>tissue</td>\n",
       "    </tr>\n",
       "    <tr>\n",
       "      <th>Bacteria \"Proteobacteria\" Gammaproteobacteria \"Enterobacteriales\" Enterobacteriaceae Hafnia</th>\n",
       "      <td>2</td>\n",
       "      <td>NEC 2</td>\n",
       "      <td>tissue</td>\n",
       "    </tr>\n",
       "    <tr>\n",
       "      <th>Bacteria \"Proteobacteria\" Gammaproteobacteria \"Enterobacteriales\" Enterobacteriaceae Klebsiella</th>\n",
       "      <td>11</td>\n",
       "      <td>NEC 2</td>\n",
       "      <td>tissue</td>\n",
       "    </tr>\n",
       "    <tr>\n",
       "      <th>Bacteria \"Proteobacteria\" Gammaproteobacteria \"Enterobacteriales\" Enterobacteriaceae Obesumbacterium</th>\n",
       "      <td>1</td>\n",
       "      <td>NEC 2</td>\n",
       "      <td>tissue</td>\n",
       "    </tr>\n",
       "    <tr>\n",
       "      <th>Bacteria \"Proteobacteria\" Gammaproteobacteria \"Enterobacteriales\" Enterobacteriaceae Pragia</th>\n",
       "      <td>1</td>\n",
       "      <td>NEC 2</td>\n",
       "      <td>tissue</td>\n",
       "    </tr>\n",
       "    <tr>\n",
       "      <th>Bacteria \"Proteobacteria\" Gammaproteobacteria \"Enterobacteriales\" Enterobacteriaceae Raoultella</th>\n",
       "      <td>9</td>\n",
       "      <td>NEC 2</td>\n",
       "      <td>tissue</td>\n",
       "    </tr>\n",
       "    <tr>\n",
       "      <th>Bacteria \"Proteobacteria\" Gammaproteobacteria \"Enterobacteriales\" Enterobacteriaceae Samsonia</th>\n",
       "      <td>1</td>\n",
       "      <td>NEC 2</td>\n",
       "      <td>tissue</td>\n",
       "    </tr>\n",
       "    <tr>\n",
       "      <th>Bacteria \"Proteobacteria\" Gammaproteobacteria \"Enterobacteriales\" Enterobacteriaceae Tatumella</th>\n",
       "      <td>1</td>\n",
       "      <td>NEC 2</td>\n",
       "      <td>tissue</td>\n",
       "    </tr>\n",
       "    <tr>\n",
       "      <th>Bacteria \"Proteobacteria\" Gammaproteobacteria Pseudomonadales Pseudomonadaceae Azorhizophilus</th>\n",
       "      <td>1</td>\n",
       "      <td>NEC 2</td>\n",
       "      <td>tissue</td>\n",
       "    </tr>\n",
       "    <tr>\n",
       "      <th>Bacteria \"Proteobacteria\" Gammaproteobacteria Pseudomonadales Pseudomonadaceae Pseudomonas</th>\n",
       "      <td>2</td>\n",
       "      <td>NEC 2</td>\n",
       "      <td>tissue</td>\n",
       "    </tr>\n",
       "    <tr>\n",
       "      <th>Bacteria \"Proteobacteria\" Gammaproteobacteria Thiotrichales Piscirickettsiaceae Hydrogenovibrio</th>\n",
       "      <td>4</td>\n",
       "      <td>NEC 2</td>\n",
       "      <td>tissue</td>\n",
       "    </tr>\n",
       "    <tr>\n",
       "      <th>Bacteria \"Proteobacteria\" Gammaproteobacteria Thiotrichales Thiotrichaceae Beggiatoa</th>\n",
       "      <td>1</td>\n",
       "      <td>NEC 2</td>\n",
       "      <td>tissue</td>\n",
       "    </tr>\n",
       "    <tr>\n",
       "      <th>Bacteria \"Proteobacteria\" Gammaproteobacteria Thiotrichales Thiotrichales_incertae_sedis Fangia</th>\n",
       "      <td>2</td>\n",
       "      <td>NEC 2</td>\n",
       "      <td>tissue</td>\n",
       "    </tr>\n",
       "    <tr>\n",
       "      <th>Bacteria \"Synergistetes\" Synergistia Synergistales Synergistaceae Aminiphilus</th>\n",
       "      <td>1</td>\n",
       "      <td>NEC 2</td>\n",
       "      <td>tissue</td>\n",
       "    </tr>\n",
       "    <tr>\n",
       "      <th>Bacteria \"Synergistetes\" Synergistia Synergistales Synergistaceae Aminomonas</th>\n",
       "      <td>1</td>\n",
       "      <td>NEC 2</td>\n",
       "      <td>tissue</td>\n",
       "    </tr>\n",
       "    <tr>\n",
       "      <th>Bacteria \"Thermotogae\" Thermotogae Thermotogales Thermotogaceae Geotoga</th>\n",
       "      <td>13</td>\n",
       "      <td>NEC 2</td>\n",
       "      <td>tissue</td>\n",
       "    </tr>\n",
       "    <tr>\n",
       "      <th>Bacteria \"Thermotogae\" Thermotogae Thermotogales Thermotogaceae Kosmotoga</th>\n",
       "      <td>4</td>\n",
       "      <td>NEC 2</td>\n",
       "      <td>tissue</td>\n",
       "    </tr>\n",
       "    <tr>\n",
       "      <th>Bacteria Cyanobacteria Cyanobacteria  Chloroplast Chlorarachniophyceae</th>\n",
       "      <td>6</td>\n",
       "      <td>NEC 2</td>\n",
       "      <td>tissue</td>\n",
       "    </tr>\n",
       "    <tr>\n",
       "      <th>Bacteria Cyanobacteria Cyanobacteria  Chloroplast Streptophyta</th>\n",
       "      <td>44</td>\n",
       "      <td>NEC 2</td>\n",
       "      <td>tissue</td>\n",
       "    </tr>\n",
       "  </tbody>\n",
       "</table>\n",
       "<p>2396 rows × 3 columns</p>\n",
       "</div>"
      ],
      "text/plain": [
       "                                                            COUNT  \\\n",
       "BARCODE TAXON                                                       \n",
       "MID1    Archaea \"Crenarchaeota\" Thermoprotei Desulfuroc...      7   \n",
       "        Archaea \"Crenarchaeota\" Thermoprotei Desulfuroc...      2   \n",
       "        Archaea \"Crenarchaeota\" Thermoprotei Sulfolobal...      3   \n",
       "        Archaea \"Crenarchaeota\" Thermoprotei Thermoprot...      3   \n",
       "        Archaea \"Euryarchaeota\" \"Methanomicrobia\" Metha...      7   \n",
       "        Archaea \"Euryarchaeota\" \"Methanomicrobia\" Metha...      1   \n",
       "        Archaea \"Euryarchaeota\" \"Methanomicrobia\" Metha...      1   \n",
       "        Archaea \"Euryarchaeota\" Archaeoglobi Archaeoglo...      1   \n",
       "        Archaea \"Euryarchaeota\" Archaeoglobi Archaeoglo...      1   \n",
       "        Archaea \"Euryarchaeota\" Halobacteria Halobacter...      1   \n",
       "        Archaea \"Euryarchaeota\" Halobacteria Halobacter...      4   \n",
       "        Archaea \"Euryarchaeota\" Halobacteria Halobacter...      1   \n",
       "        Archaea \"Euryarchaeota\" Halobacteria Halobacter...      2   \n",
       "        Archaea \"Euryarchaeota\" Halobacteria Halobacter...      4   \n",
       "        Archaea \"Euryarchaeota\" Methanococci Methanococ...      1   \n",
       "        Archaea \"Euryarchaeota\" Methanopyri Methanopyra...     12   \n",
       "        Archaea \"Euryarchaeota\" Thermoplasmata Thermopl...      2   \n",
       "        Bacteria \"Actinobacteria\" Actinobacteria Actino...      2   \n",
       "        Bacteria \"Actinobacteria\" Actinobacteria Actino...      1   \n",
       "        Bacteria \"Actinobacteria\" Actinobacteria Actino...      1   \n",
       "        Bacteria \"Actinobacteria\" Actinobacteria Actino...      1   \n",
       "        Bacteria \"Actinobacteria\" Actinobacteria Actino...      2   \n",
       "        Bacteria \"Actinobacteria\" Actinobacteria Actino...     53   \n",
       "        Bacteria \"Actinobacteria\" Actinobacteria Actino...      1   \n",
       "        Bacteria \"Actinobacteria\" Actinobacteria Actino...      2   \n",
       "        Bacteria \"Actinobacteria\" Actinobacteria Actino...      3   \n",
       "        Bacteria \"Actinobacteria\" Actinobacteria Actino...      1   \n",
       "        Bacteria \"Actinobacteria\" Actinobacteria Actino...     99   \n",
       "        Bacteria \"Actinobacteria\" Actinobacteria Actino...     17   \n",
       "        Bacteria \"Actinobacteria\" Actinobacteria Actino...      2   \n",
       "...                                                           ...   \n",
       "MID4    Bacteria \"Proteobacteria\" Betaproteobacteria Bu...      1   \n",
       "        Bacteria \"Proteobacteria\" Betaproteobacteria Bu...      1   \n",
       "        Bacteria \"Proteobacteria\" Betaproteobacteria Bu...      1   \n",
       "        Bacteria \"Proteobacteria\" Betaproteobacteria Bu...      1   \n",
       "        Bacteria \"Proteobacteria\" Betaproteobacteria Ne...      1   \n",
       "        Bacteria \"Proteobacteria\" Deltaproteobacteria D...      1   \n",
       "        Bacteria \"Proteobacteria\" Deltaproteobacteria D...      1   \n",
       "        Bacteria \"Proteobacteria\" Deltaproteobacteria D...      1   \n",
       "        Bacteria \"Proteobacteria\" Deltaproteobacteria D...      3   \n",
       "        Bacteria \"Proteobacteria\" Deltaproteobacteria D...      1   \n",
       "        Bacteria \"Proteobacteria\" Deltaproteobacteria S...      1   \n",
       "        Bacteria \"Proteobacteria\" Epsilonproteobacteria...      1   \n",
       "        Bacteria \"Proteobacteria\" Gammaproteobacteria \"...      2   \n",
       "        Bacteria \"Proteobacteria\" Gammaproteobacteria \"...     11   \n",
       "        Bacteria \"Proteobacteria\" Gammaproteobacteria \"...      1   \n",
       "        Bacteria \"Proteobacteria\" Gammaproteobacteria \"...      1   \n",
       "        Bacteria \"Proteobacteria\" Gammaproteobacteria \"...      9   \n",
       "        Bacteria \"Proteobacteria\" Gammaproteobacteria \"...      1   \n",
       "        Bacteria \"Proteobacteria\" Gammaproteobacteria \"...      1   \n",
       "        Bacteria \"Proteobacteria\" Gammaproteobacteria P...      1   \n",
       "        Bacteria \"Proteobacteria\" Gammaproteobacteria P...      2   \n",
       "        Bacteria \"Proteobacteria\" Gammaproteobacteria T...      4   \n",
       "        Bacteria \"Proteobacteria\" Gammaproteobacteria T...      1   \n",
       "        Bacteria \"Proteobacteria\" Gammaproteobacteria T...      2   \n",
       "        Bacteria \"Synergistetes\" Synergistia Synergista...      1   \n",
       "        Bacteria \"Synergistetes\" Synergistia Synergista...      1   \n",
       "        Bacteria \"Thermotogae\" Thermotogae Thermotogale...     13   \n",
       "        Bacteria \"Thermotogae\" Thermotogae Thermotogale...      4   \n",
       "        Bacteria Cyanobacteria Cyanobacteria  Chloropla...      6   \n",
       "        Bacteria Cyanobacteria Cyanobacteria  Chloropla...     44   \n",
       "\n",
       "                                                                         GROUP  \\\n",
       "BARCODE TAXON                                                                    \n",
       "MID1    Archaea \"Crenarchaeota\" Thermoprotei Desulfuroc...  EXTRACTION CONTROL   \n",
       "        Archaea \"Crenarchaeota\" Thermoprotei Desulfuroc...  EXTRACTION CONTROL   \n",
       "        Archaea \"Crenarchaeota\" Thermoprotei Sulfolobal...  EXTRACTION CONTROL   \n",
       "        Archaea \"Crenarchaeota\" Thermoprotei Thermoprot...  EXTRACTION CONTROL   \n",
       "        Archaea \"Euryarchaeota\" \"Methanomicrobia\" Metha...  EXTRACTION CONTROL   \n",
       "        Archaea \"Euryarchaeota\" \"Methanomicrobia\" Metha...  EXTRACTION CONTROL   \n",
       "        Archaea \"Euryarchaeota\" \"Methanomicrobia\" Metha...  EXTRACTION CONTROL   \n",
       "        Archaea \"Euryarchaeota\" Archaeoglobi Archaeoglo...  EXTRACTION CONTROL   \n",
       "        Archaea \"Euryarchaeota\" Archaeoglobi Archaeoglo...  EXTRACTION CONTROL   \n",
       "        Archaea \"Euryarchaeota\" Halobacteria Halobacter...  EXTRACTION CONTROL   \n",
       "        Archaea \"Euryarchaeota\" Halobacteria Halobacter...  EXTRACTION CONTROL   \n",
       "        Archaea \"Euryarchaeota\" Halobacteria Halobacter...  EXTRACTION CONTROL   \n",
       "        Archaea \"Euryarchaeota\" Halobacteria Halobacter...  EXTRACTION CONTROL   \n",
       "        Archaea \"Euryarchaeota\" Halobacteria Halobacter...  EXTRACTION CONTROL   \n",
       "        Archaea \"Euryarchaeota\" Methanococci Methanococ...  EXTRACTION CONTROL   \n",
       "        Archaea \"Euryarchaeota\" Methanopyri Methanopyra...  EXTRACTION CONTROL   \n",
       "        Archaea \"Euryarchaeota\" Thermoplasmata Thermopl...  EXTRACTION CONTROL   \n",
       "        Bacteria \"Actinobacteria\" Actinobacteria Actino...  EXTRACTION CONTROL   \n",
       "        Bacteria \"Actinobacteria\" Actinobacteria Actino...  EXTRACTION CONTROL   \n",
       "        Bacteria \"Actinobacteria\" Actinobacteria Actino...  EXTRACTION CONTROL   \n",
       "        Bacteria \"Actinobacteria\" Actinobacteria Actino...  EXTRACTION CONTROL   \n",
       "        Bacteria \"Actinobacteria\" Actinobacteria Actino...  EXTRACTION CONTROL   \n",
       "        Bacteria \"Actinobacteria\" Actinobacteria Actino...  EXTRACTION CONTROL   \n",
       "        Bacteria \"Actinobacteria\" Actinobacteria Actino...  EXTRACTION CONTROL   \n",
       "        Bacteria \"Actinobacteria\" Actinobacteria Actino...  EXTRACTION CONTROL   \n",
       "        Bacteria \"Actinobacteria\" Actinobacteria Actino...  EXTRACTION CONTROL   \n",
       "        Bacteria \"Actinobacteria\" Actinobacteria Actino...  EXTRACTION CONTROL   \n",
       "        Bacteria \"Actinobacteria\" Actinobacteria Actino...  EXTRACTION CONTROL   \n",
       "        Bacteria \"Actinobacteria\" Actinobacteria Actino...  EXTRACTION CONTROL   \n",
       "        Bacteria \"Actinobacteria\" Actinobacteria Actino...  EXTRACTION CONTROL   \n",
       "...                                                                        ...   \n",
       "MID4    Bacteria \"Proteobacteria\" Betaproteobacteria Bu...               NEC 2   \n",
       "        Bacteria \"Proteobacteria\" Betaproteobacteria Bu...               NEC 2   \n",
       "        Bacteria \"Proteobacteria\" Betaproteobacteria Bu...               NEC 2   \n",
       "        Bacteria \"Proteobacteria\" Betaproteobacteria Bu...               NEC 2   \n",
       "        Bacteria \"Proteobacteria\" Betaproteobacteria Ne...               NEC 2   \n",
       "        Bacteria \"Proteobacteria\" Deltaproteobacteria D...               NEC 2   \n",
       "        Bacteria \"Proteobacteria\" Deltaproteobacteria D...               NEC 2   \n",
       "        Bacteria \"Proteobacteria\" Deltaproteobacteria D...               NEC 2   \n",
       "        Bacteria \"Proteobacteria\" Deltaproteobacteria D...               NEC 2   \n",
       "        Bacteria \"Proteobacteria\" Deltaproteobacteria D...               NEC 2   \n",
       "        Bacteria \"Proteobacteria\" Deltaproteobacteria S...               NEC 2   \n",
       "        Bacteria \"Proteobacteria\" Epsilonproteobacteria...               NEC 2   \n",
       "        Bacteria \"Proteobacteria\" Gammaproteobacteria \"...               NEC 2   \n",
       "        Bacteria \"Proteobacteria\" Gammaproteobacteria \"...               NEC 2   \n",
       "        Bacteria \"Proteobacteria\" Gammaproteobacteria \"...               NEC 2   \n",
       "        Bacteria \"Proteobacteria\" Gammaproteobacteria \"...               NEC 2   \n",
       "        Bacteria \"Proteobacteria\" Gammaproteobacteria \"...               NEC 2   \n",
       "        Bacteria \"Proteobacteria\" Gammaproteobacteria \"...               NEC 2   \n",
       "        Bacteria \"Proteobacteria\" Gammaproteobacteria \"...               NEC 2   \n",
       "        Bacteria \"Proteobacteria\" Gammaproteobacteria P...               NEC 2   \n",
       "        Bacteria \"Proteobacteria\" Gammaproteobacteria P...               NEC 2   \n",
       "        Bacteria \"Proteobacteria\" Gammaproteobacteria T...               NEC 2   \n",
       "        Bacteria \"Proteobacteria\" Gammaproteobacteria T...               NEC 2   \n",
       "        Bacteria \"Proteobacteria\" Gammaproteobacteria T...               NEC 2   \n",
       "        Bacteria \"Synergistetes\" Synergistia Synergista...               NEC 2   \n",
       "        Bacteria \"Synergistetes\" Synergistia Synergista...               NEC 2   \n",
       "        Bacteria \"Thermotogae\" Thermotogae Thermotogale...               NEC 2   \n",
       "        Bacteria \"Thermotogae\" Thermotogae Thermotogale...               NEC 2   \n",
       "        Bacteria Cyanobacteria Cyanobacteria  Chloropla...               NEC 2   \n",
       "        Bacteria Cyanobacteria Cyanobacteria  Chloropla...               NEC 2   \n",
       "\n",
       "                                                            SAMPLE  \n",
       "BARCODE TAXON                                                       \n",
       "MID1    Archaea \"Crenarchaeota\" Thermoprotei Desulfuroc...     NaN  \n",
       "        Archaea \"Crenarchaeota\" Thermoprotei Desulfuroc...     NaN  \n",
       "        Archaea \"Crenarchaeota\" Thermoprotei Sulfolobal...     NaN  \n",
       "        Archaea \"Crenarchaeota\" Thermoprotei Thermoprot...     NaN  \n",
       "        Archaea \"Euryarchaeota\" \"Methanomicrobia\" Metha...     NaN  \n",
       "        Archaea \"Euryarchaeota\" \"Methanomicrobia\" Metha...     NaN  \n",
       "        Archaea \"Euryarchaeota\" \"Methanomicrobia\" Metha...     NaN  \n",
       "        Archaea \"Euryarchaeota\" Archaeoglobi Archaeoglo...     NaN  \n",
       "        Archaea \"Euryarchaeota\" Archaeoglobi Archaeoglo...     NaN  \n",
       "        Archaea \"Euryarchaeota\" Halobacteria Halobacter...     NaN  \n",
       "        Archaea \"Euryarchaeota\" Halobacteria Halobacter...     NaN  \n",
       "        Archaea \"Euryarchaeota\" Halobacteria Halobacter...     NaN  \n",
       "        Archaea \"Euryarchaeota\" Halobacteria Halobacter...     NaN  \n",
       "        Archaea \"Euryarchaeota\" Halobacteria Halobacter...     NaN  \n",
       "        Archaea \"Euryarchaeota\" Methanococci Methanococ...     NaN  \n",
       "        Archaea \"Euryarchaeota\" Methanopyri Methanopyra...     NaN  \n",
       "        Archaea \"Euryarchaeota\" Thermoplasmata Thermopl...     NaN  \n",
       "        Bacteria \"Actinobacteria\" Actinobacteria Actino...     NaN  \n",
       "        Bacteria \"Actinobacteria\" Actinobacteria Actino...     NaN  \n",
       "        Bacteria \"Actinobacteria\" Actinobacteria Actino...     NaN  \n",
       "        Bacteria \"Actinobacteria\" Actinobacteria Actino...     NaN  \n",
       "        Bacteria \"Actinobacteria\" Actinobacteria Actino...     NaN  \n",
       "        Bacteria \"Actinobacteria\" Actinobacteria Actino...     NaN  \n",
       "        Bacteria \"Actinobacteria\" Actinobacteria Actino...     NaN  \n",
       "        Bacteria \"Actinobacteria\" Actinobacteria Actino...     NaN  \n",
       "        Bacteria \"Actinobacteria\" Actinobacteria Actino...     NaN  \n",
       "        Bacteria \"Actinobacteria\" Actinobacteria Actino...     NaN  \n",
       "        Bacteria \"Actinobacteria\" Actinobacteria Actino...     NaN  \n",
       "        Bacteria \"Actinobacteria\" Actinobacteria Actino...     NaN  \n",
       "        Bacteria \"Actinobacteria\" Actinobacteria Actino...     NaN  \n",
       "...                                                            ...  \n",
       "MID4    Bacteria \"Proteobacteria\" Betaproteobacteria Bu...  tissue  \n",
       "        Bacteria \"Proteobacteria\" Betaproteobacteria Bu...  tissue  \n",
       "        Bacteria \"Proteobacteria\" Betaproteobacteria Bu...  tissue  \n",
       "        Bacteria \"Proteobacteria\" Betaproteobacteria Bu...  tissue  \n",
       "        Bacteria \"Proteobacteria\" Betaproteobacteria Ne...  tissue  \n",
       "        Bacteria \"Proteobacteria\" Deltaproteobacteria D...  tissue  \n",
       "        Bacteria \"Proteobacteria\" Deltaproteobacteria D...  tissue  \n",
       "        Bacteria \"Proteobacteria\" Deltaproteobacteria D...  tissue  \n",
       "        Bacteria \"Proteobacteria\" Deltaproteobacteria D...  tissue  \n",
       "        Bacteria \"Proteobacteria\" Deltaproteobacteria D...  tissue  \n",
       "        Bacteria \"Proteobacteria\" Deltaproteobacteria S...  tissue  \n",
       "        Bacteria \"Proteobacteria\" Epsilonproteobacteria...  tissue  \n",
       "        Bacteria \"Proteobacteria\" Gammaproteobacteria \"...  tissue  \n",
       "        Bacteria \"Proteobacteria\" Gammaproteobacteria \"...  tissue  \n",
       "        Bacteria \"Proteobacteria\" Gammaproteobacteria \"...  tissue  \n",
       "        Bacteria \"Proteobacteria\" Gammaproteobacteria \"...  tissue  \n",
       "        Bacteria \"Proteobacteria\" Gammaproteobacteria \"...  tissue  \n",
       "        Bacteria \"Proteobacteria\" Gammaproteobacteria \"...  tissue  \n",
       "        Bacteria \"Proteobacteria\" Gammaproteobacteria \"...  tissue  \n",
       "        Bacteria \"Proteobacteria\" Gammaproteobacteria P...  tissue  \n",
       "        Bacteria \"Proteobacteria\" Gammaproteobacteria P...  tissue  \n",
       "        Bacteria \"Proteobacteria\" Gammaproteobacteria T...  tissue  \n",
       "        Bacteria \"Proteobacteria\" Gammaproteobacteria T...  tissue  \n",
       "        Bacteria \"Proteobacteria\" Gammaproteobacteria T...  tissue  \n",
       "        Bacteria \"Synergistetes\" Synergistia Synergista...  tissue  \n",
       "        Bacteria \"Synergistetes\" Synergistia Synergista...  tissue  \n",
       "        Bacteria \"Thermotogae\" Thermotogae Thermotogale...  tissue  \n",
       "        Bacteria \"Thermotogae\" Thermotogae Thermotogale...  tissue  \n",
       "        Bacteria Cyanobacteria Cyanobacteria  Chloropla...  tissue  \n",
       "        Bacteria Cyanobacteria Cyanobacteria  Chloropla...  tissue  \n",
       "\n",
       "[2396 rows x 3 columns]"
      ]
     },
     "execution_count": 2,
     "metadata": {},
     "output_type": "execute_result"
    }
   ],
   "source": [
    "# the idea is to loop through the files and concatenate them into a DataFrame\n",
    "# we list the files we are going to handle so we can loop through them to build our DataFrame\n",
    "import os\n",
    "direc = 'Data/microbiome/'\n",
    "files = os.listdir('Data/microbiome')\n",
    "# Remove the two files we will import by hand\n",
    "files.remove('MID1.xls')\n",
    "files.remove('metadata.xls')\n",
    "\n",
    "# we import the metadata separately\n",
    "metadata = pd.read_excel(direc+'metadata.xls', sheetname='Sheet1')\n",
    "\n",
    "# imports a file and formats it for concatenation, note the added BARCODE column for merging\n",
    "def importMid(s):\n",
    "    thisMid = pd.read_excel(direc+s, header=None)\n",
    "    thisMid.columns = ['TAXON', 'COUNT']\n",
    "    # include the barcode info (name of the file) to prepare the table to merge with metadata\n",
    "    thisMid['BARCODE'] = s[:4]\n",
    "    \n",
    "    return thisMid\n",
    "\n",
    "# we initiate a DataFrame with the first file\n",
    "midAll = importMid('MID1.xls')\n",
    "\n",
    "# we loop through the remaining files to concatenate them to our initial\n",
    "for file in files:\n",
    "    mid = importMid(file)\n",
    "    midAll = pd.concat([midAll, mid], axis=0)\n",
    "\n",
    "# we merge the microbiome data with the metadata, pandas automatically uses BARCODE as a key\n",
    "final = pd.merge(midAll, metadata)\n",
    "\n",
    "# proposal: index the table by barcode - taxon\n",
    "final.set_index(['BARCODE', 'TAXON'])\n",
    "\n",
    "# Check that we have all the BARCODEs\n",
    "# np.unique(final.BARCODE)\n",
    "\n"
   ]
  },
  {
   "cell_type": "markdown",
   "metadata": {},
   "source": [
    "# Exercise 2\n",
    "\n",
    "Load the dataset in `titanic.xls`. It contains data on all the passengers that travelled on the Titanic."
   ]
  },
  {
   "cell_type": "code",
   "execution_count": 3,
   "metadata": {
    "collapsed": false
   },
   "outputs": [
    {
     "data": {
      "text/html": [
       "<hr><h2>Data frame:titanic3</h2>1309 observations and 14 variables, maximum # NAs:1188<hr>\n",
       "<TABLE BORDER>\n",
       "<tr><td>Name</td><td>Labels</td><td>Units</td><td>Levels</td><td>Storage</td><td>NAs</td></tr>\n",
       "<tr><td>pclass</td><td></td><td></td><td><a href=\"#pclass\"><div align=right>  3</div></a></td><td>integer</td><td><div align=right>   0</div></td></tr>\n",
       "<tr><td>survived</td><td>Survived</td><td></td><td><div align=right></div></td><td>double</td><td><div align=right>   0</div></td></tr>\n",
       "<tr><td>name</td><td>Name</td><td></td><td><div align=right></div></td><td>character</td><td><div align=right>   0</div></td></tr>\n",
       "<tr><td>sex</td><td></td><td></td><td><a href=\"#sex\"><div align=right>  2</div></a></td><td>integer</td><td><div align=right>   0</div></td></tr>\n",
       "<tr><td>age</td><td>Age</td><td>Year</td><td><div align=right></div></td><td>double</td><td><div align=right> 263</div></td></tr>\n",
       "<tr><td>sibsp</td><td>Number of Siblings/Spouses Aboard</td><td></td><td><div align=right></div></td><td>double</td><td><div align=right>   0</div></td></tr>\n",
       "<tr><td>parch</td><td>Number of Parents/Children Aboard</td><td></td><td><div align=right></div></td><td>double</td><td><div align=right>   0</div></td></tr>\n",
       "<tr><td>ticket</td><td>Ticket Number</td><td></td><td><div align=right></div></td><td>character</td><td><div align=right>   0</div></td></tr>\n",
       "<tr><td>fare</td><td>Passenger Fare</td><td>British Pound (\\243)</td><td><div align=right></div></td><td>double</td><td><div align=right>   1</div></td></tr>\n",
       "<tr><td>cabin</td><td></td><td></td><td><a href=\"#cabin\"><div align=right>187</div></a></td><td>integer</td><td><div align=right>   0</div></td></tr>\n",
       "<tr><td>embarked</td><td></td><td></td><td><a href=\"#embarked\"><div align=right>  3</div></a></td><td>integer</td><td><div align=right>   2</div></td></tr>\n",
       "<tr><td>boat</td><td></td><td></td><td><a href=\"#boat\"><div align=right> 28</div></a></td><td>integer</td><td><div align=right>   0</div></td></tr>\n",
       "<tr><td>body</td><td>Body Identification Number</td><td></td><td><div align=right></div></td><td>double</td><td><div align=right>1188</div></td></tr>\n",
       "<tr><td>home.dest</td><td>Home/Destination</td><td></td><td><div align=right></div></td><td>character</td><td><div align=right>   0</div></td></tr>\n",
       "</TABLE>\n",
       "<hr>\n",
       "<TABLE BORDER>\n",
       "<tr><td>Variable</td><td>Levels</td></tr>\n",
       "<tr><td><a name=\"pclass\">pclass</a></td><td>1st</td></tr>\n",
       "<tr><td></td><td>2nd</td></tr>\n",
       "<tr><td></td><td>3rd</td></tr>\n",
       "<tr><td><a name=\"sex\">sex</a></td><td>female</td></tr>\n",
       "<tr><td></td><td>male</td></tr>\n",
       "<tr><td><a name=\"cabin\">cabin</a></td><td></td></tr>\n",
       "<tr><td></td><td>A10</td></tr>\n",
       "<tr><td></td><td>A11</td></tr>\n",
       "<tr><td></td><td>A14</td></tr>\n",
       "<tr><td></td><td>A16</td></tr>\n",
       "<tr><td></td><td>A18</td></tr>\n",
       "<tr><td></td><td>A19</td></tr>\n",
       "<tr><td></td><td>A20</td></tr>\n",
       "<tr><td></td><td>A21</td></tr>\n",
       "<tr><td></td><td>A23</td></tr>\n",
       "<tr><td></td><td>A24</td></tr>\n",
       "<tr><td></td><td>A26</td></tr>\n",
       "<tr><td></td><td>A29</td></tr>\n",
       "<tr><td></td><td>A31</td></tr>\n",
       "<tr><td></td><td>A32</td></tr>\n",
       "<tr><td></td><td>A34</td></tr>\n",
       "<tr><td></td><td>A36</td></tr>\n",
       "<tr><td></td><td>A5</td></tr>\n",
       "<tr><td></td><td>A6</td></tr>\n",
       "<tr><td></td><td>A7</td></tr>\n",
       "<tr><td></td><td>A9</td></tr>\n",
       "<tr><td></td><td>B10</td></tr>\n",
       "<tr><td></td><td>B101</td></tr>\n",
       "<tr><td></td><td>B102</td></tr>\n",
       "<tr><td></td><td>B11</td></tr>\n",
       "<tr><td></td><td>B18</td></tr>\n",
       "<tr><td></td><td>B19</td></tr>\n",
       "<tr><td></td><td>B20</td></tr>\n",
       "<tr><td></td><td>B22</td></tr>\n",
       "<tr><td></td><td>B24</td></tr>\n",
       "<tr><td></td><td>B26</td></tr>\n",
       "<tr><td></td><td>B28</td></tr>\n",
       "<tr><td></td><td>B3</td></tr>\n",
       "<tr><td></td><td>B30</td></tr>\n",
       "<tr><td></td><td>B35</td></tr>\n",
       "<tr><td></td><td>B36</td></tr>\n",
       "<tr><td></td><td>B37</td></tr>\n",
       "<tr><td></td><td>B38</td></tr>\n",
       "<tr><td></td><td>B39</td></tr>\n",
       "<tr><td></td><td>B4</td></tr>\n",
       "<tr><td></td><td>B41</td></tr>\n",
       "<tr><td></td><td>B42</td></tr>\n",
       "<tr><td></td><td>B45</td></tr>\n",
       "<tr><td></td><td>B49</td></tr>\n",
       "<tr><td></td><td>B5</td></tr>\n",
       "<tr><td></td><td>B50</td></tr>\n",
       "<tr><td></td><td>B51 B53 B55</td></tr>\n",
       "<tr><td></td><td>B52 B54 B56</td></tr>\n",
       "<tr><td></td><td>B57 B59 B63 B66</td></tr>\n",
       "<tr><td></td><td>B58 B60</td></tr>\n",
       "<tr><td></td><td>B61</td></tr>\n",
       "<tr><td></td><td>B69</td></tr>\n",
       "<tr><td></td><td>B71</td></tr>\n",
       "<tr><td></td><td>B73</td></tr>\n",
       "<tr><td></td><td>B77</td></tr>\n",
       "<tr><td></td><td>B78</td></tr>\n",
       "<tr><td></td><td>B79</td></tr>\n",
       "<tr><td></td><td>B80</td></tr>\n",
       "<tr><td></td><td>B82 B84</td></tr>\n",
       "<tr><td></td><td>B86</td></tr>\n",
       "<tr><td></td><td>B94</td></tr>\n",
       "<tr><td></td><td>B96 B98</td></tr>\n",
       "<tr><td></td><td>C101</td></tr>\n",
       "<tr><td></td><td>C103</td></tr>\n",
       "<tr><td></td><td>C104</td></tr>\n",
       "<tr><td></td><td>C105</td></tr>\n",
       "<tr><td></td><td>C106</td></tr>\n",
       "<tr><td></td><td>C110</td></tr>\n",
       "<tr><td></td><td>C111</td></tr>\n",
       "<tr><td></td><td>C116</td></tr>\n",
       "<tr><td></td><td>C118</td></tr>\n",
       "<tr><td></td><td>C123</td></tr>\n",
       "<tr><td></td><td>C124</td></tr>\n",
       "<tr><td></td><td>C125</td></tr>\n",
       "<tr><td></td><td>C126</td></tr>\n",
       "<tr><td></td><td>C128</td></tr>\n",
       "<tr><td></td><td>C130</td></tr>\n",
       "<tr><td></td><td>C132</td></tr>\n",
       "<tr><td></td><td>C148</td></tr>\n",
       "<tr><td></td><td>C2</td></tr>\n",
       "<tr><td></td><td>C22 C26</td></tr>\n",
       "<tr><td></td><td>C23 C25 C27</td></tr>\n",
       "<tr><td></td><td>C28</td></tr>\n",
       "<tr><td></td><td>C30</td></tr>\n",
       "<tr><td></td><td>C31</td></tr>\n",
       "<tr><td></td><td>C32</td></tr>\n",
       "<tr><td></td><td>C39</td></tr>\n",
       "<tr><td></td><td>C45</td></tr>\n",
       "<tr><td></td><td>C46</td></tr>\n",
       "<tr><td></td><td>C47</td></tr>\n",
       "<tr><td></td><td>C49</td></tr>\n",
       "<tr><td></td><td>C50</td></tr>\n",
       "<tr><td></td><td>C51</td></tr>\n",
       "<tr><td></td><td>C52</td></tr>\n",
       "<tr><td></td><td>C53</td></tr>\n",
       "<tr><td></td><td>C54</td></tr>\n",
       "<tr><td></td><td>C55 C57</td></tr>\n",
       "<tr><td></td><td>C6</td></tr>\n",
       "<tr><td></td><td>C62 C64</td></tr>\n",
       "<tr><td></td><td>C65</td></tr>\n",
       "<tr><td></td><td>C68</td></tr>\n",
       "<tr><td></td><td>C7</td></tr>\n",
       "<tr><td></td><td>C70</td></tr>\n",
       "<tr><td></td><td>C78</td></tr>\n",
       "<tr><td></td><td>C80</td></tr>\n",
       "<tr><td></td><td>C82</td></tr>\n",
       "<tr><td></td><td>C83</td></tr>\n",
       "<tr><td></td><td>C85</td></tr>\n",
       "<tr><td></td><td>C86</td></tr>\n",
       "<tr><td></td><td>C87</td></tr>\n",
       "<tr><td></td><td>C89</td></tr>\n",
       "<tr><td></td><td>C90</td></tr>\n",
       "<tr><td></td><td>C91</td></tr>\n",
       "<tr><td></td><td>C92</td></tr>\n",
       "<tr><td></td><td>C93</td></tr>\n",
       "<tr><td></td><td>C95</td></tr>\n",
       "<tr><td></td><td>C97</td></tr>\n",
       "<tr><td></td><td>C99</td></tr>\n",
       "<tr><td></td><td>D</td></tr>\n",
       "<tr><td></td><td>D10 D12</td></tr>\n",
       "<tr><td></td><td>D11</td></tr>\n",
       "<tr><td></td><td>D15</td></tr>\n",
       "<tr><td></td><td>D17</td></tr>\n",
       "<tr><td></td><td>D19</td></tr>\n",
       "<tr><td></td><td>D20</td></tr>\n",
       "<tr><td></td><td>D21</td></tr>\n",
       "<tr><td></td><td>D22</td></tr>\n",
       "<tr><td></td><td>D26</td></tr>\n",
       "<tr><td></td><td>D28</td></tr>\n",
       "<tr><td></td><td>D30</td></tr>\n",
       "<tr><td></td><td>D33</td></tr>\n",
       "<tr><td></td><td>D34</td></tr>\n",
       "<tr><td></td><td>D35</td></tr>\n",
       "<tr><td></td><td>D36</td></tr>\n",
       "<tr><td></td><td>D37</td></tr>\n",
       "<tr><td></td><td>D38</td></tr>\n",
       "<tr><td></td><td>D40</td></tr>\n",
       "<tr><td></td><td>D43</td></tr>\n",
       "<tr><td></td><td>D45</td></tr>\n",
       "<tr><td></td><td>D46</td></tr>\n",
       "<tr><td></td><td>D47</td></tr>\n",
       "<tr><td></td><td>D48</td></tr>\n",
       "<tr><td></td><td>D49</td></tr>\n",
       "<tr><td></td><td>D50</td></tr>\n",
       "<tr><td></td><td>D56</td></tr>\n",
       "<tr><td></td><td>D6</td></tr>\n",
       "<tr><td></td><td>D7</td></tr>\n",
       "<tr><td></td><td>D9</td></tr>\n",
       "<tr><td></td><td>E10</td></tr>\n",
       "<tr><td></td><td>E101</td></tr>\n",
       "<tr><td></td><td>E12</td></tr>\n",
       "<tr><td></td><td>E121</td></tr>\n",
       "<tr><td></td><td>E17</td></tr>\n",
       "<tr><td></td><td>E24</td></tr>\n",
       "<tr><td></td><td>E25</td></tr>\n",
       "<tr><td></td><td>E31</td></tr>\n",
       "<tr><td></td><td>E33</td></tr>\n",
       "<tr><td></td><td>E34</td></tr>\n",
       "<tr><td></td><td>E36</td></tr>\n",
       "<tr><td></td><td>E38</td></tr>\n",
       "<tr><td></td><td>E39 E41</td></tr>\n",
       "<tr><td></td><td>E40</td></tr>\n",
       "<tr><td></td><td>E44</td></tr>\n",
       "<tr><td></td><td>E45</td></tr>\n",
       "<tr><td></td><td>E46</td></tr>\n",
       "<tr><td></td><td>E49</td></tr>\n",
       "<tr><td></td><td>E50</td></tr>\n",
       "<tr><td></td><td>E52</td></tr>\n",
       "<tr><td></td><td>E58</td></tr>\n",
       "<tr><td></td><td>E60</td></tr>\n",
       "<tr><td></td><td>E63</td></tr>\n",
       "<tr><td></td><td>E67</td></tr>\n",
       "<tr><td></td><td>E68</td></tr>\n",
       "<tr><td></td><td>E77</td></tr>\n",
       "<tr><td></td><td>E8</td></tr>\n",
       "<tr><td></td><td>F</td></tr>\n",
       "<tr><td></td><td>F E46</td></tr>\n",
       "<tr><td></td><td>F E57</td></tr>\n",
       "<tr><td></td><td>F E69</td></tr>\n",
       "<tr><td></td><td>F G63</td></tr>\n",
       "<tr><td></td><td>F G73</td></tr>\n",
       "<tr><td></td><td>F2</td></tr>\n",
       "<tr><td></td><td>F33</td></tr>\n",
       "<tr><td></td><td>F38</td></tr>\n",
       "<tr><td></td><td>F4</td></tr>\n",
       "<tr><td></td><td>G6</td></tr>\n",
       "<tr><td></td><td>T</td></tr>\n",
       "<tr><td><a name=\"embarked\">embarked</a></td><td>Cherbourg</td></tr>\n",
       "<tr><td></td><td>Queenstown</td></tr>\n",
       "<tr><td></td><td>Southampton</td></tr>\n",
       "<tr><td><a name=\"boat\">boat</a></td><td></td></tr>\n",
       "<tr><td></td><td>1</td></tr>\n",
       "<tr><td></td><td>10</td></tr>\n",
       "<tr><td></td><td>11</td></tr>\n",
       "<tr><td></td><td>12</td></tr>\n",
       "<tr><td></td><td>13</td></tr>\n",
       "<tr><td></td><td>13 15</td></tr>\n",
       "<tr><td></td><td>13 15 B</td></tr>\n",
       "<tr><td></td><td>14</td></tr>\n",
       "<tr><td></td><td>15</td></tr>\n",
       "<tr><td></td><td>15 16</td></tr>\n",
       "<tr><td></td><td>16</td></tr>\n",
       "<tr><td></td><td>2</td></tr>\n",
       "<tr><td></td><td>3</td></tr>\n",
       "<tr><td></td><td>4</td></tr>\n",
       "<tr><td></td><td>5</td></tr>\n",
       "<tr><td></td><td>5 7</td></tr>\n",
       "<tr><td></td><td>5 9</td></tr>\n",
       "<tr><td></td><td>6</td></tr>\n",
       "<tr><td></td><td>7</td></tr>\n",
       "<tr><td></td><td>8</td></tr>\n",
       "<tr><td></td><td>8 10</td></tr>\n",
       "<tr><td></td><td>9</td></tr>\n",
       "<tr><td></td><td>A</td></tr>\n",
       "<tr><td></td><td>B</td></tr>\n",
       "<tr><td></td><td>C</td></tr>\n",
       "<tr><td></td><td>C D</td></tr>\n",
       "<tr><td></td><td>D</td></tr>\n",
       "</TABLE>\n",
       "<hr>\n"
      ],
      "text/plain": [
       "<IPython.core.display.HTML object>"
      ]
     },
     "execution_count": 3,
     "metadata": {},
     "output_type": "execute_result"
    }
   ],
   "source": [
    "from IPython.core.display import HTML\n",
    "HTML(filename='Data/titanic.html')"
   ]
  },
  {
   "cell_type": "markdown",
   "metadata": {
    "collapsed": true
   },
   "source": [
    "Women and children first?\n",
    "\n",
    "1. Describe each attribute, both with basic statistics and plots. State clearly your assumptions and discuss your findings.\n",
    "2. Use the `groupby` method to calculate the proportion of passengers that survived by sex.\n",
    "3. Calculate the same proportion, but by class and sex.\n",
    "4. Create age categories: children (under 14 years), adolescents (14-20), adult (21-64), and senior(65+), and calculate survival proportions by age category, class and sex."
   ]
  },
  {
   "cell_type": "markdown",
   "metadata": {},
   "source": [
    "## Importing the file"
   ]
  },
  {
   "cell_type": "code",
   "execution_count": 4,
   "metadata": {
    "collapsed": false
   },
   "outputs": [
    {
     "data": {
      "text/html": [
       "<div>\n",
       "<table border=\"1\" class=\"dataframe\">\n",
       "  <thead>\n",
       "    <tr style=\"text-align: right;\">\n",
       "      <th></th>\n",
       "      <th>pclass</th>\n",
       "      <th>survived</th>\n",
       "      <th>name</th>\n",
       "      <th>sex</th>\n",
       "      <th>age</th>\n",
       "      <th>sibsp</th>\n",
       "      <th>parch</th>\n",
       "      <th>ticket</th>\n",
       "      <th>fare</th>\n",
       "      <th>cabin</th>\n",
       "      <th>embarked</th>\n",
       "      <th>boat</th>\n",
       "      <th>body</th>\n",
       "      <th>home.dest</th>\n",
       "    </tr>\n",
       "  </thead>\n",
       "  <tbody>\n",
       "    <tr>\n",
       "      <th>0</th>\n",
       "      <td>1</td>\n",
       "      <td>1</td>\n",
       "      <td>Allen, Miss. Elisabeth Walton</td>\n",
       "      <td>female</td>\n",
       "      <td>29.0000</td>\n",
       "      <td>0</td>\n",
       "      <td>0</td>\n",
       "      <td>24160</td>\n",
       "      <td>211.3375</td>\n",
       "      <td>B5</td>\n",
       "      <td>S</td>\n",
       "      <td>2</td>\n",
       "      <td>NaN</td>\n",
       "      <td>St Louis, MO</td>\n",
       "    </tr>\n",
       "    <tr>\n",
       "      <th>1</th>\n",
       "      <td>1</td>\n",
       "      <td>1</td>\n",
       "      <td>Allison, Master. Hudson Trevor</td>\n",
       "      <td>male</td>\n",
       "      <td>0.9167</td>\n",
       "      <td>1</td>\n",
       "      <td>2</td>\n",
       "      <td>113781</td>\n",
       "      <td>151.5500</td>\n",
       "      <td>C22 C26</td>\n",
       "      <td>S</td>\n",
       "      <td>11</td>\n",
       "      <td>NaN</td>\n",
       "      <td>Montreal, PQ / Chesterville, ON</td>\n",
       "    </tr>\n",
       "    <tr>\n",
       "      <th>2</th>\n",
       "      <td>1</td>\n",
       "      <td>0</td>\n",
       "      <td>Allison, Miss. Helen Loraine</td>\n",
       "      <td>female</td>\n",
       "      <td>2.0000</td>\n",
       "      <td>1</td>\n",
       "      <td>2</td>\n",
       "      <td>113781</td>\n",
       "      <td>151.5500</td>\n",
       "      <td>C22 C26</td>\n",
       "      <td>S</td>\n",
       "      <td>NaN</td>\n",
       "      <td>NaN</td>\n",
       "      <td>Montreal, PQ / Chesterville, ON</td>\n",
       "    </tr>\n",
       "    <tr>\n",
       "      <th>3</th>\n",
       "      <td>1</td>\n",
       "      <td>0</td>\n",
       "      <td>Allison, Mr. Hudson Joshua Creighton</td>\n",
       "      <td>male</td>\n",
       "      <td>30.0000</td>\n",
       "      <td>1</td>\n",
       "      <td>2</td>\n",
       "      <td>113781</td>\n",
       "      <td>151.5500</td>\n",
       "      <td>C22 C26</td>\n",
       "      <td>S</td>\n",
       "      <td>NaN</td>\n",
       "      <td>135.0</td>\n",
       "      <td>Montreal, PQ / Chesterville, ON</td>\n",
       "    </tr>\n",
       "    <tr>\n",
       "      <th>4</th>\n",
       "      <td>1</td>\n",
       "      <td>0</td>\n",
       "      <td>Allison, Mrs. Hudson J C (Bessie Waldo Daniels)</td>\n",
       "      <td>female</td>\n",
       "      <td>25.0000</td>\n",
       "      <td>1</td>\n",
       "      <td>2</td>\n",
       "      <td>113781</td>\n",
       "      <td>151.5500</td>\n",
       "      <td>C22 C26</td>\n",
       "      <td>S</td>\n",
       "      <td>NaN</td>\n",
       "      <td>NaN</td>\n",
       "      <td>Montreal, PQ / Chesterville, ON</td>\n",
       "    </tr>\n",
       "  </tbody>\n",
       "</table>\n",
       "</div>"
      ],
      "text/plain": [
       "   pclass  survived                                             name     sex  \\\n",
       "0       1         1                    Allen, Miss. Elisabeth Walton  female   \n",
       "1       1         1                   Allison, Master. Hudson Trevor    male   \n",
       "2       1         0                     Allison, Miss. Helen Loraine  female   \n",
       "3       1         0             Allison, Mr. Hudson Joshua Creighton    male   \n",
       "4       1         0  Allison, Mrs. Hudson J C (Bessie Waldo Daniels)  female   \n",
       "\n",
       "       age  sibsp  parch  ticket      fare    cabin embarked boat   body  \\\n",
       "0  29.0000      0      0   24160  211.3375       B5        S    2    NaN   \n",
       "1   0.9167      1      2  113781  151.5500  C22 C26        S   11    NaN   \n",
       "2   2.0000      1      2  113781  151.5500  C22 C26        S  NaN    NaN   \n",
       "3  30.0000      1      2  113781  151.5500  C22 C26        S  NaN  135.0   \n",
       "4  25.0000      1      2  113781  151.5500  C22 C26        S  NaN    NaN   \n",
       "\n",
       "                         home.dest  \n",
       "0                     St Louis, MO  \n",
       "1  Montreal, PQ / Chesterville, ON  \n",
       "2  Montreal, PQ / Chesterville, ON  \n",
       "3  Montreal, PQ / Chesterville, ON  \n",
       "4  Montreal, PQ / Chesterville, ON  "
      ]
     },
     "execution_count": 4,
     "metadata": {},
     "output_type": "execute_result"
    }
   ],
   "source": [
    "# we load the titanic file\n",
    "titanic = pd.read_excel('Data/titanic.xls')\n",
    "titanic.head(5)"
   ]
  },
  {
   "cell_type": "code",
   "execution_count": 5,
   "metadata": {
    "collapsed": false
   },
   "outputs": [
    {
     "data": {
      "text/html": [
       "<div>\n",
       "<table border=\"1\" class=\"dataframe\">\n",
       "  <thead>\n",
       "    <tr style=\"text-align: right;\">\n",
       "      <th></th>\n",
       "      <th>pclass</th>\n",
       "      <th>survived</th>\n",
       "      <th>name</th>\n",
       "      <th>sex</th>\n",
       "      <th>age</th>\n",
       "      <th>sibsp</th>\n",
       "      <th>parch</th>\n",
       "      <th>ticket</th>\n",
       "      <th>fare</th>\n",
       "      <th>cabin</th>\n",
       "      <th>embarked</th>\n",
       "      <th>boat</th>\n",
       "      <th>body</th>\n",
       "      <th>home.dest</th>\n",
       "    </tr>\n",
       "  </thead>\n",
       "  <tbody>\n",
       "    <tr>\n",
       "      <th>0</th>\n",
       "      <td>1</td>\n",
       "      <td>survivor</td>\n",
       "      <td>Allen, Miss. Elisabeth Walton</td>\n",
       "      <td>female</td>\n",
       "      <td>29.0000</td>\n",
       "      <td>0</td>\n",
       "      <td>0</td>\n",
       "      <td>24160</td>\n",
       "      <td>211.3375</td>\n",
       "      <td>B5</td>\n",
       "      <td>S</td>\n",
       "      <td>2</td>\n",
       "      <td>NaN</td>\n",
       "      <td>St Louis, MO</td>\n",
       "    </tr>\n",
       "    <tr>\n",
       "      <th>1</th>\n",
       "      <td>1</td>\n",
       "      <td>survivor</td>\n",
       "      <td>Allison, Master. Hudson Trevor</td>\n",
       "      <td>male</td>\n",
       "      <td>0.9167</td>\n",
       "      <td>1</td>\n",
       "      <td>2</td>\n",
       "      <td>113781</td>\n",
       "      <td>151.5500</td>\n",
       "      <td>C22 C26</td>\n",
       "      <td>S</td>\n",
       "      <td>11</td>\n",
       "      <td>NaN</td>\n",
       "      <td>Montreal, PQ / Chesterville, ON</td>\n",
       "    </tr>\n",
       "    <tr>\n",
       "      <th>2</th>\n",
       "      <td>1</td>\n",
       "      <td>dead</td>\n",
       "      <td>Allison, Miss. Helen Loraine</td>\n",
       "      <td>female</td>\n",
       "      <td>2.0000</td>\n",
       "      <td>1</td>\n",
       "      <td>2</td>\n",
       "      <td>113781</td>\n",
       "      <td>151.5500</td>\n",
       "      <td>C22 C26</td>\n",
       "      <td>S</td>\n",
       "      <td>NaN</td>\n",
       "      <td>NaN</td>\n",
       "      <td>Montreal, PQ / Chesterville, ON</td>\n",
       "    </tr>\n",
       "    <tr>\n",
       "      <th>3</th>\n",
       "      <td>1</td>\n",
       "      <td>dead</td>\n",
       "      <td>Allison, Mr. Hudson Joshua Creighton</td>\n",
       "      <td>male</td>\n",
       "      <td>30.0000</td>\n",
       "      <td>1</td>\n",
       "      <td>2</td>\n",
       "      <td>113781</td>\n",
       "      <td>151.5500</td>\n",
       "      <td>C22 C26</td>\n",
       "      <td>S</td>\n",
       "      <td>NaN</td>\n",
       "      <td>135.0</td>\n",
       "      <td>Montreal, PQ / Chesterville, ON</td>\n",
       "    </tr>\n",
       "    <tr>\n",
       "      <th>4</th>\n",
       "      <td>1</td>\n",
       "      <td>dead</td>\n",
       "      <td>Allison, Mrs. Hudson J C (Bessie Waldo Daniels)</td>\n",
       "      <td>female</td>\n",
       "      <td>25.0000</td>\n",
       "      <td>1</td>\n",
       "      <td>2</td>\n",
       "      <td>113781</td>\n",
       "      <td>151.5500</td>\n",
       "      <td>C22 C26</td>\n",
       "      <td>S</td>\n",
       "      <td>NaN</td>\n",
       "      <td>NaN</td>\n",
       "      <td>Montreal, PQ / Chesterville, ON</td>\n",
       "    </tr>\n",
       "  </tbody>\n",
       "</table>\n",
       "</div>"
      ],
      "text/plain": [
       "   pclass  survived                                             name     sex  \\\n",
       "0       1  survivor                    Allen, Miss. Elisabeth Walton  female   \n",
       "1       1  survivor                   Allison, Master. Hudson Trevor    male   \n",
       "2       1      dead                     Allison, Miss. Helen Loraine  female   \n",
       "3       1      dead             Allison, Mr. Hudson Joshua Creighton    male   \n",
       "4       1      dead  Allison, Mrs. Hudson J C (Bessie Waldo Daniels)  female   \n",
       "\n",
       "       age  sibsp  parch  ticket      fare    cabin embarked boat   body  \\\n",
       "0  29.0000      0      0   24160  211.3375       B5        S    2    NaN   \n",
       "1   0.9167      1      2  113781  151.5500  C22 C26        S   11    NaN   \n",
       "2   2.0000      1      2  113781  151.5500  C22 C26        S  NaN    NaN   \n",
       "3  30.0000      1      2  113781  151.5500  C22 C26        S  NaN  135.0   \n",
       "4  25.0000      1      2  113781  151.5500  C22 C26        S  NaN    NaN   \n",
       "\n",
       "                         home.dest  \n",
       "0                     St Louis, MO  \n",
       "1  Montreal, PQ / Chesterville, ON  \n",
       "2  Montreal, PQ / Chesterville, ON  \n",
       "3  Montreal, PQ / Chesterville, ON  \n",
       "4  Montreal, PQ / Chesterville, ON  "
      ]
     },
     "execution_count": 5,
     "metadata": {},
     "output_type": "execute_result"
    }
   ],
   "source": [
    "# We change the value 0 and 1 of survived by survivor, dead\n",
    "mapping = {0: 'dead', 1: 'survivor'}\n",
    "titanic.replace({'survived': mapping}, inplace=True)\n",
    "titanic.head()"
   ]
  },
  {
   "cell_type": "markdown",
   "metadata": {},
   "source": [
    "## Describing and plotting"
   ]
  },
  {
   "cell_type": "code",
   "execution_count": 6,
   "metadata": {
    "collapsed": true
   },
   "outputs": [],
   "source": [
    "# we define a plotting function for convenience\n",
    "def pie(df, **kwargs):\n",
    "    graph = df.plot.pie(subplots=True, figsize=(5,5), **kwargs)\n",
    "    return graph\n",
    "    "
   ]
  },
  {
   "cell_type": "markdown",
   "metadata": {},
   "source": [
    "### Passenger class"
   ]
  },
  {
   "cell_type": "code",
   "execution_count": 7,
   "metadata": {
    "collapsed": false
   },
   "outputs": [
    {
     "data": {
      "text/plain": [
       "0"
      ]
     },
     "execution_count": 7,
     "metadata": {},
     "output_type": "execute_result"
    }
   ],
   "source": [
    "# we check that there are no null values in the pclass column\n",
    "pClass = titanic.pclass.isnull()\n",
    "np.sum(pClass)"
   ]
  },
  {
   "cell_type": "code",
   "execution_count": 8,
   "metadata": {
    "collapsed": false
   },
   "outputs": [
    {
     "name": "stdout",
     "output_type": "stream",
     "text": [
      "24.675325% of passengers are in 1st class\n",
      "21.161192% of passengers are in 2nd class\n",
      "54.163484% of passengers are in 3rd class\n"
     ]
    },
    {
     "data": {
      "image/png": "[encoded data removed]",
      "text/plain": [
       "<matplotlib.figure.Figure at 0x7f0fb73b5d68>"
      ]
     },
     "metadata": {},
     "output_type": "display_data"
    }
   ],
   "source": [
    "# We have no null values, so we can already process the data\n",
    "\n",
    "# we plot the distribution on passengers in classes as a pie chart\n",
    "pie(pd.DataFrame(titanic.pclass.value_counts()), title=\"Class of passengers\")\n",
    "\n",
    "# We also print the percentage of people in each of the class\n",
    "pclass = titanic.groupby([\"pclass\"]).size()\n",
    "#print(pclass)\n",
    "\n",
    "print(\"%f%% of passengers are in 1st class\"%(100*pclass[1]/pclass.sum()))\n",
    "print(\"%f%% of passengers are in 2nd class\"%(100*pclass[2]/pclass.sum()))\n",
    "print(\"%f%% of passengers are in 3rd class\"%(100*pclass[3]/pclass.sum()))"
   ]
  },
  {
   "cell_type": "markdown",
   "metadata": {},
   "source": [
    "We can see here that most of the passengers were in third class. We can except that most of the people from the third class will die. (They were at the bottom of the boat)"
   ]
  },
  {
   "cell_type": "markdown",
   "metadata": {},
   "source": [
    "### Sex"
   ]
  },
  {
   "cell_type": "code",
   "execution_count": 9,
   "metadata": {
    "collapsed": false
   },
   "outputs": [
    {
     "data": {
      "text/plain": [
       "0"
      ]
     },
     "execution_count": 9,
     "metadata": {},
     "output_type": "execute_result"
    }
   ],
   "source": [
    "# we check that there are no null values in the sex column\n",
    "np.sum(titanic.sex.isnull())"
   ]
  },
  {
   "cell_type": "code",
   "execution_count": 10,
   "metadata": {
    "collapsed": false
   },
   "outputs": [
    {
     "name": "stdout",
     "output_type": "stream",
     "text": [
      "64.400306% of passengers are male\n",
      "35.599694% of passengers are female\n"
     ]
    },
    {
     "data": {
      "image/png": "[encoded data removed]",
      "text/plain": [
       "<matplotlib.figure.Figure at 0x7f0fb73ff7f0>"
      ]
     },
     "metadata": {},
     "output_type": "display_data"
    }
   ],
   "source": [
    "# We have no null values, so we can already process the data.\n",
    "\n",
    "# plot\n",
    "pie(pd.DataFrame(titanic.sex.value_counts()), title=\"Sex of passengers\")\n",
    "\n",
    "# We also print the percentage\n",
    "sex = titanic.groupby([\"sex\"]).size()\n",
    "#print(sex)\n",
    "\n",
    "print(\"%f%% of passengers are male\"%(100*sex[\"male\"]/sex.sum()))\n",
    "print(\"%f%% of passengers are female\"%(100*sex[\"female\"]/sex.sum()))"
   ]
  },
  {
   "cell_type": "markdown",
   "metadata": {},
   "source": [
    "There was mostly men on the Titanic. We'll see if they had a higher survival rate than the women or not."
   ]
  },
  {
   "cell_type": "markdown",
   "metadata": {},
   "source": [
    "### Age"
   ]
  },
  {
   "cell_type": "code",
   "execution_count": 11,
   "metadata": {
    "collapsed": false
   },
   "outputs": [
    {
     "data": {
      "text/plain": [
       "count    1046.000000\n",
       "mean       29.881135\n",
       "std        14.413500\n",
       "min         0.166700\n",
       "25%        21.000000\n",
       "50%        28.000000\n",
       "75%        39.000000\n",
       "max        80.000000\n",
       "Name: age, dtype: float64"
      ]
     },
     "execution_count": 11,
     "metadata": {},
     "output_type": "execute_result"
    }
   ],
   "source": [
    "# we extract an age series with no null values and we describe it and plot a histogram of it\n",
    "# we assume float values mean these are babies < 1 y.o. and leave it as it\n",
    "# doesn't cause any problem\n",
    "ages = titanic.loc[titanic.age.notnull()].age\n",
    "ages.describe()"
   ]
  },
  {
   "cell_type": "code",
   "execution_count": 12,
   "metadata": {
    "collapsed": false
   },
   "outputs": [
    {
     "name": "stdout",
     "output_type": "stream",
     "text": [
      "For the age, we have 1046 non null entries. The total number of entries is 1309.\n"
     ]
    },
    {
     "data": {
      "image/png": "[encoded data removed]",
      "text/plain": [
       "<matplotlib.figure.Figure at 0x7f0fb7328e48>"
      ]
     },
     "metadata": {},
     "output_type": "display_data"
    }
   ],
   "source": [
    "ages.hist()\n",
    "plt.title(\"Age of the passengers\")\n",
    "plt.xlabel(\"Age\")\n",
    "plt.ylabel(\"Count\")\n",
    "\n",
    "print(\"For the age, we have %i non null entries. The total number of entries is %i.\"%(ages.count(), sex.sum()))"
   ]
  },
  {
   "cell_type": "markdown",
   "metadata": {},
   "source": [
    "The age distribution is pretty good. We can see that there's a few children, a lot of adults, and some seniors. We will have a look at their survival rate. The next histogram shows the 4 categories: children, adolescentrs, adult and senior."
   ]
  },
  {
   "cell_type": "markdown",
   "metadata": {},
   "source": [
    "Now, we will create a new column with the categories of age. Then we check that the null values for the age remains null for the age categories."
   ]
  },
  {
   "cell_type": "code",
   "execution_count": 13,
   "metadata": {
    "collapsed": false
   },
   "outputs": [
    {
     "data": {
      "text/html": [
       "<div>\n",
       "<table border=\"1\" class=\"dataframe\">\n",
       "  <thead>\n",
       "    <tr style=\"text-align: right;\">\n",
       "      <th></th>\n",
       "      <th>pclass</th>\n",
       "      <th>survived</th>\n",
       "      <th>name</th>\n",
       "      <th>sex</th>\n",
       "      <th>age</th>\n",
       "      <th>sibsp</th>\n",
       "      <th>parch</th>\n",
       "      <th>ticket</th>\n",
       "      <th>fare</th>\n",
       "      <th>cabin</th>\n",
       "      <th>embarked</th>\n",
       "      <th>boat</th>\n",
       "      <th>body</th>\n",
       "      <th>home.dest</th>\n",
       "      <th>age_cat</th>\n",
       "    </tr>\n",
       "  </thead>\n",
       "  <tbody>\n",
       "    <tr>\n",
       "      <th>14</th>\n",
       "      <td>1</td>\n",
       "      <td>survivor</td>\n",
       "      <td>Barkworth, Mr. Algernon Henry Wilson</td>\n",
       "      <td>male</td>\n",
       "      <td>80.0</td>\n",
       "      <td>0</td>\n",
       "      <td>0</td>\n",
       "      <td>27042</td>\n",
       "      <td>30.0000</td>\n",
       "      <td>A23</td>\n",
       "      <td>S</td>\n",
       "      <td>B</td>\n",
       "      <td>NaN</td>\n",
       "      <td>Hessle, Yorks</td>\n",
       "      <td>seniors</td>\n",
       "    </tr>\n",
       "    <tr>\n",
       "      <th>15</th>\n",
       "      <td>1</td>\n",
       "      <td>dead</td>\n",
       "      <td>Baumann, Mr. John D</td>\n",
       "      <td>male</td>\n",
       "      <td>NaN</td>\n",
       "      <td>0</td>\n",
       "      <td>0</td>\n",
       "      <td>PC 17318</td>\n",
       "      <td>25.9250</td>\n",
       "      <td>NaN</td>\n",
       "      <td>S</td>\n",
       "      <td>NaN</td>\n",
       "      <td>NaN</td>\n",
       "      <td>New York, NY</td>\n",
       "      <td>NaN</td>\n",
       "    </tr>\n",
       "    <tr>\n",
       "      <th>16</th>\n",
       "      <td>1</td>\n",
       "      <td>dead</td>\n",
       "      <td>Baxter, Mr. Quigg Edmond</td>\n",
       "      <td>male</td>\n",
       "      <td>24.0</td>\n",
       "      <td>0</td>\n",
       "      <td>1</td>\n",
       "      <td>PC 17558</td>\n",
       "      <td>247.5208</td>\n",
       "      <td>B58 B60</td>\n",
       "      <td>C</td>\n",
       "      <td>NaN</td>\n",
       "      <td>NaN</td>\n",
       "      <td>Montreal, PQ</td>\n",
       "      <td>adults</td>\n",
       "    </tr>\n",
       "  </tbody>\n",
       "</table>\n",
       "</div>"
      ],
      "text/plain": [
       "    pclass  survived                                  name   sex   age  sibsp  \\\n",
       "14       1  survivor  Barkworth, Mr. Algernon Henry Wilson  male  80.0      0   \n",
       "15       1      dead                   Baumann, Mr. John D  male   NaN      0   \n",
       "16       1      dead              Baxter, Mr. Quigg Edmond  male  24.0      0   \n",
       "\n",
       "    parch    ticket      fare    cabin embarked boat  body      home.dest  \\\n",
       "14      0     27042   30.0000      A23        S    B   NaN  Hessle, Yorks   \n",
       "15      0  PC 17318   25.9250      NaN        S  NaN   NaN   New York, NY   \n",
       "16      1  PC 17558  247.5208  B58 B60        C  NaN   NaN   Montreal, PQ   \n",
       "\n",
       "    age_cat  \n",
       "14  seniors  \n",
       "15      NaN  \n",
       "16   adults  "
      ]
     },
     "execution_count": 13,
     "metadata": {},
     "output_type": "execute_result"
    }
   ],
   "source": [
    "# Create a new column for the age categories\n",
    "age_cat = pd.cut(titanic.age, [0, 14, 20, 64, 200], labels=['children','adolescents','adults','seniors'])\n",
    "\n",
    "titanic.loc[:, \"age_cat\"] = age_cat\n",
    "titanic[14:17] # Have a look at line 15. It works."
   ]
  },
  {
   "cell_type": "code",
   "execution_count": 14,
   "metadata": {
    "collapsed": false
   },
   "outputs": [
    {
     "name": "stdout",
     "output_type": "stream",
     "text": [
      "For the age, we were careful about removing the null values. \n",
      "We found 1046 entries.\n",
      "If pandas is clever, when we use the groupby for the age category and \n",
      "we ask it to sum, we should find the same value as above.\n",
      "ages_cat.sum() = 1046\n",
      "\n",
      "Pandas is clever!\n"
     ]
    },
    {
     "data": {
      "image/png": "[encoded data removed]",
      "text/plain": [
       "<matplotlib.figure.Figure at 0x7f0fb19e7a90>"
      ]
     },
     "metadata": {},
     "output_type": "display_data"
    }
   ],
   "source": [
    "# Now, we can group the age categories and \n",
    "ages_cat = titanic.groupby([\"age_cat\"]).size()\n",
    "ages_cat\n",
    "\n",
    "ages_cat.plot(kind='bar', subplots=True)\n",
    "plt.title(\"Categories of age\")\n",
    "plt.xlabel(\"Categories\")\n",
    "plt.ylabel(\"Count\")\n",
    "\n",
    "print(\"For the age, we were careful about removing the null values. \\nWe found %i entries.\"%(ages.count()))\n",
    "print(\"If pandas is clever, when we use the groupby for the age category and \\nwe ask it to sum, we should find the same value as above.\")\n",
    "print(\"ages_cat.sum() = %i\"%(ages_cat.sum()))\n",
    "print()\n",
    "if(ages_cat.sum() == ages.count()):\n",
    "    print(\"Pandas is clever!\")\n",
    "else:\n",
    "    print(\"Pandas is not clever! (We are)\")\n",
    "\n"
   ]
  },
  {
   "cell_type": "markdown",
   "metadata": {},
   "source": [
    "*Normally, the groupby function using should not take into account the null values. We also know that there are missing values only for the age. And since we checked that for the age it works fine, we can \"trust\" pandas for the rest of the tests.*"
   ]
  },
  {
   "cell_type": "markdown",
   "metadata": {},
   "source": [
    "### Survival"
   ]
  },
  {
   "cell_type": "code",
   "execution_count": 15,
   "metadata": {
    "collapsed": false
   },
   "outputs": [
    {
     "data": {
      "text/plain": [
       "0"
      ]
     },
     "execution_count": 15,
     "metadata": {},
     "output_type": "execute_result"
    }
   ],
   "source": [
    "# we check that there are no null values in the survive column\n",
    "survived = titanic.survived.isnull()\n",
    "np.sum(survived)"
   ]
  },
  {
   "cell_type": "code",
   "execution_count": 16,
   "metadata": {
    "collapsed": false
   },
   "outputs": [
    {
     "name": "stdout",
     "output_type": "stream",
     "text": [
      "61.802903% of passengers died\n",
      "38.197097% of passengers survived\n"
     ]
    },
    {
     "data": {
      "image/png": "[encoded data removed]",
      "text/plain": [
       "<matplotlib.figure.Figure at 0x7f0fb1928978>"
      ]
     },
     "metadata": {},
     "output_type": "display_data"
    }
   ],
   "source": [
    "# Plot the proportion of survivors\n",
    "pie(pd.DataFrame(titanic.survived.value_counts()), title=\"Survivor and dead\")\n",
    "\n",
    "survived = titanic.groupby([\"survived\"]).size()\n",
    "#print(sex)\n",
    "\n",
    "print(\"%f%% of passengers died\"%(100*survived.loc[\"dead\"]/survived.sum()))\n",
    "print(\"%f%% of passengers survived\"%(100*survived.loc[\"survivor\"]/survived.sum()))"
   ]
  },
  {
   "cell_type": "markdown",
   "metadata": {},
   "source": [
    "## Survival in function of the different attributes\n",
    "\n",
    "Now, that we checked the proportion of male/female, the passenger class, the age, and the survival rate we can try to group these different information.\n"
   ]
  },
  {
   "cell_type": "markdown",
   "metadata": {},
   "source": [
    "## Survival and sex"
   ]
  },
  {
   "cell_type": "code",
   "execution_count": 17,
   "metadata": {
    "collapsed": false
   },
   "outputs": [
    {
     "name": "stdout",
     "output_type": "stream",
     "text": [
      "339 female survived\n",
      "161 male survived\n",
      "127 female died\n",
      "682 male died\n",
      "\n",
      "72.746781% female survived\n",
      "19.098458% male survived\n"
     ]
    },
    {
     "data": {
      "image/png": "[encoded data removed]",
      "text/plain": [
       "<matplotlib.figure.Figure at 0x7f0fb19a4b38>"
      ]
     },
     "metadata": {},
     "output_type": "display_data"
    }
   ],
   "source": [
    "survivors_sex = titanic.groupby([\"survived\", \"sex\"]).size()\n",
    "#print(survivors_sex)\n",
    "\n",
    "# Print the different info\n",
    "print(\"%i female survived\"%survivors_sex.loc[\"survivor\", \"female\"])\n",
    "print(\"%i male survived\"%survivors_sex.loc[\"survivor\", \"male\"])\n",
    "print(\"%i female died\"%survivors_sex.loc[\"dead\", \"female\"])\n",
    "print(\"%i male died\"%survivors_sex.loc[\"dead\", \"male\"])\n",
    "print()\n",
    "print(\"%f%% female survived\"%(100*survivors_sex.loc[\"survivor\", \"female\"]\n",
    "                                         /(survivors_sex.loc[\"survivor\", \"female\"] + \n",
    "                                           survivors_sex.loc[\"dead\", \"female\"])))\n",
    "print(\"%f%% male survived\"%(100*survivors_sex.loc[\"survivor\", \"male\"]\n",
    "                                       /(survivors_sex.loc[\"dead\", \"male\"] + \n",
    "                                         survivors_sex.loc[\"survivor\", \"male\"])))\n",
    "\n",
    "# Create the graph\n",
    "graph = pie(survivors_sex, title = \"Survivor combined with the sex.\")"
   ]
  },
  {
   "cell_type": "markdown",
   "metadata": {},
   "source": [
    "We can already take two \"conclusions\" here: \n",
    "- The majority of male are dead\n",
    "- The majority of female are alive\n",
    "\n",
    "But we need to dig deeper in the data to take other conclusions "
   ]
  },
  {
   "cell_type": "markdown",
   "metadata": {},
   "source": [
    "## Survival and class\n",
    "\n",
    "Before looking at the survival in function of the sex and class, we can already have a look at the survival rate in function of the sex"
   ]
  },
  {
   "cell_type": "code",
   "execution_count": 18,
   "metadata": {
    "collapsed": false
   },
   "outputs": [
    {
     "name": "stdout",
     "output_type": "stream",
     "text": [
      "61.919505% of passenger in 1st class survived\n",
      "42.960289% of passenger in 2nd class survived\n",
      "25.528914% of passenger in 3rd class survived\n"
     ]
    },
    {
     "data": {
      "image/png": "[encoded data removed]",
      "text/plain": [
       "<matplotlib.figure.Figure at 0x7f0fb19544a8>"
      ]
     },
     "metadata": {},
     "output_type": "display_data"
    }
   ],
   "source": [
    "survivors_class = titanic.groupby([\"pclass\", \"survived\"]).size()\n",
    "#print(survivors_class)\n",
    "\n",
    "# Print the different info\n",
    "print(\"%f%% of passenger in 1st class survived\"%(100*survivors_class.loc[1, \"survivor\"]/\n",
    "                                                 survivors_class.loc[1].sum()))\n",
    "print(\"%f%% of passenger in 2nd class survived\"%(100*survivors_class.loc[2, \"survivor\"]/\n",
    "                                                 survivors_class.loc[2].sum()))\n",
    "print(\"%f%% of passenger in 3rd class survived\"%(100*survivors_class.loc[3, \"survivor\"]/\n",
    "                                                 survivors_class.loc[3].sum()))\n",
    "\n",
    "# Create the graph\n",
    "graph = pie(survivors_class, title = \"Survivor combined with the class.\")"
   ]
  },
  {
   "cell_type": "markdown",
   "metadata": {},
   "source": [
    "As we can see in the printed values and in the charts, the people from a better class always had a higher survival rate. This is quite logical since the people of the 3rd class (for example) had their room at the bottom of the ship."
   ]
  },
  {
   "cell_type": "markdown",
   "metadata": {},
   "source": [
    "## Survival, class and sex\n",
    "\n",
    "Now, we combine the survival, the class and the sex. Let's see what happens"
   ]
  },
  {
   "cell_type": "code",
   "execution_count": 19,
   "metadata": {
    "collapsed": false
   },
   "outputs": [
    {
     "name": "stdout",
     "output_type": "stream",
     "text": [
      "96.527778% female from class 1 survived\n",
      "88.679245% female from class 2 survived\n",
      "49.074074% female from class 3 survived\n",
      "\n",
      "34.078212% male from class 1 survived\n",
      "14.619883% male from class 2 survived\n",
      "15.212982% male from class 3 survived\n"
     ]
    },
    {
     "data": {
      "text/plain": [
       "array([<matplotlib.axes._subplots.AxesSubplot object at 0x7f0fb19a07f0>], dtype=object)"
      ]
     },
     "execution_count": 19,
     "metadata": {},
     "output_type": "execute_result"
    },
    {
     "data": {
      "image/png": "[encoded data removed]",
      "text/plain": [
       "<matplotlib.figure.Figure at 0x7f0fb19b3cf8>"
      ]
     },
     "metadata": {},
     "output_type": "display_data"
    }
   ],
   "source": [
    "survivors_sex_class = titanic.groupby([\"sex\", \"pclass\", \"survived\"]).size()\n",
    "#print(survivors_sex_class)\n",
    "\n",
    "print(\"%f%% female from class 1 survived\"%(100*survivors_sex_class.loc[\"female\", 1, \"survivor\"]/\n",
    "                                           survivors_sex_class.loc[\"female\", 1].sum()))\n",
    "print(\"%f%% female from class 2 survived\"%(100*survivors_sex_class.loc[\"female\", 2, \"survivor\"]/\n",
    "                                           survivors_sex_class.loc[\"female\", 2].sum()))\n",
    "print(\"%f%% female from class 3 survived\"%(100*survivors_sex_class.loc[\"female\", 3, \"survivor\"]/\n",
    "                                           survivors_sex_class.loc[\"female\", 3].sum()))\n",
    "print()\n",
    "print(\"%f%% male from class 1 survived\"%(100*survivors_sex_class.loc[\"male\", 1, \"survivor\"]/\n",
    "                                           survivors_sex_class.loc[\"male\", 1].sum()))\n",
    "print(\"%f%% male from class 2 survived\"%(100*survivors_sex_class.loc[\"male\", 2, \"survivor\"]/\n",
    "                                           survivors_sex_class.loc[\"male\", 2].sum()))\n",
    "print(\"%f%% male from class 3 survived\"%(100*survivors_sex_class.loc[\"male\", 3, \"survivor\"]/\n",
    "                                           survivors_sex_class.loc[\"male\", 3].sum()))\n",
    "\n",
    "# Graph\n",
    "survivors_sex_class.plot(kind='bar', subplots=True)\n",
    "\n"
   ]
  },
  {
   "cell_type": "markdown",
   "metadata": {},
   "source": [
    "Dealing with 3 different attributes is a bit difficult to read. But we can already see that the female from class 1 and 2 had a really high survival rate. The male from all the classes had a lower survival rate. So, we can already say that the women from class 1 and 2 are first, then the women from class 3 can be savec, and finally, the men if there are some places left."
   ]
  },
  {
   "cell_type": "markdown",
   "metadata": {},
   "source": [
    "## Survival and age\n",
    "Now, we check the survival rate combined with the age categories\n"
   ]
  },
  {
   "cell_type": "code",
   "execution_count": 20,
   "metadata": {
    "collapsed": false
   },
   "outputs": [
    {
     "name": "stdout",
     "output_type": "stream",
     "text": [
      "57.009346% children survived\n",
      "37.588652% adolescents survived\n",
      "39.617834% adults survived\n",
      "15.384615% seniors survived\n"
     ]
    },
    {
     "data": {
      "image/png": "[encoded data removed]",
      "text/plain": [
       "<matplotlib.figure.Figure at 0x7f0fb196a4a8>"
      ]
     },
     "metadata": {},
     "output_type": "display_data"
    }
   ],
   "source": [
    "survivors_age = titanic.groupby([\"age_cat\", \"survived\"]).size()\n",
    "#print(survivors_age)\n",
    "\n",
    "print(\"%f%% children survived\"%(100*survivors_age.loc[\"children\", \"survivor\"]/\n",
    "                                survivors_age.loc[\"children\"].sum()))\n",
    "print(\"%f%% adolescents survived\"%(100*survivors_age.loc[\"adolescents\", \"survivor\"]/\n",
    "                                survivors_age.loc[\"adolescents\"].sum()))\n",
    "print(\"%f%% adults survived\"%(100*survivors_age.loc[\"adults\", \"survivor\"]/\n",
    "                                survivors_age.loc[\"adults\"].sum()))\n",
    "print(\"%f%% seniors survived\"%(100*survivors_age.loc[\"seniors\", \"survivor\"]/\n",
    "                                survivors_age.loc[\"seniors\"].sum()))\n",
    "\n",
    "# Graph\n",
    "graph = pie(survivors_age, title = \"Survivor combined with the age class.\")\n"
   ]
  },
  {
   "cell_type": "markdown",
   "metadata": {},
   "source": [
    "With these information, we can see that the children had the highest survival rate. The senior had the lowest. It would be interesting to have a look at the distribution of children in the class"
   ]
  },
  {
   "cell_type": "markdown",
   "metadata": {},
   "source": [
    "## Children and class\n",
    "We just check if the children were mostly in the 1st class or not.\n"
   ]
  },
  {
   "cell_type": "code",
   "execution_count": 21,
   "metadata": {
    "collapsed": false
   },
   "outputs": [
    {
     "name": "stdout",
     "output_type": "stream",
     "text": [
      "6.542056% children were in 1st class\n",
      "25.233645% children were in 2nd class\n",
      "68.224299% children were in 3rd class\n"
     ]
    },
    {
     "data": {
      "image/png": "[encoded data removed]",
      "text/plain": [
       "<matplotlib.figure.Figure at 0x7f0fb72e3d68>"
      ]
     },
     "metadata": {},
     "output_type": "display_data"
    }
   ],
   "source": [
    "age_class = titanic.groupby([\"age_cat\", \"pclass\"]).size()\n",
    "#print(survivors_age)\n",
    "\n",
    "print(\"%f%% children were in 1st class\"%(100*age_class.loc[\"children\", 1]/\n",
    "                                age_class.loc[\"children\"].sum()))\n",
    "print(\"%f%% children were in 2nd class\"%(100*age_class.loc[\"children\", 2]/\n",
    "                                age_class.loc[\"children\"].sum()))\n",
    "print(\"%f%% children were in 3rd class\"%(100*age_class.loc[\"children\", 3]/\n",
    "                                age_class.loc[\"children\"].sum()))\n",
    "\n",
    "# Graph\n",
    "graph = pie(age_class.loc[\"children\"], title = \"Class distribution for the children\")\n"
   ]
  },
  {
   "cell_type": "markdown",
   "metadata": {},
   "source": [
    "Here, we can see an interesting result. Most of the children were in class 3. Let's see the survival rate of the children in function of the class"
   ]
  },
  {
   "cell_type": "markdown",
   "metadata": {},
   "source": [
    "## Survival, children and class"
   ]
  },
  {
   "cell_type": "code",
   "execution_count": 22,
   "metadata": {
    "collapsed": false
   },
   "outputs": [
    {
     "name": "stdout",
     "output_type": "stream",
     "text": [
      "85.714286% children from class 1 survived\n",
      "96.296296% children from class 2 survived\n",
      "39.726027% children from class 3 survived\n"
     ]
    }
   ],
   "source": [
    "survivors_class = titanic.groupby([\"age_cat\", \"pclass\", \"survived\"]).size()\n",
    "#print(survivors_class)\n",
    "children = survivors_class.loc[\"children\"]\n",
    "\n",
    "print(\"%f%% children from class 1 survived\"%(100*children.loc[1, \"survivor\"]/\n",
    "                                             children.loc[1].sum()))\n",
    "print(\"%f%% children from class 2 survived\"%(100*children.loc[2, \"survivor\"]/\n",
    "                                             children.loc[2].sum()))\n",
    "print(\"%f%% children from class 3 survived\"%(100*children.loc[3, \"survivor\"]/\n",
    "                                             children.loc[3].sum()))"
   ]
  },
  {
   "cell_type": "markdown",
   "metadata": {},
   "source": [
    "Even if most of the children were in 3rd class, they had the lowest survival rate compared to the children in the higher class. "
   ]
  },
  {
   "cell_type": "markdown",
   "metadata": {},
   "source": [
    "## Conclusion"
   ]
  },
  {
   "cell_type": "markdown",
   "metadata": {},
   "source": [
    "The sentence *Women and children first* is not that correct at the end. Of course, women and children had a higher survival rate compared to men. But at the end, **the class in which the people were was more important**. It's pretty logical since people from the 3rd class were mostly living at the bottom of the ship. Therefore, they would already die while being inside the boat and unable to join the other persons on the deck. \n",
    "\n",
    "But at the end, the sentence *Women and children first* is pretty accurate for the people who were able to join the deck. "
   ]
  }
 ],
 "metadata": {
  "anaconda-cloud": {},
  "kernelspec": {
   "display_name": "Python [Root]",
   "language": "python",
   "name": "Python [Root]"
  },
  "language_info": {
   "codemirror_mode": {
    "name": "ipython",
    "version": 3
   },
   "file_extension": ".py",
   "mimetype": "text/x-python",
   "name": "python",
   "nbconvert_exporter": "python",
   "pygments_lexer": "ipython3",
   "version": "3.5.2"
  }
 },
 "nbformat": 4,
 "nbformat_minor": 0
}
