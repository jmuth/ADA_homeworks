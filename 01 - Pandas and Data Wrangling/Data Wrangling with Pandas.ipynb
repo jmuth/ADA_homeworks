{
 "cells": [
  {
   "cell_type": "markdown",
   "metadata": {
    "collapsed": true
   },
   "source": [
    "# Exercise 1\n",
    "\n",
    "In the *data/microbiome* subdirectory, there are 9 spreadsheets of microbiome data that was acquired from high-throughput RNA sequencing procedures, along with a 10th file that describes the content of each. Write code that imports each of the data spreadsheets and combines them into a single `DataFrame`, adding the identifying information from the metadata spreadsheet as columns in the combined `DataFrame`.\n"
   ]
  },
  {
   "cell_type": "code",
   "execution_count": null,
   "metadata": {
    "collapsed": true
   },
   "outputs": [],
   "source": [
    "%matplotlib inline\n",
    "import pandas as pd\n",
    "import numpy as np\n",
    "import matplotlib.pyplot as plt\n",
    "import seaborn as sns #if seaborn is not installed --> \"pip install seaborn\"\n",
    "sns.set_context('notebook')\n",
    "import os"
   ]
  },
  {
   "cell_type": "code",
   "execution_count": null,
   "metadata": {
    "collapsed": false,
    "scrolled": true
   },
   "outputs": [],
   "source": [
    "# the idea is to loop through the files and concatenate them into a DataFrame\n",
    "# we list the files we are going to handle so we can loop through them to build our DataFrame\n",
    "import os\n",
    "direc = 'Data/microbiome/'\n",
    "files = os.listdir('Data/microbiome')\n",
    "# Remove the two files we will import by hand\n",
    "files.remove('MID1.xls')\n",
    "files.remove('metadata.xls')\n",
    "\n",
    "# we import the metadata separately\n",
    "metadata = pd.read_excel(direc+'metadata.xls', sheetname='Sheet1')\n",
    "\n",
    "# imports a file and formats it for concatenation, note the added BARCODE column for merging\n",
    "def importMid(s):\n",
    "    thisMid = pd.read_excel(direc+s, header=None)\n",
    "    thisMid.columns = ['TAXON', 'COUNT']\n",
    "    # include the barcode info (name of the file) to prepare the table to merge with metadata\n",
    "    thisMid['BARCODE'] = s[:4]\n",
    "    \n",
    "    return thisMid\n",
    "\n",
    "# we initiate a DataFrame with the first file\n",
    "midAll = importMid('MID1.xls')\n",
    "\n",
    "# we loop through the remaining files to concatenate them to our initial\n",
    "for file in files[2:]:\n",
    "    mid = importMid(file)\n",
    "    midAll = pd.concat([midAll, mid], axis=0)\n",
    "\n",
    "# we merge the microbiome data with the metadata, pandas automatically uses BARCODE as a key\n",
    "final = pd.merge(midAll, metadata)\n",
    "\n",
    "# proposal: index the table by barcode - taxon\n",
    "final.set_index(['BARCODE', 'TAXON'])\n",
    "\n"
   ]
  },
  {
   "cell_type": "markdown",
   "metadata": {},
   "source": [
    "# Exercise 2\n",
    "\n",
    "Load the dataset in `titanic.xls`. It contains data on all the passengers that travelled on the Titanic."
   ]
  },
  {
   "cell_type": "code",
   "execution_count": null,
   "metadata": {
    "collapsed": false
   },
   "outputs": [],
   "source": [
    "from IPython.core.display import HTML\n",
    "HTML(filename='Data/titanic.html')"
   ]
  },
  {
   "cell_type": "markdown",
   "metadata": {
    "collapsed": true
   },
   "source": [
    "Women and children first?\n",
    "\n",
    "1. Describe each attribute, both with basic statistics and plots. State clearly your assumptions and discuss your findings.\n",
    "2. Use the `groupby` method to calculate the proportion of passengers that survived by sex.\n",
    "3. Calculate the same proportion, but by class and sex.\n",
    "4. Create age categories: children (under 14 years), adolescents (14-20), adult (21-64), and senior(65+), and calculate survival proportions by age category, class and sex."
   ]
  },
  {
   "cell_type": "markdown",
   "metadata": {},
   "source": [
    "## Importing the file"
   ]
  },
  {
   "cell_type": "code",
   "execution_count": null,
   "metadata": {
    "collapsed": false
   },
   "outputs": [],
   "source": [
    "# we load the titanic file\n",
    "titanic = pd.read_excel('Data/titanic.xls')\n",
    "titanic.head(5)"
   ]
  },
  {
   "cell_type": "code",
   "execution_count": null,
   "metadata": {
    "collapsed": false
   },
   "outputs": [],
   "source": [
    "# We change the value 0 and 1 of survived by survivor, dead\n",
    "mapping = {0: 'dead', 1: 'survivor'}\n",
    "titanic.replace({'survived': mapping}, inplace=True)\n",
    "titanic.head()"
   ]
  },
  {
   "cell_type": "markdown",
   "metadata": {},
   "source": [
    "## Describing and plotting"
   ]
  },
  {
   "cell_type": "code",
   "execution_count": null,
   "metadata": {
    "collapsed": true
   },
   "outputs": [],
   "source": [
    "# we define a plotting function for convenience\n",
    "def pie(df, **kwargs):\n",
    "    graph = df.plot.pie(subplots=True, figsize=(5,5), **kwargs)\n",
    "    return graph\n",
    "    "
   ]
  },
  {
   "cell_type": "markdown",
   "metadata": {},
   "source": [
    "### Passenger class"
   ]
  },
  {
   "cell_type": "code",
   "execution_count": null,
   "metadata": {
    "collapsed": false
   },
   "outputs": [],
   "source": [
    "# we check that there are no null values in the pclass column\n",
    "pClass = titanic.pclass.isnull()\n",
    "np.sum(pClass)"
   ]
  },
  {
   "cell_type": "code",
   "execution_count": null,
   "metadata": {
    "collapsed": false
   },
   "outputs": [],
   "source": [
    "# We have no null values, so we can already process the data\n",
    "\n",
    "# we plot the distribution on passengers in classes as a pie chart\n",
    "pie(pd.DataFrame(titanic.pclass.value_counts()), title=\"Class of passengers\")\n",
    "\n",
    "# We also print the percentage of people in each of the class\n",
    "pclass = titanic.groupby([\"pclass\"]).size()\n",
    "#print(pclass)\n",
    "\n",
    "print(\"%f%% of passengers are in 1st class\"%(100*pclass[1]/pclass.sum()))\n",
    "print(\"%f%% of passengers are in 2nd class\"%(100*pclass[2]/pclass.sum()))\n",
    "print(\"%f%% of passengers are in 3rd class\"%(100*pclass[3]/pclass.sum()))"
   ]
  },
  {
   "cell_type": "markdown",
   "metadata": {},
   "source": [
    "We can see here that most of the passengers were in third class. We can except that most of the people from the third class will die. (They were at the bottom of the boat)"
   ]
  },
  {
   "cell_type": "markdown",
   "metadata": {},
   "source": [
    "### Sex"
   ]
  },
  {
   "cell_type": "code",
   "execution_count": null,
   "metadata": {
    "collapsed": false
   },
   "outputs": [],
   "source": [
    "# we check that there are no null values in the sex column\n",
    "np.sum(titanic.sex.isnull())"
   ]
  },
  {
   "cell_type": "code",
   "execution_count": null,
   "metadata": {
    "collapsed": false
   },
   "outputs": [],
   "source": [
    "# We have no null values, so we can already process the data.\n",
    "\n",
    "# plot\n",
    "pie(pd.DataFrame(titanic.sex.value_counts()), title=\"Sex of passengers\")\n",
    "\n",
    "# We also print the percentage\n",
    "sex = titanic.groupby([\"sex\"]).size()\n",
    "#print(sex)\n",
    "\n",
    "print(\"%f%% of passengers are male\"%(100*sex[\"male\"]/sex.sum()))\n",
    "print(\"%f%% of passengers are female\"%(100*sex[\"female\"]/sex.sum()))"
   ]
  },
  {
   "cell_type": "markdown",
   "metadata": {},
   "source": [
    "There was mostly men on the Titanic. We'll see if they had a higher survival rate than the women or not."
   ]
  },
  {
   "cell_type": "markdown",
   "metadata": {},
   "source": [
    "### Age"
   ]
  },
  {
   "cell_type": "code",
   "execution_count": null,
   "metadata": {
    "collapsed": false
   },
   "outputs": [],
   "source": [
    "# we extract an age series with no null values and we describe it and plot a histogram of it\n",
    "# we assume float values mean these are babies < 1 y.o. and leave it as it\n",
    "# doesn't cause any problem\n",
    "ages = titanic.loc[titanic.age.notnull()].age\n",
    "ages.describe()"
   ]
  },
  {
   "cell_type": "code",
   "execution_count": null,
   "metadata": {
    "collapsed": false
   },
   "outputs": [],
   "source": [
    "ages.hist()\n",
    "plt.title(\"Age of the passengers\")\n",
    "plt.xlabel(\"Age\")\n",
    "plt.ylabel(\"Count\")\n",
    "\n",
    "print(\"For the age, we have %i non null entries. The total number of entries is %i.\"%(ages.count(), sex.sum()))"
   ]
  },
  {
   "cell_type": "markdown",
   "metadata": {},
   "source": [
    "The age distribution is pretty good. We can see that there's a few children, a lot of adults, and some seniors. We will have a look at their survival rate. The next histogram shows the 4 categories: children, adolescentrs, adult and senior."
   ]
  },
  {
   "cell_type": "markdown",
   "metadata": {},
   "source": [
    "Now, we will create a new column with the categories of age. Then we check that the null values for the age remains null for the age categories."
   ]
  },
  {
   "cell_type": "code",
   "execution_count": null,
   "metadata": {
    "collapsed": false
   },
   "outputs": [],
   "source": [
    "# Create a new column for the age categories\n",
    "age_cat = pd.cut(titanic.age, [0, 14, 20, 64, 200], labels=['children','adolescents','adults','seniors'])\n",
    "\n",
    "titanic.loc[:, \"age_cat\"] = age_cat\n",
    "titanic[14:17] # Have a look at line 15. It works."
   ]
  },
  {
   "cell_type": "code",
   "execution_count": null,
   "metadata": {
    "collapsed": false
   },
   "outputs": [],
   "source": [
    "# Now, we can group the age categories and \n",
    "ages_cat = titanic.groupby([\"age_cat\"]).size()\n",
    "ages_cat\n",
    "\n",
    "ages_cat.plot(kind='bar', subplots=True)\n",
    "plt.title(\"Categories of age\")\n",
    "plt.xlabel(\"Categories\")\n",
    "plt.ylabel(\"Count\")\n",
    "\n",
    "print(\"For the age, we were careful about removing the null values. \\nWe found %i entries.\"%(ages.count()))\n",
    "print(\"If pandas is clever, when we use the groupby for the age category and \\nwe ask it to sum, we should find the same value as above.\")\n",
    "print(\"ages_cat.sum() = %i\"%(ages_cat.sum()))\n",
    "print()\n",
    "if(ages_cat.sum() == ages.count()):\n",
    "    print(\"Pandas is clever!\")\n",
    "else:\n",
    "    print(\"Pandas is not clever! (We are)\")\n",
    "\n"
   ]
  },
  {
   "cell_type": "markdown",
   "metadata": {},
   "source": [
    "*Normally, the groupby function using should not take into account the null values. We also know that there are missing values only for the age. And since we checked that for the age it works fine, we can \"trust\" pandas for the rest of the tests.*"
   ]
  },
  {
   "cell_type": "markdown",
   "metadata": {},
   "source": [
    "### Survival"
   ]
  },
  {
   "cell_type": "code",
   "execution_count": null,
   "metadata": {
    "collapsed": false
   },
   "outputs": [],
   "source": [
    "# we check that there are no null values in the survive column\n",
    "survived = titanic.survived.isnull()\n",
    "np.sum(survived)"
   ]
  },
  {
   "cell_type": "code",
   "execution_count": null,
   "metadata": {
    "collapsed": false
   },
   "outputs": [],
   "source": [
    "# Plot the proportion of survivors\n",
    "pie(pd.DataFrame(titanic.survived.value_counts()), title=\"Survivor and dead\")\n",
    "\n",
    "survived = titanic.groupby([\"survived\"]).size()\n",
    "#print(sex)\n",
    "\n",
    "print(\"%f%% of passengers died\"%(100*survived.loc[\"dead\"]/survived.sum()))\n",
    "print(\"%f%% of passengers survived\"%(100*survived.loc[\"survivor\"]/survived.sum()))"
   ]
  },
  {
   "cell_type": "markdown",
   "metadata": {},
   "source": [
    "## Survival in function of the different attributes\n",
    "\n",
    "Now, that we checked the proportion of male/female, the passenger class, the age, and the survival rate we can try to group these different information.\n"
   ]
  },
  {
   "cell_type": "markdown",
   "metadata": {},
   "source": [
    "## Survival and sex"
   ]
  },
  {
   "cell_type": "code",
   "execution_count": null,
   "metadata": {
    "collapsed": false
   },
   "outputs": [],
   "source": [
    "survivors_sex = titanic.groupby([\"survived\", \"sex\"]).size()\n",
    "#print(survivors_sex)\n",
    "\n",
    "# Print the different info\n",
    "print(\"%i female survived\"%survivors_sex.loc[\"survivor\", \"female\"])\n",
    "print(\"%i male survived\"%survivors_sex.loc[\"survivor\", \"male\"])\n",
    "print(\"%i female died\"%survivors_sex.loc[\"dead\", \"female\"])\n",
    "print(\"%i male died\"%survivors_sex.loc[\"dead\", \"male\"])\n",
    "print()\n",
    "print(\"%f%% female survived\"%(100*survivors_sex.loc[\"survivor\", \"female\"]\n",
    "                                         /(survivors_sex.loc[\"survivor\", \"female\"] + \n",
    "                                           survivors_sex.loc[\"dead\", \"female\"])))\n",
    "print(\"%f%% male survived\"%(100*survivors_sex.loc[\"survivor\", \"male\"]\n",
    "                                       /(survivors_sex.loc[\"dead\", \"male\"] + \n",
    "                                         survivors_sex.loc[\"survivor\", \"male\"])))\n",
    "\n",
    "# Create the graph\n",
    "graph = pie(survivors_sex, title = \"Survivor combined with the sex.\")"
   ]
  },
  {
   "cell_type": "markdown",
   "metadata": {},
   "source": [
    "We can already take two \"conclusions\" here: \n",
    "- The majority of male are dead\n",
    "- The majority of female are alive\n",
    "\n",
    "But we need to dig deeper in the data to take other conclusions "
   ]
  },
  {
   "cell_type": "markdown",
   "metadata": {},
   "source": [
    "## Survival and class\n",
    "\n",
    "Before looking at the survival in function of the sex and class, we can already have a look at the survival rate in function of the sex"
   ]
  },
  {
   "cell_type": "code",
   "execution_count": null,
   "metadata": {
    "collapsed": false
   },
   "outputs": [],
   "source": [
    "survivors_class = titanic.groupby([\"pclass\", \"survived\"]).size()\n",
    "#print(survivors_class)\n",
    "\n",
    "# Print the different info\n",
    "print(\"%f%% of passenger in 1st class survived\"%(100*survivors_class.loc[1, \"survivor\"]/\n",
    "                                                 survivors_class.loc[1].sum()))\n",
    "print(\"%f%% of passenger in 2nd class survived\"%(100*survivors_class.loc[2, \"survivor\"]/\n",
    "                                                 survivors_class.loc[2].sum()))\n",
    "print(\"%f%% of passenger in 3rd class survived\"%(100*survivors_class.loc[3, \"survivor\"]/\n",
    "                                                 survivors_class.loc[3].sum()))\n",
    "\n",
    "# Create the graph\n",
    "graph = pie(survivors_class, title = \"Survivor combined with the class.\")"
   ]
  },
  {
   "cell_type": "markdown",
   "metadata": {},
   "source": [
    "As we can see in the printed values and in the charts, the people from a better class always had a higher survival rate. This is quite logical since the people of the 3rd class (for example) had their room at the bottom of the ship."
   ]
  },
  {
   "cell_type": "markdown",
   "metadata": {},
   "source": [
    "## Survival, class and sex\n",
    "\n",
    "Now, we combine the survival, the class and the sex. Let's see what happens"
   ]
  },
  {
   "cell_type": "code",
   "execution_count": null,
   "metadata": {
    "collapsed": false
   },
   "outputs": [],
   "source": [
    "survivors_sex_class = titanic.groupby([\"sex\", \"pclass\", \"survived\"]).size()\n",
    "#print(survivors_sex_class)\n",
    "\n",
    "print(\"%f%% female from class 1 survived\"%(100*survivors_sex_class.loc[\"female\", 1, \"survivor\"]/\n",
    "                                           survivors_sex_class.loc[\"female\", 1].sum()))\n",
    "print(\"%f%% female from class 2 survived\"%(100*survivors_sex_class.loc[\"female\", 2, \"survivor\"]/\n",
    "                                           survivors_sex_class.loc[\"female\", 2].sum()))\n",
    "print(\"%f%% female from class 3 survived\"%(100*survivors_sex_class.loc[\"female\", 3, \"survivor\"]/\n",
    "                                           survivors_sex_class.loc[\"female\", 3].sum()))\n",
    "print()\n",
    "print(\"%f%% male from class 1 survived\"%(100*survivors_sex_class.loc[\"male\", 1, \"survivor\"]/\n",
    "                                           survivors_sex_class.loc[\"male\", 1].sum()))\n",
    "print(\"%f%% male from class 2 survived\"%(100*survivors_sex_class.loc[\"male\", 2, \"survivor\"]/\n",
    "                                           survivors_sex_class.loc[\"male\", 2].sum()))\n",
    "print(\"%f%% male from class 3 survived\"%(100*survivors_sex_class.loc[\"male\", 3, \"survivor\"]/\n",
    "                                           survivors_sex_class.loc[\"male\", 3].sum()))\n",
    "\n",
    "# Graph\n",
    "survivors_sex_class.plot(kind='bar', subplots=True)\n",
    "\n"
   ]
  },
  {
   "cell_type": "markdown",
   "metadata": {},
   "source": [
    "Dealing with 3 different attributes is a bit difficult to read. But we can already see that the female from class 1 and 2 had a really high survival rate. The male from all the classes had a lower survival rate. So, we can already say that the women from class 1 and 2 are first, then the women from class 3 can be savec, and finally, the men if there are some places left."
   ]
  },
  {
   "cell_type": "markdown",
   "metadata": {},
   "source": [
    "## Survival and age\n",
    "Now, we check the survival rate combined with the age categories\n"
   ]
  },
  {
   "cell_type": "code",
   "execution_count": null,
   "metadata": {
    "collapsed": false
   },
   "outputs": [],
   "source": [
    "survivors_age = titanic.groupby([\"age_cat\", \"survived\"]).size()\n",
    "#print(survivors_age)\n",
    "\n",
    "print(\"%f%% children survived\"%(100*survivors_age.loc[\"children\", \"survivor\"]/\n",
    "                                survivors_age.loc[\"children\"].sum()))\n",
    "print(\"%f%% adolescents survived\"%(100*survivors_age.loc[\"adolescents\", \"survivor\"]/\n",
    "                                survivors_age.loc[\"adolescents\"].sum()))\n",
    "print(\"%f%% adults survived\"%(100*survivors_age.loc[\"adults\", \"survivor\"]/\n",
    "                                survivors_age.loc[\"adults\"].sum()))\n",
    "print(\"%f%% seniors survived\"%(100*survivors_age.loc[\"seniors\", \"survivor\"]/\n",
    "                                survivors_age.loc[\"seniors\"].sum()))\n",
    "\n",
    "# Graph\n",
    "graph = pie(survivors_age, title = \"Survivor combined with the age class.\")\n"
   ]
  },
  {
   "cell_type": "markdown",
   "metadata": {},
   "source": [
    "With these information, we can see that the children had the highest survival rate. The senior had the lowest. It would be interesting to have a look at the distribution of children in the class"
   ]
  },
  {
   "cell_type": "markdown",
   "metadata": {},
   "source": [
    "## Children and class\n",
    "We just check if the children were mostly in the 1st class or not.\n"
   ]
  },
  {
   "cell_type": "code",
   "execution_count": null,
   "metadata": {
    "collapsed": false
   },
   "outputs": [],
   "source": [
    "age_class = titanic.groupby([\"age_cat\", \"pclass\"]).size()\n",
    "#print(survivors_age)\n",
    "\n",
    "print(\"%f%% children were in 1st class\"%(100*age_class.loc[\"children\", 1]/\n",
    "                                age_class.loc[\"children\"].sum()))\n",
    "print(\"%f%% children were in 2nd class\"%(100*age_class.loc[\"children\", 2]/\n",
    "                                age_class.loc[\"children\"].sum()))\n",
    "print(\"%f%% children were in 3rd class\"%(100*age_class.loc[\"children\", 3]/\n",
    "                                age_class.loc[\"children\"].sum()))\n",
    "\n",
    "# Graph\n",
    "graph = pie(age_class.loc[\"children\"], title = \"Class distribution for the children\")\n"
   ]
  },
  {
   "cell_type": "markdown",
   "metadata": {},
   "source": [
    "Here, we can see an interesting result. Most of the children were in class 3. Let's see the survival rate of the children in function of the class"
   ]
  },
  {
   "cell_type": "markdown",
   "metadata": {},
   "source": [
    "## Survival, children and class"
   ]
  },
  {
   "cell_type": "code",
   "execution_count": null,
   "metadata": {
    "collapsed": false
   },
   "outputs": [],
   "source": [
    "survivors_class = titanic.groupby([\"age_cat\", \"pclass\", \"survived\"]).size()\n",
    "#print(survivors_class)\n",
    "children = survivors_class.loc[\"children\"]\n",
    "\n",
    "print(\"%f%% children from class 1 survived\"%(100*children.loc[1, \"survivor\"]/\n",
    "                                             children.loc[1].sum()))\n",
    "print(\"%f%% children from class 2 survived\"%(100*children.loc[2, \"survivor\"]/\n",
    "                                             children.loc[2].sum()))\n",
    "print(\"%f%% children from class 3 survived\"%(100*children.loc[3, \"survivor\"]/\n",
    "                                             children.loc[3].sum()))"
   ]
  },
  {
   "cell_type": "markdown",
   "metadata": {},
   "source": [
    "Even if most of the children were in 3rd class, they had the lowest survival rate compared to the children in the higher class. "
   ]
  },
  {
   "cell_type": "markdown",
   "metadata": {},
   "source": [
    "## Conclusion"
   ]
  },
  {
   "cell_type": "markdown",
   "metadata": {},
   "source": [
    "The sentence *Women and children first* is not that correct at the end. Of course, women and children had a higher survival rate compared to men. But at the end, **the class in which the people were was more important**. It's pretty logical since people from the 3rd class were mostly living at the bottom of the ship. Therefore, they would already die while being inside the boat and unable to join the other persons on the deck. \n",
    "\n",
    "But at the end, the sentence *Women and children first* is pretty accurate for the people who were able to join the deck. "
   ]
  }
 ],
 "metadata": {
  "anaconda-cloud": {},
  "kernelspec": {
   "display_name": "Python [Root]",
   "language": "python",
   "name": "Python [Root]"
  },
  "language_info": {
   "codemirror_mode": {
    "name": "ipython",
    "version": 3
   },
   "file_extension": ".py",
   "mimetype": "text/x-python",
   "name": "python",
   "nbconvert_exporter": "python",
   "pygments_lexer": "ipython3",
   "version": "3.5.2"
  }
 },
 "nbformat": 4,
 "nbformat_minor": 0
}
