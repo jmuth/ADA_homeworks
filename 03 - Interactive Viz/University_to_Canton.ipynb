{
 "cells": [
  {
   "cell_type": "code",
   "execution_count": 11,
   "metadata": {
    "collapsed": false
   },
   "outputs": [],
   "source": [
    "import pandas as pd\n",
    "import matplotlib.pyplot as plt\n",
    "import numpy as np\n",
    "import unimap as um"
   ]
  },
  {
   "cell_type": "markdown",
   "metadata": {},
   "source": [
    "# Assigning Universities/Institutions to Cantons "
   ]
  },
  {
   "cell_type": "markdown",
   "metadata": {},
   "source": [
    "In this notebook we provide a way to map the universities and institutions mentioned in the SNF P3 data to their canton of origin.\n",
    "\n",
    "To do so we use the Places and Geocoding APIs from Google Maps, as well as Yandex's translate API:\n",
    "\n",
    "Yandex: https://tech.yandex.com/translate/\n",
    "\n",
    "Google Maps: https://github.com/googlemaps/google-maps-services-python.\n",
    "\n",
    "The code used to get a canton name from a university name is contained in the **unimap.py** file. Below is a description of the whole process. The end-product will be a json object of the form \n",
    "```\n",
    "{\n",
    "  'canton': [\n",
    "    'uni1', \n",
    "    'uni2',\n",
    "    ...\n",
    "  ], \n",
    "  'canton': [\n",
    "    ...\n",
    "  ], \n",
    "  ...\n",
    "}\n",
    "```"
   ]
  },
  {
   "cell_type": "markdown",
   "metadata": {},
   "source": [
    "First, we start by declaring our API keys, which have been removed for security reasons."
   ]
  },
  {
   "cell_type": "code",
   "execution_count": 10,
   "metadata": {
    "collapsed": true
   },
   "outputs": [],
   "source": [
    "maps = 'GMAPS_KEY_HERE'\n",
    "yandex = 'YANDEX_KEY_HERE'"
   ]
  },
  {
   "cell_type": "markdown",
   "metadata": {},
   "source": [
    "## Preparing the data"
   ]
  },
  {
   "cell_type": "markdown",
   "metadata": {},
   "source": [
    "We put the source CSV file in a pandas DataFrame and decide to replace its NA values with '' for easier string processing."
   ]
  },
  {
   "cell_type": "code",
   "execution_count": 3,
   "metadata": {
    "collapsed": false,
    "scrolled": true
   },
   "outputs": [
    {
     "data": {
      "text/html": [
       "<div>\n",
       "<table border=\"1\" class=\"dataframe\">\n",
       "  <thead>\n",
       "    <tr style=\"text-align: right;\">\n",
       "      <th></th>\n",
       "      <th>﻿\"Project Number\"</th>\n",
       "      <th>Project Title</th>\n",
       "      <th>Project Title English</th>\n",
       "      <th>Responsible Applicant</th>\n",
       "      <th>Funding Instrument</th>\n",
       "      <th>Funding Instrument Hierarchy</th>\n",
       "      <th>Institution</th>\n",
       "      <th>University</th>\n",
       "      <th>Discipline Number</th>\n",
       "      <th>Discipline Name</th>\n",
       "      <th>Discipline Name Hierarchy</th>\n",
       "      <th>Start Date</th>\n",
       "      <th>End Date</th>\n",
       "      <th>Approved Amount</th>\n",
       "      <th>Keywords</th>\n",
       "    </tr>\n",
       "  </thead>\n",
       "  <tbody>\n",
       "    <tr>\n",
       "      <th>0</th>\n",
       "      <td>1</td>\n",
       "      <td>Schlussband (Bd. VI) der Jacob Burckhardt-Biog...</td>\n",
       "      <td></td>\n",
       "      <td>Kaegi Werner</td>\n",
       "      <td>Project funding (Div. I-III)</td>\n",
       "      <td>Project funding</td>\n",
       "      <td></td>\n",
       "      <td>Nicht zuteilbar - NA</td>\n",
       "      <td>10302</td>\n",
       "      <td>Swiss history</td>\n",
       "      <td>Human and Social Sciences;Theology &amp; religious...</td>\n",
       "      <td>01.10.1975</td>\n",
       "      <td>30.09.1976</td>\n",
       "      <td>11619.00</td>\n",
       "      <td></td>\n",
       "    </tr>\n",
       "    <tr>\n",
       "      <th>1</th>\n",
       "      <td>4</td>\n",
       "      <td>Batterie de tests à l'usage des enseignants po...</td>\n",
       "      <td></td>\n",
       "      <td>Massarenti Léonard</td>\n",
       "      <td>Project funding (Div. I-III)</td>\n",
       "      <td>Project funding</td>\n",
       "      <td>Faculté de Psychologie et des Sciences de l'Ed...</td>\n",
       "      <td>Université de Genève - GE</td>\n",
       "      <td>10104</td>\n",
       "      <td>Educational science and Pedagogy</td>\n",
       "      <td>Human and Social Sciences;Psychology, educatio...</td>\n",
       "      <td>01.10.1975</td>\n",
       "      <td>30.09.1976</td>\n",
       "      <td>41022.00</td>\n",
       "      <td></td>\n",
       "    </tr>\n",
       "  </tbody>\n",
       "</table>\n",
       "</div>"
      ],
      "text/plain": [
       "   ﻿\"Project Number\"                                      Project Title  \\\n",
       "0                  1  Schlussband (Bd. VI) der Jacob Burckhardt-Biog...   \n",
       "1                  4  Batterie de tests à l'usage des enseignants po...   \n",
       "\n",
       "  Project Title English Responsible Applicant            Funding Instrument  \\\n",
       "0                                Kaegi Werner  Project funding (Div. I-III)   \n",
       "1                          Massarenti Léonard  Project funding (Div. I-III)   \n",
       "\n",
       "  Funding Instrument Hierarchy  \\\n",
       "0              Project funding   \n",
       "1              Project funding   \n",
       "\n",
       "                                         Institution  \\\n",
       "0                                                      \n",
       "1  Faculté de Psychologie et des Sciences de l'Ed...   \n",
       "\n",
       "                  University  Discipline Number  \\\n",
       "0       Nicht zuteilbar - NA              10302   \n",
       "1  Université de Genève - GE              10104   \n",
       "\n",
       "                    Discipline Name  \\\n",
       "0                     Swiss history   \n",
       "1  Educational science and Pedagogy   \n",
       "\n",
       "                           Discipline Name Hierarchy  Start Date    End Date  \\\n",
       "0  Human and Social Sciences;Theology & religious...  01.10.1975  30.09.1976   \n",
       "1  Human and Social Sciences;Psychology, educatio...  01.10.1975  30.09.1976   \n",
       "\n",
       "  Approved Amount Keywords  \n",
       "0        11619.00           \n",
       "1        41022.00           "
      ]
     },
     "execution_count": 3,
     "metadata": {},
     "output_type": "execute_result"
    }
   ],
   "source": [
    "df = pd.read_csv('data/P3_GrantExport.csv', header=0, sep=';')\n",
    "df = df.fillna('')\n",
    "df.head(2)"
   ]
  },
  {
   "cell_type": "markdown",
   "metadata": {},
   "source": [
    "In this part of the process we're only interested in the universities mentioned in this data. We want to assign to every unique university name the canton where the institution is located."
   ]
  },
  {
   "cell_type": "code",
   "execution_count": 4,
   "metadata": {
    "collapsed": false
   },
   "outputs": [
    {
     "name": "stdout",
     "output_type": "stream",
     "text": [
      "Nicht zuteilbar - NA\n",
      "Université de Genève - GE\n",
      "NPO (Biblioth., Museen, Verwalt.) - NPO\n",
      "Universität Basel - BS\n",
      "Université de Fribourg - FR\n",
      "...\n"
     ]
    }
   ],
   "source": [
    "unis = df['University'].unique()\n",
    "for u in unis[0:5]:\n",
    "    print(u)\n",
    "print('...')"
   ]
  },
  {
   "cell_type": "markdown",
   "metadata": {},
   "source": [
    "## Processing the data"
   ]
  },
  {
   "cell_type": "markdown",
   "metadata": {},
   "source": [
    "Now that we have the array of university names, we're ready to process it. We use the code contained in **unimap.py**.\n",
    "\n",
    "The code consists of three classes:\n",
    "* **`Univ()`**: describes a university object and provides name-handling methods such as replacing abreviations and translating the name to english.\n",
    "\n",
    "* **`UniMapper(gmaps, yandex)`**: contains all geocoding related methods. We will describe the way they're used below.\n",
    "\n",
    "* **`CantonDict()`**: initiates an empty dictionary and provides a method that populates it with cantons as keys and lists of unis (in the canton) as values. Has an export method as well.\n",
    "\n",
    "There is also a `corrections` function that applies 5 corrections on the final results (the only manual ones we do, along with name pre-cleaning)."
   ]
  },
  {
   "cell_type": "markdown",
   "metadata": {},
   "source": [
    "We instantiate a UniMapper with proper api keys."
   ]
  },
  {
   "cell_type": "code",
   "execution_count": 5,
   "metadata": {
    "collapsed": false
   },
   "outputs": [],
   "source": [
    "m = um.UniMapper(maps, yandex)"
   ]
  },
  {
   "cell_type": "markdown",
   "metadata": {},
   "source": [
    "And initialise the cantons object..."
   ]
  },
  {
   "cell_type": "code",
   "execution_count": 6,
   "metadata": {
    "collapsed": true
   },
   "outputs": [],
   "source": [
    "cantons = um.CantonDict()"
   ]
  },
  {
   "cell_type": "markdown",
   "metadata": {},
   "source": [
    "...before populating it as follows:\n",
    "\n",
    "```\n",
    "input: universities array, empty CantonDict dictionary\n",
    "output: updated CantonDict dictionary\n",
    "\n",
    "for each university in array:\n",
    "    - create Univ() instance\n",
    "    - use Places API to find address in CH\n",
    "        - if no address found, translate name with yandex \n",
    "            and re-use Places API\n",
    "        - if still nothing: canton <- 'fail'\n",
    "    - use geocoding API to get canton of address and do\n",
    "        canton <- 'that canton'\n",
    "    - apply the corrections function to new canton\n",
    "    - if canton exists as key in dict:\n",
    "          append current uni name to its value\n",
    "      else:\n",
    "          create it as key and start list with current uni\n",
    "        \n",
    "```"
   ]
  },
  {
   "cell_type": "code",
   "execution_count": 7,
   "metadata": {
    "collapsed": false,
    "scrolled": true
   },
   "outputs": [
    {
     "name": "stdout",
     "output_type": "stream",
     "text": [
      " \n",
      "fail <-- Nicht zuteilbar - NA\n",
      " \n",
      "GE <-- Université de Genève - GE\n",
      " \n",
      "fail <-- NPO (Biblioth., Museen, Verwalt.) - NPO\n",
      " \n",
      "BS <-- Universität Basel - BS\n",
      " \n",
      "FR <-- Université de Fribourg - FR\n",
      " \n",
      "ZH <-- Universität Zürich - ZH\n",
      " \n",
      "VD <-- Université de Lausanne - LA\n",
      " \n",
      "BE <-- Universität Bern - BE\n",
      " \n",
      "ZH <-- Eidg. Forschungsanstalt für Wald,Schnee,Land - WSL\n",
      " \n",
      "NE <-- Université de Neuchâtel - NE\n",
      " \n",
      "ZH <-- ETH Zürich - ETHZ\n",
      " \n",
      "GE <-- Inst. de Hautes Etudes Internat. et du Dév - IHEID\n",
      " \n",
      "SG <-- Universität St. Gallen - SG\n",
      " \n",
      "fail <-- Weitere Institute - FINST\n",
      " \n",
      "fail <-- Firmen/Privatwirtschaft - FP\n",
      " \n",
      "GR <-- Pädagogische Hochschule Graubünden - PHGR\n",
      " \n",
      "VD <-- EPF Lausanne - EPFL\n",
      " \n",
      "ZH <-- Pädagogische Hochschule Zürich - PHZFH\n",
      " \n",
      "LU <-- Universität Luzern - LU\n",
      " \n",
      "ZH <-- Schweiz. Institut für Kunstwissenschaft - SIK-ISEA\n",
      " \n",
      "TI <-- SUP della Svizzera italiana - SUPSI\n",
      " \n",
      "JU <-- HES de Suisse occidentale - HES-SO\n",
      " \n",
      "BE <-- Robert Walser-Stiftung Bern - RWS\n",
      " \n",
      "AG <-- Paul Scherrer Institut - PSI\n",
      " \n",
      "SG <-- Pädagogische Hochschule St. Gallen - PHSG\n",
      " \n",
      "ZH <-- Eidg. Anstalt für Wasserversorgung - EAWAG\n",
      " \n",
      "ZH <-- Eidg. Material und Prüfungsanstalt - EMPA\n",
      " \n",
      "GR <-- Physikal.-Meteorolog. Observatorium Davos - PMOD\n",
      " \n",
      "BE <-- Berner Fachhochschule - BFH\n",
      " \n",
      "NE <-- Swiss Center for Electronics and Microtech. - CSEM\n",
      " \n",
      "fail <-- Weitere Spitäler - ASPIT\n",
      " \n",
      "GR <-- AO Research Institute - AORI\n",
      " \n",
      "GR <-- Allergie- und Asthmaforschung - SIAF\n",
      " \n",
      "AG <-- Forschungsinstitut für biologischen Landbau - FIBL\n",
      " \n",
      "BS <-- Friedrich Miescher Institute - FMI\n",
      " \n",
      "SG <-- Kantonsspital St. Gallen - KSPSG\n",
      " \n",
      "fail <-- Forschungsanstalten Agroscope - AGS\n",
      " \n",
      "TI <-- Ente Ospedaliero Cantonale - EOC\n",
      " \n",
      "VD <-- Inst. universit. romand de Santé au Travail - IST\n",
      " \n",
      "BE <-- Eidg. Hochschulinstitut für Berufsbildung - EHB\n",
      " \n",
      "ZH <-- Zürcher Fachhochschule (ohne PH) - ZFH\n",
      " \n",
      "TI <-- Università della Svizzera italiana - USI\n",
      " \n",
      "GR <-- Institut für Kulturforschung Graubünden - IKG\n",
      " \n",
      "SO <-- Fachhochschule Nordwestschweiz (ohne PH) - FHNW\n",
      " \n",
      "ZH <-- Interkant. Hochschule für Heilpädagogik ZH - HfH\n",
      " \n",
      "VS <-- Centre de rech. sur l'environnement alpin - CREALP\n",
      " \n",
      "VS <-- Idiap Research Institute - IDIAP\n",
      " \n",
      "BE <-- Pädagogische Hochschule Bern - PHBern\n",
      " \n",
      "VS <-- Institut Universitaire Kurt Bösch - IUKB\n",
      " \n",
      "LU <-- Schweizer Paraplegiker Forschung - SPF\n",
      " \n",
      "LU <-- Hochschule Luzern - HSLU\n",
      " \n",
      "VS <-- Forschungsinstitut für Opthalmologie - IRO\n",
      " \n",
      "VD <-- Haute école pédagogique du canton de Vaud - HEPL\n",
      " \n",
      "SG <-- Fachhochschule Ostschweiz - FHO\n",
      " \n",
      "NE <-- Inst. Suisse de Spéléologie et Karstologie - ISSKA\n",
      " \n",
      "GE <-- Swiss Institute of Bioinformatics - SIB\n",
      " \n",
      "JU <-- Haute école pédagogique BE, JU, NE - HEPBEJUNE\n",
      " \n",
      "LU <-- Pädagogische Hochschule Luzern - PHLU\n",
      " \n",
      "BE <-- Forschungskommission SAGW\n",
      " \n",
      "fail <-- Istituto Svizzero di Roma - ISR\n",
      " \n",
      "TI <-- Pädag. Hochschule Tessin (Teilschule SUPSI) - ASP\n",
      " \n",
      "FR <-- Haute école pédagogique fribourgeoise - HEPFR\n",
      " \n",
      "SZ <-- Pädagogische Hochschule Schwyz - PHSZ\n",
      " \n",
      "TG <-- Pädagogische Hochschule Thurgau - PHTG\n",
      " \n",
      "TG <-- Biotechnologie Institut Thurgau - BITG\n",
      " \n",
      "ZH <-- Fachhochschule Kalaidos - FHKD\n",
      " \n",
      "fail <-- Schweizer Kompetenzzentrum Sozialwissensch. - FORS\n",
      " \n",
      "VS <-- Pädagogische Hochschule Wallis - PHVS\n",
      " \n",
      "SG <-- Schweiz. Hochschule für Logopädie Rorschach - SHLR\n",
      " \n",
      "ZG <-- Pädagogische Hochschule Zug - PHZG\n",
      " \n",
      "TI <-- Instituto Ricerche Solari Locarno - IRSOL\n",
      " \n",
      "TI <-- Franklin University Switzerland - FUS\n",
      " \n",
      "SH <-- Pädagogische Hochschule Schaffhausen - PHSH\n",
      " \n",
      "BL <-- Pädagogische Hochschule Nordwestschweiz - PHFHNW\n",
      " \n",
      "BS <-- Staatsunabh. Theologische Hochschule Basel - STHB\n",
      " \n",
      "TI <-- Facoltà di Teologia di Lugano - FTL\n",
      " \n",
      "VS <-- Fernfachhochschule Schweiz (Mitglied SUPSI) - FFHS\n",
      " \n",
      "done\n",
      "# good: 69 / # bad: 8 ==> 89.61% assigned\n"
     ]
    }
   ],
   "source": [
    "cantons.populate(unis, m)"
   ]
  },
  {
   "cell_type": "markdown",
   "metadata": {},
   "source": [
    "We get almost a 90% assignment rate, which is already pretty good. Let's check the failed assignments to see what is going on."
   ]
  },
  {
   "cell_type": "code",
   "execution_count": 8,
   "metadata": {
    "collapsed": false
   },
   "outputs": [
    {
     "data": {
      "text/plain": [
       "['Nicht zuteilbar - NA',\n",
       " 'NPO (Biblioth., Museen, Verwalt.) - NPO',\n",
       " 'Weitere Institute - FINST',\n",
       " 'Firmen/Privatwirtschaft - FP',\n",
       " 'Weitere Spitäler - ASPIT',\n",
       " 'Forschungsanstalten Agroscope - AGS',\n",
       " 'Istituto Svizzero di Roma - ISR',\n",
       " 'Schweizer Kompetenzzentrum Sozialwissensch. - FORS']"
      ]
     },
     "execution_count": 8,
     "metadata": {},
     "output_type": "execute_result"
    }
   ],
   "source": [
    "cantons.d['fail']"
   ]
  },
  {
   "cell_type": "markdown",
   "metadata": {
    "collapsed": true
   },
   "source": [
    "We notice that 5 of these 8 failures are not clear institutions, 1 is in Rome and the other two, AGS and FORS, seem, after checking, to be spread across Switzerland.\n",
    "\n",
    "Thus, with very few manual adjustments we reach an assignment rate of ~95% of actual institutions."
   ]
  },
  {
   "cell_type": "markdown",
   "metadata": {},
   "source": [
    "We can then export the dictionary to a json file for further processing:"
   ]
  },
  {
   "cell_type": "code",
   "execution_count": 9,
   "metadata": {
    "collapsed": false
   },
   "outputs": [],
   "source": [
    "cantons.export('data/cantons.json')"
   ]
  }
 ],
 "metadata": {
  "anaconda-cloud": {},
  "kernelspec": {
   "display_name": "Python [conda root]",
   "language": "python",
   "name": "conda-root-py"
  },
  "language_info": {
   "codemirror_mode": {
    "name": "ipython",
    "version": 3
   },
   "file_extension": ".py",
   "mimetype": "text/x-python",
   "name": "python",
   "nbconvert_exporter": "python",
   "pygments_lexer": "ipython3",
   "version": "3.5.2"
  }
 },
 "nbformat": 4,
 "nbformat_minor": 1
}
