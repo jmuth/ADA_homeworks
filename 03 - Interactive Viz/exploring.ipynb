{
 "cells": [
  {
   "cell_type": "code",
   "execution_count": 36,
   "metadata": {
    "collapsed": true
   },
   "outputs": [],
   "source": [
    "import pandas as pd\n",
    "import matplotlib.pyplot as plt\n",
    "import numpy as np\n",
    "import math as m"
   ]
  },
  {
   "cell_type": "code",
   "execution_count": 4,
   "metadata": {
    "collapsed": false
   },
   "outputs": [],
   "source": [
    "df = pd.read_csv('data/P3_GrantExport.csv', header=0, sep=';')"
   ]
  },
  {
   "cell_type": "code",
   "execution_count": 7,
   "metadata": {
    "collapsed": false
   },
   "outputs": [
    {
     "data": {
      "text/plain": [
       "(63969, 15)"
      ]
     },
     "execution_count": 7,
     "metadata": {},
     "output_type": "execute_result"
    }
   ],
   "source": [
    "df.shape"
   ]
  },
  {
   "cell_type": "code",
   "execution_count": 16,
   "metadata": {
    "collapsed": false
   },
   "outputs": [
    {
     "data": {
      "text/plain": [
       "Universität Zürich - ZH                               6774\n",
       "Université de Genève - GE                             6394\n",
       "ETH Zürich - ETHZ                                     6153\n",
       "Universität Bern - BE                                 5473\n",
       "Universität Basel - BS                                4746\n",
       "EPF Lausanne - EPFL                                   4428\n",
       "Université de Lausanne - LA                           4092\n",
       "Nicht zuteilbar - NA                                  2595\n",
       "Université de Fribourg - FR                           2079\n",
       "Université de Neuchâtel - NE                          1596\n",
       "NPO (Biblioth., Museen, Verwalt.) - NPO               1473\n",
       "Paul Scherrer Institut - PSI                           538\n",
       "Firmen/Privatwirtschaft - FP                           492\n",
       "Universität St. Gallen - SG                            426\n",
       "Università della Svizzera italiana - USI               346\n",
       "Eidg. Anstalt für Wasserversorgung - EAWAG             333\n",
       "HES de Suisse occidentale - HES-SO                     271\n",
       "Zürcher Fachhochschule (ohne PH) - ZFH                 260\n",
       "Eidg. Material und Prüfungsanstalt - EMPA              238\n",
       "Fachhochschule Nordwestschweiz (ohne PH) - FHNW        228\n",
       "Eidg. Forschungsanstalt für Wald,Schnee,Land - WSL     223\n",
       "Universität Luzern - LU                                214\n",
       "Inst. de Hautes Etudes Internat. et du Dév - IHEID     198\n",
       "Berner Fachhochschule - BFH                            136\n",
       "SUP della Svizzera italiana - SUPSI                    135\n",
       "Forschungsanstalten Agroscope - AGS                    135\n",
       "Idiap Research Institute - IDIAP                        88\n",
       "Friedrich Miescher Institute - FMI                      84\n",
       "Weitere Spitäler - ASPIT                                81\n",
       "Hochschule Luzern - HSLU                                62\n",
       "                                                      ... \n",
       "Haute école pédagogique du canton de Vaud - HEPL        16\n",
       "Forschungsinstitut für Opthalmologie - IRO              14\n",
       "Pädagogische Hochschule Luzern - PHLU                   14\n",
       "Pädagogische Hochschule Bern - PHBern                   13\n",
       "Pädagogische Hochschule St. Gallen - PHSG               13\n",
       "Eidg. Hochschulinstitut für Berufsbildung - EHB         12\n",
       "Institut für Kulturforschung Graubünden - IKG           12\n",
       "Schweizer Paraplegiker Forschung - SPF                  10\n",
       "Biotechnologie Institut Thurgau - BITG                   8\n",
       "Centre de rech. sur l'environnement alpin - CREALP       8\n",
       "Pädagogische Hochschule Graubünden - PHGR                7\n",
       "Pädagogische Hochschule Zug - PHZG                       7\n",
       "Haute école pédagogique BE, JU, NE - HEPBEJUNE           7\n",
       "Haute école pédagogique fribourgeoise - HEPFR            7\n",
       "Istituto Svizzero di Roma - ISR                          6\n",
       "Pädagogische Hochschule Thurgau - PHTG                   6\n",
       "Franklin University Switzerland - FUS                    6\n",
       "Robert Walser-Stiftung Bern - RWS                        6\n",
       "Instituto Ricerche Solari Locarno - IRSOL                5\n",
       "Pädagogische Hochschule Schwyz - PHSZ                    5\n",
       "Staatsunabh. Theologische Hochschule Basel - STHB        3\n",
       "Inst. Suisse de Spéléologie et Karstologie - ISSKA       3\n",
       "Fachhochschule Kalaidos - FHKD                           3\n",
       "Pädag. Hochschule Tessin (Teilschule SUPSI) - ASP        2\n",
       "Pädagogische Hochschule Wallis - PHVS                    2\n",
       "Schweiz. Hochschule für Logopädie Rorschach - SHLR       2\n",
       "Facoltà di Teologia di Lugano - FTL                      2\n",
       "Forschungskommission SAGW                                1\n",
       "Pädagogische Hochschule Schaffhausen - PHSH              1\n",
       "Fernfachhochschule Schweiz (Mitglied SUPSI) - FFHS       1\n",
       "Name: University, dtype: int64"
      ]
     },
     "execution_count": 16,
     "metadata": {},
     "output_type": "execute_result"
    }
   ],
   "source": [
    "df['University'].value_counts()"
   ]
  }
 ],
 "metadata": {
  "anaconda-cloud": {},
  "kernelspec": {
   "display_name": "Python [conda root]",
   "language": "python",
   "name": "conda-root-py"
  },
  "language_info": {
   "codemirror_mode": {
    "name": "ipython",
    "version": 3
   },
   "file_extension": ".py",
   "mimetype": "text/x-python",
   "name": "python",
   "nbconvert_exporter": "python",
   "pygments_lexer": "ipython3",
   "version": "3.5.2"
  }
 },
 "nbformat": 4,
 "nbformat_minor": 1
}
