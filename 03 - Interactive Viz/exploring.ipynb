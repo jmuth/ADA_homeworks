{
 "cells": [
  {
   "cell_type": "code",
   "execution_count": 2,
   "metadata": {
    "collapsed": false
   },
   "outputs": [],
   "source": [
    "import pandas as pd\n",
    "import matplotlib.pyplot as plt\n",
    "import numpy as np\n",
    "import googlemaps as gm\n",
    "import requests\n",
    "import json"
   ]
  },
  {
   "cell_type": "code",
   "execution_count": 1,
   "metadata": {
    "collapsed": true
   },
   "outputs": [],
   "source": [
    "ke = 'yandex here'"
   ]
  },
  {
   "cell_type": "code",
   "execution_count": 3,
   "metadata": {
    "collapsed": true
   },
   "outputs": [],
   "source": [
    "k = 'gmaps here'"
   ]
  },
  {
   "cell_type": "code",
   "execution_count": 4,
   "metadata": {
    "collapsed": false
   },
   "outputs": [],
   "source": [
    "df = pd.read_csv('data/P3_GrantExport.csv', header=0, sep=';')"
   ]
  },
  {
   "cell_type": "code",
   "execution_count": 5,
   "metadata": {
    "collapsed": false
   },
   "outputs": [
    {
     "data": {
      "text/plain": [
       "(63969, 15)"
      ]
     },
     "execution_count": 5,
     "metadata": {},
     "output_type": "execute_result"
    }
   ],
   "source": [
    "df.shape"
   ]
  },
  {
   "cell_type": "code",
   "execution_count": 6,
   "metadata": {
    "collapsed": true
   },
   "outputs": [],
   "source": [
    "df = df.fillna(' ')"
   ]
  },
  {
   "cell_type": "code",
   "execution_count": 7,
   "metadata": {
    "collapsed": false
   },
   "outputs": [],
   "source": [
    "unis = df['University'].unique()"
   ]
  },
  {
   "cell_type": "code",
   "execution_count": 65,
   "metadata": {
    "collapsed": true
   },
   "outputs": [],
   "source": [
    "class Univ():\n",
    "    \"\"\"this class represents a university object, it offers a name translation method\n",
    "    \n",
    "    Args:\n",
    "        name (str): the name of the university as found in the data\n",
    "    \n",
    "    Attr:\n",
    "        raw (str): the raw name\n",
    "        names ([str, str] or [str]): list of [name, acronym] or [name]\n",
    "        names (str): cleaned and lowered name\n",
    "        acronym (str): acronym if exists, '' otherwise\n",
    "        \n",
    "    \"\"\"\n",
    "    \n",
    "    #used to clean the names\n",
    "    replacements = {\n",
    "        'inst.': 'institut',\n",
    "        'eidg.': 'eidgenössisch',\n",
    "        'schweiz.': 'schweizerisch',\n",
    "        'rech.': 'recherche',\n",
    "        'pädag.': 'pädagogische',\n",
    "        'physikal.': 'physikalisch',\n",
    "        'meteorolog.': 'meteorologisch',\n",
    "        'wissensch.': 'wissenschaften',\n",
    "    }\n",
    "    \n",
    "    def plussify(self, name):\n",
    "        \"\"\"replaces spaces in a string with + \"\"\"\n",
    "        return name.replace(' ', '+')\n",
    "    \n",
    "    def clean_name(self, name):\n",
    "        \"\"\" replaces known abreviations with complete word,\n",
    "            gets rid of parentheses\n",
    "        \"\"\"\n",
    "        for key, value in self.replacements.items():\n",
    "            name = name.replace(key, value)\n",
    "        if name.find('(') != -1:\n",
    "            name = name[:name.find(' (')]\n",
    "        return name\n",
    "    \n",
    "    def __init__(self, name):\n",
    "        self.raw = name\n",
    "        self.names = self.raw.lower().split(' - ')\n",
    "        self.name = self.clean_name(self.names[0])\n",
    "        if len(self.names) > 1:\n",
    "            self.acronym = self.names[1]\n",
    "        else:\n",
    "            self.acronym = ''    \n",
    "        \n",
    "    def translate_name(self, key):\n",
    "        \"\"\"translates uni name through yandex, to english\"\"\"\n",
    "        baseurl = 'https://translate.yandex.net/api/v1.5/tr.json/translate?text='\n",
    "        plus = self.plussify(self.name)\n",
    "        urlend = '&lang=en&key='+key\n",
    "        url = baseurl+plus+urlend\n",
    "        \n",
    "        get = requests.get(url)\n",
    "        r = json.loads(get.text)\n",
    "        \n",
    "        return r['text'][0]\n",
    "        \n",
    "    def __repr__(self):\n",
    "        return 'Uni: '+ str(self.raw)"
   ]
  },
  {
   "cell_type": "code",
   "execution_count": 79,
   "metadata": {
    "collapsed": false
   },
   "outputs": [],
   "source": [
    "class UniMapper():\n",
    "    \"\"\" this class contains the gmaps related code and the geocoding logic,\n",
    "        translates uni name if failure\n",
    "        \n",
    "    Args:\n",
    "        gkey (str): the api key for gmaps\n",
    "        ykey (str): the api key for yandex\n",
    "        \n",
    "    Attr:\n",
    "        gmaps (object): gmaps client\n",
    "        yandex (str): yandex translate api key\n",
    "    \"\"\"\n",
    "    def __init__(self, gkey, ykey):\n",
    "        self.gmaps = gm.Client(key = gkey)\n",
    "        self.yandex = ykey\n",
    "        \n",
    "    def geo(self, s):\n",
    "        \"\"\"gmaps geocode lookup, region Switzerland\n",
    "        \n",
    "        Args:\n",
    "            s (str): the lookup string (uni name or acronym)\n",
    "        \n",
    "        Returns:\n",
    "            json: google's geocode api response\n",
    "        \"\"\"\n",
    "        return self.gmaps.geocode(s, region='CH')\n",
    "    \n",
    "    def pla(self, s):\n",
    "        \"\"\"places api lookup\n",
    "        \n",
    "        Args:\n",
    "            s (str): the lookup string (uni name or acronym)\n",
    "        \n",
    "        Returns:\n",
    "            json: google's places api response\n",
    "        \"\"\"\n",
    "        return self.gmaps.places(s)\n",
    "    \n",
    "    def get_canton(self, response):\n",
    "        \"\"\"parses the gmaps.geocode response to find canton name\n",
    "\n",
    "        Args:\n",
    "            response ([dict]): the g.maps response object\n",
    "\n",
    "        Returns:\n",
    "            [str, str]: the canton name and the country name (for checks)\n",
    "        \"\"\"\n",
    "        g = response[0]['address_components']\n",
    "        #the canton name is in an object whose type is 'administrative_area_level_1'\n",
    "        #we parse the response and get the 'short_name' of that object\n",
    "        canton = [x['short_name'] for x in g if (x['types'][0].find('level_1')!=-1)][0]\n",
    "        return canton\n",
    "    \n",
    "    def get_swiss_address(self, response):\n",
    "        \"\"\"parses the gmaps.places response, checks if address is swiss, outputs it\n",
    "\n",
    "        Args:\n",
    "            response (dict): the g.places response object, {..., 'results': [{'formatted_address': '...', ...}]}\n",
    "\n",
    "        Returns:\n",
    "            str: lowered address if address is in CH, '' otherwise\n",
    "        \"\"\"\n",
    "        if response['status'] != 'ZERO_RESULTS':\n",
    "            a = response['results'][0]['formatted_address'].lower()\n",
    "            \n",
    "            if a.endswith('switzerland'):\n",
    "                return a\n",
    "            else:\n",
    "                return ''\n",
    "            \n",
    "        else:\n",
    "            return ''\n",
    "    \n",
    "    def map_uni(self, uni, name):\n",
    "        \"\"\"returns the canton of the university, or 'fail' if nothing found\n",
    "        \n",
    "        Args:\n",
    "            uni (Univ object): the university object\n",
    "            name (str): the uni name, already extracted from object because may be translated\n",
    "            \n",
    "        Returns:\n",
    "            str: canton name, 'fail' if nothing found\n",
    "        \"\"\"\n",
    "        response = self.pla(uni.acronym+' '+name)\n",
    "        address = self.get_swiss_address(response)\n",
    "        \n",
    "        if len(address) > 0:\n",
    "            g = self.geo(address)\n",
    "            canton = self.get_canton(g)\n",
    "        else:\n",
    "            canton = 'fail'\n",
    "            \n",
    "        return canton\n",
    "    \n",
    "    def canton_lookup(self, uni):\n",
    "        \"\"\"returns university canton, tries translating if first failure\n",
    "        \n",
    "        Args:\n",
    "            uni (Univ object): university object\n",
    "        \n",
    "        Returns:\n",
    "            str: canton name, 'fail' if nothing found\n",
    "        \"\"\"\n",
    "        #first direct attempt at geocoding\n",
    "        canton = self.map_uni(uni, uni.name)\n",
    "        #second attempt with name translated to english\n",
    "        if canton == 'fail':\n",
    "            canton = self.map_uni(uni, uni.translate_name(self.yandex))\n",
    "        return canton"
   ]
  },
  {
   "cell_type": "code",
   "execution_count": 86,
   "metadata": {
    "collapsed": false
   },
   "outputs": [],
   "source": [
    "m = UniMapper(k, ke)"
   ]
  },
  {
   "cell_type": "code",
   "execution_count": 87,
   "metadata": {
    "collapsed": true
   },
   "outputs": [],
   "source": [
    "d = {}"
   ]
  },
  {
   "cell_type": "code",
   "execution_count": 88,
   "metadata": {
    "collapsed": true
   },
   "outputs": [],
   "source": [
    "def assign_canton_uni(array):\n",
    "    #d = {}\n",
    "    good = 0\n",
    "    bad = 0\n",
    "    for uni in array:\n",
    "        if uni != ' ':\n",
    "            u = Univ(uni)\n",
    "            canton = m.canton_lookup(u)\n",
    "            #introducing minor corrections\n",
    "            #in two cases google has Geneve as short name\n",
    "            if canton == 'Genève':\n",
    "                canton = 'GE'\n",
    "            elif canton == 'fail':\n",
    "                if uni.find('Wallis') != -1:\n",
    "                    canton = 'VS'\n",
    "                elif uni.find('Basel') != -1:\n",
    "                    canton = 'BS'\n",
    "                elif uni.find('AO') != -1:\n",
    "                    canton = 'GR'\n",
    "                elif uni.find('SAGW') != -1:\n",
    "                    canton = 'BE'\n",
    "            if canton in d:\n",
    "                d[canton].append(uni)\n",
    "            else:\n",
    "                d[canton] = [uni] \n",
    "            print(' ')\n",
    "            print(canton+' <-- '+uni)\n",
    "            if canton == 'fail':\n",
    "                bad += 1\n",
    "            else:\n",
    "                good += 1\n",
    "    print(' ')\n",
    "    print('done')\n",
    "    print('# good: '+str(good)+' / # bad: '+str(bad))\n",
    "    return d"
   ]
  },
  {
   "cell_type": "code",
   "execution_count": 89,
   "metadata": {
    "collapsed": false,
    "scrolled": true
   },
   "outputs": [
    {
     "name": "stdout",
     "output_type": "stream",
     "text": [
      " \n",
      "fail <-- Nicht zuteilbar - NA\n",
      " \n",
      "GE <-- Université de Genève - GE\n",
      " \n",
      "fail <-- NPO (Biblioth., Museen, Verwalt.) - NPO\n",
      " \n",
      "BS <-- Universität Basel - BS\n",
      " \n",
      "FR <-- Université de Fribourg - FR\n",
      " \n",
      "ZH <-- Universität Zürich - ZH\n",
      " \n",
      "VD <-- Université de Lausanne - LA\n",
      " \n",
      "BE <-- Universität Bern - BE\n",
      " \n",
      "ZH <-- Eidg. Forschungsanstalt für Wald,Schnee,Land - WSL\n",
      " \n",
      "NE <-- Université de Neuchâtel - NE\n",
      " \n",
      "ZH <-- ETH Zürich - ETHZ\n",
      " \n",
      "GE <-- Inst. de Hautes Etudes Internat. et du Dév - IHEID\n",
      " \n",
      "SG <-- Universität St. Gallen - SG\n",
      " \n",
      "fail <-- Weitere Institute - FINST\n",
      " \n",
      "fail <-- Firmen/Privatwirtschaft - FP\n",
      " \n",
      "GR <-- Pädagogische Hochschule Graubünden - PHGR\n",
      " \n",
      "VD <-- EPF Lausanne - EPFL\n",
      " \n",
      "ZH <-- Pädagogische Hochschule Zürich - PHZFH\n",
      " \n",
      "LU <-- Universität Luzern - LU\n",
      " \n",
      "ZH <-- Schweiz. Institut für Kunstwissenschaft - SIK-ISEA\n",
      " \n",
      "TI <-- SUP della Svizzera italiana - SUPSI\n",
      " \n",
      "JU <-- HES de Suisse occidentale - HES-SO\n",
      " \n",
      "BE <-- Robert Walser-Stiftung Bern - RWS\n",
      " \n",
      "AG <-- Paul Scherrer Institut - PSI\n",
      " \n",
      "SG <-- Pädagogische Hochschule St. Gallen - PHSG\n",
      " \n",
      "ZH <-- Eidg. Anstalt für Wasserversorgung - EAWAG\n",
      " \n",
      "ZH <-- Eidg. Material und Prüfungsanstalt - EMPA\n",
      " \n",
      "GR <-- Physikal.-Meteorolog. Observatorium Davos - PMOD\n",
      " \n",
      "BE <-- Berner Fachhochschule - BFH\n",
      " \n",
      "NE <-- Swiss Center for Electronics and Microtech. - CSEM\n",
      " \n",
      "fail <-- Weitere Spitäler - ASPIT\n",
      " \n",
      "GR <-- AO Research Institute - AORI\n",
      " \n",
      "GR <-- Allergie- und Asthmaforschung - SIAF\n",
      " \n",
      "AG <-- Forschungsinstitut für biologischen Landbau - FIBL\n",
      " \n",
      "BS <-- Friedrich Miescher Institute - FMI\n",
      " \n",
      "SG <-- Kantonsspital St. Gallen - KSPSG\n",
      " \n",
      "fail <-- Forschungsanstalten Agroscope - AGS\n",
      " \n",
      "TI <-- Ente Ospedaliero Cantonale - EOC\n",
      " \n",
      "VD <-- Inst. universit. romand de Santé au Travail - IST\n",
      " \n",
      "BE <-- Eidg. Hochschulinstitut für Berufsbildung - EHB\n",
      " \n",
      "ZH <-- Zürcher Fachhochschule (ohne PH) - ZFH\n",
      " \n",
      "TI <-- Università della Svizzera italiana - USI\n",
      " \n",
      "GR <-- Institut für Kulturforschung Graubünden - IKG\n",
      " \n",
      "SO <-- Fachhochschule Nordwestschweiz (ohne PH) - FHNW\n",
      " \n",
      "ZH <-- Interkant. Hochschule für Heilpädagogik ZH - HfH\n",
      " \n",
      "VS <-- Centre de rech. sur l'environnement alpin - CREALP\n",
      " \n",
      "VS <-- Idiap Research Institute - IDIAP\n",
      " \n",
      "BE <-- Pädagogische Hochschule Bern - PHBern\n",
      " \n",
      "VS <-- Institut Universitaire Kurt Bösch - IUKB\n",
      " \n",
      "LU <-- Schweizer Paraplegiker Forschung - SPF\n",
      " \n",
      "LU <-- Hochschule Luzern - HSLU\n",
      " \n",
      "VS <-- Forschungsinstitut für Opthalmologie - IRO\n",
      " \n",
      "VD <-- Haute école pédagogique du canton de Vaud - HEPL\n",
      " \n",
      "SG <-- Fachhochschule Ostschweiz - FHO\n",
      " \n",
      "NE <-- Inst. Suisse de Spéléologie et Karstologie - ISSKA\n",
      " \n",
      "GE <-- Swiss Institute of Bioinformatics - SIB\n",
      " \n",
      "JU <-- Haute école pédagogique BE, JU, NE - HEPBEJUNE\n",
      " \n",
      "LU <-- Pädagogische Hochschule Luzern - PHLU\n",
      " \n",
      "BE <-- Forschungskommission SAGW\n",
      " \n",
      "fail <-- Istituto Svizzero di Roma - ISR\n",
      " \n",
      "TI <-- Pädag. Hochschule Tessin (Teilschule SUPSI) - ASP\n",
      " \n",
      "FR <-- Haute école pédagogique fribourgeoise - HEPFR\n",
      " \n",
      "SZ <-- Pädagogische Hochschule Schwyz - PHSZ\n",
      " \n",
      "TG <-- Pädagogische Hochschule Thurgau - PHTG\n",
      " \n",
      "TG <-- Biotechnologie Institut Thurgau - BITG\n",
      " \n",
      "ZH <-- Fachhochschule Kalaidos - FHKD\n",
      " \n",
      "fail <-- Schweizer Kompetenzzentrum Sozialwissensch. - FORS\n",
      " \n",
      "VS <-- Pädagogische Hochschule Wallis - PHVS\n",
      " \n",
      "SG <-- Schweiz. Hochschule für Logopädie Rorschach - SHLR\n",
      " \n",
      "ZG <-- Pädagogische Hochschule Zug - PHZG\n",
      " \n",
      "TI <-- Instituto Ricerche Solari Locarno - IRSOL\n",
      " \n",
      "TI <-- Franklin University Switzerland - FUS\n",
      " \n",
      "SH <-- Pädagogische Hochschule Schaffhausen - PHSH\n",
      " \n",
      "BL <-- Pädagogische Hochschule Nordwestschweiz - PHFHNW\n",
      " \n",
      "BS <-- Staatsunabh. Theologische Hochschule Basel - STHB\n",
      " \n",
      "TI <-- Facoltà di Teologia di Lugano - FTL\n",
      " \n",
      "VS <-- Fernfachhochschule Schweiz (Mitglied SUPSI) - FFHS\n",
      " \n",
      "done\n",
      "# good: 69 / # bad: 8\n"
     ]
    }
   ],
   "source": [
    "d = assign_canton_uni(unis)"
   ]
  },
  {
   "cell_type": "code",
   "execution_count": 90,
   "metadata": {
    "collapsed": false
   },
   "outputs": [
    {
     "data": {
      "text/plain": [
       "['Nicht zuteilbar - NA',\n",
       " 'NPO (Biblioth., Museen, Verwalt.) - NPO',\n",
       " 'Weitere Institute - FINST',\n",
       " 'Firmen/Privatwirtschaft - FP',\n",
       " 'Weitere Spitäler - ASPIT',\n",
       " 'Forschungsanstalten Agroscope - AGS',\n",
       " 'Istituto Svizzero di Roma - ISR',\n",
       " 'Schweizer Kompetenzzentrum Sozialwissensch. - FORS']"
      ]
     },
     "execution_count": 90,
     "metadata": {},
     "output_type": "execute_result"
    }
   ],
   "source": [
    "d['fail']"
   ]
  },
  {
   "cell_type": "code",
   "execution_count": 55,
   "metadata": {
    "collapsed": false
   },
   "outputs": [
    {
     "data": {
      "text/plain": [
       "['Nicht zuteilbar - NA',\n",
       " 'NPO (Biblioth., Museen, Verwalt.) - NPO',\n",
       " 'Weitere Institute - FINST',\n",
       " 'Firmen/Privatwirtschaft - FP',\n",
       " 'Weitere Spitäler - ASPIT',\n",
       " 'AO Research Institute - AORI',\n",
       " 'Forschungsanstalten Agroscope - AGS',\n",
       " 'Forschungskommission SAGW',\n",
       " 'Istituto Svizzero di Roma - ISR',\n",
       " 'Schweizer Kompetenzzentrum Sozialwissensch. - FORS',\n",
       " 'Pädagogische Hochschule Wallis - PHVS',\n",
       " 'Staatsunabh. Theologische Hochschule Basel - STHB',\n",
       " 'Staatsunabh. Theologische Hochschule Basel - STHB',\n",
       " 'Staatsunabh. Theologische Hochschule Basel - STHB',\n",
       " 'Staatsunabh. Theologische Hochschule Basel - STHB',\n",
       " 'Nicht zuteilbar - NA',\n",
       " 'NPO (Biblioth., Museen, Verwalt.) - NPO',\n",
       " 'Weitere Institute - FINST',\n",
       " 'Firmen/Privatwirtschaft - FP',\n",
       " 'Weitere Spitäler - ASPIT',\n",
       " 'AO Research Institute - AORI',\n",
       " 'Forschungsanstalten Agroscope - AGS',\n",
       " 'Forschungskommission SAGW',\n",
       " 'Istituto Svizzero di Roma - ISR',\n",
       " 'Schweizer Kompetenzzentrum Sozialwissensch. - FORS',\n",
       " 'Pädagogische Hochschule Wallis - PHVS',\n",
       " 'Staatsunabh. Theologische Hochschule Basel - STHB']"
      ]
     },
     "execution_count": 55,
     "metadata": {},
     "output_type": "execute_result"
    }
   ],
   "source": [
    "d['fail']"
   ]
  },
  {
   "cell_type": "code",
   "execution_count": 92,
   "metadata": {
    "collapsed": false
   },
   "outputs": [],
   "source": [
    "with open('data/cantons.json', \"w\") as outfile:\n",
    "            json.dump(d, outfile)"
   ]
  },
  {
   "cell_type": "code",
   "execution_count": 91,
   "metadata": {
    "collapsed": false
   },
   "outputs": [
    {
     "data": {
      "text/plain": [
       "4.166666666666667"
      ]
     },
     "execution_count": 91,
     "metadata": {},
     "output_type": "execute_result"
    }
   ],
   "source": [
    "300/72"
   ]
  },
  {
   "cell_type": "code",
   "execution_count": null,
   "metadata": {
    "collapsed": true
   },
   "outputs": [],
   "source": []
  }
 ],
 "metadata": {
  "anaconda-cloud": {},
  "kernelspec": {
   "display_name": "Python [conda root]",
   "language": "python",
   "name": "conda-root-py"
  },
  "language_info": {
   "codemirror_mode": {
    "name": "ipython",
    "version": 3
   },
   "file_extension": ".py",
   "mimetype": "text/x-python",
   "name": "python",
   "nbconvert_exporter": "python",
   "pygments_lexer": "ipython3",
   "version": "3.5.2"
  }
 },
 "nbformat": 4,
 "nbformat_minor": 1
}
